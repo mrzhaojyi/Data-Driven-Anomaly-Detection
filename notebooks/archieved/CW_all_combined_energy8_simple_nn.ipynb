{
 "cells": [
  {
   "cell_type": "code",
   "execution_count": 1,
   "metadata": {},
   "outputs": [],
   "source": [
    "import pandas as pd\n",
    "import glob "
   ]
  },
  {
   "cell_type": "code",
   "execution_count": 2,
   "metadata": {},
   "outputs": [
    {
     "name": "stdout",
     "output_type": "stream",
     "text": [
      "['D:/rfiles/feature_matrix\\\\feature_matrix_energy8_1024_ball.csv', 'D:/rfiles/feature_matrix\\\\feature_matrix_energy8_1024_inner.csv', 'D:/rfiles/feature_matrix\\\\feature_matrix_energy8_1024_outer_6.csv']\n"
     ]
    }
   ],
   "source": [
    "paths = glob.glob(\"D:/rfiles/feature_matrix/feature_matrix_energy8_1024*.csv\")\n",
    "print(paths)"
   ]
  },
  {
   "cell_type": "code",
   "execution_count": 3,
   "metadata": {},
   "outputs": [
    {
     "data": {
      "text/plain": [
       "ball      1894\n",
       "inner     1893\n",
       "Normal    1657\n",
       "outer     1425\n",
       "Name: fault_type, dtype: int64"
      ]
     },
     "execution_count": 3,
     "metadata": {},
     "output_type": "execute_result"
    }
   ],
   "source": [
    "df1 = pd.read_csv(paths[0])\n",
    "df1.loc[1657:,'fault_type'] = \"ball\"\n",
    "# df1['fault_type'].value_counts()\n",
    "df2 = pd.read_csv(paths[1])\n",
    "df2.loc[1657:,'fault_type'] = 'inner'\n",
    "data_all = df1.append(df2[1657:], ignore_index = True)\n",
    "df3 = pd.read_csv(paths[2])\n",
    "df3.loc[1657:,'fault_type'] = 'outer'\n",
    "data_all = data_all.append(df3[1657:], ignore_index = True)\n",
    "del [df1, df2, df3]\n",
    "data_all['fault_type'].value_counts()"
   ]
  },
  {
   "cell_type": "code",
   "execution_count": 4,
   "metadata": {},
   "outputs": [],
   "source": [
    "import numpy as np\n",
    "from numpy.random import choice \n",
    "np.random.seed(1)\n",
    "index = np.array([choice(np.arange(0,1657),1400,replace = False),\n",
    "                choice(np.arange(1657,3551),1400,replace = False),\n",
    "                choice(np.arange(3551,5444),1400,replace = False),\n",
    "                choice(np.arange(5444,6869),1400,replace = False)])\n",
    "index = index.ravel()\n",
    "data = data_all.iloc[index,]\n",
    "data = data.reset_index(drop = True)\n",
    "test_index = np.array([choice(np.arange(0,1400),400, replace = False),\n",
    "                     choice(np.arange(1400,2*1400),400, replace = False),\n",
    "                     choice(np.arange(2*1400,3*1400),400, replace = False),\n",
    "                     choice(np.arange(3*1400,4*1400),400, replace = False)])\n",
    "\n",
    "test_index = test_index.ravel()\n",
    "test_data = data.iloc[test_index,]\n",
    "train_data = data.drop(data.index[test_index])\n",
    "\n",
    "# Shuffle data\n",
    "train_data = train_data.sample(frac = 1, random_state = 2)\n",
    "test_data = test_data.sample(frac = 1, random_state = 3)\n",
    "\n",
    "# Convert categorical lables to numberic entries\n",
    "\n",
    "category_labels = ['Normal', 'ball', 'inner','outer']\n",
    "# test_labels = test_data['fault_type']\n",
    "test_labels = pd.Categorical(test_data['fault_type'],categories= category_labels).codes # Produces ndarrays\n",
    "# train_labels = train_data['fault_type']\n",
    "train_labels = pd.Categorical(train_data['fault_type'], categories = category_labels).codes"
   ]
  },
  {
   "cell_type": "code",
   "execution_count": 5,
   "metadata": {},
   "outputs": [
    {
     "name": "stdout",
     "output_type": "stream",
     "text": [
      "(5600, 9) (1600, 9) (4000, 9) (1600,) (4000,)\n"
     ]
    }
   ],
   "source": [
    "print(data.shape,test_data.shape,train_data.shape,test_labels.shape,train_labels.shape)"
   ]
  },
  {
   "cell_type": "code",
   "execution_count": 6,
   "metadata": {},
   "outputs": [],
   "source": [
    "import tensorflow as tf\n",
    "from tensorflow import keras\n",
    "from tensorflow.keras.models import Sequential\n",
    "from tensorflow.keras import layers\n",
    "from tensorflow.keras.utils import to_categorical\n",
    "from tensorflow.keras.callbacks import EarlyStopping\n",
    "import sklearn\n",
    "from sklearn import preprocessing"
   ]
  },
  {
   "cell_type": "code",
   "execution_count": 7,
   "metadata": {},
   "outputs": [],
   "source": [
    "# Convert labels to categorical data\n",
    "train_data = train_data.iloc[:,0:8]\n",
    "test_data = test_data.iloc[:,0:8]\n",
    "# Scale the data\n",
    "train_data = preprocessing.scale(train_data)\n",
    "test_data = preprocessing.scale(test_data)\n",
    "train_labels = to_categorical(train_labels)\n",
    "test_labels = to_categorical(test_labels)"
   ]
  },
  {
   "cell_type": "code",
   "execution_count": 8,
   "metadata": {},
   "outputs": [
    {
     "name": "stdout",
     "output_type": "stream",
     "text": [
      "(4000, 8) (1600, 8) (4000, 4) (1600, 4)\n"
     ]
    }
   ],
   "source": [
    "print(train_data.shape, test_data.shape, train_labels.shape, test_labels.shape)"
   ]
  },
  {
   "cell_type": "code",
   "execution_count": 9,
   "metadata": {},
   "outputs": [
    {
     "name": "stdout",
     "output_type": "stream",
     "text": [
      "Model: \"sequential\"\n",
      "_________________________________________________________________\n",
      "Layer (type)                 Output Shape              Param #   \n",
      "=================================================================\n",
      "dense (Dense)                (None, 5)                 45        \n",
      "_________________________________________________________________\n",
      "dense_1 (Dense)              (None, 5)                 30        \n",
      "_________________________________________________________________\n",
      "dense_2 (Dense)              (None, 4)                 24        \n",
      "=================================================================\n",
      "Total params: 99\n",
      "Trainable params: 99\n",
      "Non-trainable params: 0\n",
      "_________________________________________________________________\n"
     ]
    }
   ],
   "source": [
    "model = Sequential([\n",
    "    layers.Dense(5,activation = 'relu', input_dim = 8),\n",
    "#     layers.Dropout(0.2),\n",
    "    layers.Dense(5,activation = 'relu'),\n",
    "    layers.Dense(4,activation = 'softmax')\n",
    "])\n",
    "model.summary()"
   ]
  },
  {
   "cell_type": "code",
   "execution_count": 10,
   "metadata": {},
   "outputs": [],
   "source": [
    "model.compile(optimizer = 'adam',loss = 'categorical_crossentropy', metrics = ['accuracy'])"
   ]
  },
  {
   "cell_type": "code",
   "execution_count": 11,
   "metadata": {},
   "outputs": [],
   "source": [
    "callbacks = [EarlyStopping(monitor = 'val_loss', mode = 'min', verbose = 1, patience = 5)]"
   ]
  },
  {
   "cell_type": "code",
   "execution_count": 12,
   "metadata": {},
   "outputs": [
    {
     "name": "stdout",
     "output_type": "stream",
     "text": [
      "Train on 3200 samples, validate on 800 samples\n",
      "Epoch 1/100\n",
      "3200/3200 - 0s - loss: 1.4393 - accuracy: 0.2062 - val_loss: 1.3591 - val_accuracy: 0.2575\n",
      "Epoch 2/100\n",
      "3200/3200 - 0s - loss: 1.3387 - accuracy: 0.3328 - val_loss: 1.2981 - val_accuracy: 0.4375\n",
      "Epoch 3/100\n",
      "3200/3200 - 0s - loss: 1.2338 - accuracy: 0.4313 - val_loss: 1.1748 - val_accuracy: 0.4625\n",
      "Epoch 4/100\n",
      "3200/3200 - 0s - loss: 1.1402 - accuracy: 0.4553 - val_loss: 1.1105 - val_accuracy: 0.4613\n",
      "Epoch 5/100\n",
      "3200/3200 - 0s - loss: 1.0775 - accuracy: 0.5197 - val_loss: 1.0474 - val_accuracy: 0.5938\n",
      "Epoch 6/100\n",
      "3200/3200 - 0s - loss: 1.0146 - accuracy: 0.6784 - val_loss: 0.9998 - val_accuracy: 0.6550\n",
      "Epoch 7/100\n",
      "3200/3200 - 0s - loss: 0.9666 - accuracy: 0.6784 - val_loss: 0.9536 - val_accuracy: 0.6637\n",
      "Epoch 8/100\n",
      "3200/3200 - 0s - loss: 0.9195 - accuracy: 0.6734 - val_loss: 0.9074 - val_accuracy: 0.6825\n",
      "Epoch 9/100\n",
      "3200/3200 - 0s - loss: 0.8737 - accuracy: 0.6869 - val_loss: 0.8622 - val_accuracy: 0.7088\n",
      "Epoch 10/100\n",
      "3200/3200 - 0s - loss: 0.8290 - accuracy: 0.6975 - val_loss: 0.8200 - val_accuracy: 0.7038\n",
      "Epoch 11/100\n",
      "3200/3200 - 0s - loss: 0.7859 - accuracy: 0.7100 - val_loss: 0.7792 - val_accuracy: 0.7075\n",
      "Epoch 12/100\n",
      "3200/3200 - 0s - loss: 0.7451 - accuracy: 0.7091 - val_loss: 0.7409 - val_accuracy: 0.7150\n",
      "Epoch 13/100\n",
      "3200/3200 - 0s - loss: 0.7067 - accuracy: 0.7266 - val_loss: 0.7048 - val_accuracy: 0.7212\n",
      "Epoch 14/100\n",
      "3200/3200 - 0s - loss: 0.6715 - accuracy: 0.7337 - val_loss: 0.6714 - val_accuracy: 0.7462\n",
      "Epoch 15/100\n",
      "3200/3200 - 0s - loss: 0.6384 - accuracy: 0.7500 - val_loss: 0.6406 - val_accuracy: 0.7613\n",
      "Epoch 16/100\n",
      "3200/3200 - 0s - loss: 0.6082 - accuracy: 0.7694 - val_loss: 0.6127 - val_accuracy: 0.7887\n",
      "Epoch 17/100\n",
      "3200/3200 - 0s - loss: 0.5813 - accuracy: 0.7928 - val_loss: 0.5872 - val_accuracy: 0.7925\n",
      "Epoch 18/100\n",
      "3200/3200 - 0s - loss: 0.5561 - accuracy: 0.7941 - val_loss: 0.5644 - val_accuracy: 0.8138\n",
      "Epoch 19/100\n",
      "3200/3200 - 0s - loss: 0.5324 - accuracy: 0.8138 - val_loss: 0.5399 - val_accuracy: 0.8138\n",
      "Epoch 20/100\n",
      "3200/3200 - 0s - loss: 0.5115 - accuracy: 0.8184 - val_loss: 0.5224 - val_accuracy: 0.8238\n",
      "Epoch 21/100\n",
      "3200/3200 - 0s - loss: 0.4918 - accuracy: 0.8231 - val_loss: 0.5020 - val_accuracy: 0.8288\n",
      "Epoch 22/100\n",
      "3200/3200 - 0s - loss: 0.4740 - accuracy: 0.8325 - val_loss: 0.4830 - val_accuracy: 0.8350\n",
      "Epoch 23/100\n",
      "3200/3200 - 0s - loss: 0.4567 - accuracy: 0.8363 - val_loss: 0.4665 - val_accuracy: 0.8438\n",
      "Epoch 24/100\n",
      "3200/3200 - 0s - loss: 0.4413 - accuracy: 0.8416 - val_loss: 0.4519 - val_accuracy: 0.8462\n",
      "Epoch 25/100\n",
      "3200/3200 - 0s - loss: 0.4263 - accuracy: 0.8525 - val_loss: 0.4365 - val_accuracy: 0.8487\n",
      "Epoch 26/100\n",
      "3200/3200 - 0s - loss: 0.4136 - accuracy: 0.8512 - val_loss: 0.4241 - val_accuracy: 0.8512\n",
      "Epoch 27/100\n",
      "3200/3200 - 0s - loss: 0.4002 - accuracy: 0.8569 - val_loss: 0.4104 - val_accuracy: 0.8512\n",
      "Epoch 28/100\n",
      "3200/3200 - 0s - loss: 0.3885 - accuracy: 0.8684 - val_loss: 0.3992 - val_accuracy: 0.8500\n",
      "Epoch 29/100\n",
      "3200/3200 - 0s - loss: 0.3766 - accuracy: 0.8647 - val_loss: 0.3863 - val_accuracy: 0.8600\n",
      "Epoch 30/100\n",
      "3200/3200 - 0s - loss: 0.3647 - accuracy: 0.8781 - val_loss: 0.3832 - val_accuracy: 0.8487\n",
      "Epoch 31/100\n",
      "3200/3200 - 0s - loss: 0.3545 - accuracy: 0.8763 - val_loss: 0.3680 - val_accuracy: 0.8775\n",
      "Epoch 32/100\n",
      "3200/3200 - 0s - loss: 0.3442 - accuracy: 0.8813 - val_loss: 0.3573 - val_accuracy: 0.9062\n",
      "Epoch 33/100\n",
      "3200/3200 - 0s - loss: 0.3348 - accuracy: 0.8988 - val_loss: 0.3477 - val_accuracy: 0.8788\n",
      "Epoch 34/100\n",
      "3200/3200 - 0s - loss: 0.3247 - accuracy: 0.8944 - val_loss: 0.3414 - val_accuracy: 0.9262\n",
      "Epoch 35/100\n",
      "3200/3200 - 0s - loss: 0.3170 - accuracy: 0.9044 - val_loss: 0.3303 - val_accuracy: 0.8913\n",
      "Epoch 36/100\n",
      "3200/3200 - 0s - loss: 0.3070 - accuracy: 0.9162 - val_loss: 0.3199 - val_accuracy: 0.9000\n",
      "Epoch 37/100\n",
      "3200/3200 - 0s - loss: 0.2989 - accuracy: 0.9281 - val_loss: 0.3150 - val_accuracy: 0.8825\n",
      "Epoch 38/100\n",
      "3200/3200 - 0s - loss: 0.2922 - accuracy: 0.9194 - val_loss: 0.3039 - val_accuracy: 0.9212\n",
      "Epoch 39/100\n",
      "3200/3200 - 0s - loss: 0.2835 - accuracy: 0.9309 - val_loss: 0.2991 - val_accuracy: 0.9200\n",
      "Epoch 40/100\n",
      "3200/3200 - 0s - loss: 0.2766 - accuracy: 0.9328 - val_loss: 0.2912 - val_accuracy: 0.9275\n",
      "Epoch 41/100\n",
      "3200/3200 - 0s - loss: 0.2692 - accuracy: 0.9369 - val_loss: 0.2893 - val_accuracy: 0.9000\n",
      "Epoch 42/100\n",
      "3200/3200 - 0s - loss: 0.2631 - accuracy: 0.9372 - val_loss: 0.2768 - val_accuracy: 0.9237\n",
      "Epoch 43/100\n",
      "3200/3200 - 0s - loss: 0.2563 - accuracy: 0.9409 - val_loss: 0.2705 - val_accuracy: 0.9300\n",
      "Epoch 44/100\n",
      "3200/3200 - 0s - loss: 0.2505 - accuracy: 0.9391 - val_loss: 0.2651 - val_accuracy: 0.9300\n",
      "Epoch 45/100\n",
      "3200/3200 - 0s - loss: 0.2432 - accuracy: 0.9438 - val_loss: 0.2589 - val_accuracy: 0.9300\n",
      "Epoch 46/100\n",
      "3200/3200 - 0s - loss: 0.2374 - accuracy: 0.9466 - val_loss: 0.2521 - val_accuracy: 0.9400\n",
      "Epoch 47/100\n",
      "3200/3200 - 0s - loss: 0.2322 - accuracy: 0.9466 - val_loss: 0.2479 - val_accuracy: 0.9275\n",
      "Epoch 48/100\n",
      "3200/3200 - 0s - loss: 0.2262 - accuracy: 0.9497 - val_loss: 0.2421 - val_accuracy: 0.9563\n",
      "Epoch 49/100\n",
      "3200/3200 - 0s - loss: 0.2209 - accuracy: 0.9484 - val_loss: 0.2388 - val_accuracy: 0.9375\n",
      "Epoch 50/100\n",
      "3200/3200 - 0s - loss: 0.2156 - accuracy: 0.9494 - val_loss: 0.2326 - val_accuracy: 0.9413\n",
      "Epoch 51/100\n",
      "3200/3200 - 0s - loss: 0.2106 - accuracy: 0.9516 - val_loss: 0.2323 - val_accuracy: 0.9287\n",
      "Epoch 52/100\n",
      "3200/3200 - 0s - loss: 0.2066 - accuracy: 0.9534 - val_loss: 0.2246 - val_accuracy: 0.9413\n",
      "Epoch 53/100\n",
      "3200/3200 - 0s - loss: 0.2011 - accuracy: 0.9528 - val_loss: 0.2223 - val_accuracy: 0.9550\n",
      "Epoch 54/100\n",
      "3200/3200 - 0s - loss: 0.1968 - accuracy: 0.9550 - val_loss: 0.2151 - val_accuracy: 0.9563\n",
      "Epoch 55/100\n",
      "3200/3200 - 0s - loss: 0.1926 - accuracy: 0.9584 - val_loss: 0.2127 - val_accuracy: 0.9575\n",
      "Epoch 56/100\n",
      "3200/3200 - 0s - loss: 0.1898 - accuracy: 0.9547 - val_loss: 0.2126 - val_accuracy: 0.9675\n",
      "Epoch 57/100\n",
      "3200/3200 - 0s - loss: 0.1851 - accuracy: 0.9597 - val_loss: 0.2035 - val_accuracy: 0.9625\n",
      "Epoch 58/100\n",
      "3200/3200 - 0s - loss: 0.1812 - accuracy: 0.9594 - val_loss: 0.2012 - val_accuracy: 0.9588\n",
      "Epoch 59/100\n",
      "3200/3200 - 0s - loss: 0.1775 - accuracy: 0.9584 - val_loss: 0.1955 - val_accuracy: 0.9588\n",
      "Epoch 60/100\n",
      "3200/3200 - 0s - loss: 0.1731 - accuracy: 0.9616 - val_loss: 0.1993 - val_accuracy: 0.9425\n",
      "Epoch 61/100\n",
      "3200/3200 - 0s - loss: 0.1690 - accuracy: 0.9613 - val_loss: 0.1902 - val_accuracy: 0.9625\n",
      "Epoch 62/100\n",
      "3200/3200 - 0s - loss: 0.1657 - accuracy: 0.9634 - val_loss: 0.1905 - val_accuracy: 0.9538\n",
      "Epoch 63/100\n",
      "3200/3200 - 0s - loss: 0.1640 - accuracy: 0.9597 - val_loss: 0.1844 - val_accuracy: 0.9613\n",
      "Epoch 64/100\n",
      "3200/3200 - 0s - loss: 0.1597 - accuracy: 0.9625 - val_loss: 0.1810 - val_accuracy: 0.9650\n",
      "Epoch 65/100\n",
      "3200/3200 - 0s - loss: 0.1561 - accuracy: 0.9647 - val_loss: 0.1794 - val_accuracy: 0.9538\n",
      "Epoch 66/100\n",
      "3200/3200 - 0s - loss: 0.1532 - accuracy: 0.9647 - val_loss: 0.1744 - val_accuracy: 0.9650\n",
      "Epoch 67/100\n",
      "3200/3200 - 0s - loss: 0.1504 - accuracy: 0.9656 - val_loss: 0.1724 - val_accuracy: 0.9663\n",
      "Epoch 68/100\n",
      "3200/3200 - 0s - loss: 0.1487 - accuracy: 0.9663 - val_loss: 0.1715 - val_accuracy: 0.9688\n",
      "Epoch 69/100\n",
      "3200/3200 - 0s - loss: 0.1459 - accuracy: 0.9669 - val_loss: 0.1680 - val_accuracy: 0.9688\n",
      "Epoch 70/100\n",
      "3200/3200 - 0s - loss: 0.1425 - accuracy: 0.9678 - val_loss: 0.1665 - val_accuracy: 0.9650\n",
      "Epoch 71/100\n",
      "3200/3200 - 0s - loss: 0.1401 - accuracy: 0.9700 - val_loss: 0.1646 - val_accuracy: 0.9650\n",
      "Epoch 72/100\n",
      "3200/3200 - 0s - loss: 0.1383 - accuracy: 0.9678 - val_loss: 0.1602 - val_accuracy: 0.9688\n",
      "Epoch 73/100\n",
      "3200/3200 - 0s - loss: 0.1350 - accuracy: 0.9700 - val_loss: 0.1598 - val_accuracy: 0.9675\n",
      "Epoch 74/100\n",
      "3200/3200 - 0s - loss: 0.1337 - accuracy: 0.9688 - val_loss: 0.1589 - val_accuracy: 0.9700\n",
      "Epoch 75/100\n",
      "3200/3200 - 0s - loss: 0.1310 - accuracy: 0.9703 - val_loss: 0.1534 - val_accuracy: 0.9700\n",
      "Epoch 76/100\n",
      "3200/3200 - 0s - loss: 0.1292 - accuracy: 0.9709 - val_loss: 0.1526 - val_accuracy: 0.9700\n",
      "Epoch 77/100\n",
      "3200/3200 - 0s - loss: 0.1267 - accuracy: 0.9703 - val_loss: 0.1503 - val_accuracy: 0.9663\n",
      "Epoch 78/100\n",
      "3200/3200 - 0s - loss: 0.1249 - accuracy: 0.9709 - val_loss: 0.1483 - val_accuracy: 0.9700\n",
      "Epoch 79/100\n",
      "3200/3200 - 0s - loss: 0.1222 - accuracy: 0.9731 - val_loss: 0.1466 - val_accuracy: 0.9700\n"
     ]
    },
    {
     "name": "stdout",
     "output_type": "stream",
     "text": [
      "Epoch 80/100\n",
      "3200/3200 - 0s - loss: 0.1210 - accuracy: 0.9722 - val_loss: 0.1448 - val_accuracy: 0.9688\n",
      "Epoch 81/100\n",
      "3200/3200 - 0s - loss: 0.1198 - accuracy: 0.9719 - val_loss: 0.1429 - val_accuracy: 0.9688\n",
      "Epoch 82/100\n",
      "3200/3200 - 0s - loss: 0.1174 - accuracy: 0.9737 - val_loss: 0.1495 - val_accuracy: 0.9600\n",
      "Epoch 83/100\n",
      "3200/3200 - 0s - loss: 0.1168 - accuracy: 0.9719 - val_loss: 0.1386 - val_accuracy: 0.9688\n",
      "Epoch 84/100\n",
      "3200/3200 - 0s - loss: 0.1144 - accuracy: 0.9741 - val_loss: 0.1374 - val_accuracy: 0.9712\n",
      "Epoch 85/100\n",
      "3200/3200 - 0s - loss: 0.1127 - accuracy: 0.9756 - val_loss: 0.1383 - val_accuracy: 0.9675\n",
      "Epoch 86/100\n",
      "3200/3200 - 0s - loss: 0.1113 - accuracy: 0.9744 - val_loss: 0.1352 - val_accuracy: 0.9712\n",
      "Epoch 87/100\n",
      "3200/3200 - 0s - loss: 0.1101 - accuracy: 0.9759 - val_loss: 0.1346 - val_accuracy: 0.9700\n",
      "Epoch 88/100\n",
      "3200/3200 - 0s - loss: 0.1083 - accuracy: 0.9753 - val_loss: 0.1317 - val_accuracy: 0.9712\n",
      "Epoch 89/100\n",
      "3200/3200 - 0s - loss: 0.1066 - accuracy: 0.9766 - val_loss: 0.1298 - val_accuracy: 0.9700\n",
      "Epoch 90/100\n",
      "3200/3200 - 0s - loss: 0.1053 - accuracy: 0.9762 - val_loss: 0.1338 - val_accuracy: 0.9675\n",
      "Epoch 91/100\n",
      "3200/3200 - 0s - loss: 0.1043 - accuracy: 0.9762 - val_loss: 0.1325 - val_accuracy: 0.9675\n",
      "Epoch 92/100\n",
      "3200/3200 - 0s - loss: 0.1040 - accuracy: 0.9759 - val_loss: 0.1297 - val_accuracy: 0.9750\n",
      "Epoch 93/100\n",
      "3200/3200 - 0s - loss: 0.1023 - accuracy: 0.9772 - val_loss: 0.1253 - val_accuracy: 0.9700\n",
      "Epoch 94/100\n",
      "3200/3200 - 0s - loss: 0.1005 - accuracy: 0.9784 - val_loss: 0.1253 - val_accuracy: 0.9712\n",
      "Epoch 95/100\n",
      "3200/3200 - 0s - loss: 0.0996 - accuracy: 0.9772 - val_loss: 0.1263 - val_accuracy: 0.9700\n",
      "Epoch 96/100\n",
      "3200/3200 - 0s - loss: 0.0984 - accuracy: 0.9784 - val_loss: 0.1240 - val_accuracy: 0.9750\n",
      "Epoch 97/100\n",
      "3200/3200 - 0s - loss: 0.0972 - accuracy: 0.9787 - val_loss: 0.1225 - val_accuracy: 0.9700\n",
      "Epoch 98/100\n",
      "3200/3200 - 0s - loss: 0.0971 - accuracy: 0.9781 - val_loss: 0.1207 - val_accuracy: 0.9737\n",
      "Epoch 99/100\n",
      "3200/3200 - 0s - loss: 0.0955 - accuracy: 0.9781 - val_loss: 0.1201 - val_accuracy: 0.9737\n",
      "Epoch 100/100\n",
      "3200/3200 - 0s - loss: 0.0944 - accuracy: 0.9794 - val_loss: 0.1181 - val_accuracy: 0.9725\n"
     ]
    }
   ],
   "source": [
    "history = model.fit(train_data,train_labels,epochs = 100, validation_split = 0.2, verbose = 2, callbacks = callbacks)"
   ]
  },
  {
   "cell_type": "code",
   "execution_count": 18,
   "metadata": {},
   "outputs": [
    {
     "data": {
      "image/png": "[encoded data removed]",
      "text/plain": [
       "<Figure size 432x288 with 1 Axes>"
      ]
     },
     "metadata": {
      "needs_background": "light"
     },
     "output_type": "display_data"
    },
    {
     "data": {
      "image/png": "[encoded data removed]",
      "text/plain": [
       "<Figure size 432x288 with 1 Axes>"
      ]
     },
     "metadata": {
      "needs_background": "light"
     },
     "output_type": "display_data"
    }
   ],
   "source": [
    "import matplotlib.pyplot as plt\n",
    "train_loss = history.history['loss']\n",
    "val_loss = history.history['val_loss']\n",
    "train_acc = history.history['accuracy']\n",
    "val_acc = history.history['val_accuracy']\n",
    "epochs = np.arange(1,len(train_loss)+1)\n",
    "plt.figure()\n",
    "plt.plot(epochs, train_loss, label = \"Training Loss\")\n",
    "plt.plot(epochs, val_loss, label = \"Validation Loss\")\n",
    "plt.legend()\n",
    "plt.title(\"Comparision of Loss\")\n",
    "plt.show()\n",
    "\n",
    "plt.figure()\n",
    "plt.plot(epochs, train_acc, label = \"Training Accuracy\")\n",
    "plt.plot(epochs, val_acc, label = \"Validation Accuracy\")\n",
    "plt.title(\"Comparison of Accuracy\")\n",
    "plt.legend()\n",
    "plt.show()"
   ]
  },
  {
   "cell_type": "code",
   "execution_count": 14,
   "metadata": {},
   "outputs": [
    {
     "name": "stdout",
     "output_type": "stream",
     "text": [
      "1600/1600 [==============================] - 0s 13us/sample - loss: 0.0815 - accuracy: 0.9844\n",
      "0.984375\n"
     ]
    }
   ],
   "source": [
    "test_loss,test_acc = model.evaluate(test_data, test_labels)\n",
    "print(test_acc)"
   ]
  },
  {
   "cell_type": "code",
   "execution_count": 15,
   "metadata": {},
   "outputs": [],
   "source": [
    "prediction = model.predict(test_data)\n",
    "prediction_labels = list([])\n",
    "for each_prediction in prediction:\n",
    "    prediction_labels.append(list(each_prediction).index(max(each_prediction)))\n",
    "    "
   ]
  },
  {
   "cell_type": "code",
   "execution_count": 16,
   "metadata": {},
   "outputs": [],
   "source": [
    "from sklearn.metrics import confusion_matrix\n",
    "true_labels = np.argmax(test_labels, axis = 1)\n",
    "matrix = confusion_matrix(true_labels, prediction_labels)"
   ]
  },
  {
   "cell_type": "code",
   "execution_count": 17,
   "metadata": {},
   "outputs": [
    {
     "data": {
      "text/plain": [
       "(array([0.5, 1.5, 2.5, 3.5]), <a list of 4 Text xticklabel objects>)"
      ]
     },
     "execution_count": 17,
     "metadata": {},
     "output_type": "execute_result"
    },
    {
     "data": {
      "image/png": "[encoded data removed]",
      "text/plain": [
       "<Figure size 432x288 with 2 Axes>"
      ]
     },
     "metadata": {
      "needs_background": "light"
     },
     "output_type": "display_data"
    }
   ],
   "source": [
    "import seaborn as sns\n",
    "matrix = pd.DataFrame(matrix)\n",
    "sns.heatmap(matrix, annot= True, fmt = \"d\",\n",
    "           xticklabels = category_labels,\n",
    "           yticklabels = category_labels)\n",
    "plt.xticks(rotation = 90)"
   ]
  },
  {
   "cell_type": "code",
   "execution_count": null,
   "metadata": {},
   "outputs": [],
   "source": []
  }
 ],
 "metadata": {
  "kernelspec": {
   "display_name": "tensorflow_env",
   "language": "python",
   "name": "tensorflwo_env"
  },
  "language_info": {
   "codemirror_mode": {
    "name": "ipython",
    "version": 3
   },
   "file_extension": ".py",
   "mimetype": "text/x-python",
   "name": "python",
   "nbconvert_exporter": "python",
   "pygments_lexer": "ipython3",
   "version": "3.7.2"
  },
  "varInspector": {
   "cols": {
    "lenName": 16,
    "lenType": 16,
    "lenVar": 40
   },
   "kernels_config": {
    "python": {
     "delete_cmd_postfix": "",
     "delete_cmd_prefix": "del ",
     "library": "var_list.py",
     "varRefreshCmd": "print(var_dic_list())"
    },
    "r": {
     "delete_cmd_postfix": ") ",
     "delete_cmd_prefix": "rm(",
     "library": "var_list.r",
     "varRefreshCmd": "cat(var_dic_list()) "
    }
   },
   "types_to_exclude": [
    "module",
    "function",
    "builtin_function_or_method",
    "instance",
    "_Feature"
   ],
   "window_display": false
  }
 },
 "nbformat": 4,
 "nbformat_minor": 2
}
