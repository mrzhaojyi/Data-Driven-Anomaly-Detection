{
 "cells": [
  {
   "cell_type": "code",
   "execution_count": 1,
   "metadata": {},
   "outputs": [],
   "source": [
    "import pandas as pd\n",
    "import glob "
   ]
  },
  {
   "cell_type": "code",
   "execution_count": 2,
   "metadata": {},
   "outputs": [
    {
     "name": "stdout",
     "output_type": "stream",
     "text": [
      "['D:/rfiles/feature_matrix\\\\feature_matrix_ent8_1024_shan_ball.csv', 'D:/rfiles/feature_matrix\\\\feature_matrix_ent8_1024_shan_inner.csv', 'D:/rfiles/feature_matrix\\\\feature_matrix_ent8_1024_shan_outer_6.csv']\n"
     ]
    }
   ],
   "source": [
    "paths = glob.glob(\"D:/rfiles/feature_matrix/feature_matrix_ent8_1024*.csv\")\n",
    "print(paths)"
   ]
  },
  {
   "cell_type": "code",
   "execution_count": 3,
   "metadata": {},
   "outputs": [
    {
     "data": {
      "text/plain": [
       "ball      1894\n",
       "inner     1893\n",
       "Normal    1657\n",
       "outer     1425\n",
       "Name: fault_type, dtype: int64"
      ]
     },
     "execution_count": 3,
     "metadata": {},
     "output_type": "execute_result"
    }
   ],
   "source": [
    "df1 = pd.read_csv(paths[0])\n",
    "df1.loc[1657:,'fault_type'] = \"ball\"\n",
    "# df1['fault_type'].value_counts()\n",
    "df2 = pd.read_csv(paths[1])\n",
    "df2.loc[1657:,'fault_type'] = 'inner'\n",
    "data_all = df1.append(df2[1657:], ignore_index = True)\n",
    "df3 = pd.read_csv(paths[2])\n",
    "df3.loc[1657:,'fault_type'] = 'outer'\n",
    "data_all = data_all.append(df3[1657:], ignore_index = True)\n",
    "del [df1, df2, df3]\n",
    "data_all['fault_type'].value_counts()"
   ]
  },
  {
   "cell_type": "code",
   "execution_count": 4,
   "metadata": {},
   "outputs": [],
   "source": [
    "import numpy as np\n",
    "from numpy.random import choice \n",
    "np.random.seed(1)\n",
    "index = np.array([choice(np.arange(0,1657),1400,replace = False),\n",
    "                choice(np.arange(1657,3551),1400,replace = False),\n",
    "                choice(np.arange(3551,5444),1400,replace = False),\n",
    "                choice(np.arange(5444,6869),1400,replace = False)])\n",
    "index = index.ravel()\n",
    "data = data_all.iloc[index,]\n",
    "data = data.reset_index(drop = True)\n",
    "test_index = np.array([choice(np.arange(0,1400),400, replace = False),\n",
    "                     choice(np.arange(1400,2*1400),400, replace = False),\n",
    "                     choice(np.arange(2*1400,3*1400),400, replace = False),\n",
    "                     choice(np.arange(3*1400,4*1400),400, replace = False)])\n",
    "\n",
    "test_index = test_index.ravel()\n",
    "test_data = data.iloc[test_index,]\n",
    "train_data = data.drop(data.index[test_index])\n",
    "\n",
    "# Shuffle data\n",
    "train_data = train_data.sample(frac = 1, random_state = 2)\n",
    "test_data = test_data.sample(frac = 1, random_state = 3)\n",
    "\n",
    "# Convert categorical lables to numberic entries\n",
    "\n",
    "category_labels = ['Normal', 'ball', 'inner','outer']\n",
    "# test_labels = test_data['fault_type']\n",
    "test_labels = pd.Categorical(test_data['fault_type'],categories= category_labels).codes # Produces ndarrays\n",
    "# train_labels = train_data['fault_type']\n",
    "train_labels = pd.Categorical(train_data['fault_type'], categories = category_labels).codes"
   ]
  },
  {
   "cell_type": "code",
   "execution_count": 5,
   "metadata": {},
   "outputs": [
    {
     "name": "stdout",
     "output_type": "stream",
     "text": [
      "(5600, 9) (1600, 9) (4000, 9) (1600,) (4000,)\n"
     ]
    }
   ],
   "source": [
    "print(data.shape,test_data.shape,train_data.shape,test_labels.shape,train_labels.shape)"
   ]
  },
  {
   "cell_type": "code",
   "execution_count": 6,
   "metadata": {},
   "outputs": [],
   "source": [
    "import tensorflow as tf\n",
    "from tensorflow import keras\n",
    "from tensorflow.keras.models import Sequential\n",
    "from tensorflow.keras import layers\n",
    "from tensorflow.keras.utils import to_categorical\n",
    "from tensorflow.keras.callbacks import EarlyStopping\n",
    "import sklearn\n",
    "from sklearn import preprocessing"
   ]
  },
  {
   "cell_type": "code",
   "execution_count": 7,
   "metadata": {},
   "outputs": [],
   "source": [
    "# Convert labels to categorical data\n",
    "train_data = train_data.iloc[:,0:8]\n",
    "test_data = test_data.iloc[:,0:8]\n",
    "# Scale the data\n",
    "train_data = preprocessing.scale(train_data)\n",
    "test_data = preprocessing.scale(test_data)\n",
    "train_labels = to_categorical(train_labels)\n",
    "test_labels = to_categorical(test_labels)"
   ]
  },
  {
   "cell_type": "code",
   "execution_count": 8,
   "metadata": {},
   "outputs": [
    {
     "name": "stdout",
     "output_type": "stream",
     "text": [
      "(4000, 8) (1600, 8) (4000, 4) (1600, 4)\n"
     ]
    }
   ],
   "source": [
    "print(train_data.shape, test_data.shape, train_labels.shape, test_labels.shape)"
   ]
  },
  {
   "cell_type": "code",
   "execution_count": 9,
   "metadata": {},
   "outputs": [
    {
     "name": "stdout",
     "output_type": "stream",
     "text": [
      "Model: \"sequential\"\n",
      "_________________________________________________________________\n",
      "Layer (type)                 Output Shape              Param #   \n",
      "=================================================================\n",
      "dense (Dense)                (None, 5)                 45        \n",
      "_________________________________________________________________\n",
      "dense_1 (Dense)              (None, 5)                 30        \n",
      "_________________________________________________________________\n",
      "dense_2 (Dense)              (None, 4)                 24        \n",
      "=================================================================\n",
      "Total params: 99\n",
      "Trainable params: 99\n",
      "Non-trainable params: 0\n",
      "_________________________________________________________________\n"
     ]
    }
   ],
   "source": [
    "model = Sequential([\n",
    "    layers.Dense(5,activation = 'relu', input_dim = 8),\n",
    "#     layers.Dropout(0.2),\n",
    "    layers.Dense(5,activation = 'relu'),\n",
    "    layers.Dense(4,activation = 'softmax')\n",
    "])\n",
    "model.summary()"
   ]
  },
  {
   "cell_type": "code",
   "execution_count": 10,
   "metadata": {},
   "outputs": [],
   "source": [
    "model.compile(optimizer = 'adam',loss = 'categorical_crossentropy', metrics = ['accuracy'])"
   ]
  },
  {
   "cell_type": "code",
   "execution_count": 11,
   "metadata": {},
   "outputs": [],
   "source": [
    "callbacks = [EarlyStopping(monitor = 'val_loss', mode = 'min', verbose = 1, patience = 5)]"
   ]
  },
  {
   "cell_type": "code",
   "execution_count": 12,
   "metadata": {},
   "outputs": [
    {
     "name": "stdout",
     "output_type": "stream",
     "text": [
      "Train on 3200 samples, validate on 800 samples\n",
      "Epoch 1/100\n",
      "3200/3200 - 0s - loss: 1.6778 - accuracy: 0.3900 - val_loss: 1.5007 - val_accuracy: 0.4437\n",
      "Epoch 2/100\n",
      "3200/3200 - 0s - loss: 1.3563 - accuracy: 0.5219 - val_loss: 1.2212 - val_accuracy: 0.5263\n",
      "Epoch 3/100\n",
      "3200/3200 - 0s - loss: 1.1440 - accuracy: 0.6616 - val_loss: 1.0699 - val_accuracy: 0.6950\n",
      "Epoch 4/100\n",
      "3200/3200 - 0s - loss: 1.0155 - accuracy: 0.6538 - val_loss: 0.9572 - val_accuracy: 0.6725\n",
      "Epoch 5/100\n",
      "3200/3200 - 0s - loss: 0.9125 - accuracy: 0.6716 - val_loss: 0.8662 - val_accuracy: 0.6963\n",
      "Epoch 6/100\n",
      "3200/3200 - 0s - loss: 0.8269 - accuracy: 0.7106 - val_loss: 0.7895 - val_accuracy: 0.7125\n",
      "Epoch 7/100\n",
      "3200/3200 - 0s - loss: 0.7530 - accuracy: 0.7437 - val_loss: 0.7216 - val_accuracy: 0.7325\n",
      "Epoch 8/100\n",
      "3200/3200 - 0s - loss: 0.6892 - accuracy: 0.7675 - val_loss: 0.6626 - val_accuracy: 0.7900\n",
      "Epoch 9/100\n",
      "3200/3200 - 0s - loss: 0.6322 - accuracy: 0.8163 - val_loss: 0.6094 - val_accuracy: 0.7937\n",
      "Epoch 10/100\n",
      "3200/3200 - 0s - loss: 0.5812 - accuracy: 0.8278 - val_loss: 0.5637 - val_accuracy: 0.8425\n",
      "Epoch 11/100\n",
      "3200/3200 - 0s - loss: 0.5348 - accuracy: 0.8481 - val_loss: 0.5177 - val_accuracy: 0.8313\n",
      "Epoch 12/100\n",
      "3200/3200 - 0s - loss: 0.4920 - accuracy: 0.8519 - val_loss: 0.4764 - val_accuracy: 0.8612\n",
      "Epoch 13/100\n",
      "3200/3200 - 0s - loss: 0.4503 - accuracy: 0.8675 - val_loss: 0.4377 - val_accuracy: 0.8462\n",
      "Epoch 14/100\n",
      "3200/3200 - 0s - loss: 0.4128 - accuracy: 0.8778 - val_loss: 0.3983 - val_accuracy: 0.8725\n",
      "Epoch 15/100\n",
      "3200/3200 - 0s - loss: 0.3765 - accuracy: 0.8888 - val_loss: 0.3659 - val_accuracy: 0.8938\n",
      "Epoch 16/100\n",
      "3200/3200 - 0s - loss: 0.3443 - accuracy: 0.8997 - val_loss: 0.3353 - val_accuracy: 0.9050\n",
      "Epoch 17/100\n",
      "3200/3200 - 0s - loss: 0.3161 - accuracy: 0.9100 - val_loss: 0.3089 - val_accuracy: 0.9125\n",
      "Epoch 18/100\n",
      "3200/3200 - 0s - loss: 0.2904 - accuracy: 0.9175 - val_loss: 0.2857 - val_accuracy: 0.9275\n",
      "Epoch 19/100\n",
      "3200/3200 - 0s - loss: 0.2679 - accuracy: 0.9281 - val_loss: 0.2654 - val_accuracy: 0.9300\n",
      "Epoch 20/100\n",
      "3200/3200 - 0s - loss: 0.2491 - accuracy: 0.9362 - val_loss: 0.2479 - val_accuracy: 0.9413\n",
      "Epoch 21/100\n",
      "3200/3200 - 0s - loss: 0.2308 - accuracy: 0.9403 - val_loss: 0.2321 - val_accuracy: 0.9500\n",
      "Epoch 22/100\n",
      "3200/3200 - 0s - loss: 0.2159 - accuracy: 0.9497 - val_loss: 0.2175 - val_accuracy: 0.9525\n",
      "Epoch 23/100\n",
      "3200/3200 - 0s - loss: 0.2026 - accuracy: 0.9516 - val_loss: 0.2053 - val_accuracy: 0.9600\n",
      "Epoch 24/100\n",
      "3200/3200 - 0s - loss: 0.1909 - accuracy: 0.9541 - val_loss: 0.1943 - val_accuracy: 0.9588\n",
      "Epoch 25/100\n",
      "3200/3200 - 0s - loss: 0.1803 - accuracy: 0.9547 - val_loss: 0.1849 - val_accuracy: 0.9600\n",
      "Epoch 26/100\n",
      "3200/3200 - 0s - loss: 0.1708 - accuracy: 0.9566 - val_loss: 0.1770 - val_accuracy: 0.9613\n",
      "Epoch 27/100\n",
      "3200/3200 - 0s - loss: 0.1623 - accuracy: 0.9600 - val_loss: 0.1681 - val_accuracy: 0.9625\n",
      "Epoch 28/100\n",
      "3200/3200 - 0s - loss: 0.1545 - accuracy: 0.9631 - val_loss: 0.1623 - val_accuracy: 0.9613\n",
      "Epoch 29/100\n",
      "3200/3200 - 0s - loss: 0.1470 - accuracy: 0.9644 - val_loss: 0.1550 - val_accuracy: 0.9613\n",
      "Epoch 30/100\n",
      "3200/3200 - 0s - loss: 0.1413 - accuracy: 0.9656 - val_loss: 0.1483 - val_accuracy: 0.9638\n",
      "Epoch 31/100\n",
      "3200/3200 - 0s - loss: 0.1349 - accuracy: 0.9684 - val_loss: 0.1428 - val_accuracy: 0.9650\n",
      "Epoch 32/100\n",
      "3200/3200 - 0s - loss: 0.1300 - accuracy: 0.9706 - val_loss: 0.1374 - val_accuracy: 0.9650\n",
      "Epoch 33/100\n",
      "3200/3200 - 0s - loss: 0.1244 - accuracy: 0.9700 - val_loss: 0.1333 - val_accuracy: 0.9663\n",
      "Epoch 34/100\n",
      "3200/3200 - 0s - loss: 0.1194 - accuracy: 0.9728 - val_loss: 0.1320 - val_accuracy: 0.9725\n",
      "Epoch 35/100\n",
      "3200/3200 - 0s - loss: 0.1161 - accuracy: 0.9712 - val_loss: 0.1251 - val_accuracy: 0.9675\n",
      "Epoch 36/100\n",
      "3200/3200 - 0s - loss: 0.1117 - accuracy: 0.9737 - val_loss: 0.1213 - val_accuracy: 0.9675\n",
      "Epoch 37/100\n",
      "3200/3200 - 0s - loss: 0.1077 - accuracy: 0.9741 - val_loss: 0.1181 - val_accuracy: 0.9675\n",
      "Epoch 38/100\n",
      "3200/3200 - 0s - loss: 0.1055 - accuracy: 0.9753 - val_loss: 0.1139 - val_accuracy: 0.9712\n",
      "Epoch 39/100\n",
      "3200/3200 - 0s - loss: 0.1006 - accuracy: 0.9741 - val_loss: 0.1114 - val_accuracy: 0.9688\n",
      "Epoch 40/100\n",
      "3200/3200 - 0s - loss: 0.0987 - accuracy: 0.9756 - val_loss: 0.1077 - val_accuracy: 0.9725\n",
      "Epoch 41/100\n",
      "3200/3200 - 0s - loss: 0.0947 - accuracy: 0.9756 - val_loss: 0.1081 - val_accuracy: 0.9675\n",
      "Epoch 42/100\n",
      "3200/3200 - 0s - loss: 0.0927 - accuracy: 0.9753 - val_loss: 0.1035 - val_accuracy: 0.9688\n",
      "Epoch 43/100\n",
      "3200/3200 - 0s - loss: 0.0897 - accuracy: 0.9766 - val_loss: 0.1004 - val_accuracy: 0.9725\n",
      "Epoch 44/100\n",
      "3200/3200 - 0s - loss: 0.0876 - accuracy: 0.9762 - val_loss: 0.0985 - val_accuracy: 0.9737\n",
      "Epoch 45/100\n",
      "3200/3200 - 0s - loss: 0.0855 - accuracy: 0.9772 - val_loss: 0.0981 - val_accuracy: 0.9700\n",
      "Epoch 46/100\n",
      "3200/3200 - 0s - loss: 0.0826 - accuracy: 0.9762 - val_loss: 0.0939 - val_accuracy: 0.9775\n",
      "Epoch 47/100\n",
      "3200/3200 - 0s - loss: 0.0809 - accuracy: 0.9772 - val_loss: 0.0915 - val_accuracy: 0.9750\n",
      "Epoch 48/100\n",
      "3200/3200 - 0s - loss: 0.0793 - accuracy: 0.9778 - val_loss: 0.0896 - val_accuracy: 0.9775\n",
      "Epoch 49/100\n",
      "3200/3200 - 0s - loss: 0.0772 - accuracy: 0.9794 - val_loss: 0.0882 - val_accuracy: 0.9750\n",
      "Epoch 50/100\n",
      "3200/3200 - 0s - loss: 0.0747 - accuracy: 0.9797 - val_loss: 0.0901 - val_accuracy: 0.9725\n",
      "Epoch 51/100\n",
      "3200/3200 - 0s - loss: 0.0740 - accuracy: 0.9787 - val_loss: 0.0861 - val_accuracy: 0.9750\n",
      "Epoch 52/100\n",
      "3200/3200 - 0s - loss: 0.0721 - accuracy: 0.9803 - val_loss: 0.0834 - val_accuracy: 0.9762\n",
      "Epoch 53/100\n",
      "3200/3200 - 0s - loss: 0.0703 - accuracy: 0.9800 - val_loss: 0.0826 - val_accuracy: 0.9825\n",
      "Epoch 54/100\n",
      "3200/3200 - 0s - loss: 0.0684 - accuracy: 0.9803 - val_loss: 0.0799 - val_accuracy: 0.9775\n",
      "Epoch 55/100\n",
      "3200/3200 - 0s - loss: 0.0673 - accuracy: 0.9806 - val_loss: 0.0787 - val_accuracy: 0.9812\n",
      "Epoch 56/100\n",
      "3200/3200 - 0s - loss: 0.0662 - accuracy: 0.9806 - val_loss: 0.0774 - val_accuracy: 0.9837\n",
      "Epoch 57/100\n",
      "3200/3200 - 0s - loss: 0.0647 - accuracy: 0.9819 - val_loss: 0.0761 - val_accuracy: 0.9850\n",
      "Epoch 58/100\n",
      "3200/3200 - 0s - loss: 0.0640 - accuracy: 0.9816 - val_loss: 0.0757 - val_accuracy: 0.9750\n",
      "Epoch 59/100\n",
      "3200/3200 - 0s - loss: 0.0621 - accuracy: 0.9809 - val_loss: 0.0751 - val_accuracy: 0.9762\n",
      "Epoch 60/100\n",
      "3200/3200 - 0s - loss: 0.0613 - accuracy: 0.9831 - val_loss: 0.0747 - val_accuracy: 0.9750\n",
      "Epoch 61/100\n",
      "3200/3200 - 0s - loss: 0.0602 - accuracy: 0.9822 - val_loss: 0.0718 - val_accuracy: 0.9812\n",
      "Epoch 62/100\n",
      "3200/3200 - 0s - loss: 0.0589 - accuracy: 0.9837 - val_loss: 0.0725 - val_accuracy: 0.9762\n",
      "Epoch 63/100\n",
      "3200/3200 - 0s - loss: 0.0589 - accuracy: 0.9841 - val_loss: 0.0705 - val_accuracy: 0.9775\n",
      "Epoch 64/100\n",
      "3200/3200 - 0s - loss: 0.0572 - accuracy: 0.9841 - val_loss: 0.0691 - val_accuracy: 0.9887\n",
      "Epoch 65/100\n",
      "3200/3200 - 0s - loss: 0.0560 - accuracy: 0.9844 - val_loss: 0.0704 - val_accuracy: 0.9762\n",
      "Epoch 66/100\n",
      "3200/3200 - 0s - loss: 0.0557 - accuracy: 0.9853 - val_loss: 0.0671 - val_accuracy: 0.9875\n",
      "Epoch 67/100\n",
      "3200/3200 - 0s - loss: 0.0550 - accuracy: 0.9850 - val_loss: 0.0651 - val_accuracy: 0.9875\n",
      "Epoch 68/100\n",
      "3200/3200 - 0s - loss: 0.0533 - accuracy: 0.9850 - val_loss: 0.0664 - val_accuracy: 0.9887\n",
      "Epoch 69/100\n",
      "3200/3200 - 0s - loss: 0.0528 - accuracy: 0.9853 - val_loss: 0.0639 - val_accuracy: 0.9862\n",
      "Epoch 70/100\n",
      "3200/3200 - 0s - loss: 0.0517 - accuracy: 0.9856 - val_loss: 0.0632 - val_accuracy: 0.9875\n",
      "Epoch 71/100\n",
      "3200/3200 - 0s - loss: 0.0512 - accuracy: 0.9862 - val_loss: 0.0627 - val_accuracy: 0.9875\n",
      "Epoch 72/100\n",
      "3200/3200 - 0s - loss: 0.0512 - accuracy: 0.9856 - val_loss: 0.0619 - val_accuracy: 0.9887\n",
      "Epoch 73/100\n",
      "3200/3200 - 0s - loss: 0.0495 - accuracy: 0.9869 - val_loss: 0.0606 - val_accuracy: 0.9887\n",
      "Epoch 74/100\n",
      "3200/3200 - 0s - loss: 0.0489 - accuracy: 0.9862 - val_loss: 0.0604 - val_accuracy: 0.9887\n",
      "Epoch 75/100\n",
      "3200/3200 - 0s - loss: 0.0480 - accuracy: 0.9875 - val_loss: 0.0595 - val_accuracy: 0.9875\n",
      "Epoch 76/100\n",
      "3200/3200 - 0s - loss: 0.0470 - accuracy: 0.9869 - val_loss: 0.0589 - val_accuracy: 0.9862\n",
      "Epoch 77/100\n",
      "3200/3200 - 0s - loss: 0.0468 - accuracy: 0.9859 - val_loss: 0.0596 - val_accuracy: 0.9862\n",
      "Epoch 78/100\n",
      "3200/3200 - 0s - loss: 0.0463 - accuracy: 0.9869 - val_loss: 0.0581 - val_accuracy: 0.9875\n",
      "Epoch 79/100\n",
      "3200/3200 - 0s - loss: 0.0452 - accuracy: 0.9878 - val_loss: 0.0570 - val_accuracy: 0.9887\n"
     ]
    },
    {
     "name": "stdout",
     "output_type": "stream",
     "text": [
      "Epoch 80/100\n",
      "3200/3200 - 0s - loss: 0.0451 - accuracy: 0.9881 - val_loss: 0.0565 - val_accuracy: 0.9900\n",
      "Epoch 81/100\n",
      "3200/3200 - 0s - loss: 0.0448 - accuracy: 0.9878 - val_loss: 0.0556 - val_accuracy: 0.9887\n",
      "Epoch 82/100\n",
      "3200/3200 - 0s - loss: 0.0440 - accuracy: 0.9878 - val_loss: 0.0551 - val_accuracy: 0.9900\n",
      "Epoch 83/100\n",
      "3200/3200 - 0s - loss: 0.0433 - accuracy: 0.9887 - val_loss: 0.0548 - val_accuracy: 0.9900\n",
      "Epoch 84/100\n",
      "3200/3200 - 0s - loss: 0.0432 - accuracy: 0.9875 - val_loss: 0.0538 - val_accuracy: 0.9887\n",
      "Epoch 85/100\n",
      "3200/3200 - 0s - loss: 0.0428 - accuracy: 0.9878 - val_loss: 0.0537 - val_accuracy: 0.9887\n",
      "Epoch 86/100\n",
      "3200/3200 - 0s - loss: 0.0422 - accuracy: 0.9887 - val_loss: 0.0529 - val_accuracy: 0.9900\n",
      "Epoch 87/100\n",
      "3200/3200 - 0s - loss: 0.0416 - accuracy: 0.9887 - val_loss: 0.0527 - val_accuracy: 0.9887\n",
      "Epoch 88/100\n",
      "3200/3200 - 0s - loss: 0.0411 - accuracy: 0.9878 - val_loss: 0.0521 - val_accuracy: 0.9900\n",
      "Epoch 89/100\n",
      "3200/3200 - 0s - loss: 0.0410 - accuracy: 0.9887 - val_loss: 0.0520 - val_accuracy: 0.9900\n",
      "Epoch 90/100\n",
      "3200/3200 - 0s - loss: 0.0408 - accuracy: 0.9887 - val_loss: 0.0512 - val_accuracy: 0.9900\n",
      "Epoch 91/100\n",
      "3200/3200 - 0s - loss: 0.0396 - accuracy: 0.9891 - val_loss: 0.0508 - val_accuracy: 0.9900\n",
      "Epoch 92/100\n",
      "3200/3200 - 0s - loss: 0.0398 - accuracy: 0.9894 - val_loss: 0.0511 - val_accuracy: 0.9900\n",
      "Epoch 93/100\n",
      "3200/3200 - 0s - loss: 0.0393 - accuracy: 0.9897 - val_loss: 0.0499 - val_accuracy: 0.9900\n",
      "Epoch 94/100\n",
      "3200/3200 - 0s - loss: 0.0388 - accuracy: 0.9891 - val_loss: 0.0497 - val_accuracy: 0.9887\n",
      "Epoch 95/100\n",
      "3200/3200 - 0s - loss: 0.0388 - accuracy: 0.9900 - val_loss: 0.0511 - val_accuracy: 0.9887\n",
      "Epoch 96/100\n",
      "3200/3200 - 0s - loss: 0.0383 - accuracy: 0.9894 - val_loss: 0.0515 - val_accuracy: 0.9937\n",
      "Epoch 97/100\n",
      "3200/3200 - 0s - loss: 0.0383 - accuracy: 0.9891 - val_loss: 0.0492 - val_accuracy: 0.9912\n",
      "Epoch 98/100\n",
      "3200/3200 - 0s - loss: 0.0378 - accuracy: 0.9894 - val_loss: 0.0480 - val_accuracy: 0.9900\n",
      "Epoch 99/100\n",
      "3200/3200 - 0s - loss: 0.0371 - accuracy: 0.9897 - val_loss: 0.0490 - val_accuracy: 0.9900\n",
      "Epoch 100/100\n",
      "3200/3200 - 0s - loss: 0.0377 - accuracy: 0.9903 - val_loss: 0.0480 - val_accuracy: 0.9900\n"
     ]
    }
   ],
   "source": [
    "history = model.fit(train_data,train_labels,epochs = 100, validation_split = 0.2, verbose = 2, callbacks = callbacks)"
   ]
  },
  {
   "cell_type": "code",
   "execution_count": 18,
   "metadata": {},
   "outputs": [
    {
     "data": {
      "image/png": "[encoded data removed]",
      "text/plain": [
       "<Figure size 432x288 with 1 Axes>"
      ]
     },
     "metadata": {
      "needs_background": "light"
     },
     "output_type": "display_data"
    },
    {
     "data": {
      "image/png": "[encoded data removed]",
      "text/plain": [
       "<Figure size 432x288 with 1 Axes>"
      ]
     },
     "metadata": {
      "needs_background": "light"
     },
     "output_type": "display_data"
    }
   ],
   "source": [
    "import matplotlib.pyplot as plt\n",
    "train_loss = history.history['loss']\n",
    "val_loss = history.history['val_loss']\n",
    "train_acc = history.history['accuracy']\n",
    "val_acc = history.history['val_accuracy']\n",
    "epochs = np.arange(1,len(train_loss)+1)\n",
    "plt.figure()\n",
    "plt.plot(epochs, train_loss, label = \"Training Loss\")\n",
    "plt.plot(epochs, val_loss, label = \"Validation Loss\")\n",
    "plt.legend()\n",
    "plt.title(\"Comparision of Loss\")\n",
    "plt.show()\n",
    "plt.figure()\n",
    "plt.plot(epochs, train_acc, label = \"Training Accuracy\")\n",
    "plt.plot(epochs, val_acc, label = \"Validation Accuracy\")\n",
    "plt.title(\"Comparison of Accuracy\")\n",
    "plt.legend()\n",
    "plt.show()"
   ]
  },
  {
   "cell_type": "code",
   "execution_count": 14,
   "metadata": {},
   "outputs": [
    {
     "name": "stdout",
     "output_type": "stream",
     "text": [
      "1600/1600 [==============================] - 0s 13us/sample - loss: 0.0376 - accuracy: 0.9919\n",
      "0.991875\n"
     ]
    }
   ],
   "source": [
    "test_loss,test_acc = model.evaluate(test_data, test_labels)\n",
    "print(test_acc)"
   ]
  },
  {
   "cell_type": "code",
   "execution_count": 15,
   "metadata": {},
   "outputs": [],
   "source": [
    "prediction = model.predict(test_data)\n",
    "prediction_labels = list([])\n",
    "for each_prediction in prediction:\n",
    "    prediction_labels.append(list(each_prediction).index(max(each_prediction)))\n",
    "    "
   ]
  },
  {
   "cell_type": "code",
   "execution_count": 16,
   "metadata": {},
   "outputs": [],
   "source": [
    "from sklearn.metrics import confusion_matrix\n",
    "true_labels = np.argmax(test_labels, axis = 1)\n",
    "matrix = confusion_matrix(true_labels, prediction_labels)"
   ]
  },
  {
   "cell_type": "code",
   "execution_count": 17,
   "metadata": {},
   "outputs": [
    {
     "data": {
      "text/plain": [
       "(array([0.5, 1.5, 2.5, 3.5]), <a list of 4 Text xticklabel objects>)"
      ]
     },
     "execution_count": 17,
     "metadata": {},
     "output_type": "execute_result"
    },
    {
     "data": {
      "image/png": "[encoded data removed]",
      "text/plain": [
       "<Figure size 432x288 with 2 Axes>"
      ]
     },
     "metadata": {
      "needs_background": "light"
     },
     "output_type": "display_data"
    }
   ],
   "source": [
    "import seaborn as sns\n",
    "matrix = pd.DataFrame(matrix)\n",
    "sns.heatmap(matrix, annot= True, fmt = \"d\",\n",
    "           xticklabels = category_labels,\n",
    "           yticklabels = category_labels)\n",
    "plt.xticks(rotation = 90)"
   ]
  },
  {
   "cell_type": "code",
   "execution_count": null,
   "metadata": {},
   "outputs": [],
   "source": []
  }
 ],
 "metadata": {
  "kernelspec": {
   "display_name": "tensorflow_env",
   "language": "python",
   "name": "tensorflwo_env"
  },
  "language_info": {
   "codemirror_mode": {
    "name": "ipython",
    "version": 3
   },
   "file_extension": ".py",
   "mimetype": "text/x-python",
   "name": "python",
   "nbconvert_exporter": "python",
   "pygments_lexer": "ipython3",
   "version": "3.7.2"
  },
  "varInspector": {
   "cols": {
    "lenName": 16,
    "lenType": 16,
    "lenVar": 40
   },
   "kernels_config": {
    "python": {
     "delete_cmd_postfix": "",
     "delete_cmd_prefix": "del ",
     "library": "var_list.py",
     "varRefreshCmd": "print(var_dic_list())"
    },
    "r": {
     "delete_cmd_postfix": ") ",
     "delete_cmd_prefix": "rm(",
     "library": "var_list.r",
     "varRefreshCmd": "cat(var_dic_list()) "
    }
   },
   "types_to_exclude": [
    "module",
    "function",
    "builtin_function_or_method",
    "instance",
    "_Feature"
   ],
   "window_display": false
  }
 },
 "nbformat": 4,
 "nbformat_minor": 2
}
