{
 "cells": [
  {
   "cell_type": "markdown",
   "metadata": {},
   "source": [
    "## Preprocess data\n",
    "\n",
    "First read data from directory. After reading data, convert the categorical column into numerical values that can be put into neural network.\n",
    "\n",
    "Using 'glob' package we can read data files containing specific characters. "
   ]
  },
  {
   "cell_type": "code",
   "execution_count": 1,
   "metadata": {},
   "outputs": [],
   "source": [
    "import pandas as pd"
   ]
  },
  {
   "cell_type": "code",
   "execution_count": 2,
   "metadata": {},
   "outputs": [
    {
     "data": {
      "text/html": [
       "<div>\n",
       "<style scoped>\n",
       "    .dataframe tbody tr th:only-of-type {\n",
       "        vertical-align: middle;\n",
       "    }\n",
       "\n",
       "    .dataframe tbody tr th {\n",
       "        vertical-align: top;\n",
       "    }\n",
       "\n",
       "    .dataframe thead th {\n",
       "        text-align: right;\n",
       "    }\n",
       "</style>\n",
       "<table border=\"1\" class=\"dataframe\">\n",
       "  <thead>\n",
       "    <tr style=\"text-align: right;\">\n",
       "      <th></th>\n",
       "      <th>max</th>\n",
       "      <th>min</th>\n",
       "      <th>mean</th>\n",
       "      <th>sd</th>\n",
       "      <th>rms</th>\n",
       "      <th>skewness</th>\n",
       "      <th>kurtosis</th>\n",
       "      <th>crest</th>\n",
       "      <th>form</th>\n",
       "      <th>fault_type</th>\n",
       "    </tr>\n",
       "  </thead>\n",
       "  <tbody>\n",
       "    <tr>\n",
       "      <th>0</th>\n",
       "      <td>0.21779</td>\n",
       "      <td>-0.19860</td>\n",
       "      <td>0.012421</td>\n",
       "      <td>0.074997</td>\n",
       "      <td>0.075982</td>\n",
       "      <td>-0.162737</td>\n",
       "      <td>-0.249050</td>\n",
       "      <td>2.866329</td>\n",
       "      <td>6.117247</td>\n",
       "      <td>Normal</td>\n",
       "    </tr>\n",
       "    <tr>\n",
       "      <th>1</th>\n",
       "      <td>0.21216</td>\n",
       "      <td>-0.27287</td>\n",
       "      <td>0.011589</td>\n",
       "      <td>0.069499</td>\n",
       "      <td>0.070425</td>\n",
       "      <td>-0.107232</td>\n",
       "      <td>0.178607</td>\n",
       "      <td>3.012546</td>\n",
       "      <td>6.076971</td>\n",
       "      <td>Normal</td>\n",
       "    </tr>\n",
       "    <tr>\n",
       "      <th>2</th>\n",
       "      <td>0.21237</td>\n",
       "      <td>-0.20820</td>\n",
       "      <td>0.014643</td>\n",
       "      <td>0.077034</td>\n",
       "      <td>0.078377</td>\n",
       "      <td>0.050254</td>\n",
       "      <td>-0.381294</td>\n",
       "      <td>2.709611</td>\n",
       "      <td>5.352335</td>\n",
       "      <td>Normal</td>\n",
       "    </tr>\n",
       "    <tr>\n",
       "      <th>3</th>\n",
       "      <td>0.22301</td>\n",
       "      <td>-0.22676</td>\n",
       "      <td>0.010937</td>\n",
       "      <td>0.078972</td>\n",
       "      <td>0.079688</td>\n",
       "      <td>-0.163349</td>\n",
       "      <td>-0.040365</td>\n",
       "      <td>2.798539</td>\n",
       "      <td>7.286094</td>\n",
       "      <td>Normal</td>\n",
       "    </tr>\n",
       "    <tr>\n",
       "      <th>4</th>\n",
       "      <td>0.18859</td>\n",
       "      <td>-0.18692</td>\n",
       "      <td>0.013359</td>\n",
       "      <td>0.074959</td>\n",
       "      <td>0.076104</td>\n",
       "      <td>-0.028402</td>\n",
       "      <td>-0.326834</td>\n",
       "      <td>2.478067</td>\n",
       "      <td>5.696816</td>\n",
       "      <td>Normal</td>\n",
       "    </tr>\n",
       "  </tbody>\n",
       "</table>\n",
       "</div>"
      ],
      "text/plain": [
       "       max      min      mean        sd       rms  skewness  kurtosis  \\\n",
       "0  0.21779 -0.19860  0.012421  0.074997  0.075982 -0.162737 -0.249050   \n",
       "1  0.21216 -0.27287  0.011589  0.069499  0.070425 -0.107232  0.178607   \n",
       "2  0.21237 -0.20820  0.014643  0.077034  0.078377  0.050254 -0.381294   \n",
       "3  0.22301 -0.22676  0.010937  0.078972  0.079688 -0.163349 -0.040365   \n",
       "4  0.18859 -0.18692  0.013359  0.074959  0.076104 -0.028402 -0.326834   \n",
       "\n",
       "      crest      form fault_type  \n",
       "0  2.866329  6.117247     Normal  \n",
       "1  3.012546  6.076971     Normal  \n",
       "2  2.709611  5.352335     Normal  \n",
       "3  2.798539  7.286094     Normal  \n",
       "4  2.478067  5.696816     Normal  "
      ]
     },
     "execution_count": 2,
     "metadata": {},
     "output_type": "execute_result"
    }
   ],
   "source": [
    "path = \"D:/rfiles/feature_matrix/feature_matrix_time_1024_ball.csv\"\n",
    "df = pd.read_csv(path)\n",
    "df.head()"
   ]
  },
  {
   "cell_type": "markdown",
   "metadata": {},
   "source": [
    "Now we will read the first files and use it in further analysis. "
   ]
  },
  {
   "cell_type": "code",
   "execution_count": 3,
   "metadata": {},
   "outputs": [
    {
     "data": {
      "text/plain": [
       "Normal        1657\n",
       "0.021 inch     475\n",
       "0.014 inch     475\n",
       "0.007 inch     473\n",
       "0.028 inch     471\n",
       "Name: fault_type, dtype: int64"
      ]
     },
     "execution_count": 3,
     "metadata": {},
     "output_type": "execute_result"
    }
   ],
   "source": [
    "df[\"fault_type\"].value_counts()"
   ]
  },
  {
   "cell_type": "markdown",
   "metadata": {},
   "source": [
    "Now we will split the total data into training and test set. The dataset is unbalanced (it has more normal data as compared to other faulty data types). So first we create a balanced dataset and then form a training and test set."
   ]
  },
  {
   "cell_type": "code",
   "execution_count": 4,
   "metadata": {},
   "outputs": [],
   "source": [
    "import numpy as np\n",
    "from numpy.random import choice \n",
    "np.random.seed(1)\n",
    "index = np.array([choice(np.arange(0,1657),450,replace = False),\n",
    "                choice(np.arange(1657,2130),450,replace = False),\n",
    "                choice(np.arange(2130,2605),450,replace = False),\n",
    "                choice(np.arange(2605,3080),450,replace = False),\n",
    "                choice(np.arange(3080,3551),450,replace = False)])\n",
    "index = index.ravel()\n",
    "data = df.iloc[index,]\n",
    "data = data.reset_index(drop = True)\n",
    "test_index = np.array([choice(np.arange(0,450),150, replace = False),\n",
    "                     choice(np.arange(450,2*450),150, replace = False),\n",
    "                     choice(np.arange(2*450,3*450),150, replace = False),\n",
    "                     choice(np.arange(3*450,4*450),150, replace = False),\n",
    "                     choice(np.arange(4*450,5*450),150, replace = False)])\n",
    "test_index = test_index.ravel()\n",
    "test_data = data.iloc[test_index,]\n",
    "train_data = data.drop(data.index[test_index])\n",
    "\n",
    "# Shuffle data\n",
    "train_data = train_data.sample(frac = 1, random_state = 2)\n",
    "test_data = test_data.sample(frac = 1, random_state = 3)\n",
    "\n",
    "# Convert categorical lables to numberic entries\n",
    "\n",
    "category_labels = ['Normal', '0.007 inch', '0.014 inch','0.021 inch', '0.028 inch']\n",
    "# test_labels = test_data['fault_type']\n",
    "test_labels = pd.Categorical(test_data['fault_type'],categories= category_labels).codes # Produces ndarrays\n",
    "# train_labels = train_data['fault_type']\n",
    "train_labels = pd.Categorical(train_data['fault_type'], categories = category_labels).codes"
   ]
  },
  {
   "cell_type": "code",
   "execution_count": 5,
   "metadata": {},
   "outputs": [
    {
     "name": "stdout",
     "output_type": "stream",
     "text": [
      "(2250, 10) (750, 10) (1500, 10) (750,) (1500,)\n"
     ]
    }
   ],
   "source": [
    "print(data.shape,test_data.shape,train_data.shape,test_labels.shape,train_labels.shape)"
   ]
  },
  {
   "cell_type": "code",
   "execution_count": 6,
   "metadata": {},
   "outputs": [],
   "source": [
    "import tensorflow as tf\n",
    "from tensorflow import keras\n",
    "from tensorflow.keras.models import Sequential\n",
    "from tensorflow.keras import layers\n",
    "from tensorflow.keras.utils import to_categorical\n",
    "from tensorflow.keras.callbacks import EarlyStopping, ModelCheckpoint\n",
    "import sklearn\n",
    "from sklearn import preprocessing"
   ]
  },
  {
   "cell_type": "code",
   "execution_count": 7,
   "metadata": {},
   "outputs": [],
   "source": [
    "# Convert labels to categorical data\n",
    "train_data = train_data.iloc[:,0:9]\n",
    "test_data = test_data.iloc[:,0:9]\n",
    "# Scale the data\n",
    "train_data = preprocessing.scale(train_data)\n",
    "test_data = preprocessing.scale(test_data)\n",
    "train_labels = to_categorical(train_labels)\n",
    "test_labels = to_categorical(test_labels)"
   ]
  },
  {
   "cell_type": "code",
   "execution_count": 8,
   "metadata": {},
   "outputs": [
    {
     "name": "stdout",
     "output_type": "stream",
     "text": [
      "(1500, 9) (750, 9) (1500, 5) (750, 5)\n"
     ]
    }
   ],
   "source": [
    "print(train_data.shape, test_data.shape, train_labels.shape, test_labels.shape)"
   ]
  },
  {
   "cell_type": "code",
   "execution_count": 73,
   "metadata": {},
   "outputs": [
    {
     "name": "stdout",
     "output_type": "stream",
     "text": [
      "Model: \"sequential_7\"\n",
      "_________________________________________________________________\n",
      "Layer (type)                 Output Shape              Param #   \n",
      "=================================================================\n",
      "dense_17 (Dense)             (None, 16)                160       \n",
      "_________________________________________________________________\n",
      "dropout (Dropout)            (None, 16)                0         \n",
      "_________________________________________________________________\n",
      "dense_18 (Dense)             (None, 5)                 85        \n",
      "=================================================================\n",
      "Total params: 245\n",
      "Trainable params: 245\n",
      "Non-trainable params: 0\n",
      "_________________________________________________________________\n"
     ]
    }
   ],
   "source": [
    "model = Sequential([\n",
    "    layers.Dense(16,activation = 'relu', input_dim = 9),\n",
    "#     layers.Dense(5,activation = 'relu'),\n",
    "#     layers.Dense(5,activation = 'relu'),\n",
    "    layers.Dropout(0.2),\n",
    "    layers.Dense(5,activation = 'softmax')\n",
    "])\n",
    "model.summary()"
   ]
  },
  {
   "cell_type": "code",
   "execution_count": 74,
   "metadata": {},
   "outputs": [],
   "source": [
    "model.compile(optimizer = 'adam',loss = 'categorical_crossentropy', metrics = ['accuracy'])"
   ]
  },
  {
   "cell_type": "code",
   "execution_count": 75,
   "metadata": {},
   "outputs": [],
   "source": [
    "callbacks = [EarlyStopping(monitor = 'val_loss', mode = 'min', verbose = 1, patience = 5)]"
   ]
  },
  {
   "cell_type": "code",
   "execution_count": 76,
   "metadata": {},
   "outputs": [
    {
     "name": "stdout",
     "output_type": "stream",
     "text": [
      "Train on 1200 samples, validate on 300 samples\n",
      "Epoch 1/100\n",
      "1200/1200 - 0s - loss: 1.5123 - accuracy: 0.2225 - val_loss: 1.3124 - val_accuracy: 0.3367\n",
      "Epoch 2/100\n",
      "1200/1200 - 0s - loss: 1.2875 - accuracy: 0.4025 - val_loss: 1.1261 - val_accuracy: 0.5667\n",
      "Epoch 3/100\n",
      "1200/1200 - 0s - loss: 1.1366 - accuracy: 0.5600 - val_loss: 1.0064 - val_accuracy: 0.6900\n",
      "Epoch 4/100\n",
      "1200/1200 - 0s - loss: 1.0509 - accuracy: 0.5992 - val_loss: 0.9246 - val_accuracy: 0.7033\n",
      "Epoch 5/100\n",
      "1200/1200 - 0s - loss: 0.9739 - accuracy: 0.6358 - val_loss: 0.8663 - val_accuracy: 0.7067\n",
      "Epoch 6/100\n",
      "1200/1200 - 0s - loss: 0.9436 - accuracy: 0.6400 - val_loss: 0.8177 - val_accuracy: 0.7100\n",
      "Epoch 7/100\n",
      "1200/1200 - 0s - loss: 0.9064 - accuracy: 0.6492 - val_loss: 0.7791 - val_accuracy: 0.7200\n",
      "Epoch 8/100\n",
      "1200/1200 - 0s - loss: 0.8505 - accuracy: 0.6717 - val_loss: 0.7461 - val_accuracy: 0.7167\n",
      "Epoch 9/100\n",
      "1200/1200 - 0s - loss: 0.8247 - accuracy: 0.6717 - val_loss: 0.7167 - val_accuracy: 0.7300\n",
      "Epoch 10/100\n",
      "1200/1200 - 0s - loss: 0.8058 - accuracy: 0.6867 - val_loss: 0.6898 - val_accuracy: 0.7433\n",
      "Epoch 11/100\n",
      "1200/1200 - 0s - loss: 0.7855 - accuracy: 0.6742 - val_loss: 0.6706 - val_accuracy: 0.7333\n",
      "Epoch 12/100\n",
      "1200/1200 - 0s - loss: 0.7857 - accuracy: 0.6750 - val_loss: 0.6526 - val_accuracy: 0.7500\n",
      "Epoch 13/100\n",
      "1200/1200 - 0s - loss: 0.7468 - accuracy: 0.7150 - val_loss: 0.6379 - val_accuracy: 0.7433\n",
      "Epoch 14/100\n",
      "1200/1200 - 0s - loss: 0.7264 - accuracy: 0.7050 - val_loss: 0.6222 - val_accuracy: 0.7533\n",
      "Epoch 15/100\n",
      "1200/1200 - 0s - loss: 0.7253 - accuracy: 0.6908 - val_loss: 0.6115 - val_accuracy: 0.7567\n",
      "Epoch 16/100\n",
      "1200/1200 - 0s - loss: 0.7012 - accuracy: 0.7067 - val_loss: 0.6019 - val_accuracy: 0.7600\n",
      "Epoch 17/100\n",
      "1200/1200 - 0s - loss: 0.7121 - accuracy: 0.7017 - val_loss: 0.5909 - val_accuracy: 0.7667\n",
      "Epoch 18/100\n",
      "1200/1200 - 0s - loss: 0.6907 - accuracy: 0.7125 - val_loss: 0.5828 - val_accuracy: 0.7733\n",
      "Epoch 19/100\n",
      "1200/1200 - 0s - loss: 0.6729 - accuracy: 0.7158 - val_loss: 0.5755 - val_accuracy: 0.7667\n",
      "Epoch 20/100\n",
      "1200/1200 - 0s - loss: 0.6757 - accuracy: 0.7150 - val_loss: 0.5679 - val_accuracy: 0.7667\n",
      "Epoch 21/100\n",
      "1200/1200 - 0s - loss: 0.6652 - accuracy: 0.7333 - val_loss: 0.5605 - val_accuracy: 0.7767\n",
      "Epoch 22/100\n",
      "1200/1200 - 0s - loss: 0.6734 - accuracy: 0.7308 - val_loss: 0.5537 - val_accuracy: 0.7767\n",
      "Epoch 23/100\n",
      "1200/1200 - 0s - loss: 0.6528 - accuracy: 0.7208 - val_loss: 0.5488 - val_accuracy: 0.7733\n",
      "Epoch 24/100\n",
      "1200/1200 - 0s - loss: 0.6521 - accuracy: 0.7150 - val_loss: 0.5432 - val_accuracy: 0.7733\n",
      "Epoch 25/100\n",
      "1200/1200 - 0s - loss: 0.6422 - accuracy: 0.7308 - val_loss: 0.5375 - val_accuracy: 0.7767\n",
      "Epoch 26/100\n",
      "1200/1200 - 0s - loss: 0.6341 - accuracy: 0.7325 - val_loss: 0.5326 - val_accuracy: 0.7667\n",
      "Epoch 27/100\n",
      "1200/1200 - 0s - loss: 0.6347 - accuracy: 0.7350 - val_loss: 0.5287 - val_accuracy: 0.7767\n",
      "Epoch 28/100\n",
      "1200/1200 - 0s - loss: 0.6086 - accuracy: 0.7433 - val_loss: 0.5227 - val_accuracy: 0.7767\n",
      "Epoch 29/100\n",
      "1200/1200 - 0s - loss: 0.6184 - accuracy: 0.7450 - val_loss: 0.5180 - val_accuracy: 0.7700\n",
      "Epoch 30/100\n",
      "1200/1200 - 0s - loss: 0.6171 - accuracy: 0.7342 - val_loss: 0.5126 - val_accuracy: 0.7733\n",
      "Epoch 31/100\n",
      "1200/1200 - 0s - loss: 0.6029 - accuracy: 0.7575 - val_loss: 0.5078 - val_accuracy: 0.7733\n",
      "Epoch 32/100\n",
      "1200/1200 - 0s - loss: 0.5972 - accuracy: 0.7458 - val_loss: 0.5042 - val_accuracy: 0.7633\n",
      "Epoch 33/100\n",
      "1200/1200 - 0s - loss: 0.6049 - accuracy: 0.7625 - val_loss: 0.4989 - val_accuracy: 0.7767\n",
      "Epoch 34/100\n",
      "1200/1200 - 0s - loss: 0.5878 - accuracy: 0.7533 - val_loss: 0.4953 - val_accuracy: 0.7767\n",
      "Epoch 35/100\n",
      "1200/1200 - 0s - loss: 0.5963 - accuracy: 0.7475 - val_loss: 0.4915 - val_accuracy: 0.7733\n",
      "Epoch 36/100\n",
      "1200/1200 - 0s - loss: 0.5912 - accuracy: 0.7458 - val_loss: 0.4869 - val_accuracy: 0.7800\n",
      "Epoch 37/100\n",
      "1200/1200 - 0s - loss: 0.5769 - accuracy: 0.7725 - val_loss: 0.4845 - val_accuracy: 0.7800\n",
      "Epoch 38/100\n",
      "1200/1200 - 0s - loss: 0.5691 - accuracy: 0.7508 - val_loss: 0.4803 - val_accuracy: 0.7800\n",
      "Epoch 39/100\n",
      "1200/1200 - 0s - loss: 0.5711 - accuracy: 0.7533 - val_loss: 0.4769 - val_accuracy: 0.7733\n",
      "Epoch 40/100\n",
      "1200/1200 - 0s - loss: 0.5776 - accuracy: 0.7525 - val_loss: 0.4735 - val_accuracy: 0.7800\n",
      "Epoch 41/100\n",
      "1200/1200 - 0s - loss: 0.5673 - accuracy: 0.7550 - val_loss: 0.4720 - val_accuracy: 0.7733\n",
      "Epoch 42/100\n",
      "1200/1200 - 0s - loss: 0.5721 - accuracy: 0.7533 - val_loss: 0.4693 - val_accuracy: 0.7700\n",
      "Epoch 43/100\n",
      "1200/1200 - 0s - loss: 0.5377 - accuracy: 0.7783 - val_loss: 0.4639 - val_accuracy: 0.7767\n",
      "Epoch 44/100\n",
      "1200/1200 - 0s - loss: 0.5423 - accuracy: 0.7708 - val_loss: 0.4607 - val_accuracy: 0.7833\n",
      "Epoch 45/100\n",
      "1200/1200 - 0s - loss: 0.5648 - accuracy: 0.7575 - val_loss: 0.4595 - val_accuracy: 0.7800\n",
      "Epoch 46/100\n",
      "1200/1200 - 0s - loss: 0.5627 - accuracy: 0.7692 - val_loss: 0.4569 - val_accuracy: 0.7800\n",
      "Epoch 47/100\n",
      "1200/1200 - 0s - loss: 0.5435 - accuracy: 0.7700 - val_loss: 0.4555 - val_accuracy: 0.7800\n",
      "Epoch 48/100\n",
      "1200/1200 - 0s - loss: 0.5433 - accuracy: 0.7708 - val_loss: 0.4515 - val_accuracy: 0.7900\n",
      "Epoch 49/100\n",
      "1200/1200 - 0s - loss: 0.5342 - accuracy: 0.7758 - val_loss: 0.4485 - val_accuracy: 0.7867\n",
      "Epoch 50/100\n",
      "1200/1200 - 0s - loss: 0.5489 - accuracy: 0.7717 - val_loss: 0.4462 - val_accuracy: 0.7867\n",
      "Epoch 51/100\n",
      "1200/1200 - 0s - loss: 0.5505 - accuracy: 0.7700 - val_loss: 0.4436 - val_accuracy: 0.7933\n",
      "Epoch 52/100\n",
      "1200/1200 - 0s - loss: 0.5299 - accuracy: 0.7750 - val_loss: 0.4400 - val_accuracy: 0.7933\n",
      "Epoch 53/100\n",
      "1200/1200 - 0s - loss: 0.5139 - accuracy: 0.7900 - val_loss: 0.4390 - val_accuracy: 0.7933\n",
      "Epoch 54/100\n",
      "1200/1200 - 0s - loss: 0.5290 - accuracy: 0.7692 - val_loss: 0.4363 - val_accuracy: 0.7967\n",
      "Epoch 55/100\n",
      "1200/1200 - 0s - loss: 0.5300 - accuracy: 0.7842 - val_loss: 0.4338 - val_accuracy: 0.8033\n",
      "Epoch 56/100\n",
      "1200/1200 - 0s - loss: 0.5247 - accuracy: 0.7675 - val_loss: 0.4327 - val_accuracy: 0.7967\n",
      "Epoch 57/100\n",
      "1200/1200 - 0s - loss: 0.5174 - accuracy: 0.7900 - val_loss: 0.4301 - val_accuracy: 0.8033\n",
      "Epoch 58/100\n",
      "1200/1200 - 0s - loss: 0.5144 - accuracy: 0.7767 - val_loss: 0.4294 - val_accuracy: 0.7933\n",
      "Epoch 59/100\n",
      "1200/1200 - 0s - loss: 0.5064 - accuracy: 0.7858 - val_loss: 0.4260 - val_accuracy: 0.8033\n",
      "Epoch 60/100\n",
      "1200/1200 - 0s - loss: 0.5125 - accuracy: 0.7933 - val_loss: 0.4247 - val_accuracy: 0.7967\n",
      "Epoch 61/100\n",
      "1200/1200 - 0s - loss: 0.5195 - accuracy: 0.7800 - val_loss: 0.4232 - val_accuracy: 0.7967\n",
      "Epoch 62/100\n",
      "1200/1200 - 0s - loss: 0.4996 - accuracy: 0.7892 - val_loss: 0.4219 - val_accuracy: 0.7967\n",
      "Epoch 63/100\n",
      "1200/1200 - 0s - loss: 0.5012 - accuracy: 0.7867 - val_loss: 0.4180 - val_accuracy: 0.8100\n",
      "Epoch 64/100\n",
      "1200/1200 - 0s - loss: 0.4905 - accuracy: 0.7875 - val_loss: 0.4172 - val_accuracy: 0.8033\n",
      "Epoch 65/100\n",
      "1200/1200 - 0s - loss: 0.5064 - accuracy: 0.7883 - val_loss: 0.4167 - val_accuracy: 0.8033\n",
      "Epoch 66/100\n",
      "1200/1200 - 0s - loss: 0.5015 - accuracy: 0.7883 - val_loss: 0.4140 - val_accuracy: 0.8000\n",
      "Epoch 67/100\n",
      "1200/1200 - 0s - loss: 0.4836 - accuracy: 0.7967 - val_loss: 0.4136 - val_accuracy: 0.8067\n",
      "Epoch 68/100\n",
      "1200/1200 - 0s - loss: 0.4917 - accuracy: 0.7967 - val_loss: 0.4106 - val_accuracy: 0.8100\n",
      "Epoch 69/100\n",
      "1200/1200 - 0s - loss: 0.4954 - accuracy: 0.7908 - val_loss: 0.4088 - val_accuracy: 0.8033\n",
      "Epoch 70/100\n",
      "1200/1200 - 0s - loss: 0.4857 - accuracy: 0.8017 - val_loss: 0.4069 - val_accuracy: 0.8067\n",
      "Epoch 71/100\n",
      "1200/1200 - 0s - loss: 0.4891 - accuracy: 0.7925 - val_loss: 0.4041 - val_accuracy: 0.8067\n",
      "Epoch 72/100\n",
      "1200/1200 - 0s - loss: 0.5004 - accuracy: 0.7917 - val_loss: 0.4035 - val_accuracy: 0.8033\n",
      "Epoch 73/100\n",
      "1200/1200 - 0s - loss: 0.4861 - accuracy: 0.7925 - val_loss: 0.4024 - val_accuracy: 0.8000\n",
      "Epoch 74/100\n",
      "1200/1200 - 0s - loss: 0.4839 - accuracy: 0.7858 - val_loss: 0.4000 - val_accuracy: 0.8100\n",
      "Epoch 75/100\n",
      "1200/1200 - 0s - loss: 0.4870 - accuracy: 0.7933 - val_loss: 0.3989 - val_accuracy: 0.8133\n",
      "Epoch 76/100\n",
      "1200/1200 - 0s - loss: 0.4768 - accuracy: 0.8208 - val_loss: 0.3987 - val_accuracy: 0.8167\n",
      "Epoch 77/100\n",
      "1200/1200 - 0s - loss: 0.4829 - accuracy: 0.7958 - val_loss: 0.3965 - val_accuracy: 0.8133\n",
      "Epoch 78/100\n",
      "1200/1200 - 0s - loss: 0.4742 - accuracy: 0.7917 - val_loss: 0.3961 - val_accuracy: 0.8133\n",
      "Epoch 79/100\n",
      "1200/1200 - 0s - loss: 0.4862 - accuracy: 0.7917 - val_loss: 0.3945 - val_accuracy: 0.8133\n"
     ]
    },
    {
     "name": "stdout",
     "output_type": "stream",
     "text": [
      "Epoch 80/100\n",
      "1200/1200 - 0s - loss: 0.4623 - accuracy: 0.8100 - val_loss: 0.3915 - val_accuracy: 0.8100\n",
      "Epoch 81/100\n",
      "1200/1200 - 0s - loss: 0.4806 - accuracy: 0.7975 - val_loss: 0.3904 - val_accuracy: 0.8233\n",
      "Epoch 82/100\n",
      "1200/1200 - 0s - loss: 0.4754 - accuracy: 0.8025 - val_loss: 0.3914 - val_accuracy: 0.8200\n",
      "Epoch 83/100\n",
      "1200/1200 - 0s - loss: 0.4801 - accuracy: 0.8008 - val_loss: 0.3893 - val_accuracy: 0.8100\n",
      "Epoch 84/100\n",
      "1200/1200 - 0s - loss: 0.4642 - accuracy: 0.8117 - val_loss: 0.3872 - val_accuracy: 0.8167\n",
      "Epoch 85/100\n",
      "1200/1200 - 0s - loss: 0.4647 - accuracy: 0.8025 - val_loss: 0.3885 - val_accuracy: 0.8200\n",
      "Epoch 86/100\n",
      "1200/1200 - 0s - loss: 0.4604 - accuracy: 0.8008 - val_loss: 0.3842 - val_accuracy: 0.8267\n",
      "Epoch 87/100\n",
      "1200/1200 - 0s - loss: 0.4630 - accuracy: 0.8042 - val_loss: 0.3851 - val_accuracy: 0.8133\n",
      "Epoch 88/100\n",
      "1200/1200 - 0s - loss: 0.4736 - accuracy: 0.8083 - val_loss: 0.3835 - val_accuracy: 0.8267\n",
      "Epoch 89/100\n",
      "1200/1200 - 0s - loss: 0.4668 - accuracy: 0.8042 - val_loss: 0.3811 - val_accuracy: 0.8133\n",
      "Epoch 90/100\n",
      "1200/1200 - 0s - loss: 0.4716 - accuracy: 0.7992 - val_loss: 0.3781 - val_accuracy: 0.8200\n",
      "Epoch 91/100\n",
      "1200/1200 - 0s - loss: 0.4603 - accuracy: 0.8150 - val_loss: 0.3794 - val_accuracy: 0.8167\n",
      "Epoch 92/100\n",
      "1200/1200 - 0s - loss: 0.4616 - accuracy: 0.8158 - val_loss: 0.3771 - val_accuracy: 0.8267\n",
      "Epoch 93/100\n",
      "1200/1200 - 0s - loss: 0.4440 - accuracy: 0.8192 - val_loss: 0.3773 - val_accuracy: 0.8233\n",
      "Epoch 94/100\n",
      "1200/1200 - 0s - loss: 0.4498 - accuracy: 0.8125 - val_loss: 0.3771 - val_accuracy: 0.8200\n",
      "Epoch 95/100\n",
      "1200/1200 - 0s - loss: 0.4504 - accuracy: 0.8133 - val_loss: 0.3761 - val_accuracy: 0.8200\n",
      "Epoch 96/100\n",
      "1200/1200 - 0s - loss: 0.4499 - accuracy: 0.8058 - val_loss: 0.3732 - val_accuracy: 0.8200\n",
      "Epoch 97/100\n",
      "1200/1200 - 0s - loss: 0.4669 - accuracy: 0.8033 - val_loss: 0.3726 - val_accuracy: 0.8233\n",
      "Epoch 98/100\n",
      "1200/1200 - 0s - loss: 0.4441 - accuracy: 0.8050 - val_loss: 0.3720 - val_accuracy: 0.8300\n",
      "Epoch 99/100\n",
      "1200/1200 - 0s - loss: 0.4453 - accuracy: 0.8125 - val_loss: 0.3714 - val_accuracy: 0.8267\n",
      "Epoch 100/100\n",
      "1200/1200 - 0s - loss: 0.4387 - accuracy: 0.8300 - val_loss: 0.3707 - val_accuracy: 0.8200\n"
     ]
    }
   ],
   "source": [
    "history = model.fit(train_data,train_labels,epochs = 100, validation_split = 0.2, verbose = 2,callbacks = callbacks)"
   ]
  },
  {
   "cell_type": "code",
   "execution_count": 77,
   "metadata": {},
   "outputs": [
    {
     "data": {
      "image/png": "[encoded data removed]",
      "text/plain": [
       "<Figure size 432x288 with 1 Axes>"
      ]
     },
     "metadata": {
      "needs_background": "light"
     },
     "output_type": "display_data"
    },
    {
     "data": {
      "image/png": "[encoded data removed]",
      "text/plain": [
       "<Figure size 432x288 with 1 Axes>"
      ]
     },
     "metadata": {
      "needs_background": "light"
     },
     "output_type": "display_data"
    }
   ],
   "source": [
    "import matplotlib.pyplot as plt\n",
    "train_loss = history.history['loss']\n",
    "val_loss = history.history['val_loss']\n",
    "train_acc = history.history['accuracy']\n",
    "val_acc = history.history['val_accuracy']\n",
    "epochs = np.arange(1,len(train_loss)+1)\n",
    "plt.figure()\n",
    "plt.plot(epochs, train_loss, label = \"Training Loss\")\n",
    "plt.plot(epochs, val_loss, label = \"Validation Loss\")\n",
    "plt.legend()\n",
    "plt.title(\"Comparision of Loss\")\n",
    "plt.show()\n",
    "plt.figure()\n",
    "plt.plot(epochs, train_acc, label = \"Training Accuracy\")\n",
    "plt.plot(epochs, val_acc, label = \"Validation Accuracy\")\n",
    "plt.title(\"Comparison of Accuracy\")\n",
    "plt.legend()\n",
    "plt.show()"
   ]
  },
  {
   "cell_type": "code",
   "execution_count": 78,
   "metadata": {},
   "outputs": [
    {
     "name": "stdout",
     "output_type": "stream",
     "text": [
      "750/750 [==============================] - 0s 35us/sample - loss: 0.3815 - accuracy: 0.8520\n"
     ]
    }
   ],
   "source": [
    "test_loss,test_acc = model.evaluate(test_data, test_labels)"
   ]
  },
  {
   "cell_type": "code",
   "execution_count": 79,
   "metadata": {},
   "outputs": [
    {
     "name": "stdout",
     "output_type": "stream",
     "text": [
      "0.852\n"
     ]
    }
   ],
   "source": [
    "print(test_acc)"
   ]
  },
  {
   "cell_type": "code",
   "execution_count": 80,
   "metadata": {},
   "outputs": [],
   "source": [
    "prediction = model.predict(test_data)\n",
    "prediction_labels = list([])\n",
    "for each_prediction in prediction:\n",
    "    prediction_labels.append(list(each_prediction).index(max(each_prediction)))\n",
    "    "
   ]
  },
  {
   "cell_type": "code",
   "execution_count": 81,
   "metadata": {},
   "outputs": [],
   "source": [
    "from sklearn.metrics import confusion_matrix\n",
    "true_labels = np.argmax(test_labels, axis = 1)\n",
    "matrix = confusion_matrix(true_labels, prediction_labels)"
   ]
  },
  {
   "cell_type": "code",
   "execution_count": 82,
   "metadata": {},
   "outputs": [
    {
     "data": {
      "text/plain": [
       "(array([0.5, 1.5, 2.5, 3.5, 4.5]), <a list of 5 Text xticklabel objects>)"
      ]
     },
     "execution_count": 82,
     "metadata": {},
     "output_type": "execute_result"
    },
    {
     "data": {
      "image/png": "[encoded data removed]",
      "text/plain": [
       "<Figure size 432x288 with 2 Axes>"
      ]
     },
     "metadata": {
      "needs_background": "light"
     },
     "output_type": "display_data"
    }
   ],
   "source": [
    "import seaborn as sns\n",
    "matrix = pd.DataFrame(matrix)\n",
    "sns.heatmap(matrix, annot= True, fmt = \"d\",\n",
    "           xticklabels = category_labels,\n",
    "           yticklabels = category_labels)\n",
    "plt.xticks(rotation = 90)"
   ]
  },
  {
   "cell_type": "code",
   "execution_count": null,
   "metadata": {},
   "outputs": [],
   "source": []
  }
 ],
 "metadata": {
  "kernelspec": {
   "display_name": "tensorflow_env",
   "language": "python",
   "name": "tensorflwo_env"
  },
  "language_info": {
   "codemirror_mode": {
    "name": "ipython",
    "version": 3
   },
   "file_extension": ".py",
   "mimetype": "text/x-python",
   "name": "python",
   "nbconvert_exporter": "python",
   "pygments_lexer": "ipython3",
   "version": "3.7.2"
  },
  "varInspector": {
   "cols": {
    "lenName": 16,
    "lenType": 16,
    "lenVar": 40
   },
   "kernels_config": {
    "python": {
     "delete_cmd_postfix": "",
     "delete_cmd_prefix": "del ",
     "library": "var_list.py",
     "varRefreshCmd": "print(var_dic_list())"
    },
    "r": {
     "delete_cmd_postfix": ") ",
     "delete_cmd_prefix": "rm(",
     "library": "var_list.r",
     "varRefreshCmd": "cat(var_dic_list()) "
    }
   },
   "position": {
    "height": "144px",
    "left": "580px",
    "right": "20px",
    "top": "136px",
    "width": "350px"
   },
   "types_to_exclude": [
    "module",
    "function",
    "builtin_function_or_method",
    "instance",
    "_Feature"
   ],
   "window_display": false
  }
 },
 "nbformat": 4,
 "nbformat_minor": 2
}
