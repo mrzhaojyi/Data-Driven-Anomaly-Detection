{
 "cells": [
  {
   "cell_type": "markdown",
   "metadata": {},
   "source": [
    "## Preprocess data\n",
    "\n",
    "First read data from directory. After reading data, convert the categorical column into numerical values that can be put into neural network.\n",
    "\n",
    "Using 'glob' package we can read data files containing specific characters. "
   ]
  },
  {
   "cell_type": "code",
   "execution_count": 2,
   "metadata": {},
   "outputs": [],
   "source": [
    "import pandas as pd"
   ]
  },
  {
   "cell_type": "code",
   "execution_count": 3,
   "metadata": {},
   "outputs": [
    {
     "data": {
      "text/html": [
       "<div>\n",
       "<style scoped>\n",
       "    .dataframe tbody tr th:only-of-type {\n",
       "        vertical-align: middle;\n",
       "    }\n",
       "\n",
       "    .dataframe tbody tr th {\n",
       "        vertical-align: top;\n",
       "    }\n",
       "\n",
       "    .dataframe thead th {\n",
       "        text-align: right;\n",
       "    }\n",
       "</style>\n",
       "<table border=\"1\" class=\"dataframe\">\n",
       "  <thead>\n",
       "    <tr style=\"text-align: right;\">\n",
       "      <th></th>\n",
       "      <th>max</th>\n",
       "      <th>min</th>\n",
       "      <th>mean</th>\n",
       "      <th>sd</th>\n",
       "      <th>rms</th>\n",
       "      <th>skewness</th>\n",
       "      <th>kurtosis</th>\n",
       "      <th>crest</th>\n",
       "      <th>form</th>\n",
       "      <th>fault_type</th>\n",
       "    </tr>\n",
       "  </thead>\n",
       "  <tbody>\n",
       "    <tr>\n",
       "      <th>0</th>\n",
       "      <td>0.21779</td>\n",
       "      <td>-0.19860</td>\n",
       "      <td>0.012421</td>\n",
       "      <td>0.074997</td>\n",
       "      <td>0.075982</td>\n",
       "      <td>-0.162737</td>\n",
       "      <td>-0.249050</td>\n",
       "      <td>2.866329</td>\n",
       "      <td>6.117247</td>\n",
       "      <td>Normal</td>\n",
       "    </tr>\n",
       "    <tr>\n",
       "      <th>1</th>\n",
       "      <td>0.21216</td>\n",
       "      <td>-0.27287</td>\n",
       "      <td>0.011589</td>\n",
       "      <td>0.069499</td>\n",
       "      <td>0.070425</td>\n",
       "      <td>-0.107232</td>\n",
       "      <td>0.178607</td>\n",
       "      <td>3.012546</td>\n",
       "      <td>6.076971</td>\n",
       "      <td>Normal</td>\n",
       "    </tr>\n",
       "    <tr>\n",
       "      <th>2</th>\n",
       "      <td>0.21237</td>\n",
       "      <td>-0.20820</td>\n",
       "      <td>0.014643</td>\n",
       "      <td>0.077034</td>\n",
       "      <td>0.078377</td>\n",
       "      <td>0.050254</td>\n",
       "      <td>-0.381294</td>\n",
       "      <td>2.709611</td>\n",
       "      <td>5.352335</td>\n",
       "      <td>Normal</td>\n",
       "    </tr>\n",
       "    <tr>\n",
       "      <th>3</th>\n",
       "      <td>0.22301</td>\n",
       "      <td>-0.22676</td>\n",
       "      <td>0.010937</td>\n",
       "      <td>0.078972</td>\n",
       "      <td>0.079688</td>\n",
       "      <td>-0.163349</td>\n",
       "      <td>-0.040365</td>\n",
       "      <td>2.798539</td>\n",
       "      <td>7.286094</td>\n",
       "      <td>Normal</td>\n",
       "    </tr>\n",
       "    <tr>\n",
       "      <th>4</th>\n",
       "      <td>0.18859</td>\n",
       "      <td>-0.18692</td>\n",
       "      <td>0.013359</td>\n",
       "      <td>0.074959</td>\n",
       "      <td>0.076104</td>\n",
       "      <td>-0.028402</td>\n",
       "      <td>-0.326834</td>\n",
       "      <td>2.478067</td>\n",
       "      <td>5.696816</td>\n",
       "      <td>Normal</td>\n",
       "    </tr>\n",
       "  </tbody>\n",
       "</table>\n",
       "</div>"
      ],
      "text/plain": [
       "       max      min      mean        sd       rms  skewness  kurtosis  \\\n",
       "0  0.21779 -0.19860  0.012421  0.074997  0.075982 -0.162737 -0.249050   \n",
       "1  0.21216 -0.27287  0.011589  0.069499  0.070425 -0.107232  0.178607   \n",
       "2  0.21237 -0.20820  0.014643  0.077034  0.078377  0.050254 -0.381294   \n",
       "3  0.22301 -0.22676  0.010937  0.078972  0.079688 -0.163349 -0.040365   \n",
       "4  0.18859 -0.18692  0.013359  0.074959  0.076104 -0.028402 -0.326834   \n",
       "\n",
       "      crest      form fault_type  \n",
       "0  2.866329  6.117247     Normal  \n",
       "1  3.012546  6.076971     Normal  \n",
       "2  2.709611  5.352335     Normal  \n",
       "3  2.798539  7.286094     Normal  \n",
       "4  2.478067  5.696816     Normal  "
      ]
     },
     "execution_count": 3,
     "metadata": {},
     "output_type": "execute_result"
    }
   ],
   "source": [
    "path = \"D:/rfiles/feature_matrix/feature_matrix_time_1024_inner.csv\"\n",
    "df = pd.read_csv(path)\n",
    "df.head()"
   ]
  },
  {
   "cell_type": "markdown",
   "metadata": {},
   "source": [
    "Now we will read the first files and use it in further analysis. "
   ]
  },
  {
   "cell_type": "code",
   "execution_count": 4,
   "metadata": {},
   "outputs": [
    {
     "data": {
      "text/plain": [
       "Normal        1657\n",
       "0.007 inch     476\n",
       "0.021 inch     474\n",
       "0.014 inch     472\n",
       "0.028 inch     471\n",
       "Name: fault_type, dtype: int64"
      ]
     },
     "execution_count": 4,
     "metadata": {},
     "output_type": "execute_result"
    }
   ],
   "source": [
    "df[\"fault_type\"].value_counts()"
   ]
  },
  {
   "cell_type": "markdown",
   "metadata": {},
   "source": [
    "Now we will split the total data into training and test set. The dataset is unbalanced (it has more normal data as compared to other faulty data types). So first we create a balanced dataset and then form a training and test set."
   ]
  },
  {
   "cell_type": "code",
   "execution_count": 5,
   "metadata": {},
   "outputs": [],
   "source": [
    "import numpy as np\n",
    "from numpy.random import choice \n",
    "np.random.seed(1)\n",
    "index = np.array([choice(np.arange(0,1657),450,replace = False),\n",
    "                choice(np.arange(1657,2133),450,replace = False),\n",
    "                choice(np.arange(2133,2605),450,replace = False),\n",
    "                choice(np.arange(2605,3079),450,replace = False),\n",
    "                choice(np.arange(3079,3550),450,replace = False)])\n",
    "index = index.ravel()\n",
    "data = df.iloc[index,]\n",
    "data = data.reset_index(drop = True)\n",
    "test_index = np.array([choice(np.arange(0,450),150, replace = False),\n",
    "                     choice(np.arange(450,2*450),150, replace = False),\n",
    "                     choice(np.arange(2*450,3*450),150, replace = False),\n",
    "                     choice(np.arange(3*450,4*450),150, replace = False),\n",
    "                     choice(np.arange(4*450,5*450),150, replace = False)])\n",
    "test_index = test_index.ravel()\n",
    "test_data = data.iloc[test_index,]\n",
    "train_data = data.drop(data.index[test_index])\n",
    "\n",
    "# Shuffle data\n",
    "train_data = train_data.sample(frac = 1, random_state = 2)\n",
    "test_data = test_data.sample(frac = 1, random_state = 3)\n",
    "\n",
    "# Convert categorical lables to numberic entries\n",
    "\n",
    "category_labels = ['Normal', '0.007 inch', '0.014 inch','0.021 inch', '0.028 inch']\n",
    "# test_labels = test_data['fault_type']\n",
    "test_labels = pd.Categorical(test_data['fault_type'],categories= category_labels).codes # Produces ndarrays\n",
    "# train_labels = train_data['fault_type']\n",
    "train_labels = pd.Categorical(train_data['fault_type'], categories = category_labels).codes"
   ]
  },
  {
   "cell_type": "code",
   "execution_count": 6,
   "metadata": {},
   "outputs": [
    {
     "name": "stdout",
     "output_type": "stream",
     "text": [
      "(2250, 10) (750, 10) (1500, 10) (750,) (1500,)\n"
     ]
    }
   ],
   "source": [
    "print(data.shape,test_data.shape,train_data.shape,test_labels.shape,train_labels.shape)"
   ]
  },
  {
   "cell_type": "code",
   "execution_count": 7,
   "metadata": {},
   "outputs": [],
   "source": [
    "import tensorflow as tf\n",
    "from tensorflow import keras\n",
    "from tensorflow.keras.models import Sequential\n",
    "from tensorflow.keras import layers\n",
    "from tensorflow.keras.utils import to_categorical\n",
    "from tensorflow.keras.callbacks import EarlyStopping, ModelCheckpoint\n",
    "import sklearn\n",
    "from sklearn import preprocessing"
   ]
  },
  {
   "cell_type": "code",
   "execution_count": 8,
   "metadata": {},
   "outputs": [],
   "source": [
    "# Convert labels to categorical data\n",
    "train_data = train_data.iloc[:,0:9]\n",
    "test_data = test_data.iloc[:,0:9]\n",
    "# Scale the data\n",
    "train_data = preprocessing.scale(train_data)\n",
    "test_data = preprocessing.scale(test_data)\n",
    "train_labels = to_categorical(train_labels)\n",
    "test_labels = to_categorical(test_labels)"
   ]
  },
  {
   "cell_type": "code",
   "execution_count": 9,
   "metadata": {},
   "outputs": [
    {
     "name": "stdout",
     "output_type": "stream",
     "text": [
      "(1500, 9) (750, 9) (1500, 5) (750, 5)\n"
     ]
    }
   ],
   "source": [
    "print(train_data.shape, test_data.shape, train_labels.shape, test_labels.shape)"
   ]
  },
  {
   "cell_type": "code",
   "execution_count": 10,
   "metadata": {},
   "outputs": [
    {
     "name": "stdout",
     "output_type": "stream",
     "text": [
      "Model: \"sequential\"\n",
      "_________________________________________________________________\n",
      "Layer (type)                 Output Shape              Param #   \n",
      "=================================================================\n",
      "dense (Dense)                (None, 5)                 50        \n",
      "_________________________________________________________________\n",
      "dense_1 (Dense)              (None, 5)                 30        \n",
      "=================================================================\n",
      "Total params: 80\n",
      "Trainable params: 80\n",
      "Non-trainable params: 0\n",
      "_________________________________________________________________\n"
     ]
    }
   ],
   "source": [
    "model = Sequential([\n",
    "    layers.Dense(5,activation = 'relu', input_dim = 9),\n",
    "    layers.Dense(5,activation = 'softmax')\n",
    "])\n",
    "model.summary()"
   ]
  },
  {
   "cell_type": "code",
   "execution_count": 11,
   "metadata": {},
   "outputs": [],
   "source": [
    "model.compile(optimizer = 'adam',loss = 'categorical_crossentropy', metrics = ['accuracy'])"
   ]
  },
  {
   "cell_type": "code",
   "execution_count": 12,
   "metadata": {},
   "outputs": [],
   "source": [
    "callbacks = [EarlyStopping(monitor = 'val_loss', mode = 'min', verbose = 1, patience = 5)]"
   ]
  },
  {
   "cell_type": "code",
   "execution_count": 13,
   "metadata": {},
   "outputs": [
    {
     "name": "stdout",
     "output_type": "stream",
     "text": [
      "Train on 1200 samples, validate on 300 samples\n",
      "Epoch 1/100\n",
      "1200/1200 - 0s - loss: 1.7838 - accuracy: 0.2058 - val_loss: 1.6528 - val_accuracy: 0.2267\n",
      "Epoch 2/100\n",
      "1200/1200 - 0s - loss: 1.5744 - accuracy: 0.2308 - val_loss: 1.4587 - val_accuracy: 0.3100\n",
      "Epoch 3/100\n",
      "1200/1200 - 0s - loss: 1.4058 - accuracy: 0.3600 - val_loss: 1.2992 - val_accuracy: 0.5533\n",
      "Epoch 4/100\n",
      "1200/1200 - 0s - loss: 1.2619 - accuracy: 0.5850 - val_loss: 1.1626 - val_accuracy: 0.7333\n",
      "Epoch 5/100\n",
      "1200/1200 - 0s - loss: 1.1389 - accuracy: 0.6817 - val_loss: 1.0432 - val_accuracy: 0.7433\n",
      "Epoch 6/100\n",
      "1200/1200 - 0s - loss: 1.0316 - accuracy: 0.7083 - val_loss: 0.9417 - val_accuracy: 0.7700\n",
      "Epoch 7/100\n",
      "1200/1200 - 0s - loss: 0.9392 - accuracy: 0.7092 - val_loss: 0.8527 - val_accuracy: 0.7567\n",
      "Epoch 8/100\n",
      "1200/1200 - 0s - loss: 0.8579 - accuracy: 0.7050 - val_loss: 0.7762 - val_accuracy: 0.7567\n",
      "Epoch 9/100\n",
      "1200/1200 - 0s - loss: 0.7871 - accuracy: 0.7208 - val_loss: 0.7100 - val_accuracy: 0.7767\n",
      "Epoch 10/100\n",
      "1200/1200 - 0s - loss: 0.7251 - accuracy: 0.7358 - val_loss: 0.6522 - val_accuracy: 0.7900\n",
      "Epoch 11/100\n",
      "1200/1200 - 0s - loss: 0.6697 - accuracy: 0.7608 - val_loss: 0.6006 - val_accuracy: 0.8100\n",
      "Epoch 12/100\n",
      "1200/1200 - 0s - loss: 0.6197 - accuracy: 0.7917 - val_loss: 0.5532 - val_accuracy: 0.8333\n",
      "Epoch 13/100\n",
      "1200/1200 - 0s - loss: 0.5730 - accuracy: 0.8242 - val_loss: 0.5093 - val_accuracy: 0.8567\n",
      "Epoch 14/100\n",
      "1200/1200 - 0s - loss: 0.5290 - accuracy: 0.8575 - val_loss: 0.4675 - val_accuracy: 0.9033\n",
      "Epoch 15/100\n",
      "1200/1200 - 0s - loss: 0.4868 - accuracy: 0.8883 - val_loss: 0.4275 - val_accuracy: 0.9267\n",
      "Epoch 16/100\n",
      "1200/1200 - 0s - loss: 0.4466 - accuracy: 0.9125 - val_loss: 0.3900 - val_accuracy: 0.9467\n",
      "Epoch 17/100\n",
      "1200/1200 - 0s - loss: 0.4086 - accuracy: 0.9308 - val_loss: 0.3549 - val_accuracy: 0.9667\n",
      "Epoch 18/100\n",
      "1200/1200 - 0s - loss: 0.3733 - accuracy: 0.9467 - val_loss: 0.3224 - val_accuracy: 0.9733\n",
      "Epoch 19/100\n",
      "1200/1200 - 0s - loss: 0.3399 - accuracy: 0.9625 - val_loss: 0.2925 - val_accuracy: 0.9800\n",
      "Epoch 20/100\n",
      "1200/1200 - 0s - loss: 0.3097 - accuracy: 0.9783 - val_loss: 0.2652 - val_accuracy: 0.9867\n",
      "Epoch 21/100\n",
      "1200/1200 - 0s - loss: 0.2824 - accuracy: 0.9825 - val_loss: 0.2408 - val_accuracy: 0.9933\n",
      "Epoch 22/100\n",
      "1200/1200 - 0s - loss: 0.2575 - accuracy: 0.9850 - val_loss: 0.2192 - val_accuracy: 0.9933\n",
      "Epoch 23/100\n",
      "1200/1200 - 0s - loss: 0.2357 - accuracy: 0.9892 - val_loss: 0.1999 - val_accuracy: 0.9967\n",
      "Epoch 24/100\n",
      "1200/1200 - 0s - loss: 0.2160 - accuracy: 0.9933 - val_loss: 0.1829 - val_accuracy: 0.9967\n",
      "Epoch 25/100\n",
      "1200/1200 - 0s - loss: 0.1985 - accuracy: 0.9958 - val_loss: 0.1681 - val_accuracy: 0.9933\n",
      "Epoch 26/100\n",
      "1200/1200 - 0s - loss: 0.1831 - accuracy: 0.9950 - val_loss: 0.1548 - val_accuracy: 0.9967\n",
      "Epoch 27/100\n",
      "1200/1200 - 0s - loss: 0.1692 - accuracy: 0.9950 - val_loss: 0.1430 - val_accuracy: 0.9933\n",
      "Epoch 28/100\n",
      "1200/1200 - 0s - loss: 0.1570 - accuracy: 0.9958 - val_loss: 0.1324 - val_accuracy: 0.9933\n",
      "Epoch 29/100\n",
      "1200/1200 - 0s - loss: 0.1460 - accuracy: 0.9950 - val_loss: 0.1231 - val_accuracy: 0.9933\n",
      "Epoch 30/100\n",
      "1200/1200 - 0s - loss: 0.1361 - accuracy: 0.9958 - val_loss: 0.1146 - val_accuracy: 0.9933\n",
      "Epoch 31/100\n",
      "1200/1200 - 0s - loss: 0.1273 - accuracy: 0.9950 - val_loss: 0.1071 - val_accuracy: 0.9933\n",
      "Epoch 32/100\n",
      "1200/1200 - 0s - loss: 0.1193 - accuracy: 0.9950 - val_loss: 0.1001 - val_accuracy: 0.9967\n",
      "Epoch 33/100\n",
      "1200/1200 - 0s - loss: 0.1121 - accuracy: 0.9958 - val_loss: 0.0940 - val_accuracy: 0.9933\n",
      "Epoch 34/100\n",
      "1200/1200 - 0s - loss: 0.1055 - accuracy: 0.9958 - val_loss: 0.0882 - val_accuracy: 1.0000\n",
      "Epoch 35/100\n",
      "1200/1200 - 0s - loss: 0.0995 - accuracy: 0.9950 - val_loss: 0.0831 - val_accuracy: 1.0000\n",
      "Epoch 36/100\n",
      "1200/1200 - 0s - loss: 0.0939 - accuracy: 0.9958 - val_loss: 0.0783 - val_accuracy: 1.0000\n",
      "Epoch 37/100\n",
      "1200/1200 - 0s - loss: 0.0890 - accuracy: 0.9967 - val_loss: 0.0740 - val_accuracy: 1.0000\n",
      "Epoch 38/100\n",
      "1200/1200 - 0s - loss: 0.0844 - accuracy: 0.9975 - val_loss: 0.0700 - val_accuracy: 1.0000\n",
      "Epoch 39/100\n",
      "1200/1200 - 0s - loss: 0.0801 - accuracy: 0.9967 - val_loss: 0.0663 - val_accuracy: 1.0000\n",
      "Epoch 40/100\n",
      "1200/1200 - 0s - loss: 0.0761 - accuracy: 0.9975 - val_loss: 0.0628 - val_accuracy: 1.0000\n",
      "Epoch 41/100\n",
      "1200/1200 - 0s - loss: 0.0724 - accuracy: 0.9975 - val_loss: 0.0597 - val_accuracy: 1.0000\n",
      "Epoch 42/100\n",
      "1200/1200 - 0s - loss: 0.0691 - accuracy: 0.9975 - val_loss: 0.0567 - val_accuracy: 1.0000\n",
      "Epoch 43/100\n",
      "1200/1200 - 0s - loss: 0.0658 - accuracy: 0.9975 - val_loss: 0.0539 - val_accuracy: 1.0000\n",
      "Epoch 44/100\n",
      "1200/1200 - 0s - loss: 0.0629 - accuracy: 0.9975 - val_loss: 0.0514 - val_accuracy: 1.0000\n",
      "Epoch 45/100\n",
      "1200/1200 - 0s - loss: 0.0602 - accuracy: 0.9975 - val_loss: 0.0490 - val_accuracy: 1.0000\n",
      "Epoch 46/100\n",
      "1200/1200 - 0s - loss: 0.0576 - accuracy: 0.9975 - val_loss: 0.0467 - val_accuracy: 1.0000\n",
      "Epoch 47/100\n",
      "1200/1200 - 0s - loss: 0.0552 - accuracy: 0.9975 - val_loss: 0.0445 - val_accuracy: 1.0000\n",
      "Epoch 48/100\n",
      "1200/1200 - 0s - loss: 0.0528 - accuracy: 0.9975 - val_loss: 0.0425 - val_accuracy: 1.0000\n",
      "Epoch 49/100\n",
      "1200/1200 - 0s - loss: 0.0507 - accuracy: 0.9975 - val_loss: 0.0407 - val_accuracy: 1.0000\n",
      "Epoch 50/100\n",
      "1200/1200 - 0s - loss: 0.0486 - accuracy: 0.9975 - val_loss: 0.0389 - val_accuracy: 1.0000\n",
      "Epoch 51/100\n",
      "1200/1200 - 0s - loss: 0.0467 - accuracy: 0.9983 - val_loss: 0.0372 - val_accuracy: 1.0000\n",
      "Epoch 52/100\n",
      "1200/1200 - 0s - loss: 0.0449 - accuracy: 0.9983 - val_loss: 0.0357 - val_accuracy: 1.0000\n",
      "Epoch 53/100\n",
      "1200/1200 - 0s - loss: 0.0433 - accuracy: 0.9983 - val_loss: 0.0342 - val_accuracy: 1.0000\n",
      "Epoch 54/100\n",
      "1200/1200 - 0s - loss: 0.0416 - accuracy: 0.9983 - val_loss: 0.0328 - val_accuracy: 1.0000\n",
      "Epoch 55/100\n",
      "1200/1200 - 0s - loss: 0.0400 - accuracy: 0.9983 - val_loss: 0.0314 - val_accuracy: 1.0000\n",
      "Epoch 56/100\n",
      "1200/1200 - 0s - loss: 0.0386 - accuracy: 0.9983 - val_loss: 0.0302 - val_accuracy: 1.0000\n",
      "Epoch 57/100\n",
      "1200/1200 - 0s - loss: 0.0374 - accuracy: 0.9983 - val_loss: 0.0290 - val_accuracy: 1.0000\n",
      "Epoch 58/100\n",
      "1200/1200 - 0s - loss: 0.0359 - accuracy: 0.9983 - val_loss: 0.0278 - val_accuracy: 1.0000\n",
      "Epoch 59/100\n",
      "1200/1200 - 0s - loss: 0.0347 - accuracy: 0.9983 - val_loss: 0.0267 - val_accuracy: 1.0000\n",
      "Epoch 60/100\n",
      "1200/1200 - 0s - loss: 0.0335 - accuracy: 0.9983 - val_loss: 0.0258 - val_accuracy: 1.0000\n",
      "Epoch 61/100\n",
      "1200/1200 - 0s - loss: 0.0323 - accuracy: 0.9983 - val_loss: 0.0248 - val_accuracy: 1.0000\n",
      "Epoch 62/100\n",
      "1200/1200 - 0s - loss: 0.0313 - accuracy: 0.9983 - val_loss: 0.0238 - val_accuracy: 1.0000\n",
      "Epoch 63/100\n",
      "1200/1200 - 0s - loss: 0.0302 - accuracy: 0.9983 - val_loss: 0.0230 - val_accuracy: 1.0000\n",
      "Epoch 64/100\n",
      "1200/1200 - 0s - loss: 0.0293 - accuracy: 0.9983 - val_loss: 0.0221 - val_accuracy: 1.0000\n",
      "Epoch 65/100\n",
      "1200/1200 - 0s - loss: 0.0283 - accuracy: 0.9983 - val_loss: 0.0214 - val_accuracy: 1.0000\n",
      "Epoch 66/100\n",
      "1200/1200 - 0s - loss: 0.0275 - accuracy: 0.9983 - val_loss: 0.0206 - val_accuracy: 1.0000\n",
      "Epoch 67/100\n",
      "1200/1200 - 0s - loss: 0.0266 - accuracy: 0.9983 - val_loss: 0.0199 - val_accuracy: 1.0000\n",
      "Epoch 68/100\n",
      "1200/1200 - 0s - loss: 0.0258 - accuracy: 0.9983 - val_loss: 0.0192 - val_accuracy: 1.0000\n",
      "Epoch 69/100\n",
      "1200/1200 - 0s - loss: 0.0249 - accuracy: 0.9983 - val_loss: 0.0186 - val_accuracy: 1.0000\n",
      "Epoch 70/100\n",
      "1200/1200 - 0s - loss: 0.0242 - accuracy: 0.9983 - val_loss: 0.0179 - val_accuracy: 1.0000\n",
      "Epoch 71/100\n",
      "1200/1200 - 0s - loss: 0.0235 - accuracy: 0.9983 - val_loss: 0.0173 - val_accuracy: 1.0000\n",
      "Epoch 72/100\n",
      "1200/1200 - 0s - loss: 0.0227 - accuracy: 0.9983 - val_loss: 0.0168 - val_accuracy: 1.0000\n",
      "Epoch 73/100\n",
      "1200/1200 - 0s - loss: 0.0221 - accuracy: 0.9983 - val_loss: 0.0162 - val_accuracy: 1.0000\n",
      "Epoch 74/100\n",
      "1200/1200 - 0s - loss: 0.0215 - accuracy: 0.9983 - val_loss: 0.0157 - val_accuracy: 1.0000\n",
      "Epoch 75/100\n",
      "1200/1200 - 0s - loss: 0.0208 - accuracy: 0.9983 - val_loss: 0.0151 - val_accuracy: 1.0000\n",
      "Epoch 76/100\n",
      "1200/1200 - 0s - loss: 0.0202 - accuracy: 0.9983 - val_loss: 0.0147 - val_accuracy: 1.0000\n",
      "Epoch 77/100\n",
      "1200/1200 - 0s - loss: 0.0197 - accuracy: 0.9983 - val_loss: 0.0142 - val_accuracy: 1.0000\n",
      "Epoch 78/100\n",
      "1200/1200 - 0s - loss: 0.0192 - accuracy: 0.9983 - val_loss: 0.0138 - val_accuracy: 1.0000\n",
      "Epoch 79/100\n",
      "1200/1200 - 0s - loss: 0.0186 - accuracy: 0.9983 - val_loss: 0.0133 - val_accuracy: 1.0000\n"
     ]
    },
    {
     "name": "stdout",
     "output_type": "stream",
     "text": [
      "Epoch 80/100\n",
      "1200/1200 - 0s - loss: 0.0180 - accuracy: 0.9983 - val_loss: 0.0130 - val_accuracy: 1.0000\n",
      "Epoch 81/100\n",
      "1200/1200 - 0s - loss: 0.0175 - accuracy: 0.9983 - val_loss: 0.0125 - val_accuracy: 1.0000\n",
      "Epoch 82/100\n",
      "1200/1200 - 0s - loss: 0.0171 - accuracy: 0.9983 - val_loss: 0.0122 - val_accuracy: 1.0000\n",
      "Epoch 83/100\n",
      "1200/1200 - 0s - loss: 0.0166 - accuracy: 0.9983 - val_loss: 0.0118 - val_accuracy: 1.0000\n",
      "Epoch 84/100\n",
      "1200/1200 - 0s - loss: 0.0162 - accuracy: 0.9983 - val_loss: 0.0114 - val_accuracy: 1.0000\n",
      "Epoch 85/100\n",
      "1200/1200 - 0s - loss: 0.0157 - accuracy: 0.9983 - val_loss: 0.0111 - val_accuracy: 1.0000\n",
      "Epoch 86/100\n",
      "1200/1200 - 0s - loss: 0.0153 - accuracy: 0.9983 - val_loss: 0.0108 - val_accuracy: 1.0000\n",
      "Epoch 87/100\n",
      "1200/1200 - 0s - loss: 0.0149 - accuracy: 0.9983 - val_loss: 0.0104 - val_accuracy: 1.0000\n",
      "Epoch 88/100\n",
      "1200/1200 - 0s - loss: 0.0145 - accuracy: 0.9983 - val_loss: 0.0102 - val_accuracy: 1.0000\n",
      "Epoch 89/100\n",
      "1200/1200 - 0s - loss: 0.0141 - accuracy: 0.9983 - val_loss: 0.0099 - val_accuracy: 1.0000\n",
      "Epoch 90/100\n",
      "1200/1200 - 0s - loss: 0.0137 - accuracy: 0.9983 - val_loss: 0.0096 - val_accuracy: 1.0000\n",
      "Epoch 91/100\n",
      "1200/1200 - 0s - loss: 0.0134 - accuracy: 0.9983 - val_loss: 0.0093 - val_accuracy: 1.0000\n",
      "Epoch 92/100\n",
      "1200/1200 - 0s - loss: 0.0131 - accuracy: 0.9983 - val_loss: 0.0090 - val_accuracy: 1.0000\n",
      "Epoch 93/100\n",
      "1200/1200 - 0s - loss: 0.0127 - accuracy: 0.9983 - val_loss: 0.0088 - val_accuracy: 1.0000\n",
      "Epoch 94/100\n",
      "1200/1200 - 0s - loss: 0.0124 - accuracy: 0.9983 - val_loss: 0.0086 - val_accuracy: 1.0000\n",
      "Epoch 95/100\n",
      "1200/1200 - 0s - loss: 0.0121 - accuracy: 0.9983 - val_loss: 0.0083 - val_accuracy: 1.0000\n",
      "Epoch 96/100\n",
      "1200/1200 - 0s - loss: 0.0117 - accuracy: 0.9983 - val_loss: 0.0081 - val_accuracy: 1.0000\n",
      "Epoch 97/100\n",
      "1200/1200 - 0s - loss: 0.0115 - accuracy: 0.9983 - val_loss: 0.0078 - val_accuracy: 1.0000\n",
      "Epoch 98/100\n",
      "1200/1200 - 0s - loss: 0.0112 - accuracy: 0.9983 - val_loss: 0.0076 - val_accuracy: 1.0000\n",
      "Epoch 99/100\n",
      "1200/1200 - 0s - loss: 0.0109 - accuracy: 0.9983 - val_loss: 0.0075 - val_accuracy: 1.0000\n",
      "Epoch 100/100\n",
      "1200/1200 - 0s - loss: 0.0107 - accuracy: 0.9983 - val_loss: 0.0072 - val_accuracy: 1.0000\n"
     ]
    }
   ],
   "source": [
    "history = model.fit(train_data,train_labels,epochs = 100, validation_split = 0.2, verbose = 2,callbacks = callbacks)"
   ]
  },
  {
   "cell_type": "code",
   "execution_count": 16,
   "metadata": {},
   "outputs": [
    {
     "data": {
      "image/png": "[encoded data removed]",
      "text/plain": [
       "<Figure size 432x288 with 1 Axes>"
      ]
     },
     "metadata": {
      "needs_background": "light"
     },
     "output_type": "display_data"
    },
    {
     "data": {
      "image/png": "[encoded data removed]",
      "text/plain": [
       "<Figure size 432x288 with 1 Axes>"
      ]
     },
     "metadata": {
      "needs_background": "light"
     },
     "output_type": "display_data"
    }
   ],
   "source": [
    "import matplotlib.pyplot as plt\n",
    "train_loss = history.history['loss']\n",
    "val_loss = history.history['val_loss']\n",
    "train_acc = history.history['accuracy']\n",
    "val_acc = history.history['val_accuracy']\n",
    "epochs = np.arange(1,len(train_loss)+1)\n",
    "plt.figure()\n",
    "plt.plot(epochs, train_loss, label = \"Training Loss\")\n",
    "plt.plot(epochs, val_loss, label = \"Validation Loss\")\n",
    "plt.legend()\n",
    "plt.title(\"Comparision of Loss\")\n",
    "plt.show()\n",
    "plt.figure()\n",
    "plt.plot(epochs, train_acc, label = \"Training Accuracy\")\n",
    "plt.plot(epochs, val_acc, label = \"Validation Accuracy\")\n",
    "plt.title(\"Comparison of Accuracy\")\n",
    "plt.legend()\n",
    "plt.show()"
   ]
  },
  {
   "cell_type": "code",
   "execution_count": 15,
   "metadata": {},
   "outputs": [
    {
     "name": "stdout",
     "output_type": "stream",
     "text": [
      "750/750 [==============================] - 0s 36us/sample - loss: 0.0072 - accuracy: 1.0000\n"
     ]
    }
   ],
   "source": [
    "test_loss,test_acc = model.evaluate(test_data, test_labels)"
   ]
  },
  {
   "cell_type": "code",
   "execution_count": 17,
   "metadata": {},
   "outputs": [
    {
     "name": "stdout",
     "output_type": "stream",
     "text": [
      "1.0\n"
     ]
    }
   ],
   "source": [
    "print(test_acc)"
   ]
  },
  {
   "cell_type": "code",
   "execution_count": 18,
   "metadata": {},
   "outputs": [],
   "source": [
    "prediction = model.predict(test_data)\n",
    "prediction_labels = list([])\n",
    "for each_prediction in prediction:\n",
    "    prediction_labels.append(list(each_prediction).index(max(each_prediction)))\n",
    "    "
   ]
  },
  {
   "cell_type": "code",
   "execution_count": 19,
   "metadata": {},
   "outputs": [],
   "source": [
    "from sklearn.metrics import confusion_matrix\n",
    "true_labels = np.argmax(test_labels, axis = 1)\n",
    "matrix = confusion_matrix(true_labels, prediction_labels)"
   ]
  },
  {
   "cell_type": "code",
   "execution_count": 20,
   "metadata": {},
   "outputs": [
    {
     "data": {
      "text/plain": [
       "(array([0.5, 1.5, 2.5, 3.5, 4.5]), <a list of 5 Text xticklabel objects>)"
      ]
     },
     "execution_count": 20,
     "metadata": {},
     "output_type": "execute_result"
    },
    {
     "data": {
      "image/png": "[encoded data removed]",
      "text/plain": [
       "<Figure size 432x288 with 2 Axes>"
      ]
     },
     "metadata": {
      "needs_background": "light"
     },
     "output_type": "display_data"
    }
   ],
   "source": [
    "import seaborn as sns\n",
    "matrix = pd.DataFrame(matrix)\n",
    "sns.heatmap(matrix, annot= True, fmt = \"d\",\n",
    "           xticklabels = category_labels,\n",
    "           yticklabels = category_labels)\n",
    "plt.xticks(rotation = 90)"
   ]
  },
  {
   "cell_type": "code",
   "execution_count": null,
   "metadata": {},
   "outputs": [],
   "source": []
  }
 ],
 "metadata": {
  "kernelspec": {
   "display_name": "tensorflow_env",
   "language": "python",
   "name": "tensorflwo_env"
  },
  "language_info": {
   "codemirror_mode": {
    "name": "ipython",
    "version": 3
   },
   "file_extension": ".py",
   "mimetype": "text/x-python",
   "name": "python",
   "nbconvert_exporter": "python",
   "pygments_lexer": "ipython3",
   "version": "3.7.2"
  },
  "varInspector": {
   "cols": {
    "lenName": 16,
    "lenType": 16,
    "lenVar": 40
   },
   "kernels_config": {
    "python": {
     "delete_cmd_postfix": "",
     "delete_cmd_prefix": "del ",
     "library": "var_list.py",
     "varRefreshCmd": "print(var_dic_list())"
    },
    "r": {
     "delete_cmd_postfix": ") ",
     "delete_cmd_prefix": "rm(",
     "library": "var_list.r",
     "varRefreshCmd": "cat(var_dic_list()) "
    }
   },
   "position": {
    "height": "144px",
    "left": "580px",
    "right": "20px",
    "top": "136px",
    "width": "350px"
   },
   "types_to_exclude": [
    "module",
    "function",
    "builtin_function_or_method",
    "instance",
    "_Feature"
   ],
   "window_display": false
  }
 },
 "nbformat": 4,
 "nbformat_minor": 2
}
