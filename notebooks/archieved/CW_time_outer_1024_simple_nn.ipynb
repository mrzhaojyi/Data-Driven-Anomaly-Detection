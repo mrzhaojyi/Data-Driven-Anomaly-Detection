{
 "cells": [
  {
   "cell_type": "markdown",
   "metadata": {},
   "source": [
    "## Preprocess data\n",
    "\n",
    "First read data from directory. After reading data, convert the categorical column into numerical values that can be put into neural network.\n",
    "\n",
    "Using 'glob' package we can read data files containing specific characters. "
   ]
  },
  {
   "cell_type": "code",
   "execution_count": 1,
   "metadata": {},
   "outputs": [],
   "source": [
    "import pandas as pd"
   ]
  },
  {
   "cell_type": "code",
   "execution_count": 2,
   "metadata": {},
   "outputs": [
    {
     "data": {
      "text/html": [
       "<div>\n",
       "<style scoped>\n",
       "    .dataframe tbody tr th:only-of-type {\n",
       "        vertical-align: middle;\n",
       "    }\n",
       "\n",
       "    .dataframe tbody tr th {\n",
       "        vertical-align: top;\n",
       "    }\n",
       "\n",
       "    .dataframe thead th {\n",
       "        text-align: right;\n",
       "    }\n",
       "</style>\n",
       "<table border=\"1\" class=\"dataframe\">\n",
       "  <thead>\n",
       "    <tr style=\"text-align: right;\">\n",
       "      <th></th>\n",
       "      <th>max</th>\n",
       "      <th>min</th>\n",
       "      <th>mean</th>\n",
       "      <th>sd</th>\n",
       "      <th>rms</th>\n",
       "      <th>skewness</th>\n",
       "      <th>kurtosis</th>\n",
       "      <th>crest</th>\n",
       "      <th>form</th>\n",
       "      <th>fault_type</th>\n",
       "    </tr>\n",
       "  </thead>\n",
       "  <tbody>\n",
       "    <tr>\n",
       "      <th>0</th>\n",
       "      <td>0.21779</td>\n",
       "      <td>-0.19860</td>\n",
       "      <td>0.012421</td>\n",
       "      <td>0.074997</td>\n",
       "      <td>0.075982</td>\n",
       "      <td>-0.162737</td>\n",
       "      <td>-0.249050</td>\n",
       "      <td>2.866329</td>\n",
       "      <td>6.117247</td>\n",
       "      <td>Normal</td>\n",
       "    </tr>\n",
       "    <tr>\n",
       "      <th>1</th>\n",
       "      <td>0.21216</td>\n",
       "      <td>-0.27287</td>\n",
       "      <td>0.011589</td>\n",
       "      <td>0.069499</td>\n",
       "      <td>0.070425</td>\n",
       "      <td>-0.107232</td>\n",
       "      <td>0.178607</td>\n",
       "      <td>3.012546</td>\n",
       "      <td>6.076971</td>\n",
       "      <td>Normal</td>\n",
       "    </tr>\n",
       "    <tr>\n",
       "      <th>2</th>\n",
       "      <td>0.21237</td>\n",
       "      <td>-0.20820</td>\n",
       "      <td>0.014643</td>\n",
       "      <td>0.077034</td>\n",
       "      <td>0.078377</td>\n",
       "      <td>0.050254</td>\n",
       "      <td>-0.381294</td>\n",
       "      <td>2.709611</td>\n",
       "      <td>5.352335</td>\n",
       "      <td>Normal</td>\n",
       "    </tr>\n",
       "    <tr>\n",
       "      <th>3</th>\n",
       "      <td>0.22301</td>\n",
       "      <td>-0.22676</td>\n",
       "      <td>0.010937</td>\n",
       "      <td>0.078972</td>\n",
       "      <td>0.079688</td>\n",
       "      <td>-0.163349</td>\n",
       "      <td>-0.040365</td>\n",
       "      <td>2.798539</td>\n",
       "      <td>7.286094</td>\n",
       "      <td>Normal</td>\n",
       "    </tr>\n",
       "    <tr>\n",
       "      <th>4</th>\n",
       "      <td>0.18859</td>\n",
       "      <td>-0.18692</td>\n",
       "      <td>0.013359</td>\n",
       "      <td>0.074959</td>\n",
       "      <td>0.076104</td>\n",
       "      <td>-0.028402</td>\n",
       "      <td>-0.326834</td>\n",
       "      <td>2.478067</td>\n",
       "      <td>5.696816</td>\n",
       "      <td>Normal</td>\n",
       "    </tr>\n",
       "  </tbody>\n",
       "</table>\n",
       "</div>"
      ],
      "text/plain": [
       "       max      min      mean        sd       rms  skewness  kurtosis  \\\n",
       "0  0.21779 -0.19860  0.012421  0.074997  0.075982 -0.162737 -0.249050   \n",
       "1  0.21216 -0.27287  0.011589  0.069499  0.070425 -0.107232  0.178607   \n",
       "2  0.21237 -0.20820  0.014643  0.077034  0.078377  0.050254 -0.381294   \n",
       "3  0.22301 -0.22676  0.010937  0.078972  0.079688 -0.163349 -0.040365   \n",
       "4  0.18859 -0.18692  0.013359  0.074959  0.076104 -0.028402 -0.326834   \n",
       "\n",
       "      crest      form fault_type  \n",
       "0  2.866329  6.117247     Normal  \n",
       "1  3.012546  6.076971     Normal  \n",
       "2  2.709611  5.352335     Normal  \n",
       "3  2.798539  7.286094     Normal  \n",
       "4  2.478067  5.696816     Normal  "
      ]
     },
     "execution_count": 2,
     "metadata": {},
     "output_type": "execute_result"
    }
   ],
   "source": [
    "path = \"D:/rfiles/feature_matrix/feature_matrix_time_1024_outer_6.csv\"\n",
    "df = pd.read_csv(path)\n",
    "df.head()"
   ]
  },
  {
   "cell_type": "markdown",
   "metadata": {},
   "source": [
    "Now we will read the first files and use it in further analysis. "
   ]
  },
  {
   "cell_type": "code",
   "execution_count": 3,
   "metadata": {},
   "outputs": [
    {
     "data": {
      "text/plain": [
       "Normal        1657\n",
       "0.021 inch     476\n",
       "0.007 inch     475\n",
       "0.014 inch     474\n",
       "Name: fault_type, dtype: int64"
      ]
     },
     "execution_count": 3,
     "metadata": {},
     "output_type": "execute_result"
    }
   ],
   "source": [
    "df[\"fault_type\"].value_counts()"
   ]
  },
  {
   "cell_type": "markdown",
   "metadata": {},
   "source": [
    "Now we will split the total data into training and test set. The dataset is unbalanced (it has more normal data as compared to other faulty data types). So first we create a balanced dataset and then form a training and test set."
   ]
  },
  {
   "cell_type": "code",
   "execution_count": 4,
   "metadata": {},
   "outputs": [],
   "source": [
    "import numpy as np\n",
    "from numpy.random import choice \n",
    "np.random.seed(1)\n",
    "index = np.array([choice(np.arange(0,1657),450,replace = False),\n",
    "                choice(np.arange(1657,2132),450,replace = False),\n",
    "                choice(np.arange(2132,2606),450,replace = False),\n",
    "                choice(np.arange(2606,3082),450,replace = False)])\n",
    "index = index.ravel()\n",
    "data = df.iloc[index,]\n",
    "data = data.reset_index(drop = True)\n",
    "test_index = np.array([choice(np.arange(0,450),150, replace = False),\n",
    "                     choice(np.arange(450,2*450),150, replace = False),\n",
    "                     choice(np.arange(2*450,3*450),150, replace = False),\n",
    "                     choice(np.arange(3*450,4*450),150, replace = False)])\n",
    "test_index = test_index.ravel()\n",
    "test_data = data.iloc[test_index,]\n",
    "train_data = data.drop(data.index[test_index])\n",
    "\n",
    "# Shuffle data\n",
    "train_data = train_data.sample(frac = 1, random_state = 2)\n",
    "test_data = test_data.sample(frac = 1, random_state = 3)\n",
    "\n",
    "# Convert categorical lables to numberic entries\n",
    "\n",
    "category_labels = ['Normal', '0.007 inch', '0.014 inch','0.021 inch']\n",
    "# test_labels = test_data['fault_type']\n",
    "test_labels = pd.Categorical(test_data['fault_type'],categories= category_labels).codes # Produces ndarrays\n",
    "# train_labels = train_data['fault_type']\n",
    "train_labels = pd.Categorical(train_data['fault_type'], categories = category_labels).codes"
   ]
  },
  {
   "cell_type": "code",
   "execution_count": 5,
   "metadata": {},
   "outputs": [
    {
     "name": "stdout",
     "output_type": "stream",
     "text": [
      "(1800, 10) (600, 10) (1200, 10) (600,) (1200,)\n"
     ]
    }
   ],
   "source": [
    "print(data.shape,test_data.shape,train_data.shape,test_labels.shape,train_labels.shape)"
   ]
  },
  {
   "cell_type": "code",
   "execution_count": 6,
   "metadata": {},
   "outputs": [],
   "source": [
    "import tensorflow as tf\n",
    "from tensorflow import keras\n",
    "from tensorflow.keras.models import Sequential\n",
    "from tensorflow.keras import layers\n",
    "from tensorflow.keras.utils import to_categorical\n",
    "from tensorflow.keras.callbacks import EarlyStopping, ModelCheckpoint\n",
    "import sklearn\n",
    "from sklearn import preprocessing"
   ]
  },
  {
   "cell_type": "code",
   "execution_count": 7,
   "metadata": {},
   "outputs": [],
   "source": [
    "# Convert labels to categorical data\n",
    "train_data = train_data.iloc[:,0:9]\n",
    "test_data = test_data.iloc[:,0:9]\n",
    "# Scale the data\n",
    "train_data = preprocessing.scale(train_data)\n",
    "test_data = preprocessing.scale(test_data)\n",
    "train_labels = to_categorical(train_labels)\n",
    "test_labels = to_categorical(test_labels)"
   ]
  },
  {
   "cell_type": "code",
   "execution_count": 8,
   "metadata": {},
   "outputs": [
    {
     "name": "stdout",
     "output_type": "stream",
     "text": [
      "(1200, 9) (600, 9) (1200, 4) (600, 4)\n"
     ]
    }
   ],
   "source": [
    "print(train_data.shape, test_data.shape, train_labels.shape, test_labels.shape)"
   ]
  },
  {
   "cell_type": "code",
   "execution_count": 13,
   "metadata": {},
   "outputs": [
    {
     "name": "stdout",
     "output_type": "stream",
     "text": [
      "Model: \"sequential_1\"\n",
      "_________________________________________________________________\n",
      "Layer (type)                 Output Shape              Param #   \n",
      "=================================================================\n",
      "dense_2 (Dense)              (None, 5)                 50        \n",
      "_________________________________________________________________\n",
      "dense_3 (Dense)              (None, 4)                 24        \n",
      "=================================================================\n",
      "Total params: 74\n",
      "Trainable params: 74\n",
      "Non-trainable params: 0\n",
      "_________________________________________________________________\n"
     ]
    }
   ],
   "source": [
    "model = Sequential([\n",
    "    layers.Dense(5,activation = 'relu', input_dim = 9),\n",
    "    layers.Dense(4,activation = 'softmax')\n",
    "])\n",
    "model.summary()"
   ]
  },
  {
   "cell_type": "code",
   "execution_count": 14,
   "metadata": {},
   "outputs": [],
   "source": [
    "model.compile(optimizer = 'adam',loss = 'categorical_crossentropy', metrics = ['accuracy'])"
   ]
  },
  {
   "cell_type": "code",
   "execution_count": 15,
   "metadata": {},
   "outputs": [],
   "source": [
    "callbacks = [EarlyStopping(monitor = 'val_loss', mode = 'min', verbose = 1, patience = 5)]"
   ]
  },
  {
   "cell_type": "code",
   "execution_count": 16,
   "metadata": {},
   "outputs": [
    {
     "name": "stdout",
     "output_type": "stream",
     "text": [
      "Train on 960 samples, validate on 240 samples\n",
      "Epoch 1/100\n",
      "960/960 - 0s - loss: 1.7510 - accuracy: 0.1625 - val_loss: 1.6559 - val_accuracy: 0.1875\n",
      "Epoch 2/100\n",
      "960/960 - 0s - loss: 1.5405 - accuracy: 0.1729 - val_loss: 1.4695 - val_accuracy: 0.2000\n",
      "Epoch 3/100\n",
      "960/960 - 0s - loss: 1.3996 - accuracy: 0.2062 - val_loss: 1.3454 - val_accuracy: 0.2542\n",
      "Epoch 4/100\n",
      "960/960 - 0s - loss: 1.3034 - accuracy: 0.2844 - val_loss: 1.2513 - val_accuracy: 0.3542\n",
      "Epoch 5/100\n",
      "960/960 - 0s - loss: 1.2288 - accuracy: 0.3854 - val_loss: 1.1746 - val_accuracy: 0.4625\n",
      "Epoch 6/100\n",
      "960/960 - 0s - loss: 1.1683 - accuracy: 0.4500 - val_loss: 1.1121 - val_accuracy: 0.4958\n",
      "Epoch 7/100\n",
      "960/960 - 0s - loss: 1.1170 - accuracy: 0.5208 - val_loss: 1.0575 - val_accuracy: 0.5875\n",
      "Epoch 8/100\n",
      "960/960 - 0s - loss: 1.0727 - accuracy: 0.5885 - val_loss: 1.0126 - val_accuracy: 0.6458\n",
      "Epoch 9/100\n",
      "960/960 - 0s - loss: 1.0334 - accuracy: 0.6531 - val_loss: 0.9755 - val_accuracy: 0.6792\n",
      "Epoch 10/100\n",
      "960/960 - 0s - loss: 0.9976 - accuracy: 0.6938 - val_loss: 0.9416 - val_accuracy: 0.7167\n",
      "Epoch 11/100\n",
      "960/960 - 0s - loss: 0.9630 - accuracy: 0.7344 - val_loss: 0.9087 - val_accuracy: 0.7625\n",
      "Epoch 12/100\n",
      "960/960 - 0s - loss: 0.9283 - accuracy: 0.7677 - val_loss: 0.8764 - val_accuracy: 0.8000\n",
      "Epoch 13/100\n",
      "960/960 - 0s - loss: 0.8929 - accuracy: 0.7969 - val_loss: 0.8446 - val_accuracy: 0.8208\n",
      "Epoch 14/100\n",
      "960/960 - 0s - loss: 0.8573 - accuracy: 0.8250 - val_loss: 0.8121 - val_accuracy: 0.8375\n",
      "Epoch 15/100\n",
      "960/960 - 0s - loss: 0.8206 - accuracy: 0.8333 - val_loss: 0.7788 - val_accuracy: 0.8417\n",
      "Epoch 16/100\n",
      "960/960 - 0s - loss: 0.7839 - accuracy: 0.8417 - val_loss: 0.7459 - val_accuracy: 0.8583\n",
      "Epoch 17/100\n",
      "960/960 - 0s - loss: 0.7476 - accuracy: 0.8490 - val_loss: 0.7126 - val_accuracy: 0.8625\n",
      "Epoch 18/100\n",
      "960/960 - 0s - loss: 0.7108 - accuracy: 0.8573 - val_loss: 0.6787 - val_accuracy: 0.8667\n",
      "Epoch 19/100\n",
      "960/960 - 0s - loss: 0.6736 - accuracy: 0.8729 - val_loss: 0.6451 - val_accuracy: 0.8792\n",
      "Epoch 20/100\n",
      "960/960 - 0s - loss: 0.6365 - accuracy: 0.8906 - val_loss: 0.6116 - val_accuracy: 0.8833\n",
      "Epoch 21/100\n",
      "960/960 - 0s - loss: 0.5994 - accuracy: 0.9000 - val_loss: 0.5788 - val_accuracy: 0.8958\n",
      "Epoch 22/100\n",
      "960/960 - 0s - loss: 0.5641 - accuracy: 0.9052 - val_loss: 0.5494 - val_accuracy: 0.8958\n",
      "Epoch 23/100\n",
      "960/960 - 0s - loss: 0.5325 - accuracy: 0.9062 - val_loss: 0.5216 - val_accuracy: 0.8958\n",
      "Epoch 24/100\n",
      "960/960 - 0s - loss: 0.5030 - accuracy: 0.9125 - val_loss: 0.4965 - val_accuracy: 0.9125\n",
      "Epoch 25/100\n",
      "960/960 - 0s - loss: 0.4775 - accuracy: 0.9135 - val_loss: 0.4749 - val_accuracy: 0.9167\n",
      "Epoch 26/100\n",
      "960/960 - 0s - loss: 0.4549 - accuracy: 0.9156 - val_loss: 0.4555 - val_accuracy: 0.9167\n",
      "Epoch 27/100\n",
      "960/960 - 0s - loss: 0.4353 - accuracy: 0.9198 - val_loss: 0.4378 - val_accuracy: 0.9167\n",
      "Epoch 28/100\n",
      "960/960 - 0s - loss: 0.4181 - accuracy: 0.9219 - val_loss: 0.4223 - val_accuracy: 0.9208\n",
      "Epoch 29/100\n",
      "960/960 - 0s - loss: 0.4028 - accuracy: 0.9229 - val_loss: 0.4082 - val_accuracy: 0.9250\n",
      "Epoch 30/100\n",
      "960/960 - 0s - loss: 0.3893 - accuracy: 0.9229 - val_loss: 0.3956 - val_accuracy: 0.9250\n",
      "Epoch 31/100\n",
      "960/960 - 0s - loss: 0.3771 - accuracy: 0.9219 - val_loss: 0.3842 - val_accuracy: 0.9250\n",
      "Epoch 32/100\n",
      "960/960 - 0s - loss: 0.3659 - accuracy: 0.9271 - val_loss: 0.3732 - val_accuracy: 0.9292\n",
      "Epoch 33/100\n",
      "960/960 - 0s - loss: 0.3559 - accuracy: 0.9271 - val_loss: 0.3638 - val_accuracy: 0.9292\n",
      "Epoch 34/100\n",
      "960/960 - 0s - loss: 0.3465 - accuracy: 0.9292 - val_loss: 0.3547 - val_accuracy: 0.9333\n",
      "Epoch 35/100\n",
      "960/960 - 0s - loss: 0.3382 - accuracy: 0.9292 - val_loss: 0.3458 - val_accuracy: 0.9292\n",
      "Epoch 36/100\n",
      "960/960 - 0s - loss: 0.3300 - accuracy: 0.9292 - val_loss: 0.3382 - val_accuracy: 0.9292\n",
      "Epoch 37/100\n",
      "960/960 - 0s - loss: 0.3227 - accuracy: 0.9292 - val_loss: 0.3309 - val_accuracy: 0.9292\n",
      "Epoch 38/100\n",
      "960/960 - 0s - loss: 0.3159 - accuracy: 0.9323 - val_loss: 0.3236 - val_accuracy: 0.9292\n",
      "Epoch 39/100\n",
      "960/960 - 0s - loss: 0.3093 - accuracy: 0.9312 - val_loss: 0.3172 - val_accuracy: 0.9333\n",
      "Epoch 40/100\n",
      "960/960 - 0s - loss: 0.3033 - accuracy: 0.9312 - val_loss: 0.3111 - val_accuracy: 0.9375\n",
      "Epoch 41/100\n",
      "960/960 - 0s - loss: 0.2978 - accuracy: 0.9312 - val_loss: 0.3052 - val_accuracy: 0.9417\n",
      "Epoch 42/100\n",
      "960/960 - 0s - loss: 0.2923 - accuracy: 0.9312 - val_loss: 0.2998 - val_accuracy: 0.9417\n",
      "Epoch 43/100\n",
      "960/960 - 0s - loss: 0.2873 - accuracy: 0.9312 - val_loss: 0.2946 - val_accuracy: 0.9500\n",
      "Epoch 44/100\n",
      "960/960 - 0s - loss: 0.2825 - accuracy: 0.9323 - val_loss: 0.2896 - val_accuracy: 0.9500\n",
      "Epoch 45/100\n",
      "960/960 - 0s - loss: 0.2781 - accuracy: 0.9323 - val_loss: 0.2848 - val_accuracy: 0.9500\n",
      "Epoch 46/100\n",
      "960/960 - 0s - loss: 0.2738 - accuracy: 0.9312 - val_loss: 0.2802 - val_accuracy: 0.9500\n",
      "Epoch 47/100\n",
      "960/960 - 0s - loss: 0.2697 - accuracy: 0.9302 - val_loss: 0.2762 - val_accuracy: 0.9500\n",
      "Epoch 48/100\n",
      "960/960 - 0s - loss: 0.2659 - accuracy: 0.9302 - val_loss: 0.2721 - val_accuracy: 0.9500\n",
      "Epoch 49/100\n",
      "960/960 - 0s - loss: 0.2623 - accuracy: 0.9323 - val_loss: 0.2683 - val_accuracy: 0.9375\n",
      "Epoch 50/100\n",
      "960/960 - 0s - loss: 0.2588 - accuracy: 0.9323 - val_loss: 0.2646 - val_accuracy: 0.9375\n",
      "Epoch 51/100\n",
      "960/960 - 0s - loss: 0.2555 - accuracy: 0.9323 - val_loss: 0.2611 - val_accuracy: 0.9375\n",
      "Epoch 52/100\n",
      "960/960 - 0s - loss: 0.2522 - accuracy: 0.9323 - val_loss: 0.2577 - val_accuracy: 0.9375\n",
      "Epoch 53/100\n",
      "960/960 - 0s - loss: 0.2493 - accuracy: 0.9312 - val_loss: 0.2544 - val_accuracy: 0.9375\n",
      "Epoch 54/100\n",
      "960/960 - 0s - loss: 0.2466 - accuracy: 0.9302 - val_loss: 0.2515 - val_accuracy: 0.9375\n",
      "Epoch 55/100\n",
      "960/960 - 0s - loss: 0.2437 - accuracy: 0.9323 - val_loss: 0.2483 - val_accuracy: 0.9333\n",
      "Epoch 56/100\n",
      "960/960 - 0s - loss: 0.2409 - accuracy: 0.9312 - val_loss: 0.2456 - val_accuracy: 0.9375\n",
      "Epoch 57/100\n",
      "960/960 - 0s - loss: 0.2383 - accuracy: 0.9302 - val_loss: 0.2429 - val_accuracy: 0.9375\n",
      "Epoch 58/100\n",
      "960/960 - 0s - loss: 0.2360 - accuracy: 0.9292 - val_loss: 0.2402 - val_accuracy: 0.9333\n",
      "Epoch 59/100\n",
      "960/960 - 0s - loss: 0.2336 - accuracy: 0.9302 - val_loss: 0.2377 - val_accuracy: 0.9333\n",
      "Epoch 60/100\n",
      "960/960 - 0s - loss: 0.2313 - accuracy: 0.9312 - val_loss: 0.2353 - val_accuracy: 0.9333\n",
      "Epoch 61/100\n",
      "960/960 - 0s - loss: 0.2293 - accuracy: 0.9302 - val_loss: 0.2330 - val_accuracy: 0.9333\n",
      "Epoch 62/100\n",
      "960/960 - 0s - loss: 0.2271 - accuracy: 0.9312 - val_loss: 0.2308 - val_accuracy: 0.9333\n",
      "Epoch 63/100\n",
      "960/960 - 0s - loss: 0.2251 - accuracy: 0.9312 - val_loss: 0.2284 - val_accuracy: 0.9292\n",
      "Epoch 64/100\n",
      "960/960 - 0s - loss: 0.2232 - accuracy: 0.9302 - val_loss: 0.2264 - val_accuracy: 0.9292\n",
      "Epoch 65/100\n",
      "960/960 - 0s - loss: 0.2213 - accuracy: 0.9302 - val_loss: 0.2244 - val_accuracy: 0.9292\n",
      "Epoch 66/100\n",
      "960/960 - 0s - loss: 0.2194 - accuracy: 0.9302 - val_loss: 0.2225 - val_accuracy: 0.9333\n",
      "Epoch 67/100\n",
      "960/960 - 0s - loss: 0.2177 - accuracy: 0.9312 - val_loss: 0.2205 - val_accuracy: 0.9333\n",
      "Epoch 68/100\n",
      "960/960 - 0s - loss: 0.2160 - accuracy: 0.9312 - val_loss: 0.2187 - val_accuracy: 0.9333\n",
      "Epoch 69/100\n",
      "960/960 - 0s - loss: 0.2144 - accuracy: 0.9302 - val_loss: 0.2169 - val_accuracy: 0.9208\n",
      "Epoch 70/100\n",
      "960/960 - 0s - loss: 0.2129 - accuracy: 0.9312 - val_loss: 0.2152 - val_accuracy: 0.9167\n",
      "Epoch 71/100\n",
      "960/960 - 0s - loss: 0.2115 - accuracy: 0.9312 - val_loss: 0.2138 - val_accuracy: 0.9292\n",
      "Epoch 72/100\n",
      "960/960 - 0s - loss: 0.2101 - accuracy: 0.9312 - val_loss: 0.2120 - val_accuracy: 0.9167\n",
      "Epoch 73/100\n",
      "960/960 - 0s - loss: 0.2087 - accuracy: 0.9312 - val_loss: 0.2105 - val_accuracy: 0.9167\n",
      "Epoch 74/100\n",
      "960/960 - 0s - loss: 0.2073 - accuracy: 0.9323 - val_loss: 0.2090 - val_accuracy: 0.9167\n",
      "Epoch 75/100\n",
      "960/960 - 0s - loss: 0.2062 - accuracy: 0.9302 - val_loss: 0.2075 - val_accuracy: 0.9167\n",
      "Epoch 76/100\n",
      "960/960 - 0s - loss: 0.2047 - accuracy: 0.9323 - val_loss: 0.2063 - val_accuracy: 0.9167\n",
      "Epoch 77/100\n",
      "960/960 - 0s - loss: 0.2033 - accuracy: 0.9323 - val_loss: 0.2048 - val_accuracy: 0.9167\n",
      "Epoch 78/100\n",
      "960/960 - 0s - loss: 0.2025 - accuracy: 0.9292 - val_loss: 0.2036 - val_accuracy: 0.9167\n",
      "Epoch 79/100\n",
      "960/960 - 0s - loss: 0.2009 - accuracy: 0.9312 - val_loss: 0.2022 - val_accuracy: 0.9167\n",
      "Epoch 80/100\n",
      "960/960 - 0s - loss: 0.1999 - accuracy: 0.9312 - val_loss: 0.2011 - val_accuracy: 0.9167\n"
     ]
    },
    {
     "name": "stdout",
     "output_type": "stream",
     "text": [
      "Epoch 81/100\n",
      "960/960 - 0s - loss: 0.1986 - accuracy: 0.9312 - val_loss: 0.1998 - val_accuracy: 0.9167\n",
      "Epoch 82/100\n",
      "960/960 - 0s - loss: 0.1979 - accuracy: 0.9281 - val_loss: 0.1986 - val_accuracy: 0.9167\n",
      "Epoch 83/100\n",
      "960/960 - 0s - loss: 0.1967 - accuracy: 0.9302 - val_loss: 0.1976 - val_accuracy: 0.9167\n",
      "Epoch 84/100\n",
      "960/960 - 0s - loss: 0.1959 - accuracy: 0.9281 - val_loss: 0.1963 - val_accuracy: 0.9167\n",
      "Epoch 85/100\n",
      "960/960 - 0s - loss: 0.1946 - accuracy: 0.9281 - val_loss: 0.1953 - val_accuracy: 0.9167\n",
      "Epoch 86/100\n",
      "960/960 - 0s - loss: 0.1938 - accuracy: 0.9281 - val_loss: 0.1944 - val_accuracy: 0.9167\n",
      "Epoch 87/100\n",
      "960/960 - 0s - loss: 0.1929 - accuracy: 0.9292 - val_loss: 0.1933 - val_accuracy: 0.9167\n",
      "Epoch 88/100\n",
      "960/960 - 0s - loss: 0.1921 - accuracy: 0.9292 - val_loss: 0.1923 - val_accuracy: 0.9167\n",
      "Epoch 89/100\n",
      "960/960 - 0s - loss: 0.1913 - accuracy: 0.9292 - val_loss: 0.1914 - val_accuracy: 0.9167\n",
      "Epoch 90/100\n",
      "960/960 - 0s - loss: 0.1904 - accuracy: 0.9281 - val_loss: 0.1904 - val_accuracy: 0.9167\n",
      "Epoch 91/100\n",
      "960/960 - 0s - loss: 0.1896 - accuracy: 0.9292 - val_loss: 0.1895 - val_accuracy: 0.9167\n",
      "Epoch 92/100\n",
      "960/960 - 0s - loss: 0.1887 - accuracy: 0.9292 - val_loss: 0.1886 - val_accuracy: 0.9167\n",
      "Epoch 93/100\n",
      "960/960 - 0s - loss: 0.1879 - accuracy: 0.9292 - val_loss: 0.1877 - val_accuracy: 0.9167\n",
      "Epoch 94/100\n",
      "960/960 - 0s - loss: 0.1870 - accuracy: 0.9292 - val_loss: 0.1869 - val_accuracy: 0.9167\n",
      "Epoch 95/100\n",
      "960/960 - 0s - loss: 0.1864 - accuracy: 0.9292 - val_loss: 0.1861 - val_accuracy: 0.9167\n",
      "Epoch 96/100\n",
      "960/960 - 0s - loss: 0.1856 - accuracy: 0.9292 - val_loss: 0.1853 - val_accuracy: 0.9167\n",
      "Epoch 97/100\n",
      "960/960 - 0s - loss: 0.1851 - accuracy: 0.9292 - val_loss: 0.1846 - val_accuracy: 0.9167\n",
      "Epoch 98/100\n",
      "960/960 - 0s - loss: 0.1845 - accuracy: 0.9292 - val_loss: 0.1838 - val_accuracy: 0.9167\n",
      "Epoch 99/100\n",
      "960/960 - 0s - loss: 0.1839 - accuracy: 0.9292 - val_loss: 0.1831 - val_accuracy: 0.9167\n",
      "Epoch 100/100\n",
      "960/960 - 0s - loss: 0.1828 - accuracy: 0.9292 - val_loss: 0.1822 - val_accuracy: 0.9167\n"
     ]
    }
   ],
   "source": [
    "history = model.fit(train_data,train_labels,epochs = 100, validation_split = 0.2, verbose = 2,callbacks = callbacks)"
   ]
  },
  {
   "cell_type": "code",
   "execution_count": 18,
   "metadata": {},
   "outputs": [
    {
     "data": {
      "image/png": "[encoded data removed]",
      "text/plain": [
       "<Figure size 432x288 with 1 Axes>"
      ]
     },
     "metadata": {
      "needs_background": "light"
     },
     "output_type": "display_data"
    },
    {
     "data": {
      "image/png": "[encoded data removed]",
      "text/plain": [
       "<Figure size 432x288 with 1 Axes>"
      ]
     },
     "metadata": {
      "needs_background": "light"
     },
     "output_type": "display_data"
    }
   ],
   "source": [
    "import matplotlib.pyplot as plt\n",
    "train_loss = history.history['loss']\n",
    "val_loss = history.history['val_loss']\n",
    "train_acc = history.history['accuracy']\n",
    "val_acc = history.history['val_accuracy']\n",
    "epochs = np.arange(1,len(train_loss)+1)\n",
    "plt.figure()\n",
    "plt.plot(epochs, train_loss, label = \"Training Loss\")\n",
    "plt.plot(epochs, val_loss, label = \"Validation Loss\")\n",
    "plt.legend()\n",
    "plt.title(\"Comparision of Loss\")\n",
    "plt.show()\n",
    "plt.figure()\n",
    "plt.plot(epochs, train_acc, label = \"Training Accuracy\")\n",
    "plt.plot(epochs, val_acc, label = \"Validation Accuracy\")\n",
    "plt.title(\"Comparison of Accuracy\")\n",
    "plt.legend()\n",
    "plt.show()"
   ]
  },
  {
   "cell_type": "code",
   "execution_count": 19,
   "metadata": {},
   "outputs": [
    {
     "name": "stdout",
     "output_type": "stream",
     "text": [
      "600/600 [==============================] - 0s 32us/sample - loss: 0.1805 - accuracy: 0.9450\n"
     ]
    }
   ],
   "source": [
    "test_loss,test_acc = model.evaluate(test_data, test_labels)"
   ]
  },
  {
   "cell_type": "code",
   "execution_count": 20,
   "metadata": {},
   "outputs": [
    {
     "name": "stdout",
     "output_type": "stream",
     "text": [
      "0.945\n"
     ]
    }
   ],
   "source": [
    "print(test_acc)"
   ]
  },
  {
   "cell_type": "code",
   "execution_count": 21,
   "metadata": {},
   "outputs": [],
   "source": [
    "prediction = model.predict(test_data)\n",
    "prediction_labels = list([])\n",
    "for each_prediction in prediction:\n",
    "    prediction_labels.append(list(each_prediction).index(max(each_prediction)))\n",
    "    "
   ]
  },
  {
   "cell_type": "code",
   "execution_count": 22,
   "metadata": {},
   "outputs": [],
   "source": [
    "from sklearn.metrics import confusion_matrix\n",
    "true_labels = np.argmax(test_labels, axis = 1)\n",
    "matrix = confusion_matrix(true_labels, prediction_labels)"
   ]
  },
  {
   "cell_type": "code",
   "execution_count": 23,
   "metadata": {},
   "outputs": [
    {
     "data": {
      "text/plain": [
       "(array([0.5, 1.5, 2.5, 3.5]), <a list of 4 Text xticklabel objects>)"
      ]
     },
     "execution_count": 23,
     "metadata": {},
     "output_type": "execute_result"
    },
    {
     "data": {
      "image/png": "[encoded data removed]",
      "text/plain": [
       "<Figure size 432x288 with 2 Axes>"
      ]
     },
     "metadata": {
      "needs_background": "light"
     },
     "output_type": "display_data"
    }
   ],
   "source": [
    "import seaborn as sns\n",
    "matrix = pd.DataFrame(matrix)\n",
    "sns.heatmap(matrix, annot= True, fmt = \"d\",\n",
    "           xticklabels = category_labels,\n",
    "           yticklabels = category_labels)\n",
    "plt.xticks(rotation = 90)"
   ]
  },
  {
   "cell_type": "code",
   "execution_count": null,
   "metadata": {},
   "outputs": [],
   "source": []
  }
 ],
 "metadata": {
  "kernelspec": {
   "display_name": "tensorflow_env",
   "language": "python",
   "name": "tensorflwo_env"
  },
  "language_info": {
   "codemirror_mode": {
    "name": "ipython",
    "version": 3
   },
   "file_extension": ".py",
   "mimetype": "text/x-python",
   "name": "python",
   "nbconvert_exporter": "python",
   "pygments_lexer": "ipython3",
   "version": "3.7.2"
  },
  "varInspector": {
   "cols": {
    "lenName": 16,
    "lenType": 16,
    "lenVar": 40
   },
   "kernels_config": {
    "python": {
     "delete_cmd_postfix": "",
     "delete_cmd_prefix": "del ",
     "library": "var_list.py",
     "varRefreshCmd": "print(var_dic_list())"
    },
    "r": {
     "delete_cmd_postfix": ") ",
     "delete_cmd_prefix": "rm(",
     "library": "var_list.r",
     "varRefreshCmd": "cat(var_dic_list()) "
    }
   },
   "position": {
    "height": "144px",
    "left": "580px",
    "right": "20px",
    "top": "136px",
    "width": "350px"
   },
   "types_to_exclude": [
    "module",
    "function",
    "builtin_function_or_method",
    "instance",
    "_Feature"
   ],
   "window_display": false
  }
 },
 "nbformat": 4,
 "nbformat_minor": 2
}
