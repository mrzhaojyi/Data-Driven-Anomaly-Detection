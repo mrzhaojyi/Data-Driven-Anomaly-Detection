{
 "cells": [
  {
   "cell_type": "markdown",
   "metadata": {},
   "source": [
    "## Preprocess data\n",
    "\n",
    "First read data from directory. After reading data, convert the categorical column into numerical values that can be put into neural network.\n",
    "\n",
    "Using 'glob' package we can read data files containing specific characters. "
   ]
  },
  {
   "cell_type": "code",
   "execution_count": 1,
   "metadata": {},
   "outputs": [],
   "source": [
    "import pandas as pd"
   ]
  },
  {
   "cell_type": "code",
   "execution_count": 2,
   "metadata": {},
   "outputs": [
    {
     "data": {
      "text/html": [
       "<div>\n",
       "<style scoped>\n",
       "    .dataframe tbody tr th:only-of-type {\n",
       "        vertical-align: middle;\n",
       "    }\n",
       "\n",
       "    .dataframe tbody tr th {\n",
       "        vertical-align: top;\n",
       "    }\n",
       "\n",
       "    .dataframe thead th {\n",
       "        text-align: right;\n",
       "    }\n",
       "</style>\n",
       "<table border=\"1\" class=\"dataframe\">\n",
       "  <thead>\n",
       "    <tr style=\"text-align: right;\">\n",
       "      <th></th>\n",
       "      <th>E1</th>\n",
       "      <th>E2</th>\n",
       "      <th>E3</th>\n",
       "      <th>E4</th>\n",
       "      <th>E5</th>\n",
       "      <th>E6</th>\n",
       "      <th>E7</th>\n",
       "      <th>E8</th>\n",
       "      <th>fault_type</th>\n",
       "    </tr>\n",
       "  </thead>\n",
       "  <tbody>\n",
       "    <tr>\n",
       "      <th>0</th>\n",
       "      <td>1.8697</td>\n",
       "      <td>3.6478</td>\n",
       "      <td>0.33794</td>\n",
       "      <td>0.035385</td>\n",
       "      <td>0.007739</td>\n",
       "      <td>0.008556</td>\n",
       "      <td>0.004237</td>\n",
       "      <td>0.000475</td>\n",
       "      <td>Normal</td>\n",
       "    </tr>\n",
       "    <tr>\n",
       "      <th>1</th>\n",
       "      <td>1.8725</td>\n",
       "      <td>2.8091</td>\n",
       "      <td>0.32781</td>\n",
       "      <td>0.041769</td>\n",
       "      <td>0.009650</td>\n",
       "      <td>0.010740</td>\n",
       "      <td>0.005232</td>\n",
       "      <td>0.001947</td>\n",
       "      <td>Normal</td>\n",
       "    </tr>\n",
       "    <tr>\n",
       "      <th>2</th>\n",
       "      <td>2.0595</td>\n",
       "      <td>3.8041</td>\n",
       "      <td>0.36825</td>\n",
       "      <td>0.036564</td>\n",
       "      <td>0.006459</td>\n",
       "      <td>0.008987</td>\n",
       "      <td>0.005481</td>\n",
       "      <td>0.000967</td>\n",
       "      <td>Normal</td>\n",
       "    </tr>\n",
       "    <tr>\n",
       "      <th>3</th>\n",
       "      <td>2.5273</td>\n",
       "      <td>3.5595</td>\n",
       "      <td>0.35947</td>\n",
       "      <td>0.038535</td>\n",
       "      <td>0.006255</td>\n",
       "      <td>0.008491</td>\n",
       "      <td>0.002687</td>\n",
       "      <td>0.000332</td>\n",
       "      <td>Normal</td>\n",
       "    </tr>\n",
       "    <tr>\n",
       "      <th>4</th>\n",
       "      <td>1.8534</td>\n",
       "      <td>3.6642</td>\n",
       "      <td>0.35441</td>\n",
       "      <td>0.038339</td>\n",
       "      <td>0.006703</td>\n",
       "      <td>0.008614</td>\n",
       "      <td>0.004021</td>\n",
       "      <td>0.001111</td>\n",
       "      <td>Normal</td>\n",
       "    </tr>\n",
       "  </tbody>\n",
       "</table>\n",
       "</div>"
      ],
      "text/plain": [
       "       E1      E2       E3        E4        E5        E6        E7        E8  \\\n",
       "0  1.8697  3.6478  0.33794  0.035385  0.007739  0.008556  0.004237  0.000475   \n",
       "1  1.8725  2.8091  0.32781  0.041769  0.009650  0.010740  0.005232  0.001947   \n",
       "2  2.0595  3.8041  0.36825  0.036564  0.006459  0.008987  0.005481  0.000967   \n",
       "3  2.5273  3.5595  0.35947  0.038535  0.006255  0.008491  0.002687  0.000332   \n",
       "4  1.8534  3.6642  0.35441  0.038339  0.006703  0.008614  0.004021  0.001111   \n",
       "\n",
       "  fault_type  \n",
       "0     Normal  \n",
       "1     Normal  \n",
       "2     Normal  \n",
       "3     Normal  \n",
       "4     Normal  "
      ]
     },
     "execution_count": 2,
     "metadata": {},
     "output_type": "execute_result"
    }
   ],
   "source": [
    "path = \"D:/rfiles/feature_matrix/feature_matrix_energy8_1024_ball.csv\"\n",
    "df = pd.read_csv(path)\n",
    "df.head()"
   ]
  },
  {
   "cell_type": "markdown",
   "metadata": {},
   "source": [
    "Now we will read the first files and use it in further analysis. "
   ]
  },
  {
   "cell_type": "code",
   "execution_count": 3,
   "metadata": {},
   "outputs": [
    {
     "data": {
      "text/plain": [
       "Normal        1657\n",
       "0.014 inch     475\n",
       "0.021 inch     475\n",
       "0.007 inch     473\n",
       "0.028 inch     471\n",
       "Name: fault_type, dtype: int64"
      ]
     },
     "execution_count": 3,
     "metadata": {},
     "output_type": "execute_result"
    }
   ],
   "source": [
    "df[\"fault_type\"].value_counts()"
   ]
  },
  {
   "cell_type": "markdown",
   "metadata": {},
   "source": [
    "Now we will split the total data into training and test set. The dataset is unbalanced (it has more normal data as compared to other faulty data types). So first we create a balanced dataset and then form a training and test set."
   ]
  },
  {
   "cell_type": "code",
   "execution_count": 4,
   "metadata": {},
   "outputs": [],
   "source": [
    "import numpy as np\n",
    "from numpy.random import choice \n",
    "np.random.seed(1)\n",
    "index = np.array([choice(np.arange(0,1657),450,replace = False),\n",
    "                choice(np.arange(1657,2130),450,replace = False),\n",
    "                choice(np.arange(2130,2605),450,replace = False),\n",
    "                choice(np.arange(2605,3080),450,replace = False),\n",
    "                choice(np.arange(3080,3551),450,replace = False)])\n",
    "index = index.ravel()\n",
    "data = df.iloc[index,]\n",
    "data = data.reset_index(drop = True)\n",
    "test_index = np.array([choice(np.arange(0,450),150, replace = False),\n",
    "                     choice(np.arange(450,2*450),150, replace = False),\n",
    "                     choice(np.arange(2*450,3*450),150, replace = False),\n",
    "                     choice(np.arange(3*450,4*450),150, replace = False),\n",
    "                     choice(np.arange(4*450,5*450),150, replace = False)])\n",
    "test_index = test_index.ravel()\n",
    "test_data = data.iloc[test_index,]\n",
    "train_data = data.drop(data.index[test_index])\n",
    "\n",
    "# Shuffle data\n",
    "train_data = train_data.sample(frac = 1, random_state = 2)\n",
    "test_data = test_data.sample(frac = 1, random_state = 3)\n",
    "\n",
    "# Convert categorical lables to numberic entries\n",
    "\n",
    "category_labels = ['Normal', '0.007 inch', '0.014 inch','0.021 inch', '0.028 inch']\n",
    "# test_labels = test_data['fault_type']\n",
    "test_labels = pd.Categorical(test_data['fault_type'],categories= category_labels).codes # Produces ndarrays\n",
    "# train_labels = train_data['fault_type']\n",
    "train_labels = pd.Categorical(train_data['fault_type'], categories = category_labels).codes"
   ]
  },
  {
   "cell_type": "code",
   "execution_count": 5,
   "metadata": {},
   "outputs": [
    {
     "name": "stdout",
     "output_type": "stream",
     "text": [
      "(2250, 9) (750, 9) (1500, 9) (750,) (1500,)\n"
     ]
    }
   ],
   "source": [
    "print(data.shape,test_data.shape,train_data.shape,test_labels.shape,train_labels.shape)"
   ]
  },
  {
   "cell_type": "code",
   "execution_count": 6,
   "metadata": {},
   "outputs": [],
   "source": [
    "import tensorflow as tf\n",
    "from tensorflow import keras\n",
    "from tensorflow.keras.models import Sequential\n",
    "from tensorflow.keras import layers\n",
    "from tensorflow.keras.utils import to_categorical\n",
    "from tensorflow.keras.callbacks import EarlyStopping, ModelCheckpoint\n",
    "import sklearn\n",
    "from sklearn import preprocessing"
   ]
  },
  {
   "cell_type": "code",
   "execution_count": 7,
   "metadata": {},
   "outputs": [],
   "source": [
    "# Convert labels to categorical data\n",
    "train_data = train_data.iloc[:,0:8]\n",
    "test_data = test_data.iloc[:,0:8]\n",
    "# Scale the data\n",
    "train_data = preprocessing.scale(train_data)\n",
    "test_data = preprocessing.scale(test_data)\n",
    "train_labels = to_categorical(train_labels)\n",
    "test_labels = to_categorical(test_labels)"
   ]
  },
  {
   "cell_type": "code",
   "execution_count": 8,
   "metadata": {},
   "outputs": [
    {
     "name": "stdout",
     "output_type": "stream",
     "text": [
      "(1500, 8) (750, 8) (1500, 5) (750, 5)\n"
     ]
    }
   ],
   "source": [
    "print(train_data.shape, test_data.shape, train_labels.shape, test_labels.shape)"
   ]
  },
  {
   "cell_type": "code",
   "execution_count": 19,
   "metadata": {},
   "outputs": [
    {
     "name": "stdout",
     "output_type": "stream",
     "text": [
      "Model: \"sequential_1\"\n",
      "_________________________________________________________________\n",
      "Layer (type)                 Output Shape              Param #   \n",
      "=================================================================\n",
      "dense_2 (Dense)              (None, 16)                144       \n",
      "_________________________________________________________________\n",
      "dropout (Dropout)            (None, 16)                0         \n",
      "_________________________________________________________________\n",
      "dense_3 (Dense)              (None, 5)                 85        \n",
      "=================================================================\n",
      "Total params: 229\n",
      "Trainable params: 229\n",
      "Non-trainable params: 0\n",
      "_________________________________________________________________\n"
     ]
    }
   ],
   "source": [
    "model = Sequential([\n",
    "    layers.Dense(16,activation = 'relu', input_dim = 8),\n",
    "#     layers.Dense(5,activation = 'relu'),\n",
    "#     layers.Dense(5,activation = 'relu'),\n",
    "     layers.Dropout(0.2),\n",
    "    layers.Dense(5,activation = 'softmax')\n",
    "])\n",
    "model.summary()"
   ]
  },
  {
   "cell_type": "code",
   "execution_count": 20,
   "metadata": {},
   "outputs": [],
   "source": [
    "model.compile(optimizer = 'adam',loss = 'categorical_crossentropy', metrics = ['accuracy'])"
   ]
  },
  {
   "cell_type": "code",
   "execution_count": 21,
   "metadata": {},
   "outputs": [],
   "source": [
    "callbacks = [EarlyStopping(monitor = 'val_loss', mode = 'min', verbose = 1, patience = 5)]"
   ]
  },
  {
   "cell_type": "code",
   "execution_count": 22,
   "metadata": {},
   "outputs": [
    {
     "name": "stdout",
     "output_type": "stream",
     "text": [
      "Train on 1200 samples, validate on 300 samples\n",
      "Epoch 1/100\n",
      "1200/1200 - 0s - loss: 1.9012 - accuracy: 0.3133 - val_loss: 1.6477 - val_accuracy: 0.2700\n",
      "Epoch 2/100\n",
      "1200/1200 - 0s - loss: 1.5265 - accuracy: 0.3133 - val_loss: 1.3146 - val_accuracy: 0.4167\n",
      "Epoch 3/100\n",
      "1200/1200 - 0s - loss: 1.2554 - accuracy: 0.4642 - val_loss: 1.1570 - val_accuracy: 0.4633\n",
      "Epoch 4/100\n",
      "1200/1200 - 0s - loss: 1.1426 - accuracy: 0.5242 - val_loss: 1.0971 - val_accuracy: 0.4967\n",
      "Epoch 5/100\n",
      "1200/1200 - 0s - loss: 1.0910 - accuracy: 0.5258 - val_loss: 1.0608 - val_accuracy: 0.5267\n",
      "Epoch 6/100\n",
      "1200/1200 - 0s - loss: 1.0645 - accuracy: 0.5425 - val_loss: 1.0320 - val_accuracy: 0.5633\n",
      "Epoch 7/100\n",
      "1200/1200 - 0s - loss: 1.0364 - accuracy: 0.5675 - val_loss: 1.0039 - val_accuracy: 0.6367\n",
      "Epoch 8/100\n",
      "1200/1200 - 0s - loss: 1.0050 - accuracy: 0.5692 - val_loss: 0.9784 - val_accuracy: 0.6333\n",
      "Epoch 9/100\n",
      "1200/1200 - 0s - loss: 0.9846 - accuracy: 0.5583 - val_loss: 0.9527 - val_accuracy: 0.6200\n",
      "Epoch 10/100\n",
      "1200/1200 - 0s - loss: 0.9527 - accuracy: 0.5800 - val_loss: 0.9284 - val_accuracy: 0.6533\n",
      "Epoch 11/100\n",
      "1200/1200 - 0s - loss: 0.9304 - accuracy: 0.6208 - val_loss: 0.9084 - val_accuracy: 0.6567\n",
      "Epoch 12/100\n",
      "1200/1200 - 0s - loss: 0.9185 - accuracy: 0.6008 - val_loss: 0.8896 - val_accuracy: 0.6667\n",
      "Epoch 13/100\n",
      "1200/1200 - 0s - loss: 0.8876 - accuracy: 0.6192 - val_loss: 0.8686 - val_accuracy: 0.6600\n",
      "Epoch 14/100\n",
      "1200/1200 - 0s - loss: 0.8832 - accuracy: 0.5992 - val_loss: 0.8510 - val_accuracy: 0.6100\n",
      "Epoch 15/100\n",
      "1200/1200 - 0s - loss: 0.8556 - accuracy: 0.5983 - val_loss: 0.8344 - val_accuracy: 0.6200\n",
      "Epoch 16/100\n",
      "1200/1200 - 0s - loss: 0.8370 - accuracy: 0.6283 - val_loss: 0.8184 - val_accuracy: 0.6333\n",
      "Epoch 17/100\n",
      "1200/1200 - 0s - loss: 0.8241 - accuracy: 0.6208 - val_loss: 0.8032 - val_accuracy: 0.6333\n",
      "Epoch 18/100\n",
      "1200/1200 - 0s - loss: 0.8114 - accuracy: 0.6117 - val_loss: 0.7920 - val_accuracy: 0.5867\n",
      "Epoch 19/100\n",
      "1200/1200 - 0s - loss: 0.8199 - accuracy: 0.5842 - val_loss: 0.7790 - val_accuracy: 0.6033\n",
      "Epoch 20/100\n",
      "1200/1200 - 0s - loss: 0.7933 - accuracy: 0.6167 - val_loss: 0.7683 - val_accuracy: 0.6367\n",
      "Epoch 21/100\n",
      "1200/1200 - 0s - loss: 0.7909 - accuracy: 0.6058 - val_loss: 0.7580 - val_accuracy: 0.6333\n",
      "Epoch 22/100\n",
      "1200/1200 - 0s - loss: 0.7633 - accuracy: 0.6225 - val_loss: 0.7507 - val_accuracy: 0.6033\n",
      "Epoch 23/100\n",
      "1200/1200 - 0s - loss: 0.7730 - accuracy: 0.6108 - val_loss: 0.7420 - val_accuracy: 0.6000\n",
      "Epoch 24/100\n",
      "1200/1200 - 0s - loss: 0.7576 - accuracy: 0.6075 - val_loss: 0.7343 - val_accuracy: 0.6000\n",
      "Epoch 25/100\n",
      "1200/1200 - 0s - loss: 0.7462 - accuracy: 0.6058 - val_loss: 0.7264 - val_accuracy: 0.6100\n",
      "Epoch 26/100\n",
      "1200/1200 - 0s - loss: 0.7341 - accuracy: 0.6292 - val_loss: 0.7177 - val_accuracy: 0.6533\n",
      "Epoch 27/100\n",
      "1200/1200 - 0s - loss: 0.7332 - accuracy: 0.6200 - val_loss: 0.7136 - val_accuracy: 0.6133\n",
      "Epoch 28/100\n",
      "1200/1200 - 0s - loss: 0.7221 - accuracy: 0.6358 - val_loss: 0.7065 - val_accuracy: 0.6200\n",
      "Epoch 29/100\n",
      "1200/1200 - 0s - loss: 0.7208 - accuracy: 0.6075 - val_loss: 0.7006 - val_accuracy: 0.6167\n",
      "Epoch 30/100\n",
      "1200/1200 - 0s - loss: 0.7084 - accuracy: 0.6358 - val_loss: 0.6956 - val_accuracy: 0.6300\n",
      "Epoch 31/100\n",
      "1200/1200 - 0s - loss: 0.7064 - accuracy: 0.6350 - val_loss: 0.6902 - val_accuracy: 0.6400\n",
      "Epoch 32/100\n",
      "1200/1200 - 0s - loss: 0.7071 - accuracy: 0.6250 - val_loss: 0.6870 - val_accuracy: 0.6233\n",
      "Epoch 33/100\n",
      "1200/1200 - 0s - loss: 0.7006 - accuracy: 0.6167 - val_loss: 0.6831 - val_accuracy: 0.6233\n",
      "Epoch 34/100\n",
      "1200/1200 - 0s - loss: 0.6983 - accuracy: 0.6217 - val_loss: 0.6782 - val_accuracy: 0.6167\n",
      "Epoch 35/100\n",
      "1200/1200 - 0s - loss: 0.7093 - accuracy: 0.6150 - val_loss: 0.6766 - val_accuracy: 0.6500\n",
      "Epoch 36/100\n",
      "1200/1200 - 0s - loss: 0.7044 - accuracy: 0.6433 - val_loss: 0.6732 - val_accuracy: 0.6233\n",
      "Epoch 37/100\n",
      "1200/1200 - 0s - loss: 0.6907 - accuracy: 0.6367 - val_loss: 0.6694 - val_accuracy: 0.6367\n",
      "Epoch 38/100\n",
      "1200/1200 - 0s - loss: 0.6903 - accuracy: 0.6375 - val_loss: 0.6666 - val_accuracy: 0.6367\n",
      "Epoch 39/100\n",
      "1200/1200 - 0s - loss: 0.6961 - accuracy: 0.6250 - val_loss: 0.6655 - val_accuracy: 0.6500\n",
      "Epoch 40/100\n",
      "1200/1200 - 0s - loss: 0.6856 - accuracy: 0.6458 - val_loss: 0.6636 - val_accuracy: 0.6500\n",
      "Epoch 41/100\n",
      "1200/1200 - 0s - loss: 0.6811 - accuracy: 0.6525 - val_loss: 0.6605 - val_accuracy: 0.6433\n",
      "Epoch 42/100\n",
      "1200/1200 - 0s - loss: 0.6755 - accuracy: 0.6417 - val_loss: 0.6579 - val_accuracy: 0.6633\n",
      "Epoch 43/100\n",
      "1200/1200 - 0s - loss: 0.6748 - accuracy: 0.6450 - val_loss: 0.6554 - val_accuracy: 0.6633\n",
      "Epoch 44/100\n",
      "1200/1200 - 0s - loss: 0.6768 - accuracy: 0.6533 - val_loss: 0.6532 - val_accuracy: 0.6467\n",
      "Epoch 45/100\n",
      "1200/1200 - 0s - loss: 0.6683 - accuracy: 0.6342 - val_loss: 0.6517 - val_accuracy: 0.6533\n",
      "Epoch 46/100\n",
      "1200/1200 - 0s - loss: 0.6721 - accuracy: 0.6425 - val_loss: 0.6498 - val_accuracy: 0.6533\n",
      "Epoch 47/100\n",
      "1200/1200 - 0s - loss: 0.6671 - accuracy: 0.6525 - val_loss: 0.6474 - val_accuracy: 0.6533\n",
      "Epoch 48/100\n",
      "1200/1200 - 0s - loss: 0.6799 - accuracy: 0.6167 - val_loss: 0.6460 - val_accuracy: 0.6600\n",
      "Epoch 49/100\n",
      "1200/1200 - 0s - loss: 0.6671 - accuracy: 0.6508 - val_loss: 0.6457 - val_accuracy: 0.6533\n",
      "Epoch 50/100\n",
      "1200/1200 - 0s - loss: 0.6612 - accuracy: 0.6492 - val_loss: 0.6434 - val_accuracy: 0.6667\n",
      "Epoch 51/100\n",
      "1200/1200 - 0s - loss: 0.6592 - accuracy: 0.6600 - val_loss: 0.6429 - val_accuracy: 0.6700\n",
      "Epoch 52/100\n",
      "1200/1200 - 0s - loss: 0.6485 - accuracy: 0.6800 - val_loss: 0.6408 - val_accuracy: 0.6633\n",
      "Epoch 53/100\n",
      "1200/1200 - 0s - loss: 0.6669 - accuracy: 0.6442 - val_loss: 0.6405 - val_accuracy: 0.6533\n",
      "Epoch 54/100\n",
      "1200/1200 - 0s - loss: 0.6680 - accuracy: 0.6467 - val_loss: 0.6398 - val_accuracy: 0.6567\n",
      "Epoch 55/100\n",
      "1200/1200 - 0s - loss: 0.6524 - accuracy: 0.6742 - val_loss: 0.6379 - val_accuracy: 0.6567\n",
      "Epoch 56/100\n",
      "1200/1200 - 0s - loss: 0.6575 - accuracy: 0.6608 - val_loss: 0.6381 - val_accuracy: 0.6567\n",
      "Epoch 57/100\n",
      "1200/1200 - 0s - loss: 0.6514 - accuracy: 0.6567 - val_loss: 0.6358 - val_accuracy: 0.6600\n",
      "Epoch 58/100\n",
      "1200/1200 - 0s - loss: 0.6474 - accuracy: 0.6725 - val_loss: 0.6334 - val_accuracy: 0.6800\n",
      "Epoch 59/100\n",
      "1200/1200 - 0s - loss: 0.6582 - accuracy: 0.6458 - val_loss: 0.6329 - val_accuracy: 0.6800\n",
      "Epoch 60/100\n",
      "1200/1200 - 0s - loss: 0.6427 - accuracy: 0.6700 - val_loss: 0.6308 - val_accuracy: 0.6800\n",
      "Epoch 61/100\n",
      "1200/1200 - 0s - loss: 0.6518 - accuracy: 0.6417 - val_loss: 0.6309 - val_accuracy: 0.6700\n",
      "Epoch 62/100\n",
      "1200/1200 - 0s - loss: 0.6372 - accuracy: 0.6825 - val_loss: 0.6281 - val_accuracy: 0.6833\n",
      "Epoch 63/100\n",
      "1200/1200 - 0s - loss: 0.6450 - accuracy: 0.6650 - val_loss: 0.6286 - val_accuracy: 0.6667\n",
      "Epoch 64/100\n",
      "1200/1200 - 0s - loss: 0.6403 - accuracy: 0.6625 - val_loss: 0.6260 - val_accuracy: 0.6733\n",
      "Epoch 65/100\n",
      "1200/1200 - 0s - loss: 0.6363 - accuracy: 0.6908 - val_loss: 0.6258 - val_accuracy: 0.6667\n",
      "Epoch 66/100\n",
      "1200/1200 - 0s - loss: 0.6293 - accuracy: 0.6867 - val_loss: 0.6233 - val_accuracy: 0.6700\n",
      "Epoch 67/100\n",
      "1200/1200 - 0s - loss: 0.6447 - accuracy: 0.6608 - val_loss: 0.6226 - val_accuracy: 0.6667\n",
      "Epoch 68/100\n",
      "1200/1200 - 0s - loss: 0.6437 - accuracy: 0.6642 - val_loss: 0.6217 - val_accuracy: 0.6800\n",
      "Epoch 69/100\n",
      "1200/1200 - 0s - loss: 0.6358 - accuracy: 0.6817 - val_loss: 0.6203 - val_accuracy: 0.6833\n",
      "Epoch 70/100\n",
      "1200/1200 - 0s - loss: 0.6257 - accuracy: 0.6775 - val_loss: 0.6193 - val_accuracy: 0.6767\n",
      "Epoch 71/100\n",
      "1200/1200 - 0s - loss: 0.6432 - accuracy: 0.6683 - val_loss: 0.6177 - val_accuracy: 0.7067\n",
      "Epoch 72/100\n",
      "1200/1200 - 0s - loss: 0.6270 - accuracy: 0.6867 - val_loss: 0.6178 - val_accuracy: 0.6900\n",
      "Epoch 73/100\n",
      "1200/1200 - 0s - loss: 0.6257 - accuracy: 0.6825 - val_loss: 0.6144 - val_accuracy: 0.7000\n",
      "Epoch 74/100\n",
      "1200/1200 - 0s - loss: 0.6295 - accuracy: 0.6667 - val_loss: 0.6132 - val_accuracy: 0.7000\n",
      "Epoch 75/100\n",
      "1200/1200 - 0s - loss: 0.6282 - accuracy: 0.6783 - val_loss: 0.6119 - val_accuracy: 0.7067\n",
      "Epoch 76/100\n",
      "1200/1200 - 0s - loss: 0.6305 - accuracy: 0.6833 - val_loss: 0.6126 - val_accuracy: 0.7000\n",
      "Epoch 77/100\n",
      "1200/1200 - 0s - loss: 0.6292 - accuracy: 0.6600 - val_loss: 0.6118 - val_accuracy: 0.7000\n",
      "Epoch 78/100\n",
      "1200/1200 - 0s - loss: 0.6384 - accuracy: 0.6883 - val_loss: 0.6120 - val_accuracy: 0.6933\n",
      "Epoch 79/100\n",
      "1200/1200 - 0s - loss: 0.6281 - accuracy: 0.6825 - val_loss: 0.6095 - val_accuracy: 0.7000\n"
     ]
    },
    {
     "name": "stdout",
     "output_type": "stream",
     "text": [
      "Epoch 80/100\n",
      "1200/1200 - 0s - loss: 0.6259 - accuracy: 0.6683 - val_loss: 0.6093 - val_accuracy: 0.6900\n",
      "Epoch 81/100\n",
      "1200/1200 - 0s - loss: 0.6107 - accuracy: 0.6917 - val_loss: 0.6087 - val_accuracy: 0.7067\n",
      "Epoch 82/100\n",
      "1200/1200 - 0s - loss: 0.6249 - accuracy: 0.6900 - val_loss: 0.6069 - val_accuracy: 0.7067\n",
      "Epoch 83/100\n",
      "1200/1200 - 0s - loss: 0.6197 - accuracy: 0.6858 - val_loss: 0.6049 - val_accuracy: 0.7167\n",
      "Epoch 84/100\n",
      "1200/1200 - 0s - loss: 0.6164 - accuracy: 0.6858 - val_loss: 0.6063 - val_accuracy: 0.6933\n",
      "Epoch 85/100\n",
      "1200/1200 - 0s - loss: 0.6283 - accuracy: 0.6733 - val_loss: 0.6031 - val_accuracy: 0.7067\n",
      "Epoch 86/100\n",
      "1200/1200 - 0s - loss: 0.6076 - accuracy: 0.6892 - val_loss: 0.6023 - val_accuracy: 0.7033\n",
      "Epoch 87/100\n",
      "1200/1200 - 0s - loss: 0.6173 - accuracy: 0.6992 - val_loss: 0.6005 - val_accuracy: 0.7133\n",
      "Epoch 88/100\n",
      "1200/1200 - 0s - loss: 0.6242 - accuracy: 0.6875 - val_loss: 0.6011 - val_accuracy: 0.7000\n",
      "Epoch 89/100\n",
      "1200/1200 - 0s - loss: 0.6151 - accuracy: 0.6792 - val_loss: 0.5997 - val_accuracy: 0.7067\n",
      "Epoch 90/100\n",
      "1200/1200 - 0s - loss: 0.6159 - accuracy: 0.6833 - val_loss: 0.5983 - val_accuracy: 0.7100\n",
      "Epoch 91/100\n",
      "1200/1200 - 0s - loss: 0.6163 - accuracy: 0.6858 - val_loss: 0.5972 - val_accuracy: 0.7100\n",
      "Epoch 92/100\n",
      "1200/1200 - 0s - loss: 0.6040 - accuracy: 0.6850 - val_loss: 0.5959 - val_accuracy: 0.7033\n",
      "Epoch 93/100\n",
      "1200/1200 - 0s - loss: 0.6122 - accuracy: 0.6942 - val_loss: 0.5949 - val_accuracy: 0.7067\n",
      "Epoch 94/100\n",
      "1200/1200 - 0s - loss: 0.6185 - accuracy: 0.6892 - val_loss: 0.5934 - val_accuracy: 0.7167\n",
      "Epoch 95/100\n",
      "1200/1200 - 0s - loss: 0.6036 - accuracy: 0.7033 - val_loss: 0.5933 - val_accuracy: 0.7100\n",
      "Epoch 96/100\n",
      "1200/1200 - 0s - loss: 0.6175 - accuracy: 0.6800 - val_loss: 0.5926 - val_accuracy: 0.7167\n",
      "Epoch 97/100\n",
      "1200/1200 - 0s - loss: 0.6179 - accuracy: 0.6892 - val_loss: 0.5909 - val_accuracy: 0.7067\n",
      "Epoch 98/100\n",
      "1200/1200 - 0s - loss: 0.6053 - accuracy: 0.6942 - val_loss: 0.5911 - val_accuracy: 0.7167\n",
      "Epoch 99/100\n",
      "1200/1200 - 0s - loss: 0.6165 - accuracy: 0.6850 - val_loss: 0.5887 - val_accuracy: 0.7100\n",
      "Epoch 100/100\n",
      "1200/1200 - 0s - loss: 0.6046 - accuracy: 0.6842 - val_loss: 0.5870 - val_accuracy: 0.7067\n"
     ]
    }
   ],
   "source": [
    "history = model.fit(train_data,train_labels,epochs = 100, validation_split = 0.2, verbose = 2,callbacks = callbacks)"
   ]
  },
  {
   "cell_type": "code",
   "execution_count": 23,
   "metadata": {},
   "outputs": [
    {
     "data": {
      "image/png": "[encoded data removed]",
      "text/plain": [
       "<Figure size 432x288 with 1 Axes>"
      ]
     },
     "metadata": {
      "needs_background": "light"
     },
     "output_type": "display_data"
    },
    {
     "data": {
      "image/png": "[encoded data removed]",
      "text/plain": [
       "<Figure size 432x288 with 1 Axes>"
      ]
     },
     "metadata": {
      "needs_background": "light"
     },
     "output_type": "display_data"
    }
   ],
   "source": [
    "import matplotlib.pyplot as plt\n",
    "train_loss = history.history['loss']\n",
    "val_loss = history.history['val_loss']\n",
    "train_acc = history.history['accuracy']\n",
    "val_acc = history.history['val_accuracy']\n",
    "epochs = np.arange(1,len(train_loss)+1)\n",
    "plt.figure()\n",
    "plt.plot(epochs, train_loss, label = \"Training Loss\")\n",
    "plt.plot(epochs, val_loss, label = \"Validation Loss\")\n",
    "plt.legend()\n",
    "plt.title(\"Comparision of Loss\")\n",
    "plt.show()\n",
    "plt.figure()\n",
    "plt.plot(epochs, train_acc, label = \"Training Accuracy\")\n",
    "plt.plot(epochs, val_acc, label = \"Validation Accuracy\")\n",
    "plt.title(\"Comparison of Accuracy\")\n",
    "plt.legend()\n",
    "plt.show()"
   ]
  },
  {
   "cell_type": "code",
   "execution_count": 24,
   "metadata": {},
   "outputs": [
    {
     "name": "stdout",
     "output_type": "stream",
     "text": [
      "750/750 [==============================] - 0s 33us/sample - loss: 0.5827 - accuracy: 0.7267\n"
     ]
    }
   ],
   "source": [
    "test_loss,test_acc = model.evaluate(test_data, test_labels)"
   ]
  },
  {
   "cell_type": "code",
   "execution_count": 25,
   "metadata": {},
   "outputs": [
    {
     "name": "stdout",
     "output_type": "stream",
     "text": [
      "0.7266667\n"
     ]
    }
   ],
   "source": [
    "print(test_acc)"
   ]
  },
  {
   "cell_type": "code",
   "execution_count": 26,
   "metadata": {},
   "outputs": [],
   "source": [
    "prediction = model.predict(test_data)\n",
    "prediction_labels = list([])\n",
    "for each_prediction in prediction:\n",
    "    prediction_labels.append(list(each_prediction).index(max(each_prediction)))\n",
    "    "
   ]
  },
  {
   "cell_type": "code",
   "execution_count": 27,
   "metadata": {},
   "outputs": [],
   "source": [
    "from sklearn.metrics import confusion_matrix\n",
    "true_labels = np.argmax(test_labels, axis = 1)\n",
    "matrix = confusion_matrix(true_labels, prediction_labels)"
   ]
  },
  {
   "cell_type": "code",
   "execution_count": 18,
   "metadata": {},
   "outputs": [
    {
     "data": {
      "text/plain": [
       "(array([0.5, 1.5, 2.5, 3.5, 4.5]), <a list of 5 Text xticklabel objects>)"
      ]
     },
     "execution_count": 18,
     "metadata": {},
     "output_type": "execute_result"
    },
    {
     "data": {
      "image/png": "[encoded data removed]",
      "text/plain": [
       "<Figure size 432x288 with 2 Axes>"
      ]
     },
     "metadata": {
      "needs_background": "light"
     },
     "output_type": "display_data"
    }
   ],
   "source": [
    "import seaborn as sns\n",
    "matrix = pd.DataFrame(matrix)\n",
    "sns.heatmap(matrix, annot= True, fmt = \"d\",\n",
    "           xticklabels = category_labels,\n",
    "           yticklabels = category_labels)\n",
    "plt.xticks(rotation = 90)"
   ]
  },
  {
   "cell_type": "code",
   "execution_count": null,
   "metadata": {},
   "outputs": [],
   "source": []
  }
 ],
 "metadata": {
  "kernelspec": {
   "display_name": "tensorflow_env",
   "language": "python",
   "name": "tensorflwo_env"
  },
  "language_info": {
   "codemirror_mode": {
    "name": "ipython",
    "version": 3
   },
   "file_extension": ".py",
   "mimetype": "text/x-python",
   "name": "python",
   "nbconvert_exporter": "python",
   "pygments_lexer": "ipython3",
   "version": "3.7.2"
  },
  "varInspector": {
   "cols": {
    "lenName": 16,
    "lenType": 16,
    "lenVar": 40
   },
   "kernels_config": {
    "python": {
     "delete_cmd_postfix": "",
     "delete_cmd_prefix": "del ",
     "library": "var_list.py",
     "varRefreshCmd": "print(var_dic_list())"
    },
    "r": {
     "delete_cmd_postfix": ") ",
     "delete_cmd_prefix": "rm(",
     "library": "var_list.r",
     "varRefreshCmd": "cat(var_dic_list()) "
    }
   },
   "position": {
    "height": "144px",
    "left": "580px",
    "right": "20px",
    "top": "136px",
    "width": "350px"
   },
   "types_to_exclude": [
    "module",
    "function",
    "builtin_function_or_method",
    "instance",
    "_Feature"
   ],
   "window_display": false
  }
 },
 "nbformat": 4,
 "nbformat_minor": 2
}
