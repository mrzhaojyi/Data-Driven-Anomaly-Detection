{
 "cells": [
  {
   "cell_type": "markdown",
   "metadata": {},
   "source": [
    "## Preprocess data\n",
    "\n",
    "First read data from directory. After reading data, convert the categorical column into numerical values that can be put into neural network.\n",
    "\n",
    "Using 'glob' package we can read data files containing specific characters. "
   ]
  },
  {
   "cell_type": "code",
   "execution_count": 2,
   "metadata": {},
   "outputs": [],
   "source": [
    "import pandas as pd"
   ]
  },
  {
   "cell_type": "code",
   "execution_count": 3,
   "metadata": {},
   "outputs": [
    {
     "data": {
      "text/html": [
       "<div>\n",
       "<style scoped>\n",
       "    .dataframe tbody tr th:only-of-type {\n",
       "        vertical-align: middle;\n",
       "    }\n",
       "\n",
       "    .dataframe tbody tr th {\n",
       "        vertical-align: top;\n",
       "    }\n",
       "\n",
       "    .dataframe thead th {\n",
       "        text-align: right;\n",
       "    }\n",
       "</style>\n",
       "<table border=\"1\" class=\"dataframe\">\n",
       "  <thead>\n",
       "    <tr style=\"text-align: right;\">\n",
       "      <th></th>\n",
       "      <th>E1</th>\n",
       "      <th>E2</th>\n",
       "      <th>E3</th>\n",
       "      <th>E4</th>\n",
       "      <th>E5</th>\n",
       "      <th>E6</th>\n",
       "      <th>E7</th>\n",
       "      <th>E8</th>\n",
       "      <th>fault_type</th>\n",
       "    </tr>\n",
       "  </thead>\n",
       "  <tbody>\n",
       "    <tr>\n",
       "      <th>0</th>\n",
       "      <td>1.8697</td>\n",
       "      <td>3.6478</td>\n",
       "      <td>0.33794</td>\n",
       "      <td>0.035385</td>\n",
       "      <td>0.007739</td>\n",
       "      <td>0.008556</td>\n",
       "      <td>0.004237</td>\n",
       "      <td>0.000475</td>\n",
       "      <td>Normal</td>\n",
       "    </tr>\n",
       "    <tr>\n",
       "      <th>1</th>\n",
       "      <td>1.8725</td>\n",
       "      <td>2.8091</td>\n",
       "      <td>0.32781</td>\n",
       "      <td>0.041769</td>\n",
       "      <td>0.009650</td>\n",
       "      <td>0.010740</td>\n",
       "      <td>0.005232</td>\n",
       "      <td>0.001947</td>\n",
       "      <td>Normal</td>\n",
       "    </tr>\n",
       "    <tr>\n",
       "      <th>2</th>\n",
       "      <td>2.0595</td>\n",
       "      <td>3.8041</td>\n",
       "      <td>0.36825</td>\n",
       "      <td>0.036564</td>\n",
       "      <td>0.006459</td>\n",
       "      <td>0.008987</td>\n",
       "      <td>0.005481</td>\n",
       "      <td>0.000967</td>\n",
       "      <td>Normal</td>\n",
       "    </tr>\n",
       "    <tr>\n",
       "      <th>3</th>\n",
       "      <td>2.5273</td>\n",
       "      <td>3.5595</td>\n",
       "      <td>0.35947</td>\n",
       "      <td>0.038535</td>\n",
       "      <td>0.006255</td>\n",
       "      <td>0.008491</td>\n",
       "      <td>0.002687</td>\n",
       "      <td>0.000332</td>\n",
       "      <td>Normal</td>\n",
       "    </tr>\n",
       "    <tr>\n",
       "      <th>4</th>\n",
       "      <td>1.8534</td>\n",
       "      <td>3.6642</td>\n",
       "      <td>0.35441</td>\n",
       "      <td>0.038339</td>\n",
       "      <td>0.006703</td>\n",
       "      <td>0.008614</td>\n",
       "      <td>0.004021</td>\n",
       "      <td>0.001111</td>\n",
       "      <td>Normal</td>\n",
       "    </tr>\n",
       "  </tbody>\n",
       "</table>\n",
       "</div>"
      ],
      "text/plain": [
       "       E1      E2       E3        E4        E5        E6        E7        E8  \\\n",
       "0  1.8697  3.6478  0.33794  0.035385  0.007739  0.008556  0.004237  0.000475   \n",
       "1  1.8725  2.8091  0.32781  0.041769  0.009650  0.010740  0.005232  0.001947   \n",
       "2  2.0595  3.8041  0.36825  0.036564  0.006459  0.008987  0.005481  0.000967   \n",
       "3  2.5273  3.5595  0.35947  0.038535  0.006255  0.008491  0.002687  0.000332   \n",
       "4  1.8534  3.6642  0.35441  0.038339  0.006703  0.008614  0.004021  0.001111   \n",
       "\n",
       "  fault_type  \n",
       "0     Normal  \n",
       "1     Normal  \n",
       "2     Normal  \n",
       "3     Normal  \n",
       "4     Normal  "
      ]
     },
     "execution_count": 3,
     "metadata": {},
     "output_type": "execute_result"
    }
   ],
   "source": [
    "path = \"D:/rfiles/feature_matrix/feature_matrix_energy8_1024_inner.csv\"\n",
    "df = pd.read_csv(path)\n",
    "df.head()"
   ]
  },
  {
   "cell_type": "markdown",
   "metadata": {},
   "source": [
    "Now we will read the first files and use it in further analysis. "
   ]
  },
  {
   "cell_type": "code",
   "execution_count": 4,
   "metadata": {},
   "outputs": [
    {
     "data": {
      "text/plain": [
       "Normal        1657\n",
       "0.007 inch     476\n",
       "0.021 inch     474\n",
       "0.014 inch     472\n",
       "0.028 inch     471\n",
       "Name: fault_type, dtype: int64"
      ]
     },
     "execution_count": 4,
     "metadata": {},
     "output_type": "execute_result"
    }
   ],
   "source": [
    "df[\"fault_type\"].value_counts()"
   ]
  },
  {
   "cell_type": "markdown",
   "metadata": {},
   "source": [
    "Now we will split the total data into training and test set. The dataset is unbalanced (it has more normal data as compared to other faulty data types). So first we create a balanced dataset and then form a training and test set."
   ]
  },
  {
   "cell_type": "code",
   "execution_count": 5,
   "metadata": {},
   "outputs": [],
   "source": [
    "import numpy as np\n",
    "from numpy.random import choice \n",
    "np.random.seed(1)\n",
    "index = np.array([choice(np.arange(0,1657),450,replace = False),\n",
    "                choice(np.arange(1657,2133),450,replace = False),\n",
    "                choice(np.arange(2133,2605),450,replace = False),\n",
    "                choice(np.arange(2605,3079),450,replace = False),\n",
    "                choice(np.arange(3079,3550),450,replace = False)])\n",
    "index = index.ravel()\n",
    "data = df.iloc[index,]\n",
    "data = data.reset_index(drop = True)\n",
    "test_index = np.array([choice(np.arange(0,450),150, replace = False),\n",
    "                     choice(np.arange(450,2*450),150, replace = False),\n",
    "                     choice(np.arange(2*450,3*450),150, replace = False),\n",
    "                     choice(np.arange(3*450,4*450),150, replace = False),\n",
    "                     choice(np.arange(4*450,5*450),150, replace = False)])\n",
    "test_index = test_index.ravel()\n",
    "test_data = data.iloc[test_index,]\n",
    "train_data = data.drop(data.index[test_index])\n",
    "\n",
    "# Shuffle data\n",
    "train_data = train_data.sample(frac = 1, random_state = 2)\n",
    "test_data = test_data.sample(frac = 1, random_state = 3)\n",
    "\n",
    "# Convert categorical lables to numberic entries\n",
    "\n",
    "category_labels = ['Normal', '0.007 inch', '0.014 inch','0.021 inch', '0.028 inch']\n",
    "# test_labels = test_data['fault_type']\n",
    "test_labels = pd.Categorical(test_data['fault_type'],categories= category_labels).codes # Produces ndarrays\n",
    "# train_labels = train_data['fault_type']\n",
    "train_labels = pd.Categorical(train_data['fault_type'], categories = category_labels).codes"
   ]
  },
  {
   "cell_type": "code",
   "execution_count": 6,
   "metadata": {},
   "outputs": [
    {
     "name": "stdout",
     "output_type": "stream",
     "text": [
      "(2250, 9) (750, 9) (1500, 9) (750,) (1500,)\n"
     ]
    }
   ],
   "source": [
    "print(data.shape,test_data.shape,train_data.shape,test_labels.shape,train_labels.shape)"
   ]
  },
  {
   "cell_type": "code",
   "execution_count": 7,
   "metadata": {},
   "outputs": [],
   "source": [
    "import tensorflow as tf\n",
    "from tensorflow import keras\n",
    "from tensorflow.keras.models import Sequential\n",
    "from tensorflow.keras import layers\n",
    "from tensorflow.keras.utils import to_categorical\n",
    "import sklearn\n",
    "from sklearn import preprocessing"
   ]
  },
  {
   "cell_type": "code",
   "execution_count": 8,
   "metadata": {},
   "outputs": [],
   "source": [
    "# Convert labels to categorical data\n",
    "train_data = train_data.iloc[:,0:8]\n",
    "test_data = test_data.iloc[:,0:8]\n",
    "# Scale the data\n",
    "train_data = preprocessing.scale(train_data)\n",
    "test_data = preprocessing.scale(test_data)\n",
    "train_labels = to_categorical(train_labels)\n",
    "test_labels = to_categorical(test_labels)"
   ]
  },
  {
   "cell_type": "code",
   "execution_count": 9,
   "metadata": {},
   "outputs": [
    {
     "name": "stdout",
     "output_type": "stream",
     "text": [
      "(1500, 8) (750, 8) (1500, 5) (750, 5)\n"
     ]
    }
   ],
   "source": [
    "print(train_data.shape, test_data.shape, train_labels.shape, test_labels.shape)"
   ]
  },
  {
   "cell_type": "code",
   "execution_count": 10,
   "metadata": {},
   "outputs": [
    {
     "name": "stdout",
     "output_type": "stream",
     "text": [
      "Model: \"sequential\"\n",
      "_________________________________________________________________\n",
      "Layer (type)                 Output Shape              Param #   \n",
      "=================================================================\n",
      "dense (Dense)                (None, 5)                 45        \n",
      "_________________________________________________________________\n",
      "dense_1 (Dense)              (None, 5)                 30        \n",
      "=================================================================\n",
      "Total params: 75\n",
      "Trainable params: 75\n",
      "Non-trainable params: 0\n",
      "_________________________________________________________________\n"
     ]
    }
   ],
   "source": [
    "model = Sequential([\n",
    "    layers.Dense(5,activation = 'relu', input_dim = 8),\n",
    "    layers.Dense(5,activation = 'softmax')\n",
    "])\n",
    "model.summary()"
   ]
  },
  {
   "cell_type": "code",
   "execution_count": 11,
   "metadata": {},
   "outputs": [],
   "source": [
    "model.compile(optimizer = 'adam',loss = 'categorical_crossentropy', metrics = ['accuracy'])"
   ]
  },
  {
   "cell_type": "code",
   "execution_count": 12,
   "metadata": {},
   "outputs": [
    {
     "name": "stdout",
     "output_type": "stream",
     "text": [
      "Train on 1200 samples, validate on 300 samples\n",
      "Epoch 1/50\n",
      "1200/1200 - 0s - loss: 1.7468 - accuracy: 0.3150 - val_loss: 1.6217 - val_accuracy: 0.3500\n",
      "Epoch 2/50\n",
      "1200/1200 - 0s - loss: 1.5856 - accuracy: 0.3292 - val_loss: 1.4900 - val_accuracy: 0.3533\n",
      "Epoch 3/50\n",
      "1200/1200 - 0s - loss: 1.4608 - accuracy: 0.3475 - val_loss: 1.3864 - val_accuracy: 0.3733\n",
      "Epoch 4/50\n",
      "1200/1200 - 0s - loss: 1.3566 - accuracy: 0.3950 - val_loss: 1.2985 - val_accuracy: 0.4800\n",
      "Epoch 5/50\n",
      "1200/1200 - 0s - loss: 1.2640 - accuracy: 0.5708 - val_loss: 1.2166 - val_accuracy: 0.5933\n",
      "Epoch 6/50\n",
      "1200/1200 - 0s - loss: 1.1771 - accuracy: 0.6400 - val_loss: 1.1366 - val_accuracy: 0.6533\n",
      "Epoch 7/50\n",
      "1200/1200 - 0s - loss: 1.0911 - accuracy: 0.7217 - val_loss: 1.0525 - val_accuracy: 0.7500\n",
      "Epoch 8/50\n",
      "1200/1200 - 0s - loss: 0.9996 - accuracy: 0.7558 - val_loss: 0.9632 - val_accuracy: 0.7633\n",
      "Epoch 9/50\n",
      "1200/1200 - 0s - loss: 0.9044 - accuracy: 0.8733 - val_loss: 0.8707 - val_accuracy: 0.9567\n",
      "Epoch 10/50\n",
      "1200/1200 - 0s - loss: 0.8100 - accuracy: 0.9675 - val_loss: 0.7819 - val_accuracy: 0.9567\n",
      "Epoch 11/50\n",
      "1200/1200 - 0s - loss: 0.7225 - accuracy: 0.9600 - val_loss: 0.7019 - val_accuracy: 0.9367\n",
      "Epoch 12/50\n",
      "1200/1200 - 0s - loss: 0.6457 - accuracy: 0.9608 - val_loss: 0.6337 - val_accuracy: 0.9300\n",
      "Epoch 13/50\n",
      "1200/1200 - 0s - loss: 0.5798 - accuracy: 0.9517 - val_loss: 0.5728 - val_accuracy: 0.9367\n",
      "Epoch 14/50\n",
      "1200/1200 - 0s - loss: 0.5223 - accuracy: 0.9633 - val_loss: 0.5196 - val_accuracy: 0.9400\n",
      "Epoch 15/50\n",
      "1200/1200 - 0s - loss: 0.4725 - accuracy: 0.9608 - val_loss: 0.4727 - val_accuracy: 0.9400\n",
      "Epoch 16/50\n",
      "1200/1200 - 0s - loss: 0.4280 - accuracy: 0.9667 - val_loss: 0.4301 - val_accuracy: 0.9600\n",
      "Epoch 17/50\n",
      "1200/1200 - 0s - loss: 0.3884 - accuracy: 0.9800 - val_loss: 0.3920 - val_accuracy: 0.9633\n",
      "Epoch 18/50\n",
      "1200/1200 - 0s - loss: 0.3532 - accuracy: 0.9817 - val_loss: 0.3570 - val_accuracy: 0.9700\n",
      "Epoch 19/50\n",
      "1200/1200 - 0s - loss: 0.3215 - accuracy: 0.9825 - val_loss: 0.3272 - val_accuracy: 0.9700\n",
      "Epoch 20/50\n",
      "1200/1200 - 0s - loss: 0.2935 - accuracy: 0.9883 - val_loss: 0.2995 - val_accuracy: 0.9767\n",
      "Epoch 21/50\n",
      "1200/1200 - 0s - loss: 0.2688 - accuracy: 0.9875 - val_loss: 0.2765 - val_accuracy: 0.9767\n",
      "Epoch 22/50\n",
      "1200/1200 - 0s - loss: 0.2472 - accuracy: 0.9883 - val_loss: 0.2555 - val_accuracy: 0.9800\n",
      "Epoch 23/50\n",
      "1200/1200 - 0s - loss: 0.2280 - accuracy: 0.9908 - val_loss: 0.2361 - val_accuracy: 0.9867\n",
      "Epoch 24/50\n",
      "1200/1200 - 0s - loss: 0.2110 - accuracy: 0.9892 - val_loss: 0.2196 - val_accuracy: 0.9867\n",
      "Epoch 25/50\n",
      "1200/1200 - 0s - loss: 0.1959 - accuracy: 0.9908 - val_loss: 0.2050 - val_accuracy: 0.9900\n",
      "Epoch 26/50\n",
      "1200/1200 - 0s - loss: 0.1826 - accuracy: 0.9925 - val_loss: 0.1922 - val_accuracy: 0.9900\n",
      "Epoch 27/50\n",
      "1200/1200 - 0s - loss: 0.1705 - accuracy: 0.9925 - val_loss: 0.1797 - val_accuracy: 0.9900\n",
      "Epoch 28/50\n",
      "1200/1200 - 0s - loss: 0.1598 - accuracy: 0.9925 - val_loss: 0.1690 - val_accuracy: 0.9900\n",
      "Epoch 29/50\n",
      "1200/1200 - 0s - loss: 0.1501 - accuracy: 0.9933 - val_loss: 0.1596 - val_accuracy: 0.9900\n",
      "Epoch 30/50\n",
      "1200/1200 - 0s - loss: 0.1411 - accuracy: 0.9950 - val_loss: 0.1509 - val_accuracy: 0.9900\n",
      "Epoch 31/50\n",
      "1200/1200 - 0s - loss: 0.1331 - accuracy: 0.9942 - val_loss: 0.1426 - val_accuracy: 0.9900\n",
      "Epoch 32/50\n",
      "1200/1200 - 0s - loss: 0.1257 - accuracy: 0.9950 - val_loss: 0.1351 - val_accuracy: 0.9900\n",
      "Epoch 33/50\n",
      "1200/1200 - 0s - loss: 0.1191 - accuracy: 0.9950 - val_loss: 0.1285 - val_accuracy: 0.9900\n",
      "Epoch 34/50\n",
      "1200/1200 - 0s - loss: 0.1127 - accuracy: 0.9950 - val_loss: 0.1224 - val_accuracy: 0.9900\n",
      "Epoch 35/50\n",
      "1200/1200 - 0s - loss: 0.1071 - accuracy: 0.9950 - val_loss: 0.1161 - val_accuracy: 0.9900\n",
      "Epoch 36/50\n",
      "1200/1200 - 0s - loss: 0.1018 - accuracy: 0.9950 - val_loss: 0.1107 - val_accuracy: 0.9900\n",
      "Epoch 37/50\n",
      "1200/1200 - 0s - loss: 0.0969 - accuracy: 0.9950 - val_loss: 0.1060 - val_accuracy: 0.9900\n",
      "Epoch 38/50\n",
      "1200/1200 - 0s - loss: 0.0925 - accuracy: 0.9950 - val_loss: 0.1006 - val_accuracy: 0.9933\n",
      "Epoch 39/50\n",
      "1200/1200 - 0s - loss: 0.0880 - accuracy: 0.9950 - val_loss: 0.0967 - val_accuracy: 0.9933\n",
      "Epoch 40/50\n",
      "1200/1200 - 0s - loss: 0.0842 - accuracy: 0.9950 - val_loss: 0.0925 - val_accuracy: 0.9933\n",
      "Epoch 41/50\n",
      "1200/1200 - 0s - loss: 0.0805 - accuracy: 0.9950 - val_loss: 0.0883 - val_accuracy: 0.9933\n",
      "Epoch 42/50\n",
      "1200/1200 - 0s - loss: 0.0770 - accuracy: 0.9950 - val_loss: 0.0852 - val_accuracy: 0.9933\n",
      "Epoch 43/50\n",
      "1200/1200 - 0s - loss: 0.0738 - accuracy: 0.9950 - val_loss: 0.0812 - val_accuracy: 0.9933\n",
      "Epoch 44/50\n",
      "1200/1200 - 0s - loss: 0.0707 - accuracy: 0.9950 - val_loss: 0.0781 - val_accuracy: 0.9933\n",
      "Epoch 45/50\n",
      "1200/1200 - 0s - loss: 0.0678 - accuracy: 0.9950 - val_loss: 0.0747 - val_accuracy: 0.9967\n",
      "Epoch 46/50\n",
      "1200/1200 - 0s - loss: 0.0651 - accuracy: 0.9950 - val_loss: 0.0720 - val_accuracy: 0.9967\n",
      "Epoch 47/50\n",
      "1200/1200 - 0s - loss: 0.0627 - accuracy: 0.9958 - val_loss: 0.0694 - val_accuracy: 0.9967\n",
      "Epoch 48/50\n",
      "1200/1200 - 0s - loss: 0.0603 - accuracy: 0.9950 - val_loss: 0.0666 - val_accuracy: 0.9967\n",
      "Epoch 49/50\n",
      "1200/1200 - 0s - loss: 0.0580 - accuracy: 0.9950 - val_loss: 0.0645 - val_accuracy: 0.9967\n",
      "Epoch 50/50\n",
      "1200/1200 - 0s - loss: 0.0560 - accuracy: 0.9967 - val_loss: 0.0618 - val_accuracy: 0.9967\n"
     ]
    }
   ],
   "source": [
    "history = model.fit(train_data,train_labels,epochs = 50, validation_split = 0.2, verbose = 2)"
   ]
  },
  {
   "cell_type": "code",
   "execution_count": 14,
   "metadata": {},
   "outputs": [
    {
     "data": {
      "image/png": "[encoded data removed]",
      "text/plain": [
       "<Figure size 432x288 with 1 Axes>"
      ]
     },
     "metadata": {
      "needs_background": "light"
     },
     "output_type": "display_data"
    },
    {
     "data": {
      "image/png": "[encoded data removed]",
      "text/plain": [
       "<Figure size 432x288 with 1 Axes>"
      ]
     },
     "metadata": {
      "needs_background": "light"
     },
     "output_type": "display_data"
    }
   ],
   "source": [
    "import matplotlib.pyplot as plt\n",
    "train_loss = history.history['loss']\n",
    "val_loss = history.history['val_loss']\n",
    "train_acc = history.history['accuracy']\n",
    "val_acc = history.history['val_accuracy']\n",
    "epochs = np.arange(1,len(train_loss)+1)\n",
    "plt.figure()\n",
    "plt.plot(epochs, train_loss, label = \"Training Loss\")\n",
    "plt.plot(epochs, val_loss, label = \"Validation Loss\")\n",
    "plt.legend()\n",
    "plt.title(\"Comparision of Loss\")\n",
    "plt.show()\n",
    "plt.figure()\n",
    "plt.plot(epochs, train_acc, label = \"Training Accuracy\")\n",
    "plt.plot(epochs, val_acc, label = \"Validation Accuracy\")\n",
    "plt.title(\"Comparison of Accuracy\")\n",
    "plt.legend()\n",
    "plt.show()"
   ]
  },
  {
   "cell_type": "code",
   "execution_count": 15,
   "metadata": {},
   "outputs": [
    {
     "name": "stdout",
     "output_type": "stream",
     "text": [
      "750/750 [==============================] - 0s 36us/sample - loss: 0.0575 - accuracy: 0.9973\n"
     ]
    }
   ],
   "source": [
    "test_loss,test_acc = model.evaluate(test_data, test_labels)"
   ]
  },
  {
   "cell_type": "code",
   "execution_count": 16,
   "metadata": {},
   "outputs": [
    {
     "name": "stdout",
     "output_type": "stream",
     "text": [
      "0.99733335\n"
     ]
    }
   ],
   "source": [
    "print(test_acc)"
   ]
  },
  {
   "cell_type": "code",
   "execution_count": 17,
   "metadata": {},
   "outputs": [],
   "source": [
    "prediction = model.predict(test_data)\n",
    "prediction_labels = list([])\n",
    "for each_prediction in prediction:\n",
    "    prediction_labels.append(list(each_prediction).index(max(each_prediction)))\n",
    "    "
   ]
  },
  {
   "cell_type": "code",
   "execution_count": 18,
   "metadata": {},
   "outputs": [],
   "source": [
    "from sklearn.metrics import confusion_matrix\n",
    "true_labels = np.argmax(test_labels, axis = 1)\n",
    "matrix = confusion_matrix(true_labels, prediction_labels)"
   ]
  },
  {
   "cell_type": "code",
   "execution_count": 31,
   "metadata": {},
   "outputs": [
    {
     "data": {
      "text/plain": [
       "(array([0.5, 1.5, 2.5, 3.5, 4.5]), <a list of 5 Text xticklabel objects>)"
      ]
     },
     "execution_count": 31,
     "metadata": {},
     "output_type": "execute_result"
    },
    {
     "data": {
      "image/png": "[encoded data removed]",
      "text/plain": [
       "<Figure size 432x288 with 2 Axes>"
      ]
     },
     "metadata": {
      "needs_background": "light"
     },
     "output_type": "display_data"
    }
   ],
   "source": [
    "import seaborn as sns\n",
    "matrix = pd.DataFrame(matrix)\n",
    "sns.heatmap(matrix, annot= True, fmt = \"d\",\n",
    "           xticklabels = category_labels,\n",
    "           yticklabels = category_labels)\n",
    "plt.xticks(rotation = 90)"
   ]
  }
 ],
 "metadata": {
  "kernelspec": {
   "display_name": "tensorflow_env",
   "language": "python",
   "name": "tensorflwo_env"
  },
  "language_info": {
   "codemirror_mode": {
    "name": "ipython",
    "version": 3
   },
   "file_extension": ".py",
   "mimetype": "text/x-python",
   "name": "python",
   "nbconvert_exporter": "python",
   "pygments_lexer": "ipython3",
   "version": "3.7.2"
  },
  "varInspector": {
   "cols": {
    "lenName": 16,
    "lenType": 16,
    "lenVar": 40
   },
   "kernels_config": {
    "python": {
     "delete_cmd_postfix": "",
     "delete_cmd_prefix": "del ",
     "library": "var_list.py",
     "varRefreshCmd": "print(var_dic_list())"
    },
    "r": {
     "delete_cmd_postfix": ") ",
     "delete_cmd_prefix": "rm(",
     "library": "var_list.r",
     "varRefreshCmd": "cat(var_dic_list()) "
    }
   },
   "position": {
    "height": "144px",
    "left": "580px",
    "right": "20px",
    "top": "136px",
    "width": "350px"
   },
   "types_to_exclude": [
    "module",
    "function",
    "builtin_function_or_method",
    "instance",
    "_Feature"
   ],
   "window_display": false
  }
 },
 "nbformat": 4,
 "nbformat_minor": 2
}
