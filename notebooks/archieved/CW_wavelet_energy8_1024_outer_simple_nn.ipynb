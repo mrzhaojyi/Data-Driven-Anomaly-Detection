{
 "cells": [
  {
   "cell_type": "markdown",
   "metadata": {},
   "source": [
    "## Preprocess data\n",
    "\n",
    "First read data from directory. After reading data, convert the categorical column into numerical values that can be put into neural network.\n",
    "\n",
    "Using 'glob' package we can read data files containing specific characters. "
   ]
  },
  {
   "cell_type": "code",
   "execution_count": 1,
   "metadata": {},
   "outputs": [],
   "source": [
    "import pandas as pd"
   ]
  },
  {
   "cell_type": "code",
   "execution_count": 2,
   "metadata": {},
   "outputs": [
    {
     "data": {
      "text/html": [
       "<div>\n",
       "<style scoped>\n",
       "    .dataframe tbody tr th:only-of-type {\n",
       "        vertical-align: middle;\n",
       "    }\n",
       "\n",
       "    .dataframe tbody tr th {\n",
       "        vertical-align: top;\n",
       "    }\n",
       "\n",
       "    .dataframe thead th {\n",
       "        text-align: right;\n",
       "    }\n",
       "</style>\n",
       "<table border=\"1\" class=\"dataframe\">\n",
       "  <thead>\n",
       "    <tr style=\"text-align: right;\">\n",
       "      <th></th>\n",
       "      <th>E1</th>\n",
       "      <th>E2</th>\n",
       "      <th>E3</th>\n",
       "      <th>E4</th>\n",
       "      <th>E5</th>\n",
       "      <th>E6</th>\n",
       "      <th>E7</th>\n",
       "      <th>E8</th>\n",
       "      <th>fault_type</th>\n",
       "    </tr>\n",
       "  </thead>\n",
       "  <tbody>\n",
       "    <tr>\n",
       "      <th>0</th>\n",
       "      <td>1.8697</td>\n",
       "      <td>3.6478</td>\n",
       "      <td>0.33794</td>\n",
       "      <td>0.035385</td>\n",
       "      <td>0.007739</td>\n",
       "      <td>0.008556</td>\n",
       "      <td>0.004237</td>\n",
       "      <td>0.000475</td>\n",
       "      <td>Normal</td>\n",
       "    </tr>\n",
       "    <tr>\n",
       "      <th>1</th>\n",
       "      <td>1.8725</td>\n",
       "      <td>2.8091</td>\n",
       "      <td>0.32781</td>\n",
       "      <td>0.041769</td>\n",
       "      <td>0.009650</td>\n",
       "      <td>0.010740</td>\n",
       "      <td>0.005232</td>\n",
       "      <td>0.001947</td>\n",
       "      <td>Normal</td>\n",
       "    </tr>\n",
       "    <tr>\n",
       "      <th>2</th>\n",
       "      <td>2.0595</td>\n",
       "      <td>3.8041</td>\n",
       "      <td>0.36825</td>\n",
       "      <td>0.036564</td>\n",
       "      <td>0.006459</td>\n",
       "      <td>0.008987</td>\n",
       "      <td>0.005481</td>\n",
       "      <td>0.000967</td>\n",
       "      <td>Normal</td>\n",
       "    </tr>\n",
       "    <tr>\n",
       "      <th>3</th>\n",
       "      <td>2.5273</td>\n",
       "      <td>3.5595</td>\n",
       "      <td>0.35947</td>\n",
       "      <td>0.038535</td>\n",
       "      <td>0.006255</td>\n",
       "      <td>0.008491</td>\n",
       "      <td>0.002687</td>\n",
       "      <td>0.000332</td>\n",
       "      <td>Normal</td>\n",
       "    </tr>\n",
       "    <tr>\n",
       "      <th>4</th>\n",
       "      <td>1.8534</td>\n",
       "      <td>3.6642</td>\n",
       "      <td>0.35441</td>\n",
       "      <td>0.038339</td>\n",
       "      <td>0.006703</td>\n",
       "      <td>0.008614</td>\n",
       "      <td>0.004021</td>\n",
       "      <td>0.001111</td>\n",
       "      <td>Normal</td>\n",
       "    </tr>\n",
       "  </tbody>\n",
       "</table>\n",
       "</div>"
      ],
      "text/plain": [
       "       E1      E2       E3        E4        E5        E6        E7        E8  \\\n",
       "0  1.8697  3.6478  0.33794  0.035385  0.007739  0.008556  0.004237  0.000475   \n",
       "1  1.8725  2.8091  0.32781  0.041769  0.009650  0.010740  0.005232  0.001947   \n",
       "2  2.0595  3.8041  0.36825  0.036564  0.006459  0.008987  0.005481  0.000967   \n",
       "3  2.5273  3.5595  0.35947  0.038535  0.006255  0.008491  0.002687  0.000332   \n",
       "4  1.8534  3.6642  0.35441  0.038339  0.006703  0.008614  0.004021  0.001111   \n",
       "\n",
       "  fault_type  \n",
       "0     Normal  \n",
       "1     Normal  \n",
       "2     Normal  \n",
       "3     Normal  \n",
       "4     Normal  "
      ]
     },
     "execution_count": 2,
     "metadata": {},
     "output_type": "execute_result"
    }
   ],
   "source": [
    "path = \"D:/rfiles/feature_matrix/feature_matrix_energy8_1024_outer_6.csv\"\n",
    "df = pd.read_csv(path)\n",
    "df.head()"
   ]
  },
  {
   "cell_type": "markdown",
   "metadata": {},
   "source": [
    "Now we will read the first files and use it in further analysis. "
   ]
  },
  {
   "cell_type": "code",
   "execution_count": 3,
   "metadata": {},
   "outputs": [
    {
     "data": {
      "text/plain": [
       "Normal        1657\n",
       "0.021 inch     476\n",
       "0.007 inch     475\n",
       "0.014 inch     474\n",
       "Name: fault_type, dtype: int64"
      ]
     },
     "execution_count": 3,
     "metadata": {},
     "output_type": "execute_result"
    }
   ],
   "source": [
    "df[\"fault_type\"].value_counts()"
   ]
  },
  {
   "cell_type": "markdown",
   "metadata": {},
   "source": [
    "Now we will split the total data into training and test set. The dataset is unbalanced (it has more normal data as compared to other faulty data types). So first we create a balanced dataset and then form a training and test set."
   ]
  },
  {
   "cell_type": "code",
   "execution_count": 4,
   "metadata": {},
   "outputs": [],
   "source": [
    "import numpy as np\n",
    "from numpy.random import choice \n",
    "np.random.seed(1)\n",
    "index = np.array([choice(np.arange(0,1657),450,replace = False),\n",
    "                choice(np.arange(1657,2132),450,replace = False),\n",
    "                choice(np.arange(2132,2606),450,replace = False),\n",
    "                choice(np.arange(2606,3082),450,replace = False)])\n",
    "index = index.ravel()\n",
    "data = df.iloc[index,]\n",
    "data = data.reset_index(drop = True)\n",
    "test_index = np.array([choice(np.arange(0,450),150, replace = False),\n",
    "                     choice(np.arange(450,2*450),150, replace = False),\n",
    "                     choice(np.arange(2*450,3*450),150, replace = False),\n",
    "                     choice(np.arange(3*450,4*450),150, replace = False)])\n",
    "test_index = test_index.ravel()\n",
    "test_data = data.iloc[test_index,]\n",
    "train_data = data.drop(data.index[test_index])\n",
    "\n",
    "# Shuffle data\n",
    "train_data = train_data.sample(frac = 1, random_state = 2)\n",
    "test_data = test_data.sample(frac = 1, random_state = 3)\n",
    "\n",
    "# Convert categorical lables to numberic entries\n",
    "\n",
    "category_labels = ['Normal', '0.007 inch', '0.014 inch','0.021 inch']\n",
    "# test_labels = test_data['fault_type']\n",
    "test_labels = pd.Categorical(test_data['fault_type'],categories= category_labels).codes # Produces ndarrays\n",
    "# train_labels = train_data['fault_type']\n",
    "train_labels = pd.Categorical(train_data['fault_type'], categories = category_labels).codes"
   ]
  },
  {
   "cell_type": "code",
   "execution_count": 5,
   "metadata": {},
   "outputs": [
    {
     "name": "stdout",
     "output_type": "stream",
     "text": [
      "(1800, 9) (600, 9) (1200, 9) (600,) (1200,)\n"
     ]
    }
   ],
   "source": [
    "print(data.shape,test_data.shape,train_data.shape,test_labels.shape,train_labels.shape)"
   ]
  },
  {
   "cell_type": "code",
   "execution_count": 6,
   "metadata": {},
   "outputs": [],
   "source": [
    "import tensorflow as tf\n",
    "from tensorflow import keras\n",
    "from tensorflow.keras.models import Sequential\n",
    "from tensorflow.keras import layers\n",
    "from tensorflow.keras.utils import to_categorical\n",
    "from tensorflow.keras.callbacks import EarlyStopping, ModelCheckpoint\n",
    "import sklearn\n",
    "from sklearn import preprocessing"
   ]
  },
  {
   "cell_type": "code",
   "execution_count": 7,
   "metadata": {},
   "outputs": [],
   "source": [
    "# Convert labels to categorical data\n",
    "train_data = train_data.iloc[:,0:8]\n",
    "test_data = test_data.iloc[:,0:8]\n",
    "# Scale the data\n",
    "train_data = preprocessing.scale(train_data)\n",
    "test_data = preprocessing.scale(test_data)\n",
    "train_labels = to_categorical(train_labels)\n",
    "test_labels = to_categorical(test_labels)"
   ]
  },
  {
   "cell_type": "code",
   "execution_count": 8,
   "metadata": {},
   "outputs": [
    {
     "name": "stdout",
     "output_type": "stream",
     "text": [
      "(1200, 8) (600, 8) (1200, 4) (600, 4)\n"
     ]
    }
   ],
   "source": [
    "print(train_data.shape, test_data.shape, train_labels.shape, test_labels.shape)"
   ]
  },
  {
   "cell_type": "code",
   "execution_count": 9,
   "metadata": {},
   "outputs": [
    {
     "name": "stdout",
     "output_type": "stream",
     "text": [
      "Model: \"sequential\"\n",
      "_________________________________________________________________\n",
      "Layer (type)                 Output Shape              Param #   \n",
      "=================================================================\n",
      "dense (Dense)                (None, 5)                 45        \n",
      "_________________________________________________________________\n",
      "dense_1 (Dense)              (None, 4)                 24        \n",
      "=================================================================\n",
      "Total params: 69\n",
      "Trainable params: 69\n",
      "Non-trainable params: 0\n",
      "_________________________________________________________________\n"
     ]
    }
   ],
   "source": [
    "model = Sequential([\n",
    "    layers.Dense(5,activation = 'relu', input_dim = 8),\n",
    "    layers.Dense(4,activation = 'softmax')\n",
    "])\n",
    "model.summary()"
   ]
  },
  {
   "cell_type": "code",
   "execution_count": 10,
   "metadata": {},
   "outputs": [],
   "source": [
    "model.compile(optimizer = 'adam',loss = 'categorical_crossentropy', metrics = ['accuracy'])"
   ]
  },
  {
   "cell_type": "code",
   "execution_count": 11,
   "metadata": {},
   "outputs": [],
   "source": [
    "callbacks = [EarlyStopping(monitor = 'val_loss', mode = 'min', verbose = 1, patience = 5)]"
   ]
  },
  {
   "cell_type": "code",
   "execution_count": 12,
   "metadata": {},
   "outputs": [
    {
     "name": "stdout",
     "output_type": "stream",
     "text": [
      "Train on 960 samples, validate on 240 samples\n",
      "Epoch 1/100\n",
      "960/960 - 0s - loss: 1.0073 - accuracy: 0.5969 - val_loss: 0.8956 - val_accuracy: 0.6708\n",
      "Epoch 2/100\n",
      "960/960 - 0s - loss: 0.8702 - accuracy: 0.6604 - val_loss: 0.7762 - val_accuracy: 0.7042\n",
      "Epoch 3/100\n",
      "960/960 - 0s - loss: 0.7547 - accuracy: 0.6979 - val_loss: 0.6795 - val_accuracy: 0.7542\n",
      "Epoch 4/100\n",
      "960/960 - 0s - loss: 0.6610 - accuracy: 0.7323 - val_loss: 0.6027 - val_accuracy: 0.7667\n",
      "Epoch 5/100\n",
      "960/960 - 0s - loss: 0.5871 - accuracy: 0.7417 - val_loss: 0.5432 - val_accuracy: 0.7750\n",
      "Epoch 6/100\n",
      "960/960 - 0s - loss: 0.5304 - accuracy: 0.7563 - val_loss: 0.4984 - val_accuracy: 0.7958\n",
      "Epoch 7/100\n",
      "960/960 - 0s - loss: 0.4876 - accuracy: 0.7792 - val_loss: 0.4639 - val_accuracy: 0.8042\n",
      "Epoch 8/100\n",
      "960/960 - 0s - loss: 0.4552 - accuracy: 0.7896 - val_loss: 0.4386 - val_accuracy: 0.8083\n",
      "Epoch 9/100\n",
      "960/960 - 0s - loss: 0.4300 - accuracy: 0.7906 - val_loss: 0.4178 - val_accuracy: 0.8333\n",
      "Epoch 10/100\n",
      "960/960 - 0s - loss: 0.4100 - accuracy: 0.8115 - val_loss: 0.4009 - val_accuracy: 0.8500\n",
      "Epoch 11/100\n",
      "960/960 - 0s - loss: 0.3944 - accuracy: 0.8865 - val_loss: 0.3870 - val_accuracy: 0.8833\n",
      "Epoch 12/100\n",
      "960/960 - 0s - loss: 0.3813 - accuracy: 0.9073 - val_loss: 0.3757 - val_accuracy: 0.9458\n",
      "Epoch 13/100\n",
      "960/960 - 0s - loss: 0.3704 - accuracy: 0.9792 - val_loss: 0.3659 - val_accuracy: 0.9833\n",
      "Epoch 14/100\n",
      "960/960 - 0s - loss: 0.3609 - accuracy: 0.9333 - val_loss: 0.3562 - val_accuracy: 0.9708\n",
      "Epoch 15/100\n",
      "960/960 - 0s - loss: 0.3514 - accuracy: 0.9854 - val_loss: 0.3480 - val_accuracy: 1.0000\n",
      "Epoch 16/100\n",
      "960/960 - 0s - loss: 0.3426 - accuracy: 0.9990 - val_loss: 0.3397 - val_accuracy: 1.0000\n",
      "Epoch 17/100\n",
      "960/960 - 0s - loss: 0.3330 - accuracy: 1.0000 - val_loss: 0.3288 - val_accuracy: 1.0000\n",
      "Epoch 18/100\n",
      "960/960 - 0s - loss: 0.3220 - accuracy: 1.0000 - val_loss: 0.3155 - val_accuracy: 1.0000\n",
      "Epoch 19/100\n",
      "960/960 - 0s - loss: 0.3075 - accuracy: 1.0000 - val_loss: 0.3004 - val_accuracy: 1.0000\n",
      "Epoch 20/100\n",
      "960/960 - 0s - loss: 0.2907 - accuracy: 1.0000 - val_loss: 0.2834 - val_accuracy: 1.0000\n",
      "Epoch 21/100\n",
      "960/960 - 0s - loss: 0.2754 - accuracy: 1.0000 - val_loss: 0.2691 - val_accuracy: 1.0000\n",
      "Epoch 22/100\n",
      "960/960 - 0s - loss: 0.2615 - accuracy: 1.0000 - val_loss: 0.2556 - val_accuracy: 1.0000\n",
      "Epoch 23/100\n",
      "960/960 - 0s - loss: 0.2494 - accuracy: 1.0000 - val_loss: 0.2456 - val_accuracy: 1.0000\n",
      "Epoch 24/100\n",
      "960/960 - 0s - loss: 0.2363 - accuracy: 1.0000 - val_loss: 0.2306 - val_accuracy: 1.0000\n",
      "Epoch 25/100\n",
      "960/960 - 0s - loss: 0.2239 - accuracy: 1.0000 - val_loss: 0.2201 - val_accuracy: 1.0000\n",
      "Epoch 26/100\n",
      "960/960 - 0s - loss: 0.2121 - accuracy: 1.0000 - val_loss: 0.2089 - val_accuracy: 1.0000\n",
      "Epoch 27/100\n",
      "960/960 - 0s - loss: 0.2010 - accuracy: 1.0000 - val_loss: 0.1983 - val_accuracy: 1.0000\n",
      "Epoch 28/100\n",
      "960/960 - 0s - loss: 0.1904 - accuracy: 1.0000 - val_loss: 0.1887 - val_accuracy: 1.0000\n",
      "Epoch 29/100\n",
      "960/960 - 0s - loss: 0.1802 - accuracy: 1.0000 - val_loss: 0.1784 - val_accuracy: 1.0000\n",
      "Epoch 30/100\n",
      "960/960 - 0s - loss: 0.1704 - accuracy: 1.0000 - val_loss: 0.1696 - val_accuracy: 1.0000\n",
      "Epoch 31/100\n",
      "960/960 - 0s - loss: 0.1612 - accuracy: 1.0000 - val_loss: 0.1605 - val_accuracy: 1.0000\n",
      "Epoch 32/100\n",
      "960/960 - 0s - loss: 0.1525 - accuracy: 1.0000 - val_loss: 0.1513 - val_accuracy: 1.0000\n",
      "Epoch 33/100\n",
      "960/960 - 0s - loss: 0.1441 - accuracy: 1.0000 - val_loss: 0.1440 - val_accuracy: 1.0000\n",
      "Epoch 34/100\n",
      "960/960 - 0s - loss: 0.1361 - accuracy: 1.0000 - val_loss: 0.1365 - val_accuracy: 1.0000\n",
      "Epoch 35/100\n",
      "960/960 - 0s - loss: 0.1286 - accuracy: 1.0000 - val_loss: 0.1290 - val_accuracy: 1.0000\n",
      "Epoch 36/100\n",
      "960/960 - 0s - loss: 0.1214 - accuracy: 1.0000 - val_loss: 0.1221 - val_accuracy: 1.0000\n",
      "Epoch 37/100\n",
      "960/960 - 0s - loss: 0.1148 - accuracy: 1.0000 - val_loss: 0.1155 - val_accuracy: 1.0000\n",
      "Epoch 38/100\n",
      "960/960 - 0s - loss: 0.1083 - accuracy: 1.0000 - val_loss: 0.1099 - val_accuracy: 1.0000\n",
      "Epoch 39/100\n",
      "960/960 - 0s - loss: 0.1024 - accuracy: 1.0000 - val_loss: 0.1038 - val_accuracy: 1.0000\n",
      "Epoch 40/100\n",
      "960/960 - 0s - loss: 0.0969 - accuracy: 1.0000 - val_loss: 0.0987 - val_accuracy: 1.0000\n",
      "Epoch 41/100\n",
      "960/960 - 0s - loss: 0.0917 - accuracy: 1.0000 - val_loss: 0.0935 - val_accuracy: 1.0000\n",
      "Epoch 42/100\n",
      "960/960 - 0s - loss: 0.0868 - accuracy: 1.0000 - val_loss: 0.0888 - val_accuracy: 1.0000\n",
      "Epoch 43/100\n",
      "960/960 - 0s - loss: 0.0822 - accuracy: 1.0000 - val_loss: 0.0840 - val_accuracy: 1.0000\n",
      "Epoch 44/100\n",
      "960/960 - 0s - loss: 0.0778 - accuracy: 1.0000 - val_loss: 0.0806 - val_accuracy: 1.0000\n",
      "Epoch 45/100\n",
      "960/960 - 0s - loss: 0.0740 - accuracy: 1.0000 - val_loss: 0.0760 - val_accuracy: 1.0000\n",
      "Epoch 46/100\n",
      "960/960 - 0s - loss: 0.0702 - accuracy: 1.0000 - val_loss: 0.0725 - val_accuracy: 1.0000\n",
      "Epoch 47/100\n",
      "960/960 - 0s - loss: 0.0666 - accuracy: 1.0000 - val_loss: 0.0691 - val_accuracy: 1.0000\n",
      "Epoch 48/100\n",
      "960/960 - 0s - loss: 0.0632 - accuracy: 1.0000 - val_loss: 0.0657 - val_accuracy: 1.0000\n",
      "Epoch 49/100\n",
      "960/960 - 0s - loss: 0.0601 - accuracy: 1.0000 - val_loss: 0.0627 - val_accuracy: 1.0000\n",
      "Epoch 50/100\n",
      "960/960 - 0s - loss: 0.0573 - accuracy: 1.0000 - val_loss: 0.0597 - val_accuracy: 1.0000\n",
      "Epoch 51/100\n",
      "960/960 - 0s - loss: 0.0546 - accuracy: 1.0000 - val_loss: 0.0569 - val_accuracy: 1.0000\n",
      "Epoch 52/100\n",
      "960/960 - 0s - loss: 0.0520 - accuracy: 1.0000 - val_loss: 0.0547 - val_accuracy: 1.0000\n",
      "Epoch 53/100\n",
      "960/960 - 0s - loss: 0.0496 - accuracy: 1.0000 - val_loss: 0.0522 - val_accuracy: 1.0000\n",
      "Epoch 54/100\n",
      "960/960 - 0s - loss: 0.0473 - accuracy: 1.0000 - val_loss: 0.0498 - val_accuracy: 1.0000\n",
      "Epoch 55/100\n",
      "960/960 - 0s - loss: 0.0452 - accuracy: 1.0000 - val_loss: 0.0477 - val_accuracy: 1.0000\n",
      "Epoch 56/100\n",
      "960/960 - 0s - loss: 0.0432 - accuracy: 1.0000 - val_loss: 0.0458 - val_accuracy: 1.0000\n",
      "Epoch 57/100\n",
      "960/960 - 0s - loss: 0.0413 - accuracy: 1.0000 - val_loss: 0.0440 - val_accuracy: 1.0000\n",
      "Epoch 58/100\n",
      "960/960 - 0s - loss: 0.0395 - accuracy: 1.0000 - val_loss: 0.0421 - val_accuracy: 1.0000\n",
      "Epoch 59/100\n",
      "960/960 - 0s - loss: 0.0379 - accuracy: 1.0000 - val_loss: 0.0404 - val_accuracy: 1.0000\n",
      "Epoch 60/100\n",
      "960/960 - 0s - loss: 0.0362 - accuracy: 1.0000 - val_loss: 0.0388 - val_accuracy: 1.0000\n",
      "Epoch 61/100\n",
      "960/960 - 0s - loss: 0.0348 - accuracy: 1.0000 - val_loss: 0.0371 - val_accuracy: 1.0000\n",
      "Epoch 62/100\n",
      "960/960 - 0s - loss: 0.0333 - accuracy: 1.0000 - val_loss: 0.0357 - val_accuracy: 1.0000\n",
      "Epoch 63/100\n",
      "960/960 - 0s - loss: 0.0320 - accuracy: 1.0000 - val_loss: 0.0342 - val_accuracy: 1.0000\n",
      "Epoch 64/100\n",
      "960/960 - 0s - loss: 0.0307 - accuracy: 1.0000 - val_loss: 0.0331 - val_accuracy: 1.0000\n",
      "Epoch 65/100\n",
      "960/960 - 0s - loss: 0.0295 - accuracy: 1.0000 - val_loss: 0.0318 - val_accuracy: 1.0000\n",
      "Epoch 66/100\n",
      "960/960 - 0s - loss: 0.0283 - accuracy: 1.0000 - val_loss: 0.0307 - val_accuracy: 1.0000\n",
      "Epoch 67/100\n",
      "960/960 - 0s - loss: 0.0273 - accuracy: 1.0000 - val_loss: 0.0295 - val_accuracy: 1.0000\n",
      "Epoch 68/100\n",
      "960/960 - 0s - loss: 0.0262 - accuracy: 1.0000 - val_loss: 0.0284 - val_accuracy: 1.0000\n",
      "Epoch 69/100\n",
      "960/960 - 0s - loss: 0.0253 - accuracy: 1.0000 - val_loss: 0.0275 - val_accuracy: 1.0000\n",
      "Epoch 70/100\n",
      "960/960 - 0s - loss: 0.0244 - accuracy: 1.0000 - val_loss: 0.0264 - val_accuracy: 1.0000\n",
      "Epoch 71/100\n",
      "960/960 - 0s - loss: 0.0235 - accuracy: 1.0000 - val_loss: 0.0256 - val_accuracy: 1.0000\n",
      "Epoch 72/100\n",
      "960/960 - 0s - loss: 0.0226 - accuracy: 1.0000 - val_loss: 0.0245 - val_accuracy: 1.0000\n",
      "Epoch 73/100\n",
      "960/960 - 0s - loss: 0.0218 - accuracy: 1.0000 - val_loss: 0.0239 - val_accuracy: 1.0000\n",
      "Epoch 74/100\n",
      "960/960 - 0s - loss: 0.0210 - accuracy: 1.0000 - val_loss: 0.0232 - val_accuracy: 1.0000\n",
      "Epoch 75/100\n",
      "960/960 - 0s - loss: 0.0203 - accuracy: 1.0000 - val_loss: 0.0221 - val_accuracy: 1.0000\n",
      "Epoch 76/100\n",
      "960/960 - 0s - loss: 0.0196 - accuracy: 1.0000 - val_loss: 0.0216 - val_accuracy: 1.0000\n",
      "Epoch 77/100\n",
      "960/960 - 0s - loss: 0.0189 - accuracy: 1.0000 - val_loss: 0.0209 - val_accuracy: 1.0000\n",
      "Epoch 78/100\n",
      "960/960 - 0s - loss: 0.0183 - accuracy: 1.0000 - val_loss: 0.0201 - val_accuracy: 1.0000\n",
      "Epoch 79/100\n",
      "960/960 - 0s - loss: 0.0177 - accuracy: 1.0000 - val_loss: 0.0196 - val_accuracy: 1.0000\n",
      "Epoch 80/100\n",
      "960/960 - 0s - loss: 0.0171 - accuracy: 1.0000 - val_loss: 0.0190 - val_accuracy: 1.0000\n"
     ]
    },
    {
     "name": "stdout",
     "output_type": "stream",
     "text": [
      "Epoch 81/100\n",
      "960/960 - 0s - loss: 0.0165 - accuracy: 1.0000 - val_loss: 0.0182 - val_accuracy: 1.0000\n",
      "Epoch 82/100\n",
      "960/960 - 0s - loss: 0.0160 - accuracy: 1.0000 - val_loss: 0.0177 - val_accuracy: 1.0000\n",
      "Epoch 83/100\n",
      "960/960 - 0s - loss: 0.0155 - accuracy: 1.0000 - val_loss: 0.0173 - val_accuracy: 1.0000\n",
      "Epoch 84/100\n",
      "960/960 - 0s - loss: 0.0150 - accuracy: 1.0000 - val_loss: 0.0166 - val_accuracy: 1.0000\n",
      "Epoch 85/100\n",
      "960/960 - 0s - loss: 0.0145 - accuracy: 1.0000 - val_loss: 0.0163 - val_accuracy: 1.0000\n",
      "Epoch 86/100\n",
      "960/960 - 0s - loss: 0.0141 - accuracy: 1.0000 - val_loss: 0.0157 - val_accuracy: 1.0000\n",
      "Epoch 87/100\n",
      "960/960 - 0s - loss: 0.0137 - accuracy: 1.0000 - val_loss: 0.0152 - val_accuracy: 1.0000\n",
      "Epoch 88/100\n",
      "960/960 - 0s - loss: 0.0133 - accuracy: 1.0000 - val_loss: 0.0149 - val_accuracy: 1.0000\n",
      "Epoch 89/100\n",
      "960/960 - 0s - loss: 0.0129 - accuracy: 1.0000 - val_loss: 0.0143 - val_accuracy: 1.0000\n",
      "Epoch 90/100\n",
      "960/960 - 0s - loss: 0.0125 - accuracy: 1.0000 - val_loss: 0.0140 - val_accuracy: 1.0000\n",
      "Epoch 91/100\n",
      "960/960 - 0s - loss: 0.0121 - accuracy: 1.0000 - val_loss: 0.0135 - val_accuracy: 1.0000\n",
      "Epoch 92/100\n",
      "960/960 - 0s - loss: 0.0117 - accuracy: 1.0000 - val_loss: 0.0132 - val_accuracy: 1.0000\n",
      "Epoch 93/100\n",
      "960/960 - 0s - loss: 0.0114 - accuracy: 1.0000 - val_loss: 0.0127 - val_accuracy: 1.0000\n",
      "Epoch 94/100\n",
      "960/960 - 0s - loss: 0.0111 - accuracy: 1.0000 - val_loss: 0.0125 - val_accuracy: 1.0000\n",
      "Epoch 95/100\n",
      "960/960 - 0s - loss: 0.0108 - accuracy: 1.0000 - val_loss: 0.0122 - val_accuracy: 1.0000\n",
      "Epoch 96/100\n",
      "960/960 - 0s - loss: 0.0104 - accuracy: 1.0000 - val_loss: 0.0118 - val_accuracy: 1.0000\n",
      "Epoch 97/100\n",
      "960/960 - 0s - loss: 0.0102 - accuracy: 1.0000 - val_loss: 0.0116 - val_accuracy: 1.0000\n",
      "Epoch 98/100\n",
      "960/960 - 0s - loss: 0.0099 - accuracy: 1.0000 - val_loss: 0.0111 - val_accuracy: 1.0000\n",
      "Epoch 99/100\n",
      "960/960 - 0s - loss: 0.0096 - accuracy: 1.0000 - val_loss: 0.0109 - val_accuracy: 1.0000\n",
      "Epoch 100/100\n",
      "960/960 - 0s - loss: 0.0093 - accuracy: 1.0000 - val_loss: 0.0106 - val_accuracy: 1.0000\n"
     ]
    }
   ],
   "source": [
    "history = model.fit(train_data,train_labels,epochs = 100, validation_split = 0.2, verbose = 2,callbacks = callbacks)"
   ]
  },
  {
   "cell_type": "code",
   "execution_count": 19,
   "metadata": {},
   "outputs": [
    {
     "data": {
      "image/png": "[encoded data removed]",
      "text/plain": [
       "<Figure size 432x288 with 1 Axes>"
      ]
     },
     "metadata": {
      "needs_background": "light"
     },
     "output_type": "display_data"
    },
    {
     "data": {
      "image/png": "[encoded data removed]",
      "text/plain": [
       "<Figure size 432x288 with 1 Axes>"
      ]
     },
     "metadata": {
      "needs_background": "light"
     },
     "output_type": "display_data"
    }
   ],
   "source": [
    "import matplotlib.pyplot as plt\n",
    "train_loss = history.history['loss']\n",
    "val_loss = history.history['val_loss']\n",
    "train_acc = history.history['accuracy']\n",
    "val_acc = history.history['val_accuracy']\n",
    "epochs = np.arange(1,len(train_loss)+1)\n",
    "plt.figure()\n",
    "plt.plot(epochs, train_loss, label = \"Training Loss\")\n",
    "plt.plot(epochs, val_loss, label = \"Validation Loss\")\n",
    "plt.legend()\n",
    "plt.title(\"Comparision of Loss\")\n",
    "plt.show()\n",
    "plt.figure()\n",
    "plt.plot(epochs, train_acc, label = \"Training Accuracy\")\n",
    "plt.plot(epochs, val_acc, label = \"Validation Accuracy\")\n",
    "plt.title(\"Comparison of Accuracy\")\n",
    "plt.legend()\n",
    "plt.show()"
   ]
  },
  {
   "cell_type": "code",
   "execution_count": 14,
   "metadata": {},
   "outputs": [
    {
     "name": "stdout",
     "output_type": "stream",
     "text": [
      "600/600 [==============================] - 0s 12us/sample - loss: 0.0089 - accuracy: 1.0000\n"
     ]
    }
   ],
   "source": [
    "test_loss,test_acc = model.evaluate(test_data, test_labels)"
   ]
  },
  {
   "cell_type": "code",
   "execution_count": 15,
   "metadata": {},
   "outputs": [
    {
     "name": "stdout",
     "output_type": "stream",
     "text": [
      "1.0\n"
     ]
    }
   ],
   "source": [
    "print(test_acc)"
   ]
  },
  {
   "cell_type": "code",
   "execution_count": 16,
   "metadata": {},
   "outputs": [],
   "source": [
    "prediction = model.predict(test_data)\n",
    "prediction_labels = list([])\n",
    "for each_prediction in prediction:\n",
    "    prediction_labels.append(list(each_prediction).index(max(each_prediction)))\n",
    "    "
   ]
  },
  {
   "cell_type": "code",
   "execution_count": 17,
   "metadata": {},
   "outputs": [],
   "source": [
    "from sklearn.metrics import confusion_matrix\n",
    "true_labels = np.argmax(test_labels, axis = 1)\n",
    "matrix = confusion_matrix(true_labels, prediction_labels)"
   ]
  },
  {
   "cell_type": "code",
   "execution_count": 18,
   "metadata": {},
   "outputs": [
    {
     "data": {
      "text/plain": [
       "(array([0.5, 1.5, 2.5, 3.5]), <a list of 4 Text xticklabel objects>)"
      ]
     },
     "execution_count": 18,
     "metadata": {},
     "output_type": "execute_result"
    },
    {
     "data": {
      "image/png": "[encoded data removed]",
      "text/plain": [
       "<Figure size 432x288 with 2 Axes>"
      ]
     },
     "metadata": {
      "needs_background": "light"
     },
     "output_type": "display_data"
    }
   ],
   "source": [
    "import seaborn as sns\n",
    "matrix = pd.DataFrame(matrix)\n",
    "sns.heatmap(matrix, annot= True, fmt = \"d\",\n",
    "           xticklabels = category_labels,\n",
    "           yticklabels = category_labels)\n",
    "plt.xticks(rotation = 90)"
   ]
  },
  {
   "cell_type": "code",
   "execution_count": null,
   "metadata": {},
   "outputs": [],
   "source": []
  }
 ],
 "metadata": {
  "kernelspec": {
   "display_name": "tensorflow_env",
   "language": "python",
   "name": "tensorflwo_env"
  },
  "language_info": {
   "codemirror_mode": {
    "name": "ipython",
    "version": 3
   },
   "file_extension": ".py",
   "mimetype": "text/x-python",
   "name": "python",
   "nbconvert_exporter": "python",
   "pygments_lexer": "ipython3",
   "version": "3.7.2"
  },
  "varInspector": {
   "cols": {
    "lenName": 16,
    "lenType": 16,
    "lenVar": 40
   },
   "kernels_config": {
    "python": {
     "delete_cmd_postfix": "",
     "delete_cmd_prefix": "del ",
     "library": "var_list.py",
     "varRefreshCmd": "print(var_dic_list())"
    },
    "r": {
     "delete_cmd_postfix": ") ",
     "delete_cmd_prefix": "rm(",
     "library": "var_list.r",
     "varRefreshCmd": "cat(var_dic_list()) "
    }
   },
   "position": {
    "height": "144px",
    "left": "580px",
    "right": "20px",
    "top": "136px",
    "width": "350px"
   },
   "types_to_exclude": [
    "module",
    "function",
    "builtin_function_or_method",
    "instance",
    "_Feature"
   ],
   "window_display": false
  }
 },
 "nbformat": 4,
 "nbformat_minor": 2
}
