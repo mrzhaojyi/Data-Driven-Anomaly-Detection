{
 "cells": [
  {
   "cell_type": "markdown",
   "metadata": {},
   "source": [
    "## Preprocess data\n",
    "\n",
    "First read data from directory. After reading data, convert the categorical column into numerical values that can be put into neural network.\n",
    "\n",
    "Using 'glob' package we can read data files containing specific characters. "
   ]
  },
  {
   "cell_type": "code",
   "execution_count": 15,
   "metadata": {},
   "outputs": [],
   "source": [
    "import pandas as pd"
   ]
  },
  {
   "cell_type": "code",
   "execution_count": 16,
   "metadata": {},
   "outputs": [
    {
     "data": {
      "text/html": [
       "<div>\n",
       "<style scoped>\n",
       "    .dataframe tbody tr th:only-of-type {\n",
       "        vertical-align: middle;\n",
       "    }\n",
       "\n",
       "    .dataframe tbody tr th {\n",
       "        vertical-align: top;\n",
       "    }\n",
       "\n",
       "    .dataframe thead th {\n",
       "        text-align: right;\n",
       "    }\n",
       "</style>\n",
       "<table border=\"1\" class=\"dataframe\">\n",
       "  <thead>\n",
       "    <tr style=\"text-align: right;\">\n",
       "      <th></th>\n",
       "      <th>E1</th>\n",
       "      <th>E2</th>\n",
       "      <th>E3</th>\n",
       "      <th>E4</th>\n",
       "      <th>E5</th>\n",
       "      <th>E6</th>\n",
       "      <th>E7</th>\n",
       "      <th>E8</th>\n",
       "      <th>fault_type</th>\n",
       "    </tr>\n",
       "  </thead>\n",
       "  <tbody>\n",
       "    <tr>\n",
       "      <th>0</th>\n",
       "      <td>1.8697</td>\n",
       "      <td>3.6478</td>\n",
       "      <td>0.33794</td>\n",
       "      <td>0.035385</td>\n",
       "      <td>0.007739</td>\n",
       "      <td>0.008556</td>\n",
       "      <td>0.004237</td>\n",
       "      <td>0.000475</td>\n",
       "      <td>Normal</td>\n",
       "    </tr>\n",
       "    <tr>\n",
       "      <th>1</th>\n",
       "      <td>1.8725</td>\n",
       "      <td>2.8091</td>\n",
       "      <td>0.32781</td>\n",
       "      <td>0.041769</td>\n",
       "      <td>0.009650</td>\n",
       "      <td>0.010740</td>\n",
       "      <td>0.005232</td>\n",
       "      <td>0.001947</td>\n",
       "      <td>Normal</td>\n",
       "    </tr>\n",
       "    <tr>\n",
       "      <th>2</th>\n",
       "      <td>2.0595</td>\n",
       "      <td>3.8041</td>\n",
       "      <td>0.36825</td>\n",
       "      <td>0.036564</td>\n",
       "      <td>0.006459</td>\n",
       "      <td>0.008987</td>\n",
       "      <td>0.005481</td>\n",
       "      <td>0.000967</td>\n",
       "      <td>Normal</td>\n",
       "    </tr>\n",
       "    <tr>\n",
       "      <th>3</th>\n",
       "      <td>2.5273</td>\n",
       "      <td>3.5595</td>\n",
       "      <td>0.35947</td>\n",
       "      <td>0.038535</td>\n",
       "      <td>0.006255</td>\n",
       "      <td>0.008491</td>\n",
       "      <td>0.002687</td>\n",
       "      <td>0.000332</td>\n",
       "      <td>Normal</td>\n",
       "    </tr>\n",
       "    <tr>\n",
       "      <th>4</th>\n",
       "      <td>1.8534</td>\n",
       "      <td>3.6642</td>\n",
       "      <td>0.35441</td>\n",
       "      <td>0.038339</td>\n",
       "      <td>0.006703</td>\n",
       "      <td>0.008614</td>\n",
       "      <td>0.004021</td>\n",
       "      <td>0.001111</td>\n",
       "      <td>Normal</td>\n",
       "    </tr>\n",
       "  </tbody>\n",
       "</table>\n",
       "</div>"
      ],
      "text/plain": [
       "       E1      E2       E3        E4        E5        E6        E7        E8  \\\n",
       "0  1.8697  3.6478  0.33794  0.035385  0.007739  0.008556  0.004237  0.000475   \n",
       "1  1.8725  2.8091  0.32781  0.041769  0.009650  0.010740  0.005232  0.001947   \n",
       "2  2.0595  3.8041  0.36825  0.036564  0.006459  0.008987  0.005481  0.000967   \n",
       "3  2.5273  3.5595  0.35947  0.038535  0.006255  0.008491  0.002687  0.000332   \n",
       "4  1.8534  3.6642  0.35441  0.038339  0.006703  0.008614  0.004021  0.001111   \n",
       "\n",
       "  fault_type  \n",
       "0     Normal  \n",
       "1     Normal  \n",
       "2     Normal  \n",
       "3     Normal  \n",
       "4     Normal  "
      ]
     },
     "execution_count": 16,
     "metadata": {},
     "output_type": "execute_result"
    }
   ],
   "source": [
    "path = \"D:/rfiles/feature_matrix/feature_matrix_energy8_1024_inner.csv\"\n",
    "df = pd.read_csv(path)\n",
    "df.head()"
   ]
  },
  {
   "cell_type": "markdown",
   "metadata": {},
   "source": [
    "Now we will read the first files and use it in further analysis. "
   ]
  },
  {
   "cell_type": "code",
   "execution_count": 17,
   "metadata": {},
   "outputs": [
    {
     "data": {
      "text/plain": [
       "Normal        1657\n",
       "0.007 inch     476\n",
       "0.021 inch     474\n",
       "0.014 inch     472\n",
       "0.028 inch     471\n",
       "Name: fault_type, dtype: int64"
      ]
     },
     "execution_count": 17,
     "metadata": {},
     "output_type": "execute_result"
    }
   ],
   "source": [
    "df[\"fault_type\"].value_counts()"
   ]
  },
  {
   "cell_type": "markdown",
   "metadata": {},
   "source": [
    "Now we will split the total data into training and test set. The dataset is unbalanced (it has more normal data as compared to other faulty data types). So first we create a balanced dataset and then form a training and test set."
   ]
  },
  {
   "cell_type": "code",
   "execution_count": 18,
   "metadata": {},
   "outputs": [],
   "source": [
    "import numpy as np\n",
    "from numpy.random import choice \n",
    "np.random.seed(1)\n",
    "index = np.array([choice(np.arange(0,1657),450,replace = False),\n",
    "                choice(np.arange(1657,2133),450,replace = False),\n",
    "                choice(np.arange(2133,2605),450,replace = False),\n",
    "                choice(np.arange(2605,3079),450,replace = False),\n",
    "                choice(np.arange(3079,3550),450,replace = False)])\n",
    "index = index.ravel()\n",
    "data = df.iloc[index,]\n",
    "data = data.reset_index(drop = True)\n",
    "test_index = np.array([choice(np.arange(0,450),150, replace = False),\n",
    "                     choice(np.arange(450,2*450),150, replace = False),\n",
    "                     choice(np.arange(2*450,3*450),150, replace = False),\n",
    "                     choice(np.arange(3*450,4*450),150, replace = False),\n",
    "                     choice(np.arange(4*450,5*450),150, replace = False)])\n",
    "test_index = test_index.ravel()\n",
    "test_data = data.iloc[test_index,]\n",
    "train_data = data.drop(data.index[test_index])\n",
    "\n",
    "# Shuffle data\n",
    "train_data = train_data.sample(frac = 1, random_state = 2)\n",
    "test_data = test_data.sample(frac = 1, random_state = 3)\n",
    "\n",
    "# Convert categorical lables to numberic entries\n",
    "\n",
    "category_labels = ['Normal', '0.007 inch', '0.014 inch','0.021 inch', '0.028 inch']\n",
    "# test_labels = test_data['fault_type']\n",
    "test_labels = pd.Categorical(test_data['fault_type'],categories= category_labels).codes # Produces ndarrays\n",
    "# train_labels = train_data['fault_type']\n",
    "train_labels = pd.Categorical(train_data['fault_type'], categories = category_labels).codes"
   ]
  },
  {
   "cell_type": "code",
   "execution_count": 19,
   "metadata": {},
   "outputs": [
    {
     "name": "stdout",
     "output_type": "stream",
     "text": [
      "(2250, 9) (750, 9) (1500, 9) (750,) (1500,)\n"
     ]
    }
   ],
   "source": [
    "print(data.shape,test_data.shape,train_data.shape,test_labels.shape,train_labels.shape)"
   ]
  },
  {
   "cell_type": "code",
   "execution_count": 20,
   "metadata": {},
   "outputs": [],
   "source": [
    "import tensorflow as tf\n",
    "from tensorflow import keras\n",
    "from tensorflow.keras.models import Sequential\n",
    "from tensorflow.keras import layers\n",
    "from tensorflow.keras.utils import to_categorical\n",
    "from tensorflow.keras.callbacks import EarlyStopping, ModelCheckpoint\n",
    "import sklearn\n",
    "from sklearn import preprocessing"
   ]
  },
  {
   "cell_type": "code",
   "execution_count": 21,
   "metadata": {},
   "outputs": [],
   "source": [
    "# Convert labels to categorical data\n",
    "train_data = train_data.iloc[:,0:8]\n",
    "test_data = test_data.iloc[:,0:8]\n",
    "# Scale the data\n",
    "train_data = preprocessing.scale(train_data)\n",
    "test_data = preprocessing.scale(test_data)\n",
    "train_labels = to_categorical(train_labels)\n",
    "test_labels = to_categorical(test_labels)"
   ]
  },
  {
   "cell_type": "code",
   "execution_count": 22,
   "metadata": {},
   "outputs": [
    {
     "name": "stdout",
     "output_type": "stream",
     "text": [
      "(1500, 8) (750, 8) (1500, 5) (750, 5)\n"
     ]
    }
   ],
   "source": [
    "print(train_data.shape, test_data.shape, train_labels.shape, test_labels.shape)"
   ]
  },
  {
   "cell_type": "code",
   "execution_count": 98,
   "metadata": {},
   "outputs": [
    {
     "name": "stdout",
     "output_type": "stream",
     "text": [
      "Model: \"sequential_13\"\n",
      "_________________________________________________________________\n",
      "Layer (type)                 Output Shape              Param #   \n",
      "=================================================================\n",
      "dense_27 (Dense)             (None, 5)                 45        \n",
      "_________________________________________________________________\n",
      "dense_28 (Dense)             (None, 5)                 30        \n",
      "=================================================================\n",
      "Total params: 75\n",
      "Trainable params: 75\n",
      "Non-trainable params: 0\n",
      "_________________________________________________________________\n"
     ]
    }
   ],
   "source": [
    "model = Sequential([\n",
    "    layers.Dense(5,activation = 'relu', input_dim = 8),\n",
    "    layers.Dense(5,activation = 'softmax')\n",
    "])\n",
    "model.summary()"
   ]
  },
  {
   "cell_type": "code",
   "execution_count": 99,
   "metadata": {},
   "outputs": [],
   "source": [
    "model.compile(optimizer = 'adam',loss = 'categorical_crossentropy', metrics = ['accuracy'])"
   ]
  },
  {
   "cell_type": "code",
   "execution_count": 100,
   "metadata": {},
   "outputs": [],
   "source": [
    "callbacks = [EarlyStopping(monitor = 'val_loss', mode = 'min', verbose = 1, patience = 5)]"
   ]
  },
  {
   "cell_type": "code",
   "execution_count": 101,
   "metadata": {},
   "outputs": [
    {
     "name": "stdout",
     "output_type": "stream",
     "text": [
      "Train on 1200 samples, validate on 300 samples\n",
      "Epoch 1/100\n",
      "1200/1200 - 0s - loss: 1.6715 - accuracy: 0.1950 - val_loss: 1.5441 - val_accuracy: 0.2233\n",
      "Epoch 2/100\n",
      "1200/1200 - 0s - loss: 1.4531 - accuracy: 0.2517 - val_loss: 1.3642 - val_accuracy: 0.2967\n",
      "Epoch 3/100\n",
      "1200/1200 - 0s - loss: 1.2941 - accuracy: 0.3742 - val_loss: 1.2277 - val_accuracy: 0.5800\n",
      "Epoch 4/100\n",
      "1200/1200 - 0s - loss: 1.1652 - accuracy: 0.5975 - val_loss: 1.1129 - val_accuracy: 0.6500\n",
      "Epoch 5/100\n",
      "1200/1200 - 0s - loss: 1.0544 - accuracy: 0.6792 - val_loss: 1.0133 - val_accuracy: 0.7267\n",
      "Epoch 6/100\n",
      "1200/1200 - 0s - loss: 0.9564 - accuracy: 0.7517 - val_loss: 0.9239 - val_accuracy: 0.7600\n",
      "Epoch 7/100\n",
      "1200/1200 - 0s - loss: 0.8686 - accuracy: 0.7733 - val_loss: 0.8464 - val_accuracy: 0.7667\n",
      "Epoch 8/100\n",
      "1200/1200 - 0s - loss: 0.7913 - accuracy: 0.7842 - val_loss: 0.7765 - val_accuracy: 0.7700\n",
      "Epoch 9/100\n",
      "1200/1200 - 0s - loss: 0.7218 - accuracy: 0.7925 - val_loss: 0.7140 - val_accuracy: 0.7700\n",
      "Epoch 10/100\n",
      "1200/1200 - 0s - loss: 0.6596 - accuracy: 0.8000 - val_loss: 0.6587 - val_accuracy: 0.7800\n",
      "Epoch 11/100\n",
      "1200/1200 - 0s - loss: 0.6047 - accuracy: 0.8083 - val_loss: 0.6097 - val_accuracy: 0.7900\n",
      "Epoch 12/100\n",
      "1200/1200 - 0s - loss: 0.5566 - accuracy: 0.8150 - val_loss: 0.5660 - val_accuracy: 0.7933\n",
      "Epoch 13/100\n",
      "1200/1200 - 0s - loss: 0.5146 - accuracy: 0.8192 - val_loss: 0.5275 - val_accuracy: 0.7967\n",
      "Epoch 14/100\n",
      "1200/1200 - 0s - loss: 0.4773 - accuracy: 0.8242 - val_loss: 0.4944 - val_accuracy: 0.8033\n",
      "Epoch 15/100\n",
      "1200/1200 - 0s - loss: 0.4457 - accuracy: 0.8292 - val_loss: 0.4647 - val_accuracy: 0.8067\n",
      "Epoch 16/100\n",
      "1200/1200 - 0s - loss: 0.4182 - accuracy: 0.8333 - val_loss: 0.4391 - val_accuracy: 0.8067\n",
      "Epoch 17/100\n",
      "1200/1200 - 0s - loss: 0.3946 - accuracy: 0.8350 - val_loss: 0.4170 - val_accuracy: 0.8067\n",
      "Epoch 18/100\n",
      "1200/1200 - 0s - loss: 0.3740 - accuracy: 0.8400 - val_loss: 0.3972 - val_accuracy: 0.8167\n",
      "Epoch 19/100\n",
      "1200/1200 - 0s - loss: 0.3561 - accuracy: 0.8467 - val_loss: 0.3800 - val_accuracy: 0.8367\n",
      "Epoch 20/100\n",
      "1200/1200 - 0s - loss: 0.3405 - accuracy: 0.8525 - val_loss: 0.3652 - val_accuracy: 0.8367\n",
      "Epoch 21/100\n",
      "1200/1200 - 0s - loss: 0.3270 - accuracy: 0.8567 - val_loss: 0.3519 - val_accuracy: 0.8367\n",
      "Epoch 22/100\n",
      "1200/1200 - 0s - loss: 0.3147 - accuracy: 0.8608 - val_loss: 0.3400 - val_accuracy: 0.8367\n",
      "Epoch 23/100\n",
      "1200/1200 - 0s - loss: 0.3030 - accuracy: 0.8700 - val_loss: 0.3275 - val_accuracy: 0.8433\n",
      "Epoch 24/100\n",
      "1200/1200 - 0s - loss: 0.2910 - accuracy: 0.8800 - val_loss: 0.3149 - val_accuracy: 0.8533\n",
      "Epoch 25/100\n",
      "1200/1200 - 0s - loss: 0.2779 - accuracy: 0.8917 - val_loss: 0.2995 - val_accuracy: 0.8733\n",
      "Epoch 26/100\n",
      "1200/1200 - 0s - loss: 0.2619 - accuracy: 0.9150 - val_loss: 0.2804 - val_accuracy: 0.9000\n",
      "Epoch 27/100\n",
      "1200/1200 - 0s - loss: 0.2425 - accuracy: 0.9350 - val_loss: 0.2570 - val_accuracy: 0.9267\n",
      "Epoch 28/100\n",
      "1200/1200 - 0s - loss: 0.2207 - accuracy: 0.9675 - val_loss: 0.2318 - val_accuracy: 0.9600\n",
      "Epoch 29/100\n",
      "1200/1200 - 0s - loss: 0.1995 - accuracy: 0.9883 - val_loss: 0.2116 - val_accuracy: 0.9867\n",
      "Epoch 30/100\n",
      "1200/1200 - 0s - loss: 0.1855 - accuracy: 0.9892 - val_loss: 0.1988 - val_accuracy: 0.9800\n",
      "Epoch 31/100\n",
      "1200/1200 - 0s - loss: 0.1746 - accuracy: 0.9892 - val_loss: 0.1875 - val_accuracy: 0.9833\n",
      "Epoch 32/100\n",
      "1200/1200 - 0s - loss: 0.1649 - accuracy: 0.9892 - val_loss: 0.1775 - val_accuracy: 0.9900\n",
      "Epoch 33/100\n",
      "1200/1200 - 0s - loss: 0.1560 - accuracy: 0.9900 - val_loss: 0.1681 - val_accuracy: 0.9900\n",
      "Epoch 34/100\n",
      "1200/1200 - 0s - loss: 0.1478 - accuracy: 0.9917 - val_loss: 0.1597 - val_accuracy: 0.9900\n",
      "Epoch 35/100\n",
      "1200/1200 - 0s - loss: 0.1401 - accuracy: 0.9925 - val_loss: 0.1521 - val_accuracy: 0.9900\n",
      "Epoch 36/100\n",
      "1200/1200 - 0s - loss: 0.1330 - accuracy: 0.9933 - val_loss: 0.1451 - val_accuracy: 0.9900\n",
      "Epoch 37/100\n",
      "1200/1200 - 0s - loss: 0.1265 - accuracy: 0.9933 - val_loss: 0.1376 - val_accuracy: 0.9933\n",
      "Epoch 38/100\n",
      "1200/1200 - 0s - loss: 0.1202 - accuracy: 0.9933 - val_loss: 0.1314 - val_accuracy: 0.9933\n",
      "Epoch 39/100\n",
      "1200/1200 - 0s - loss: 0.1146 - accuracy: 0.9942 - val_loss: 0.1258 - val_accuracy: 0.9933\n",
      "Epoch 40/100\n",
      "1200/1200 - 0s - loss: 0.1092 - accuracy: 0.9933 - val_loss: 0.1205 - val_accuracy: 0.9933\n",
      "Epoch 41/100\n",
      "1200/1200 - 0s - loss: 0.1042 - accuracy: 0.9942 - val_loss: 0.1151 - val_accuracy: 0.9933\n",
      "Epoch 42/100\n",
      "1200/1200 - 0s - loss: 0.0996 - accuracy: 0.9942 - val_loss: 0.1101 - val_accuracy: 0.9933\n",
      "Epoch 43/100\n",
      "1200/1200 - 0s - loss: 0.0952 - accuracy: 0.9950 - val_loss: 0.1058 - val_accuracy: 0.9933\n",
      "Epoch 44/100\n",
      "1200/1200 - 0s - loss: 0.0910 - accuracy: 0.9942 - val_loss: 0.1016 - val_accuracy: 0.9933\n",
      "Epoch 45/100\n",
      "1200/1200 - 0s - loss: 0.0873 - accuracy: 0.9950 - val_loss: 0.0977 - val_accuracy: 0.9933\n",
      "Epoch 46/100\n",
      "1200/1200 - 0s - loss: 0.0837 - accuracy: 0.9950 - val_loss: 0.0936 - val_accuracy: 0.9933\n",
      "Epoch 47/100\n",
      "1200/1200 - 0s - loss: 0.0801 - accuracy: 0.9950 - val_loss: 0.0900 - val_accuracy: 0.9933\n",
      "Epoch 48/100\n",
      "1200/1200 - 0s - loss: 0.0770 - accuracy: 0.9950 - val_loss: 0.0866 - val_accuracy: 0.9933\n",
      "Epoch 49/100\n",
      "1200/1200 - 0s - loss: 0.0740 - accuracy: 0.9950 - val_loss: 0.0836 - val_accuracy: 0.9933\n",
      "Epoch 50/100\n",
      "1200/1200 - 0s - loss: 0.0712 - accuracy: 0.9950 - val_loss: 0.0809 - val_accuracy: 0.9933\n",
      "Epoch 51/100\n",
      "1200/1200 - 0s - loss: 0.0685 - accuracy: 0.9950 - val_loss: 0.0774 - val_accuracy: 0.9933\n",
      "Epoch 52/100\n",
      "1200/1200 - 0s - loss: 0.0660 - accuracy: 0.9950 - val_loss: 0.0749 - val_accuracy: 0.9933\n",
      "Epoch 53/100\n",
      "1200/1200 - 0s - loss: 0.0636 - accuracy: 0.9950 - val_loss: 0.0721 - val_accuracy: 0.9933\n",
      "Epoch 54/100\n",
      "1200/1200 - 0s - loss: 0.0613 - accuracy: 0.9950 - val_loss: 0.0698 - val_accuracy: 0.9933\n",
      "Epoch 55/100\n",
      "1200/1200 - 0s - loss: 0.0592 - accuracy: 0.9950 - val_loss: 0.0676 - val_accuracy: 0.9933\n",
      "Epoch 56/100\n",
      "1200/1200 - 0s - loss: 0.0572 - accuracy: 0.9958 - val_loss: 0.0648 - val_accuracy: 0.9933\n",
      "Epoch 57/100\n",
      "1200/1200 - 0s - loss: 0.0551 - accuracy: 0.9967 - val_loss: 0.0631 - val_accuracy: 0.9933\n",
      "Epoch 58/100\n",
      "1200/1200 - 0s - loss: 0.0534 - accuracy: 0.9958 - val_loss: 0.0611 - val_accuracy: 0.9933\n",
      "Epoch 59/100\n",
      "1200/1200 - 0s - loss: 0.0515 - accuracy: 0.9958 - val_loss: 0.0589 - val_accuracy: 0.9933\n",
      "Epoch 60/100\n",
      "1200/1200 - 0s - loss: 0.0499 - accuracy: 0.9967 - val_loss: 0.0568 - val_accuracy: 0.9933\n",
      "Epoch 61/100\n",
      "1200/1200 - 0s - loss: 0.0483 - accuracy: 0.9967 - val_loss: 0.0554 - val_accuracy: 0.9933\n",
      "Epoch 62/100\n",
      "1200/1200 - 0s - loss: 0.0468 - accuracy: 0.9967 - val_loss: 0.0534 - val_accuracy: 0.9967\n",
      "Epoch 63/100\n",
      "1200/1200 - 0s - loss: 0.0453 - accuracy: 0.9975 - val_loss: 0.0519 - val_accuracy: 0.9967\n",
      "Epoch 64/100\n",
      "1200/1200 - 0s - loss: 0.0440 - accuracy: 0.9967 - val_loss: 0.0506 - val_accuracy: 0.9967\n",
      "Epoch 65/100\n",
      "1200/1200 - 0s - loss: 0.0426 - accuracy: 0.9975 - val_loss: 0.0487 - val_accuracy: 0.9967\n",
      "Epoch 66/100\n",
      "1200/1200 - 0s - loss: 0.0414 - accuracy: 0.9967 - val_loss: 0.0472 - val_accuracy: 0.9967\n",
      "Epoch 67/100\n",
      "1200/1200 - 0s - loss: 0.0402 - accuracy: 0.9975 - val_loss: 0.0461 - val_accuracy: 0.9967\n",
      "Epoch 68/100\n",
      "1200/1200 - 0s - loss: 0.0389 - accuracy: 0.9975 - val_loss: 0.0446 - val_accuracy: 0.9967\n",
      "Epoch 69/100\n",
      "1200/1200 - 0s - loss: 0.0379 - accuracy: 0.9983 - val_loss: 0.0431 - val_accuracy: 0.9967\n",
      "Epoch 70/100\n",
      "1200/1200 - 0s - loss: 0.0367 - accuracy: 0.9983 - val_loss: 0.0418 - val_accuracy: 0.9967\n",
      "Epoch 71/100\n",
      "1200/1200 - 0s - loss: 0.0357 - accuracy: 0.9983 - val_loss: 0.0404 - val_accuracy: 0.9967\n",
      "Epoch 72/100\n",
      "1200/1200 - 0s - loss: 0.0347 - accuracy: 0.9983 - val_loss: 0.0394 - val_accuracy: 0.9967\n",
      "Epoch 73/100\n",
      "1200/1200 - 0s - loss: 0.0337 - accuracy: 0.9983 - val_loss: 0.0380 - val_accuracy: 0.9967\n",
      "Epoch 74/100\n",
      "1200/1200 - 0s - loss: 0.0328 - accuracy: 0.9983 - val_loss: 0.0370 - val_accuracy: 0.9967\n",
      "Epoch 75/100\n",
      "1200/1200 - 0s - loss: 0.0319 - accuracy: 0.9983 - val_loss: 0.0358 - val_accuracy: 0.9967\n",
      "Epoch 76/100\n",
      "1200/1200 - 0s - loss: 0.0311 - accuracy: 0.9983 - val_loss: 0.0346 - val_accuracy: 0.9967\n",
      "Epoch 77/100\n",
      "1200/1200 - 0s - loss: 0.0302 - accuracy: 0.9983 - val_loss: 0.0337 - val_accuracy: 0.9967\n",
      "Epoch 78/100\n",
      "1200/1200 - 0s - loss: 0.0293 - accuracy: 0.9983 - val_loss: 0.0327 - val_accuracy: 0.9967\n",
      "Epoch 79/100\n",
      "1200/1200 - 0s - loss: 0.0285 - accuracy: 0.9983 - val_loss: 0.0316 - val_accuracy: 0.9967\n"
     ]
    },
    {
     "name": "stdout",
     "output_type": "stream",
     "text": [
      "Epoch 80/100\n",
      "1200/1200 - 0s - loss: 0.0278 - accuracy: 0.9983 - val_loss: 0.0306 - val_accuracy: 0.9967\n",
      "Epoch 81/100\n",
      "1200/1200 - 0s - loss: 0.0270 - accuracy: 0.9983 - val_loss: 0.0298 - val_accuracy: 0.9967\n",
      "Epoch 82/100\n",
      "1200/1200 - 0s - loss: 0.0263 - accuracy: 0.9983 - val_loss: 0.0288 - val_accuracy: 0.9967\n",
      "Epoch 83/100\n",
      "1200/1200 - 0s - loss: 0.0256 - accuracy: 0.9983 - val_loss: 0.0278 - val_accuracy: 0.9967\n",
      "Epoch 84/100\n",
      "1200/1200 - 0s - loss: 0.0250 - accuracy: 0.9983 - val_loss: 0.0271 - val_accuracy: 0.9967\n",
      "Epoch 85/100\n",
      "1200/1200 - 0s - loss: 0.0243 - accuracy: 0.9983 - val_loss: 0.0263 - val_accuracy: 0.9967\n",
      "Epoch 86/100\n",
      "1200/1200 - 0s - loss: 0.0237 - accuracy: 0.9983 - val_loss: 0.0254 - val_accuracy: 0.9967\n",
      "Epoch 87/100\n",
      "1200/1200 - 0s - loss: 0.0231 - accuracy: 0.9983 - val_loss: 0.0249 - val_accuracy: 0.9967\n",
      "Epoch 88/100\n",
      "1200/1200 - 0s - loss: 0.0226 - accuracy: 0.9983 - val_loss: 0.0235 - val_accuracy: 0.9967\n",
      "Epoch 89/100\n",
      "1200/1200 - 0s - loss: 0.0220 - accuracy: 0.9983 - val_loss: 0.0231 - val_accuracy: 0.9967\n",
      "Epoch 90/100\n",
      "1200/1200 - 0s - loss: 0.0214 - accuracy: 0.9983 - val_loss: 0.0224 - val_accuracy: 0.9967\n",
      "Epoch 91/100\n",
      "1200/1200 - 0s - loss: 0.0209 - accuracy: 0.9983 - val_loss: 0.0219 - val_accuracy: 0.9967\n",
      "Epoch 92/100\n",
      "1200/1200 - 0s - loss: 0.0203 - accuracy: 0.9983 - val_loss: 0.0214 - val_accuracy: 0.9967\n",
      "Epoch 93/100\n",
      "1200/1200 - 0s - loss: 0.0198 - accuracy: 0.9983 - val_loss: 0.0205 - val_accuracy: 0.9967\n",
      "Epoch 94/100\n",
      "1200/1200 - 0s - loss: 0.0193 - accuracy: 0.9983 - val_loss: 0.0199 - val_accuracy: 1.0000\n",
      "Epoch 95/100\n",
      "1200/1200 - 0s - loss: 0.0189 - accuracy: 0.9983 - val_loss: 0.0195 - val_accuracy: 1.0000\n",
      "Epoch 96/100\n",
      "1200/1200 - 0s - loss: 0.0185 - accuracy: 0.9983 - val_loss: 0.0190 - val_accuracy: 1.0000\n",
      "Epoch 97/100\n",
      "1200/1200 - 0s - loss: 0.0180 - accuracy: 0.9983 - val_loss: 0.0185 - val_accuracy: 1.0000\n",
      "Epoch 98/100\n",
      "1200/1200 - 0s - loss: 0.0177 - accuracy: 0.9983 - val_loss: 0.0180 - val_accuracy: 1.0000\n",
      "Epoch 99/100\n",
      "1200/1200 - 0s - loss: 0.0172 - accuracy: 0.9983 - val_loss: 0.0174 - val_accuracy: 1.0000\n",
      "Epoch 100/100\n",
      "1200/1200 - 0s - loss: 0.0168 - accuracy: 0.9983 - val_loss: 0.0171 - val_accuracy: 1.0000\n"
     ]
    }
   ],
   "source": [
    "history = model.fit(train_data,train_labels,epochs = 100, validation_split = 0.2, verbose = 2,callbacks = callbacks)"
   ]
  },
  {
   "cell_type": "code",
   "execution_count": 102,
   "metadata": {},
   "outputs": [
    {
     "data": {
      "image/png": "[encoded data removed]",
      "text/plain": [
       "<Figure size 432x288 with 1 Axes>"
      ]
     },
     "metadata": {
      "needs_background": "light"
     },
     "output_type": "display_data"
    },
    {
     "data": {
      "image/png": "[encoded data removed]",
      "text/plain": [
       "<Figure size 432x288 with 1 Axes>"
      ]
     },
     "metadata": {
      "needs_background": "light"
     },
     "output_type": "display_data"
    }
   ],
   "source": [
    "import matplotlib.pyplot as plt\n",
    "train_loss = history.history['loss']\n",
    "val_loss = history.history['val_loss']\n",
    "train_acc = history.history['accuracy']\n",
    "val_acc = history.history['val_accuracy']\n",
    "epochs = np.arange(1,len(train_loss)+1)\n",
    "plt.figure()\n",
    "plt.plot(epochs, train_loss, label = \"Training Loss\")\n",
    "plt.plot(epochs, val_loss, label = \"Validation Loss\")\n",
    "plt.legend()\n",
    "plt.title(\"Comparision of Loss\")\n",
    "plt.show()\n",
    "plt.figure()\n",
    "plt.plot(epochs, train_acc, label = \"Training Accuracy\")\n",
    "plt.plot(epochs, val_acc, label = \"Validation Accuracy\")\n",
    "plt.title(\"Comparison of Accuracy\")\n",
    "plt.legend()\n",
    "plt.show()"
   ]
  },
  {
   "cell_type": "code",
   "execution_count": 103,
   "metadata": {},
   "outputs": [
    {
     "name": "stdout",
     "output_type": "stream",
     "text": [
      "750/750 [==============================] - 0s 33us/sample - loss: 0.0168 - accuracy: 1.0000\n"
     ]
    }
   ],
   "source": [
    "test_loss,test_acc = model.evaluate(test_data, test_labels)"
   ]
  },
  {
   "cell_type": "code",
   "execution_count": 104,
   "metadata": {},
   "outputs": [
    {
     "name": "stdout",
     "output_type": "stream",
     "text": [
      "1.0\n"
     ]
    }
   ],
   "source": [
    "print(test_acc)"
   ]
  },
  {
   "cell_type": "code",
   "execution_count": 105,
   "metadata": {},
   "outputs": [],
   "source": [
    "prediction = model.predict(test_data)\n",
    "prediction_labels = list([])\n",
    "for each_prediction in prediction:\n",
    "    prediction_labels.append(list(each_prediction).index(max(each_prediction)))\n",
    "    "
   ]
  },
  {
   "cell_type": "code",
   "execution_count": 106,
   "metadata": {},
   "outputs": [],
   "source": [
    "from sklearn.metrics import confusion_matrix\n",
    "true_labels = np.argmax(test_labels, axis = 1)\n",
    "matrix = confusion_matrix(true_labels, prediction_labels)"
   ]
  },
  {
   "cell_type": "code",
   "execution_count": 107,
   "metadata": {},
   "outputs": [
    {
     "data": {
      "text/plain": [
       "(array([0.5, 1.5, 2.5, 3.5, 4.5]), <a list of 5 Text xticklabel objects>)"
      ]
     },
     "execution_count": 107,
     "metadata": {},
     "output_type": "execute_result"
    },
    {
     "data": {
      "image/png": "[encoded data removed]",
      "text/plain": [
       "<Figure size 432x288 with 2 Axes>"
      ]
     },
     "metadata": {
      "needs_background": "light"
     },
     "output_type": "display_data"
    }
   ],
   "source": [
    "import seaborn as sns\n",
    "matrix = pd.DataFrame(matrix)\n",
    "sns.heatmap(matrix, annot= True, fmt = \"d\",\n",
    "           xticklabels = category_labels,\n",
    "           yticklabels = category_labels)\n",
    "plt.xticks(rotation = 90)"
   ]
  },
  {
   "cell_type": "code",
   "execution_count": null,
   "metadata": {},
   "outputs": [],
   "source": []
  }
 ],
 "metadata": {
  "kernelspec": {
   "display_name": "tensorflow_env",
   "language": "python",
   "name": "tensorflwo_env"
  },
  "language_info": {
   "codemirror_mode": {
    "name": "ipython",
    "version": 3
   },
   "file_extension": ".py",
   "mimetype": "text/x-python",
   "name": "python",
   "nbconvert_exporter": "python",
   "pygments_lexer": "ipython3",
   "version": "3.7.2"
  },
  "varInspector": {
   "cols": {
    "lenName": 16,
    "lenType": 16,
    "lenVar": 40
   },
   "kernels_config": {
    "python": {
     "delete_cmd_postfix": "",
     "delete_cmd_prefix": "del ",
     "library": "var_list.py",
     "varRefreshCmd": "print(var_dic_list())"
    },
    "r": {
     "delete_cmd_postfix": ") ",
     "delete_cmd_prefix": "rm(",
     "library": "var_list.r",
     "varRefreshCmd": "cat(var_dic_list()) "
    }
   },
   "position": {
    "height": "144px",
    "left": "580px",
    "right": "20px",
    "top": "136px",
    "width": "350px"
   },
   "types_to_exclude": [
    "module",
    "function",
    "builtin_function_or_method",
    "instance",
    "_Feature"
   ],
   "window_display": false
  }
 },
 "nbformat": 4,
 "nbformat_minor": 2
}
