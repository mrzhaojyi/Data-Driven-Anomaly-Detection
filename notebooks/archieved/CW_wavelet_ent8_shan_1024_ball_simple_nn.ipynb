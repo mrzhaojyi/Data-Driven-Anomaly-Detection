{
 "cells": [
  {
   "cell_type": "markdown",
   "metadata": {},
   "source": [
    "## Preprocess data\n",
    "\n",
    "First read data from directory. After reading data, convert the categorical column into numerical values that can be put into neural network.\n",
    "\n",
    "Using 'glob' package we can read data files containing specific characters. "
   ]
  },
  {
   "cell_type": "code",
   "execution_count": 1,
   "metadata": {},
   "outputs": [],
   "source": [
    "import pandas as pd"
   ]
  },
  {
   "cell_type": "code",
   "execution_count": 2,
   "metadata": {},
   "outputs": [
    {
     "data": {
      "text/html": [
       "<div>\n",
       "<style scoped>\n",
       "    .dataframe tbody tr th:only-of-type {\n",
       "        vertical-align: middle;\n",
       "    }\n",
       "\n",
       "    .dataframe tbody tr th {\n",
       "        vertical-align: top;\n",
       "    }\n",
       "\n",
       "    .dataframe thead th {\n",
       "        text-align: right;\n",
       "    }\n",
       "</style>\n",
       "<table border=\"1\" class=\"dataframe\">\n",
       "  <thead>\n",
       "    <tr style=\"text-align: right;\">\n",
       "      <th></th>\n",
       "      <th>En1</th>\n",
       "      <th>En2</th>\n",
       "      <th>En3</th>\n",
       "      <th>En4</th>\n",
       "      <th>En5</th>\n",
       "      <th>En6</th>\n",
       "      <th>En7</th>\n",
       "      <th>En8</th>\n",
       "      <th>fault_type</th>\n",
       "    </tr>\n",
       "  </thead>\n",
       "  <tbody>\n",
       "    <tr>\n",
       "      <th>0</th>\n",
       "      <td>10.458</td>\n",
       "      <td>18.162</td>\n",
       "      <td>0.30105</td>\n",
       "      <td>2.4104</td>\n",
       "      <td>0.002119</td>\n",
       "      <td>0.043932</td>\n",
       "      <td>0.062594</td>\n",
       "      <td>0.091794</td>\n",
       "      <td>Normal</td>\n",
       "    </tr>\n",
       "    <tr>\n",
       "      <th>1</th>\n",
       "      <td>10.162</td>\n",
       "      <td>14.770</td>\n",
       "      <td>0.28216</td>\n",
       "      <td>2.4207</td>\n",
       "      <td>0.002269</td>\n",
       "      <td>0.034931</td>\n",
       "      <td>0.059007</td>\n",
       "      <td>0.088469</td>\n",
       "      <td>Normal</td>\n",
       "    </tr>\n",
       "    <tr>\n",
       "      <th>2</th>\n",
       "      <td>11.504</td>\n",
       "      <td>18.896</td>\n",
       "      <td>0.31984</td>\n",
       "      <td>2.6778</td>\n",
       "      <td>0.002534</td>\n",
       "      <td>0.054347</td>\n",
       "      <td>0.061133</td>\n",
       "      <td>0.094381</td>\n",
       "      <td>Normal</td>\n",
       "    </tr>\n",
       "    <tr>\n",
       "      <th>3</th>\n",
       "      <td>13.722</td>\n",
       "      <td>17.461</td>\n",
       "      <td>0.39507</td>\n",
       "      <td>2.6143</td>\n",
       "      <td>0.002614</td>\n",
       "      <td>0.033303</td>\n",
       "      <td>0.057822</td>\n",
       "      <td>0.093157</td>\n",
       "      <td>Normal</td>\n",
       "    </tr>\n",
       "    <tr>\n",
       "      <th>4</th>\n",
       "      <td>10.840</td>\n",
       "      <td>17.908</td>\n",
       "      <td>0.29475</td>\n",
       "      <td>2.7216</td>\n",
       "      <td>0.002149</td>\n",
       "      <td>0.037891</td>\n",
       "      <td>0.061085</td>\n",
       "      <td>0.083481</td>\n",
       "      <td>Normal</td>\n",
       "    </tr>\n",
       "  </tbody>\n",
       "</table>\n",
       "</div>"
      ],
      "text/plain": [
       "      En1     En2      En3     En4       En5       En6       En7       En8  \\\n",
       "0  10.458  18.162  0.30105  2.4104  0.002119  0.043932  0.062594  0.091794   \n",
       "1  10.162  14.770  0.28216  2.4207  0.002269  0.034931  0.059007  0.088469   \n",
       "2  11.504  18.896  0.31984  2.6778  0.002534  0.054347  0.061133  0.094381   \n",
       "3  13.722  17.461  0.39507  2.6143  0.002614  0.033303  0.057822  0.093157   \n",
       "4  10.840  17.908  0.29475  2.7216  0.002149  0.037891  0.061085  0.083481   \n",
       "\n",
       "  fault_type  \n",
       "0     Normal  \n",
       "1     Normal  \n",
       "2     Normal  \n",
       "3     Normal  \n",
       "4     Normal  "
      ]
     },
     "execution_count": 2,
     "metadata": {},
     "output_type": "execute_result"
    }
   ],
   "source": [
    "path = \"D:/rfiles/feature_matrix/feature_matrix_ent8_1024_shan_ball.csv\"\n",
    "df = pd.read_csv(path)\n",
    "df.head()"
   ]
  },
  {
   "cell_type": "markdown",
   "metadata": {},
   "source": [
    "Now we will read the first files and use it in further analysis. "
   ]
  },
  {
   "cell_type": "code",
   "execution_count": 3,
   "metadata": {},
   "outputs": [
    {
     "data": {
      "text/plain": [
       "Normal        1657\n",
       "0.021 inch     475\n",
       "0.014 inch     475\n",
       "0.007 inch     473\n",
       "0.028 inch     471\n",
       "Name: fault_type, dtype: int64"
      ]
     },
     "execution_count": 3,
     "metadata": {},
     "output_type": "execute_result"
    }
   ],
   "source": [
    "df[\"fault_type\"].value_counts()"
   ]
  },
  {
   "cell_type": "markdown",
   "metadata": {},
   "source": [
    "Now we will split the total data into training and test set. The dataset is unbalanced (it has more normal data as compared to other faulty data types). So first we create a balanced dataset and then form a training and test set."
   ]
  },
  {
   "cell_type": "code",
   "execution_count": 4,
   "metadata": {},
   "outputs": [],
   "source": [
    "import numpy as np\n",
    "from numpy.random import choice \n",
    "np.random.seed(1)\n",
    "index = np.array([choice(np.arange(0,1657),450,replace = False),\n",
    "                choice(np.arange(1657,2130),450,replace = False),\n",
    "                choice(np.arange(2130,2605),450,replace = False),\n",
    "                choice(np.arange(2605,3080),450,replace = False),\n",
    "                choice(np.arange(3080,3551),450,replace = False)])\n",
    "index = index.ravel()\n",
    "data = df.iloc[index,]\n",
    "data = data.reset_index(drop = True)\n",
    "test_index = np.array([choice(np.arange(0,450),150, replace = False),\n",
    "                     choice(np.arange(450,2*450),150, replace = False),\n",
    "                     choice(np.arange(2*450,3*450),150, replace = False),\n",
    "                     choice(np.arange(3*450,4*450),150, replace = False),\n",
    "                     choice(np.arange(4*450,5*450),150, replace = False)])\n",
    "test_index = test_index.ravel()\n",
    "test_data = data.iloc[test_index,]\n",
    "train_data = data.drop(data.index[test_index])\n",
    "\n",
    "# Shuffle data\n",
    "train_data = train_data.sample(frac = 1, random_state = 2)\n",
    "test_data = test_data.sample(frac = 1, random_state = 3)\n",
    "\n",
    "# Convert categorical lables to numberic entries\n",
    "\n",
    "category_labels = ['Normal', '0.007 inch', '0.014 inch','0.021 inch', '0.028 inch']\n",
    "# test_labels = test_data['fault_type']\n",
    "test_labels = pd.Categorical(test_data['fault_type'],categories= category_labels).codes # Produces ndarrays\n",
    "# train_labels = train_data['fault_type']\n",
    "train_labels = pd.Categorical(train_data['fault_type'], categories = category_labels).codes"
   ]
  },
  {
   "cell_type": "code",
   "execution_count": 5,
   "metadata": {},
   "outputs": [
    {
     "name": "stdout",
     "output_type": "stream",
     "text": [
      "(2250, 9) (750, 9) (1500, 9) (750,) (1500,)\n"
     ]
    }
   ],
   "source": [
    "print(data.shape,test_data.shape,train_data.shape,test_labels.shape,train_labels.shape)"
   ]
  },
  {
   "cell_type": "code",
   "execution_count": 6,
   "metadata": {},
   "outputs": [],
   "source": [
    "import tensorflow as tf\n",
    "from tensorflow import keras\n",
    "from tensorflow.keras.models import Sequential\n",
    "from tensorflow.keras import layers\n",
    "from tensorflow.keras.utils import to_categorical\n",
    "from tensorflow.keras.callbacks import EarlyStopping, ModelCheckpoint\n",
    "import sklearn\n",
    "from sklearn import preprocessing"
   ]
  },
  {
   "cell_type": "code",
   "execution_count": 7,
   "metadata": {},
   "outputs": [],
   "source": [
    "# Convert labels to categorical data\n",
    "train_data = train_data.iloc[:,0:8]\n",
    "test_data = test_data.iloc[:,0:8]\n",
    "# Scale the data\n",
    "train_data = preprocessing.scale(train_data)\n",
    "test_data = preprocessing.scale(test_data)\n",
    "train_labels = to_categorical(train_labels)\n",
    "test_labels = to_categorical(test_labels)"
   ]
  },
  {
   "cell_type": "code",
   "execution_count": 8,
   "metadata": {},
   "outputs": [
    {
     "name": "stdout",
     "output_type": "stream",
     "text": [
      "(1500, 8) (750, 8) (1500, 5) (750, 5)\n"
     ]
    }
   ],
   "source": [
    "print(train_data.shape, test_data.shape, train_labels.shape, test_labels.shape)"
   ]
  },
  {
   "cell_type": "code",
   "execution_count": 29,
   "metadata": {},
   "outputs": [
    {
     "name": "stdout",
     "output_type": "stream",
     "text": [
      "Model: \"sequential_2\"\n",
      "_________________________________________________________________\n",
      "Layer (type)                 Output Shape              Param #   \n",
      "=================================================================\n",
      "dense_4 (Dense)              (None, 16)                144       \n",
      "_________________________________________________________________\n",
      "dropout_1 (Dropout)          (None, 16)                0         \n",
      "_________________________________________________________________\n",
      "dense_5 (Dense)              (None, 5)                 85        \n",
      "=================================================================\n",
      "Total params: 229\n",
      "Trainable params: 229\n",
      "Non-trainable params: 0\n",
      "_________________________________________________________________\n"
     ]
    }
   ],
   "source": [
    "model = Sequential([\n",
    "    layers.Dense(16,activation = 'relu', input_dim = 8),\n",
    "#     layers.Dense(5,activation = 'relu'),\n",
    "#     layers.Dense(5,activation = 'relu'),\n",
    "     layers.Dropout(0.2),\n",
    "    layers.Dense(5,activation = 'softmax')\n",
    "])\n",
    "model.summary()"
   ]
  },
  {
   "cell_type": "code",
   "execution_count": 30,
   "metadata": {},
   "outputs": [],
   "source": [
    "model.compile(optimizer = 'adam',loss = 'categorical_crossentropy', metrics = ['accuracy'])"
   ]
  },
  {
   "cell_type": "code",
   "execution_count": 31,
   "metadata": {},
   "outputs": [],
   "source": [
    "callbacks = [EarlyStopping(monitor = 'val_loss', mode = 'min', verbose = 1, patience = 5)]"
   ]
  },
  {
   "cell_type": "code",
   "execution_count": 32,
   "metadata": {},
   "outputs": [
    {
     "name": "stdout",
     "output_type": "stream",
     "text": [
      "Train on 1200 samples, validate on 300 samples\n",
      "Epoch 1/100\n",
      "1200/1200 - 0s - loss: 1.4225 - accuracy: 0.3400 - val_loss: 1.2735 - val_accuracy: 0.5033\n",
      "Epoch 2/100\n",
      "1200/1200 - 0s - loss: 1.2277 - accuracy: 0.4900 - val_loss: 1.1298 - val_accuracy: 0.5667\n",
      "Epoch 3/100\n",
      "1200/1200 - 0s - loss: 1.1058 - accuracy: 0.5475 - val_loss: 1.0256 - val_accuracy: 0.5667\n",
      "Epoch 4/100\n",
      "1200/1200 - 0s - loss: 1.0088 - accuracy: 0.5833 - val_loss: 0.9537 - val_accuracy: 0.5500\n",
      "Epoch 5/100\n",
      "1200/1200 - 0s - loss: 0.9539 - accuracy: 0.5733 - val_loss: 0.8995 - val_accuracy: 0.5500\n",
      "Epoch 6/100\n",
      "1200/1200 - 0s - loss: 0.8845 - accuracy: 0.6092 - val_loss: 0.8540 - val_accuracy: 0.5700\n",
      "Epoch 7/100\n",
      "1200/1200 - 0s - loss: 0.8537 - accuracy: 0.6000 - val_loss: 0.8192 - val_accuracy: 0.5933\n",
      "Epoch 8/100\n",
      "1200/1200 - 0s - loss: 0.8183 - accuracy: 0.6183 - val_loss: 0.7901 - val_accuracy: 0.5767\n",
      "Epoch 9/100\n",
      "1200/1200 - 0s - loss: 0.7990 - accuracy: 0.6158 - val_loss: 0.7660 - val_accuracy: 0.6033\n",
      "Epoch 10/100\n",
      "1200/1200 - 0s - loss: 0.7591 - accuracy: 0.6450 - val_loss: 0.7433 - val_accuracy: 0.6733\n",
      "Epoch 11/100\n",
      "1200/1200 - 0s - loss: 0.7420 - accuracy: 0.6492 - val_loss: 0.7205 - val_accuracy: 0.7333\n",
      "Epoch 12/100\n",
      "1200/1200 - 0s - loss: 0.7329 - accuracy: 0.6500 - val_loss: 0.7054 - val_accuracy: 0.7467\n",
      "Epoch 13/100\n",
      "1200/1200 - 0s - loss: 0.7116 - accuracy: 0.6525 - val_loss: 0.6915 - val_accuracy: 0.7433\n",
      "Epoch 14/100\n",
      "1200/1200 - 0s - loss: 0.7026 - accuracy: 0.6692 - val_loss: 0.6776 - val_accuracy: 0.7600\n",
      "Epoch 15/100\n",
      "1200/1200 - 0s - loss: 0.6873 - accuracy: 0.6808 - val_loss: 0.6679 - val_accuracy: 0.7600\n",
      "Epoch 16/100\n",
      "1200/1200 - 0s - loss: 0.6746 - accuracy: 0.6983 - val_loss: 0.6577 - val_accuracy: 0.7667\n",
      "Epoch 17/100\n",
      "1200/1200 - 0s - loss: 0.6689 - accuracy: 0.6958 - val_loss: 0.6478 - val_accuracy: 0.7467\n",
      "Epoch 18/100\n",
      "1200/1200 - 0s - loss: 0.6616 - accuracy: 0.6883 - val_loss: 0.6393 - val_accuracy: 0.7467\n",
      "Epoch 19/100\n",
      "1200/1200 - 0s - loss: 0.6551 - accuracy: 0.6883 - val_loss: 0.6323 - val_accuracy: 0.7367\n",
      "Epoch 20/100\n",
      "1200/1200 - 0s - loss: 0.6521 - accuracy: 0.6842 - val_loss: 0.6260 - val_accuracy: 0.7600\n",
      "Epoch 21/100\n",
      "1200/1200 - 0s - loss: 0.6418 - accuracy: 0.6867 - val_loss: 0.6204 - val_accuracy: 0.7567\n",
      "Epoch 22/100\n",
      "1200/1200 - 0s - loss: 0.6326 - accuracy: 0.6925 - val_loss: 0.6142 - val_accuracy: 0.7600\n",
      "Epoch 23/100\n",
      "1200/1200 - 0s - loss: 0.6303 - accuracy: 0.7092 - val_loss: 0.6087 - val_accuracy: 0.7600\n",
      "Epoch 24/100\n",
      "1200/1200 - 0s - loss: 0.6249 - accuracy: 0.6958 - val_loss: 0.6018 - val_accuracy: 0.7500\n",
      "Epoch 25/100\n",
      "1200/1200 - 0s - loss: 0.6107 - accuracy: 0.7142 - val_loss: 0.5973 - val_accuracy: 0.7533\n",
      "Epoch 26/100\n",
      "1200/1200 - 0s - loss: 0.6165 - accuracy: 0.7017 - val_loss: 0.5931 - val_accuracy: 0.7700\n",
      "Epoch 27/100\n",
      "1200/1200 - 0s - loss: 0.6109 - accuracy: 0.7183 - val_loss: 0.5867 - val_accuracy: 0.7500\n",
      "Epoch 28/100\n",
      "1200/1200 - 0s - loss: 0.6109 - accuracy: 0.7092 - val_loss: 0.5831 - val_accuracy: 0.7600\n",
      "Epoch 29/100\n",
      "1200/1200 - 0s - loss: 0.6138 - accuracy: 0.7142 - val_loss: 0.5800 - val_accuracy: 0.7767\n",
      "Epoch 30/100\n",
      "1200/1200 - 0s - loss: 0.5932 - accuracy: 0.7250 - val_loss: 0.5744 - val_accuracy: 0.7600\n",
      "Epoch 31/100\n",
      "1200/1200 - 0s - loss: 0.5895 - accuracy: 0.7242 - val_loss: 0.5722 - val_accuracy: 0.7733\n",
      "Epoch 32/100\n",
      "1200/1200 - 0s - loss: 0.5924 - accuracy: 0.7175 - val_loss: 0.5682 - val_accuracy: 0.7700\n",
      "Epoch 33/100\n",
      "1200/1200 - 0s - loss: 0.5766 - accuracy: 0.7583 - val_loss: 0.5638 - val_accuracy: 0.7800\n",
      "Epoch 34/100\n",
      "1200/1200 - 0s - loss: 0.5901 - accuracy: 0.7283 - val_loss: 0.5595 - val_accuracy: 0.7767\n",
      "Epoch 35/100\n",
      "1200/1200 - 0s - loss: 0.5709 - accuracy: 0.7500 - val_loss: 0.5554 - val_accuracy: 0.7833\n",
      "Epoch 36/100\n",
      "1200/1200 - 0s - loss: 0.5719 - accuracy: 0.7325 - val_loss: 0.5518 - val_accuracy: 0.7967\n",
      "Epoch 37/100\n",
      "1200/1200 - 0s - loss: 0.5632 - accuracy: 0.7683 - val_loss: 0.5479 - val_accuracy: 0.7967\n",
      "Epoch 38/100\n",
      "1200/1200 - 0s - loss: 0.5607 - accuracy: 0.7642 - val_loss: 0.5439 - val_accuracy: 0.8000\n",
      "Epoch 39/100\n",
      "1200/1200 - 0s - loss: 0.5601 - accuracy: 0.7525 - val_loss: 0.5393 - val_accuracy: 0.7967\n",
      "Epoch 40/100\n",
      "1200/1200 - 0s - loss: 0.5703 - accuracy: 0.7425 - val_loss: 0.5374 - val_accuracy: 0.8100\n",
      "Epoch 41/100\n",
      "1200/1200 - 0s - loss: 0.5461 - accuracy: 0.7700 - val_loss: 0.5338 - val_accuracy: 0.7867\n",
      "Epoch 42/100\n",
      "1200/1200 - 0s - loss: 0.5446 - accuracy: 0.7658 - val_loss: 0.5302 - val_accuracy: 0.8033\n",
      "Epoch 43/100\n",
      "1200/1200 - 0s - loss: 0.5472 - accuracy: 0.7625 - val_loss: 0.5276 - val_accuracy: 0.8200\n",
      "Epoch 44/100\n",
      "1200/1200 - 0s - loss: 0.5311 - accuracy: 0.7800 - val_loss: 0.5227 - val_accuracy: 0.8300\n",
      "Epoch 45/100\n",
      "1200/1200 - 0s - loss: 0.5366 - accuracy: 0.7808 - val_loss: 0.5198 - val_accuracy: 0.8133\n",
      "Epoch 46/100\n",
      "1200/1200 - 0s - loss: 0.5311 - accuracy: 0.7792 - val_loss: 0.5151 - val_accuracy: 0.8300\n",
      "Epoch 47/100\n",
      "1200/1200 - 0s - loss: 0.5310 - accuracy: 0.7692 - val_loss: 0.5139 - val_accuracy: 0.8233\n",
      "Epoch 48/100\n",
      "1200/1200 - 0s - loss: 0.5283 - accuracy: 0.7842 - val_loss: 0.5083 - val_accuracy: 0.8433\n",
      "Epoch 49/100\n",
      "1200/1200 - 0s - loss: 0.5315 - accuracy: 0.7842 - val_loss: 0.5053 - val_accuracy: 0.8333\n",
      "Epoch 50/100\n",
      "1200/1200 - 0s - loss: 0.5209 - accuracy: 0.7883 - val_loss: 0.5024 - val_accuracy: 0.8433\n",
      "Epoch 51/100\n",
      "1200/1200 - 0s - loss: 0.5185 - accuracy: 0.8158 - val_loss: 0.4989 - val_accuracy: 0.8467\n",
      "Epoch 52/100\n",
      "1200/1200 - 0s - loss: 0.5116 - accuracy: 0.8125 - val_loss: 0.4956 - val_accuracy: 0.8567\n",
      "Epoch 53/100\n",
      "1200/1200 - 0s - loss: 0.5099 - accuracy: 0.7992 - val_loss: 0.4931 - val_accuracy: 0.8533\n",
      "Epoch 54/100\n",
      "1200/1200 - 0s - loss: 0.5055 - accuracy: 0.8025 - val_loss: 0.4905 - val_accuracy: 0.8533\n",
      "Epoch 55/100\n",
      "1200/1200 - 0s - loss: 0.4972 - accuracy: 0.7967 - val_loss: 0.4874 - val_accuracy: 0.8600\n",
      "Epoch 56/100\n",
      "1200/1200 - 0s - loss: 0.5062 - accuracy: 0.8258 - val_loss: 0.4846 - val_accuracy: 0.8633\n",
      "Epoch 57/100\n",
      "1200/1200 - 0s - loss: 0.4962 - accuracy: 0.8075 - val_loss: 0.4798 - val_accuracy: 0.8600\n",
      "Epoch 58/100\n",
      "1200/1200 - 0s - loss: 0.4946 - accuracy: 0.8175 - val_loss: 0.4779 - val_accuracy: 0.8633\n",
      "Epoch 59/100\n",
      "1200/1200 - 0s - loss: 0.4868 - accuracy: 0.8208 - val_loss: 0.4740 - val_accuracy: 0.8633\n",
      "Epoch 60/100\n",
      "1200/1200 - 0s - loss: 0.4965 - accuracy: 0.8150 - val_loss: 0.4717 - val_accuracy: 0.8567\n",
      "Epoch 61/100\n",
      "1200/1200 - 0s - loss: 0.4935 - accuracy: 0.8158 - val_loss: 0.4680 - val_accuracy: 0.8667\n",
      "Epoch 62/100\n",
      "1200/1200 - 0s - loss: 0.4823 - accuracy: 0.8183 - val_loss: 0.4657 - val_accuracy: 0.8733\n",
      "Epoch 63/100\n",
      "1200/1200 - 0s - loss: 0.4727 - accuracy: 0.8267 - val_loss: 0.4612 - val_accuracy: 0.8600\n",
      "Epoch 64/100\n",
      "1200/1200 - 0s - loss: 0.4689 - accuracy: 0.8333 - val_loss: 0.4584 - val_accuracy: 0.8667\n",
      "Epoch 65/100\n",
      "1200/1200 - 0s - loss: 0.4782 - accuracy: 0.8217 - val_loss: 0.4560 - val_accuracy: 0.8700\n",
      "Epoch 66/100\n",
      "1200/1200 - 0s - loss: 0.4721 - accuracy: 0.8358 - val_loss: 0.4522 - val_accuracy: 0.8733\n",
      "Epoch 67/100\n",
      "1200/1200 - 0s - loss: 0.4741 - accuracy: 0.8250 - val_loss: 0.4501 - val_accuracy: 0.8733\n",
      "Epoch 68/100\n",
      "1200/1200 - 0s - loss: 0.4599 - accuracy: 0.8433 - val_loss: 0.4473 - val_accuracy: 0.8733\n",
      "Epoch 69/100\n",
      "1200/1200 - 0s - loss: 0.4536 - accuracy: 0.8358 - val_loss: 0.4455 - val_accuracy: 0.8800\n",
      "Epoch 70/100\n",
      "1200/1200 - 0s - loss: 0.4605 - accuracy: 0.8367 - val_loss: 0.4421 - val_accuracy: 0.8767\n",
      "Epoch 71/100\n",
      "1200/1200 - 0s - loss: 0.4589 - accuracy: 0.8317 - val_loss: 0.4385 - val_accuracy: 0.8733\n",
      "Epoch 72/100\n",
      "1200/1200 - 0s - loss: 0.4561 - accuracy: 0.8350 - val_loss: 0.4369 - val_accuracy: 0.8800\n",
      "Epoch 73/100\n",
      "1200/1200 - 0s - loss: 0.4574 - accuracy: 0.8375 - val_loss: 0.4332 - val_accuracy: 0.8800\n",
      "Epoch 74/100\n",
      "1200/1200 - 0s - loss: 0.4577 - accuracy: 0.8383 - val_loss: 0.4310 - val_accuracy: 0.8800\n",
      "Epoch 75/100\n",
      "1200/1200 - 0s - loss: 0.4458 - accuracy: 0.8492 - val_loss: 0.4277 - val_accuracy: 0.8767\n",
      "Epoch 76/100\n",
      "1200/1200 - 0s - loss: 0.4423 - accuracy: 0.8483 - val_loss: 0.4243 - val_accuracy: 0.8733\n",
      "Epoch 77/100\n",
      "1200/1200 - 0s - loss: 0.4496 - accuracy: 0.8367 - val_loss: 0.4211 - val_accuracy: 0.8800\n",
      "Epoch 78/100\n",
      "1200/1200 - 0s - loss: 0.4545 - accuracy: 0.8392 - val_loss: 0.4192 - val_accuracy: 0.8800\n",
      "Epoch 79/100\n",
      "1200/1200 - 0s - loss: 0.4400 - accuracy: 0.8383 - val_loss: 0.4185 - val_accuracy: 0.8833\n"
     ]
    },
    {
     "name": "stdout",
     "output_type": "stream",
     "text": [
      "Epoch 80/100\n",
      "1200/1200 - 0s - loss: 0.4453 - accuracy: 0.8417 - val_loss: 0.4136 - val_accuracy: 0.8800\n",
      "Epoch 81/100\n",
      "1200/1200 - 0s - loss: 0.4222 - accuracy: 0.8433 - val_loss: 0.4113 - val_accuracy: 0.8800\n",
      "Epoch 82/100\n",
      "1200/1200 - 0s - loss: 0.4436 - accuracy: 0.8442 - val_loss: 0.4111 - val_accuracy: 0.8833\n",
      "Epoch 83/100\n",
      "1200/1200 - 0s - loss: 0.4225 - accuracy: 0.8600 - val_loss: 0.4079 - val_accuracy: 0.8800\n",
      "Epoch 84/100\n",
      "1200/1200 - 0s - loss: 0.4212 - accuracy: 0.8517 - val_loss: 0.4054 - val_accuracy: 0.8833\n",
      "Epoch 85/100\n",
      "1200/1200 - 0s - loss: 0.4115 - accuracy: 0.8492 - val_loss: 0.4017 - val_accuracy: 0.8800\n",
      "Epoch 86/100\n",
      "1200/1200 - 0s - loss: 0.4243 - accuracy: 0.8492 - val_loss: 0.4016 - val_accuracy: 0.8833\n",
      "Epoch 87/100\n",
      "1200/1200 - 0s - loss: 0.4270 - accuracy: 0.8458 - val_loss: 0.3976 - val_accuracy: 0.8833\n",
      "Epoch 88/100\n",
      "1200/1200 - 0s - loss: 0.4196 - accuracy: 0.8475 - val_loss: 0.3945 - val_accuracy: 0.8800\n",
      "Epoch 89/100\n",
      "1200/1200 - 0s - loss: 0.4130 - accuracy: 0.8542 - val_loss: 0.3933 - val_accuracy: 0.8833\n",
      "Epoch 90/100\n",
      "1200/1200 - 0s - loss: 0.4152 - accuracy: 0.8625 - val_loss: 0.3916 - val_accuracy: 0.8833\n",
      "Epoch 91/100\n",
      "1200/1200 - 0s - loss: 0.4113 - accuracy: 0.8742 - val_loss: 0.3882 - val_accuracy: 0.8800\n",
      "Epoch 92/100\n",
      "1200/1200 - 0s - loss: 0.4173 - accuracy: 0.8600 - val_loss: 0.3883 - val_accuracy: 0.8933\n",
      "Epoch 93/100\n",
      "1200/1200 - 0s - loss: 0.4031 - accuracy: 0.8692 - val_loss: 0.3847 - val_accuracy: 0.8833\n",
      "Epoch 94/100\n",
      "1200/1200 - 0s - loss: 0.4134 - accuracy: 0.8550 - val_loss: 0.3820 - val_accuracy: 0.8833\n",
      "Epoch 95/100\n",
      "1200/1200 - 0s - loss: 0.3998 - accuracy: 0.8625 - val_loss: 0.3802 - val_accuracy: 0.8833\n",
      "Epoch 96/100\n",
      "1200/1200 - 0s - loss: 0.4025 - accuracy: 0.8667 - val_loss: 0.3773 - val_accuracy: 0.8833\n",
      "Epoch 97/100\n",
      "1200/1200 - 0s - loss: 0.4000 - accuracy: 0.8600 - val_loss: 0.3756 - val_accuracy: 0.8867\n",
      "Epoch 98/100\n",
      "1200/1200 - 0s - loss: 0.4081 - accuracy: 0.8492 - val_loss: 0.3735 - val_accuracy: 0.8867\n",
      "Epoch 99/100\n",
      "1200/1200 - 0s - loss: 0.3882 - accuracy: 0.8742 - val_loss: 0.3723 - val_accuracy: 0.8867\n",
      "Epoch 100/100\n",
      "1200/1200 - 0s - loss: 0.3906 - accuracy: 0.8700 - val_loss: 0.3694 - val_accuracy: 0.8833\n"
     ]
    }
   ],
   "source": [
    "history = model.fit(train_data,train_labels,epochs = 100, validation_split = 0.2, verbose = 2,callbacks = callbacks)"
   ]
  },
  {
   "cell_type": "code",
   "execution_count": 33,
   "metadata": {},
   "outputs": [
    {
     "data": {
      "image/png": "[encoded data removed]",
      "text/plain": [
       "<Figure size 432x288 with 1 Axes>"
      ]
     },
     "metadata": {
      "needs_background": "light"
     },
     "output_type": "display_data"
    },
    {
     "data": {
      "image/png": "[encoded data removed]",
      "text/plain": [
       "<Figure size 432x288 with 1 Axes>"
      ]
     },
     "metadata": {
      "needs_background": "light"
     },
     "output_type": "display_data"
    }
   ],
   "source": [
    "import matplotlib.pyplot as plt\n",
    "train_loss = history.history['loss']\n",
    "val_loss = history.history['val_loss']\n",
    "train_acc = history.history['accuracy']\n",
    "val_acc = history.history['val_accuracy']\n",
    "epochs = np.arange(1,len(train_loss)+1)\n",
    "plt.figure()\n",
    "plt.plot(epochs, train_loss, label = \"Training Loss\")\n",
    "plt.plot(epochs, val_loss, label = \"Validation Loss\")\n",
    "plt.legend()\n",
    "plt.title(\"Comparision of Loss\")\n",
    "plt.show()\n",
    "plt.figure()\n",
    "plt.plot(epochs, train_acc, label = \"Training Accuracy\")\n",
    "plt.plot(epochs, val_acc, label = \"Validation Accuracy\")\n",
    "plt.title(\"Comparison of Accuracy\")\n",
    "plt.legend()\n",
    "plt.show()"
   ]
  },
  {
   "cell_type": "code",
   "execution_count": 34,
   "metadata": {},
   "outputs": [
    {
     "name": "stdout",
     "output_type": "stream",
     "text": [
      "750/750 [==============================] - 0s 41us/sample - loss: 0.3605 - accuracy: 0.9000\n"
     ]
    }
   ],
   "source": [
    "test_loss,test_acc = model.evaluate(test_data, test_labels)"
   ]
  },
  {
   "cell_type": "code",
   "execution_count": 35,
   "metadata": {},
   "outputs": [
    {
     "name": "stdout",
     "output_type": "stream",
     "text": [
      "0.9\n"
     ]
    }
   ],
   "source": [
    "print(test_acc)"
   ]
  },
  {
   "cell_type": "code",
   "execution_count": 36,
   "metadata": {},
   "outputs": [],
   "source": [
    "prediction = model.predict(test_data)\n",
    "prediction_labels = list([])\n",
    "for each_prediction in prediction:\n",
    "    prediction_labels.append(list(each_prediction).index(max(each_prediction)))\n",
    "    "
   ]
  },
  {
   "cell_type": "code",
   "execution_count": 37,
   "metadata": {},
   "outputs": [],
   "source": [
    "from sklearn.metrics import confusion_matrix\n",
    "true_labels = np.argmax(test_labels, axis = 1)\n",
    "matrix = confusion_matrix(true_labels, prediction_labels)"
   ]
  },
  {
   "cell_type": "code",
   "execution_count": 38,
   "metadata": {},
   "outputs": [
    {
     "data": {
      "text/plain": [
       "(array([0.5, 1.5, 2.5, 3.5, 4.5]), <a list of 5 Text xticklabel objects>)"
      ]
     },
     "execution_count": 38,
     "metadata": {},
     "output_type": "execute_result"
    },
    {
     "data": {
      "image/png": "[encoded data removed]",
      "text/plain": [
       "<Figure size 432x288 with 2 Axes>"
      ]
     },
     "metadata": {
      "needs_background": "light"
     },
     "output_type": "display_data"
    }
   ],
   "source": [
    "import seaborn as sns\n",
    "matrix = pd.DataFrame(matrix)\n",
    "sns.heatmap(matrix, annot= True, fmt = \"d\",\n",
    "           xticklabels = category_labels,\n",
    "           yticklabels = category_labels)\n",
    "plt.xticks(rotation = 90)"
   ]
  },
  {
   "cell_type": "code",
   "execution_count": null,
   "metadata": {},
   "outputs": [],
   "source": []
  }
 ],
 "metadata": {
  "kernelspec": {
   "display_name": "tensorflow_env",
   "language": "python",
   "name": "tensorflwo_env"
  },
  "language_info": {
   "codemirror_mode": {
    "name": "ipython",
    "version": 3
   },
   "file_extension": ".py",
   "mimetype": "text/x-python",
   "name": "python",
   "nbconvert_exporter": "python",
   "pygments_lexer": "ipython3",
   "version": "3.7.2"
  },
  "varInspector": {
   "cols": {
    "lenName": 16,
    "lenType": 16,
    "lenVar": 40
   },
   "kernels_config": {
    "python": {
     "delete_cmd_postfix": "",
     "delete_cmd_prefix": "del ",
     "library": "var_list.py",
     "varRefreshCmd": "print(var_dic_list())"
    },
    "r": {
     "delete_cmd_postfix": ") ",
     "delete_cmd_prefix": "rm(",
     "library": "var_list.r",
     "varRefreshCmd": "cat(var_dic_list()) "
    }
   },
   "position": {
    "height": "144px",
    "left": "580px",
    "right": "20px",
    "top": "136px",
    "width": "350px"
   },
   "types_to_exclude": [
    "module",
    "function",
    "builtin_function_or_method",
    "instance",
    "_Feature"
   ],
   "window_display": false
  }
 },
 "nbformat": 4,
 "nbformat_minor": 2
}
