{
 "cells": [
  {
   "cell_type": "markdown",
   "metadata": {},
   "source": [
    "## Preprocess data\n",
    "\n",
    "First read data from directory. After reading data, convert the categorical column into numerical values that can be put into neural network.\n",
    "\n",
    "Using 'glob' package we can read data files containing specific characters. "
   ]
  },
  {
   "cell_type": "code",
   "execution_count": 1,
   "metadata": {},
   "outputs": [],
   "source": [
    "import pandas as pd"
   ]
  },
  {
   "cell_type": "code",
   "execution_count": 2,
   "metadata": {},
   "outputs": [
    {
     "data": {
      "text/html": [
       "<div>\n",
       "<style scoped>\n",
       "    .dataframe tbody tr th:only-of-type {\n",
       "        vertical-align: middle;\n",
       "    }\n",
       "\n",
       "    .dataframe tbody tr th {\n",
       "        vertical-align: top;\n",
       "    }\n",
       "\n",
       "    .dataframe thead th {\n",
       "        text-align: right;\n",
       "    }\n",
       "</style>\n",
       "<table border=\"1\" class=\"dataframe\">\n",
       "  <thead>\n",
       "    <tr style=\"text-align: right;\">\n",
       "      <th></th>\n",
       "      <th>En1</th>\n",
       "      <th>En2</th>\n",
       "      <th>En3</th>\n",
       "      <th>En4</th>\n",
       "      <th>En5</th>\n",
       "      <th>En6</th>\n",
       "      <th>En7</th>\n",
       "      <th>En8</th>\n",
       "      <th>fault_type</th>\n",
       "    </tr>\n",
       "  </thead>\n",
       "  <tbody>\n",
       "    <tr>\n",
       "      <th>0</th>\n",
       "      <td>10.458</td>\n",
       "      <td>18.162</td>\n",
       "      <td>0.30105</td>\n",
       "      <td>2.4104</td>\n",
       "      <td>0.002119</td>\n",
       "      <td>0.043932</td>\n",
       "      <td>0.062594</td>\n",
       "      <td>0.091794</td>\n",
       "      <td>Normal</td>\n",
       "    </tr>\n",
       "    <tr>\n",
       "      <th>1</th>\n",
       "      <td>10.162</td>\n",
       "      <td>14.770</td>\n",
       "      <td>0.28216</td>\n",
       "      <td>2.4207</td>\n",
       "      <td>0.002269</td>\n",
       "      <td>0.034931</td>\n",
       "      <td>0.059007</td>\n",
       "      <td>0.088469</td>\n",
       "      <td>Normal</td>\n",
       "    </tr>\n",
       "    <tr>\n",
       "      <th>2</th>\n",
       "      <td>11.504</td>\n",
       "      <td>18.896</td>\n",
       "      <td>0.31984</td>\n",
       "      <td>2.6778</td>\n",
       "      <td>0.002534</td>\n",
       "      <td>0.054347</td>\n",
       "      <td>0.061133</td>\n",
       "      <td>0.094381</td>\n",
       "      <td>Normal</td>\n",
       "    </tr>\n",
       "    <tr>\n",
       "      <th>3</th>\n",
       "      <td>13.722</td>\n",
       "      <td>17.461</td>\n",
       "      <td>0.39507</td>\n",
       "      <td>2.6143</td>\n",
       "      <td>0.002614</td>\n",
       "      <td>0.033303</td>\n",
       "      <td>0.057822</td>\n",
       "      <td>0.093157</td>\n",
       "      <td>Normal</td>\n",
       "    </tr>\n",
       "    <tr>\n",
       "      <th>4</th>\n",
       "      <td>10.840</td>\n",
       "      <td>17.908</td>\n",
       "      <td>0.29475</td>\n",
       "      <td>2.7216</td>\n",
       "      <td>0.002149</td>\n",
       "      <td>0.037891</td>\n",
       "      <td>0.061085</td>\n",
       "      <td>0.083481</td>\n",
       "      <td>Normal</td>\n",
       "    </tr>\n",
       "  </tbody>\n",
       "</table>\n",
       "</div>"
      ],
      "text/plain": [
       "      En1     En2      En3     En4       En5       En6       En7       En8  \\\n",
       "0  10.458  18.162  0.30105  2.4104  0.002119  0.043932  0.062594  0.091794   \n",
       "1  10.162  14.770  0.28216  2.4207  0.002269  0.034931  0.059007  0.088469   \n",
       "2  11.504  18.896  0.31984  2.6778  0.002534  0.054347  0.061133  0.094381   \n",
       "3  13.722  17.461  0.39507  2.6143  0.002614  0.033303  0.057822  0.093157   \n",
       "4  10.840  17.908  0.29475  2.7216  0.002149  0.037891  0.061085  0.083481   \n",
       "\n",
       "  fault_type  \n",
       "0     Normal  \n",
       "1     Normal  \n",
       "2     Normal  \n",
       "3     Normal  \n",
       "4     Normal  "
      ]
     },
     "execution_count": 2,
     "metadata": {},
     "output_type": "execute_result"
    }
   ],
   "source": [
    "path = \"D:/rfiles/feature_matrix/feature_matrix_ent8_1024_shan_inner.csv\"\n",
    "df = pd.read_csv(path)\n",
    "df.head()"
   ]
  },
  {
   "cell_type": "markdown",
   "metadata": {},
   "source": [
    "Now we will read the first files and use it in further analysis. "
   ]
  },
  {
   "cell_type": "code",
   "execution_count": 3,
   "metadata": {},
   "outputs": [
    {
     "data": {
      "text/plain": [
       "Normal        1657\n",
       "0.007 inch     476\n",
       "0.021 inch     474\n",
       "0.014 inch     472\n",
       "0.028 inch     471\n",
       "Name: fault_type, dtype: int64"
      ]
     },
     "execution_count": 3,
     "metadata": {},
     "output_type": "execute_result"
    }
   ],
   "source": [
    "df[\"fault_type\"].value_counts()"
   ]
  },
  {
   "cell_type": "markdown",
   "metadata": {},
   "source": [
    "Now we will split the total data into training and test set. The dataset is unbalanced (it has more normal data as compared to other faulty data types). So first we create a balanced dataset and then form a training and test set."
   ]
  },
  {
   "cell_type": "code",
   "execution_count": 4,
   "metadata": {},
   "outputs": [],
   "source": [
    "import numpy as np\n",
    "from numpy.random import choice \n",
    "np.random.seed(1)\n",
    "index = np.array([choice(np.arange(0,1657),450,replace = False),\n",
    "                choice(np.arange(1657,2133),450,replace = False),\n",
    "                choice(np.arange(2133,2605),450,replace = False),\n",
    "                choice(np.arange(2605,3079),450,replace = False),\n",
    "                choice(np.arange(3079,3550),450,replace = False)])\n",
    "index = index.ravel()\n",
    "data = df.iloc[index,]\n",
    "data = data.reset_index(drop = True)\n",
    "test_index = np.array([choice(np.arange(0,450),150, replace = False),\n",
    "                     choice(np.arange(450,2*450),150, replace = False),\n",
    "                     choice(np.arange(2*450,3*450),150, replace = False),\n",
    "                     choice(np.arange(3*450,4*450),150, replace = False),\n",
    "                     choice(np.arange(4*450,5*450),150, replace = False)])\n",
    "test_index = test_index.ravel()\n",
    "test_data = data.iloc[test_index,]\n",
    "train_data = data.drop(data.index[test_index])\n",
    "\n",
    "# Shuffle data\n",
    "train_data = train_data.sample(frac = 1, random_state = 2)\n",
    "test_data = test_data.sample(frac = 1, random_state = 3)\n",
    "\n",
    "# Convert categorical lables to numberic entries\n",
    "\n",
    "category_labels = ['Normal', '0.007 inch', '0.014 inch','0.021 inch', '0.028 inch']\n",
    "# test_labels = test_data['fault_type']\n",
    "test_labels = pd.Categorical(test_data['fault_type'],categories= category_labels).codes # Produces ndarrays\n",
    "# train_labels = train_data['fault_type']\n",
    "train_labels = pd.Categorical(train_data['fault_type'], categories = category_labels).codes"
   ]
  },
  {
   "cell_type": "code",
   "execution_count": 5,
   "metadata": {},
   "outputs": [
    {
     "name": "stdout",
     "output_type": "stream",
     "text": [
      "(2250, 9) (750, 9) (1500, 9) (750,) (1500,)\n"
     ]
    }
   ],
   "source": [
    "print(data.shape,test_data.shape,train_data.shape,test_labels.shape,train_labels.shape)"
   ]
  },
  {
   "cell_type": "code",
   "execution_count": 6,
   "metadata": {},
   "outputs": [],
   "source": [
    "import tensorflow as tf\n",
    "from tensorflow import keras\n",
    "from tensorflow.keras.models import Sequential\n",
    "from tensorflow.keras import layers\n",
    "from tensorflow.keras.utils import to_categorical\n",
    "import sklearn\n",
    "from sklearn import preprocessing"
   ]
  },
  {
   "cell_type": "code",
   "execution_count": 7,
   "metadata": {},
   "outputs": [],
   "source": [
    "# Convert labels to categorical data\n",
    "train_data = train_data.iloc[:,0:8]\n",
    "test_data = test_data.iloc[:,0:8]\n",
    "# Scale the data\n",
    "train_data = preprocessing.scale(train_data)\n",
    "test_data = preprocessing.scale(test_data)\n",
    "train_labels = to_categorical(train_labels)\n",
    "test_labels = to_categorical(test_labels)"
   ]
  },
  {
   "cell_type": "code",
   "execution_count": 8,
   "metadata": {},
   "outputs": [
    {
     "name": "stdout",
     "output_type": "stream",
     "text": [
      "(1500, 8) (750, 8) (1500, 5) (750, 5)\n"
     ]
    }
   ],
   "source": [
    "print(train_data.shape, test_data.shape, train_labels.shape, test_labels.shape)"
   ]
  },
  {
   "cell_type": "code",
   "execution_count": 9,
   "metadata": {},
   "outputs": [
    {
     "name": "stdout",
     "output_type": "stream",
     "text": [
      "Model: \"sequential\"\n",
      "_________________________________________________________________\n",
      "Layer (type)                 Output Shape              Param #   \n",
      "=================================================================\n",
      "dense (Dense)                (None, 5)                 45        \n",
      "_________________________________________________________________\n",
      "dense_1 (Dense)              (None, 5)                 30        \n",
      "=================================================================\n",
      "Total params: 75\n",
      "Trainable params: 75\n",
      "Non-trainable params: 0\n",
      "_________________________________________________________________\n"
     ]
    }
   ],
   "source": [
    "model = Sequential([\n",
    "    layers.Dense(5,activation = 'relu', input_dim = 8),\n",
    "    layers.Dense(5,activation = 'softmax')\n",
    "])\n",
    "model.summary()"
   ]
  },
  {
   "cell_type": "code",
   "execution_count": 10,
   "metadata": {},
   "outputs": [],
   "source": [
    "model.compile(optimizer = 'adam',loss = 'categorical_crossentropy', metrics = ['accuracy'])"
   ]
  },
  {
   "cell_type": "code",
   "execution_count": 11,
   "metadata": {},
   "outputs": [
    {
     "name": "stdout",
     "output_type": "stream",
     "text": [
      "Train on 1200 samples, validate on 300 samples\n",
      "Epoch 1/50\n",
      "1200/1200 - 0s - loss: 1.6452 - accuracy: 0.2575 - val_loss: 1.5873 - val_accuracy: 0.2467\n",
      "Epoch 2/50\n",
      "1200/1200 - 0s - loss: 1.5077 - accuracy: 0.2642 - val_loss: 1.4716 - val_accuracy: 0.2567\n",
      "Epoch 3/50\n",
      "1200/1200 - 0s - loss: 1.3928 - accuracy: 0.2908 - val_loss: 1.3716 - val_accuracy: 0.3233\n",
      "Epoch 4/50\n",
      "1200/1200 - 0s - loss: 1.2924 - accuracy: 0.4033 - val_loss: 1.2850 - val_accuracy: 0.4300\n",
      "Epoch 5/50\n",
      "1200/1200 - 0s - loss: 1.2046 - accuracy: 0.5108 - val_loss: 1.2068 - val_accuracy: 0.6200\n",
      "Epoch 6/50\n",
      "1200/1200 - 0s - loss: 1.1262 - accuracy: 0.6992 - val_loss: 1.1383 - val_accuracy: 0.7067\n",
      "Epoch 7/50\n",
      "1200/1200 - 0s - loss: 1.0563 - accuracy: 0.7600 - val_loss: 1.0765 - val_accuracy: 0.7133\n",
      "Epoch 8/50\n",
      "1200/1200 - 0s - loss: 0.9932 - accuracy: 0.7758 - val_loss: 1.0200 - val_accuracy: 0.7267\n",
      "Epoch 9/50\n",
      "1200/1200 - 0s - loss: 0.9363 - accuracy: 0.7950 - val_loss: 0.9674 - val_accuracy: 0.7367\n",
      "Epoch 10/50\n",
      "1200/1200 - 0s - loss: 0.8842 - accuracy: 0.8075 - val_loss: 0.9196 - val_accuracy: 0.7533\n",
      "Epoch 11/50\n",
      "1200/1200 - 0s - loss: 0.8373 - accuracy: 0.8133 - val_loss: 0.8734 - val_accuracy: 0.7733\n",
      "Epoch 12/50\n",
      "1200/1200 - 0s - loss: 0.7944 - accuracy: 0.8258 - val_loss: 0.8314 - val_accuracy: 0.7867\n",
      "Epoch 13/50\n",
      "1200/1200 - 0s - loss: 0.7555 - accuracy: 0.8283 - val_loss: 0.7914 - val_accuracy: 0.7933\n",
      "Epoch 14/50\n",
      "1200/1200 - 0s - loss: 0.7197 - accuracy: 0.8358 - val_loss: 0.7551 - val_accuracy: 0.8000\n",
      "Epoch 15/50\n",
      "1200/1200 - 0s - loss: 0.6867 - accuracy: 0.8425 - val_loss: 0.7208 - val_accuracy: 0.7967\n",
      "Epoch 16/50\n",
      "1200/1200 - 0s - loss: 0.6553 - accuracy: 0.8533 - val_loss: 0.6890 - val_accuracy: 0.8200\n",
      "Epoch 17/50\n",
      "1200/1200 - 0s - loss: 0.6258 - accuracy: 0.8817 - val_loss: 0.6582 - val_accuracy: 0.8667\n",
      "Epoch 18/50\n",
      "1200/1200 - 0s - loss: 0.5975 - accuracy: 0.9033 - val_loss: 0.6271 - val_accuracy: 0.8700\n",
      "Epoch 19/50\n",
      "1200/1200 - 0s - loss: 0.5694 - accuracy: 0.9108 - val_loss: 0.5976 - val_accuracy: 0.8733\n",
      "Epoch 20/50\n",
      "1200/1200 - 0s - loss: 0.5413 - accuracy: 0.9142 - val_loss: 0.5669 - val_accuracy: 0.8900\n",
      "Epoch 21/50\n",
      "1200/1200 - 0s - loss: 0.5125 - accuracy: 0.9200 - val_loss: 0.5363 - val_accuracy: 0.8900\n",
      "Epoch 22/50\n",
      "1200/1200 - 0s - loss: 0.4826 - accuracy: 0.9292 - val_loss: 0.5042 - val_accuracy: 0.9000\n",
      "Epoch 23/50\n",
      "1200/1200 - 0s - loss: 0.4511 - accuracy: 0.9283 - val_loss: 0.4698 - val_accuracy: 0.9133\n",
      "Epoch 24/50\n",
      "1200/1200 - 0s - loss: 0.4175 - accuracy: 0.9317 - val_loss: 0.4351 - val_accuracy: 0.9233\n",
      "Epoch 25/50\n",
      "1200/1200 - 0s - loss: 0.3829 - accuracy: 0.9400 - val_loss: 0.3979 - val_accuracy: 0.9333\n",
      "Epoch 26/50\n",
      "1200/1200 - 0s - loss: 0.3482 - accuracy: 0.9508 - val_loss: 0.3617 - val_accuracy: 0.9400\n",
      "Epoch 27/50\n",
      "1200/1200 - 0s - loss: 0.3148 - accuracy: 0.9633 - val_loss: 0.3251 - val_accuracy: 0.9633\n",
      "Epoch 28/50\n",
      "1200/1200 - 0s - loss: 0.2831 - accuracy: 0.9792 - val_loss: 0.2907 - val_accuracy: 0.9667\n",
      "Epoch 29/50\n",
      "1200/1200 - 0s - loss: 0.2531 - accuracy: 0.9850 - val_loss: 0.2598 - val_accuracy: 0.9800\n",
      "Epoch 30/50\n",
      "1200/1200 - 0s - loss: 0.2261 - accuracy: 0.9883 - val_loss: 0.2319 - val_accuracy: 0.9900\n",
      "Epoch 31/50\n",
      "1200/1200 - 0s - loss: 0.2025 - accuracy: 0.9925 - val_loss: 0.2082 - val_accuracy: 0.9967\n",
      "Epoch 32/50\n",
      "1200/1200 - 0s - loss: 0.1821 - accuracy: 0.9958 - val_loss: 0.1879 - val_accuracy: 0.9967\n",
      "Epoch 33/50\n",
      "1200/1200 - 0s - loss: 0.1657 - accuracy: 0.9958 - val_loss: 0.1727 - val_accuracy: 0.9967\n",
      "Epoch 34/50\n",
      "1200/1200 - 0s - loss: 0.1516 - accuracy: 0.9967 - val_loss: 0.1592 - val_accuracy: 0.9967\n",
      "Epoch 35/50\n",
      "1200/1200 - 0s - loss: 0.1394 - accuracy: 0.9967 - val_loss: 0.1470 - val_accuracy: 0.9967\n",
      "Epoch 36/50\n",
      "1200/1200 - 0s - loss: 0.1288 - accuracy: 0.9975 - val_loss: 0.1365 - val_accuracy: 0.9967\n",
      "Epoch 37/50\n",
      "1200/1200 - 0s - loss: 0.1193 - accuracy: 0.9975 - val_loss: 0.1273 - val_accuracy: 0.9967\n",
      "Epoch 38/50\n",
      "1200/1200 - 0s - loss: 0.1112 - accuracy: 0.9975 - val_loss: 0.1186 - val_accuracy: 0.9967\n",
      "Epoch 39/50\n",
      "1200/1200 - 0s - loss: 0.1033 - accuracy: 0.9983 - val_loss: 0.1113 - val_accuracy: 0.9967\n",
      "Epoch 40/50\n",
      "1200/1200 - 0s - loss: 0.0966 - accuracy: 1.0000 - val_loss: 0.1044 - val_accuracy: 0.9967\n",
      "Epoch 41/50\n",
      "1200/1200 - 0s - loss: 0.0905 - accuracy: 0.9992 - val_loss: 0.0983 - val_accuracy: 0.9967\n",
      "Epoch 42/50\n",
      "1200/1200 - 0s - loss: 0.0850 - accuracy: 0.9992 - val_loss: 0.0929 - val_accuracy: 0.9967\n",
      "Epoch 43/50\n",
      "1200/1200 - 0s - loss: 0.0801 - accuracy: 0.9992 - val_loss: 0.0873 - val_accuracy: 0.9967\n",
      "Epoch 44/50\n",
      "1200/1200 - 0s - loss: 0.0756 - accuracy: 0.9992 - val_loss: 0.0827 - val_accuracy: 0.9967\n",
      "Epoch 45/50\n",
      "1200/1200 - 0s - loss: 0.0714 - accuracy: 0.9983 - val_loss: 0.0784 - val_accuracy: 0.9967\n",
      "Epoch 46/50\n",
      "1200/1200 - 0s - loss: 0.0676 - accuracy: 0.9983 - val_loss: 0.0745 - val_accuracy: 0.9967\n",
      "Epoch 47/50\n",
      "1200/1200 - 0s - loss: 0.0641 - accuracy: 0.9983 - val_loss: 0.0709 - val_accuracy: 0.9967\n",
      "Epoch 48/50\n",
      "1200/1200 - 0s - loss: 0.0608 - accuracy: 0.9983 - val_loss: 0.0674 - val_accuracy: 0.9967\n",
      "Epoch 49/50\n",
      "1200/1200 - 0s - loss: 0.0579 - accuracy: 0.9983 - val_loss: 0.0646 - val_accuracy: 0.9967\n",
      "Epoch 50/50\n",
      "1200/1200 - 0s - loss: 0.0550 - accuracy: 0.9983 - val_loss: 0.0611 - val_accuracy: 0.9967\n"
     ]
    }
   ],
   "source": [
    "history = model.fit(train_data,train_labels,epochs = 50, validation_split = 0.2, verbose = 2)"
   ]
  },
  {
   "cell_type": "code",
   "execution_count": 12,
   "metadata": {},
   "outputs": [
    {
     "data": {
      "text/plain": [
       "<Figure size 640x480 with 1 Axes>"
      ]
     },
     "metadata": {},
     "output_type": "display_data"
    },
    {
     "data": {
      "text/plain": [
       "<Figure size 640x480 with 1 Axes>"
      ]
     },
     "metadata": {},
     "output_type": "display_data"
    }
   ],
   "source": [
    "import matplotlib.pyplot as plt\n",
    "train_loss = history.history['loss']\n",
    "val_loss = history.history['val_loss']\n",
    "train_acc = history.history['accuracy']\n",
    "val_acc = history.history['val_accuracy']\n",
    "epochs = np.arange(1,len(train_loss)+1)\n",
    "plt.figure()\n",
    "plt.plot(epochs, train_loss, label = \"Training Loss\")\n",
    "plt.plot(epochs, val_loss, label = \"Validation Loss\")\n",
    "plt.legend()\n",
    "plt.title(\"Comparision of Loss\")\n",
    "plt.show()\n",
    "plt.figure()\n",
    "plt.plot(epochs, train_acc, label = \"Training Accuracy\")\n",
    "plt.plot(epochs, val_acc, label = \"Validation Accuracy\")\n",
    "plt.title(\"Comparison of Accuracy\")\n",
    "plt.legend()\n",
    "plt.show()"
   ]
  },
  {
   "cell_type": "code",
   "execution_count": 13,
   "metadata": {},
   "outputs": [
    {
     "name": "stdout",
     "output_type": "stream",
     "text": [
      "750/750 [==============================] - 0s 17us/sample - loss: 0.0581 - accuracy: 0.9960\n"
     ]
    }
   ],
   "source": [
    "test_loss,test_acc = model.evaluate(test_data, test_labels)\n",
    "print(test_acc)"
   ]
  },
  {
   "cell_type": "code",
   "execution_count": 15,
   "metadata": {},
   "outputs": [],
   "source": [
    "prediction = model.predict(test_data)\n",
    "prediction_labels = list([])\n",
    "for each_prediction in prediction:\n",
    "    prediction_labels.append(list(each_prediction).index(max(each_prediction)))\n",
    "    "
   ]
  },
  {
   "cell_type": "code",
   "execution_count": 16,
   "metadata": {},
   "outputs": [],
   "source": [
    "from sklearn.metrics import confusion_matrix\n",
    "true_labels = np.argmax(test_labels, axis = 1)\n",
    "matrix = confusion_matrix(true_labels, prediction_labels)"
   ]
  },
  {
   "cell_type": "code",
   "execution_count": 17,
   "metadata": {},
   "outputs": [
    {
     "data": {
      "text/plain": [
       "(array([0.5, 1.5, 2.5, 3.5, 4.5]), <a list of 5 Text xticklabel objects>)"
      ]
     },
     "execution_count": 17,
     "metadata": {},
     "output_type": "execute_result"
    },
    {
     "data": {
      "image/png": "[encoded data removed]",
      "text/plain": [
       "<Figure size 432x288 with 2 Axes>"
      ]
     },
     "metadata": {
      "needs_background": "light"
     },
     "output_type": "display_data"
    }
   ],
   "source": [
    "import seaborn as sns\n",
    "matrix = pd.DataFrame(matrix)\n",
    "sns.heatmap(matrix, annot= True, fmt = \"d\",\n",
    "           xticklabels = category_labels,\n",
    "           yticklabels = category_labels)\n",
    "plt.xticks(rotation = 90)"
   ]
  }
 ],
 "metadata": {
  "kernelspec": {
   "display_name": "tensorflow_env",
   "language": "python",
   "name": "tensorflwo_env"
  },
  "language_info": {
   "codemirror_mode": {
    "name": "ipython",
    "version": 3
   },
   "file_extension": ".py",
   "mimetype": "text/x-python",
   "name": "python",
   "nbconvert_exporter": "python",
   "pygments_lexer": "ipython3",
   "version": "3.7.2"
  },
  "varInspector": {
   "cols": {
    "lenName": 16,
    "lenType": 16,
    "lenVar": 40
   },
   "kernels_config": {
    "python": {
     "delete_cmd_postfix": "",
     "delete_cmd_prefix": "del ",
     "library": "var_list.py",
     "varRefreshCmd": "print(var_dic_list())"
    },
    "r": {
     "delete_cmd_postfix": ") ",
     "delete_cmd_prefix": "rm(",
     "library": "var_list.r",
     "varRefreshCmd": "cat(var_dic_list()) "
    }
   },
   "position": {
    "height": "144px",
    "left": "580px",
    "right": "20px",
    "top": "136px",
    "width": "350px"
   },
   "types_to_exclude": [
    "module",
    "function",
    "builtin_function_or_method",
    "instance",
    "_Feature"
   ],
   "window_display": false
  }
 },
 "nbformat": 4,
 "nbformat_minor": 2
}
