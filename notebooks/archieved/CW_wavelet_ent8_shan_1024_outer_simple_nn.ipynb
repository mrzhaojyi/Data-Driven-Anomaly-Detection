{
 "cells": [
  {
   "cell_type": "markdown",
   "metadata": {},
   "source": [
    "## Preprocess data\n",
    "\n",
    "First read data from directory. After reading data, convert the categorical column into numerical values that can be put into neural network.\n",
    "\n",
    "Using 'glob' package we can read data files containing specific characters. "
   ]
  },
  {
   "cell_type": "code",
   "execution_count": 1,
   "metadata": {},
   "outputs": [],
   "source": [
    "import pandas as pd"
   ]
  },
  {
   "cell_type": "code",
   "execution_count": 2,
   "metadata": {},
   "outputs": [
    {
     "data": {
      "text/html": [
       "<div>\n",
       "<style scoped>\n",
       "    .dataframe tbody tr th:only-of-type {\n",
       "        vertical-align: middle;\n",
       "    }\n",
       "\n",
       "    .dataframe tbody tr th {\n",
       "        vertical-align: top;\n",
       "    }\n",
       "\n",
       "    .dataframe thead th {\n",
       "        text-align: right;\n",
       "    }\n",
       "</style>\n",
       "<table border=\"1\" class=\"dataframe\">\n",
       "  <thead>\n",
       "    <tr style=\"text-align: right;\">\n",
       "      <th></th>\n",
       "      <th>En1</th>\n",
       "      <th>En2</th>\n",
       "      <th>En3</th>\n",
       "      <th>En4</th>\n",
       "      <th>En5</th>\n",
       "      <th>En6</th>\n",
       "      <th>En7</th>\n",
       "      <th>En8</th>\n",
       "      <th>fault_type</th>\n",
       "    </tr>\n",
       "  </thead>\n",
       "  <tbody>\n",
       "    <tr>\n",
       "      <th>0</th>\n",
       "      <td>10.458</td>\n",
       "      <td>18.162</td>\n",
       "      <td>0.30105</td>\n",
       "      <td>2.4104</td>\n",
       "      <td>0.002119</td>\n",
       "      <td>0.043932</td>\n",
       "      <td>0.062594</td>\n",
       "      <td>0.091794</td>\n",
       "      <td>Normal</td>\n",
       "    </tr>\n",
       "    <tr>\n",
       "      <th>1</th>\n",
       "      <td>10.162</td>\n",
       "      <td>14.770</td>\n",
       "      <td>0.28216</td>\n",
       "      <td>2.4207</td>\n",
       "      <td>0.002269</td>\n",
       "      <td>0.034931</td>\n",
       "      <td>0.059007</td>\n",
       "      <td>0.088469</td>\n",
       "      <td>Normal</td>\n",
       "    </tr>\n",
       "    <tr>\n",
       "      <th>2</th>\n",
       "      <td>11.504</td>\n",
       "      <td>18.896</td>\n",
       "      <td>0.31984</td>\n",
       "      <td>2.6778</td>\n",
       "      <td>0.002534</td>\n",
       "      <td>0.054347</td>\n",
       "      <td>0.061133</td>\n",
       "      <td>0.094381</td>\n",
       "      <td>Normal</td>\n",
       "    </tr>\n",
       "    <tr>\n",
       "      <th>3</th>\n",
       "      <td>13.722</td>\n",
       "      <td>17.461</td>\n",
       "      <td>0.39507</td>\n",
       "      <td>2.6143</td>\n",
       "      <td>0.002614</td>\n",
       "      <td>0.033303</td>\n",
       "      <td>0.057822</td>\n",
       "      <td>0.093157</td>\n",
       "      <td>Normal</td>\n",
       "    </tr>\n",
       "    <tr>\n",
       "      <th>4</th>\n",
       "      <td>10.840</td>\n",
       "      <td>17.908</td>\n",
       "      <td>0.29475</td>\n",
       "      <td>2.7216</td>\n",
       "      <td>0.002149</td>\n",
       "      <td>0.037891</td>\n",
       "      <td>0.061085</td>\n",
       "      <td>0.083481</td>\n",
       "      <td>Normal</td>\n",
       "    </tr>\n",
       "  </tbody>\n",
       "</table>\n",
       "</div>"
      ],
      "text/plain": [
       "      En1     En2      En3     En4       En5       En6       En7       En8  \\\n",
       "0  10.458  18.162  0.30105  2.4104  0.002119  0.043932  0.062594  0.091794   \n",
       "1  10.162  14.770  0.28216  2.4207  0.002269  0.034931  0.059007  0.088469   \n",
       "2  11.504  18.896  0.31984  2.6778  0.002534  0.054347  0.061133  0.094381   \n",
       "3  13.722  17.461  0.39507  2.6143  0.002614  0.033303  0.057822  0.093157   \n",
       "4  10.840  17.908  0.29475  2.7216  0.002149  0.037891  0.061085  0.083481   \n",
       "\n",
       "  fault_type  \n",
       "0     Normal  \n",
       "1     Normal  \n",
       "2     Normal  \n",
       "3     Normal  \n",
       "4     Normal  "
      ]
     },
     "execution_count": 2,
     "metadata": {},
     "output_type": "execute_result"
    }
   ],
   "source": [
    "path = \"D:/rfiles/feature_matrix/feature_matrix_ent8_1024_shan_outer_6.csv\"\n",
    "df = pd.read_csv(path)\n",
    "df.head()"
   ]
  },
  {
   "cell_type": "markdown",
   "metadata": {},
   "source": [
    "Now we will read the first files and use it in further analysis. "
   ]
  },
  {
   "cell_type": "code",
   "execution_count": 3,
   "metadata": {},
   "outputs": [
    {
     "data": {
      "text/plain": [
       "Normal        1657\n",
       "0.021 inch     476\n",
       "0.007 inch     475\n",
       "0.014 inch     474\n",
       "Name: fault_type, dtype: int64"
      ]
     },
     "execution_count": 3,
     "metadata": {},
     "output_type": "execute_result"
    }
   ],
   "source": [
    "df[\"fault_type\"].value_counts()"
   ]
  },
  {
   "cell_type": "markdown",
   "metadata": {},
   "source": [
    "Now we will split the total data into training and test set. The dataset is unbalanced (it has more normal data as compared to other faulty data types). So first we create a balanced dataset and then form a training and test set."
   ]
  },
  {
   "cell_type": "code",
   "execution_count": 4,
   "metadata": {},
   "outputs": [],
   "source": [
    "import numpy as np\n",
    "from numpy.random import choice \n",
    "np.random.seed(1)\n",
    "index = np.array([choice(np.arange(0,1657),450,replace = False),\n",
    "                choice(np.arange(1657,2132),450,replace = False),\n",
    "                choice(np.arange(2132,2606),450,replace = False),\n",
    "                choice(np.arange(2606,3082),450,replace = False)])\n",
    "index = index.ravel()\n",
    "data = df.iloc[index,]\n",
    "data = data.reset_index(drop = True)\n",
    "test_index = np.array([choice(np.arange(0,450),150, replace = False),\n",
    "                     choice(np.arange(450,2*450),150, replace = False),\n",
    "                     choice(np.arange(2*450,3*450),150, replace = False),\n",
    "                     choice(np.arange(3*450,4*450),150, replace = False)])\n",
    "test_index = test_index.ravel()\n",
    "test_data = data.iloc[test_index,]\n",
    "train_data = data.drop(data.index[test_index])\n",
    "\n",
    "# Shuffle data\n",
    "train_data = train_data.sample(frac = 1, random_state = 2)\n",
    "test_data = test_data.sample(frac = 1, random_state = 3)\n",
    "\n",
    "# Convert categorical lables to numberic entries\n",
    "\n",
    "category_labels = ['Normal', '0.007 inch', '0.014 inch','0.021 inch']\n",
    "# test_labels = test_data['fault_type']\n",
    "test_labels = pd.Categorical(test_data['fault_type'],categories= category_labels).codes # Produces ndarrays\n",
    "# train_labels = train_data['fault_type']\n",
    "train_labels = pd.Categorical(train_data['fault_type'], categories = category_labels).codes"
   ]
  },
  {
   "cell_type": "code",
   "execution_count": 5,
   "metadata": {},
   "outputs": [
    {
     "name": "stdout",
     "output_type": "stream",
     "text": [
      "(1800, 9) (600, 9) (1200, 9) (600,) (1200,)\n"
     ]
    }
   ],
   "source": [
    "print(data.shape,test_data.shape,train_data.shape,test_labels.shape,train_labels.shape)"
   ]
  },
  {
   "cell_type": "code",
   "execution_count": 6,
   "metadata": {},
   "outputs": [],
   "source": [
    "import tensorflow as tf\n",
    "from tensorflow import keras\n",
    "from tensorflow.keras.models import Sequential\n",
    "from tensorflow.keras import layers\n",
    "from tensorflow.keras.utils import to_categorical\n",
    "from tensorflow.keras.callbacks import EarlyStopping, ModelCheckpoint\n",
    "import sklearn\n",
    "from sklearn import preprocessing"
   ]
  },
  {
   "cell_type": "code",
   "execution_count": 7,
   "metadata": {},
   "outputs": [],
   "source": [
    "# Convert labels to categorical data\n",
    "train_data = train_data.iloc[:,0:8]\n",
    "test_data = test_data.iloc[:,0:8]\n",
    "# Scale the data\n",
    "train_data = preprocessing.scale(train_data)\n",
    "test_data = preprocessing.scale(test_data)\n",
    "train_labels = to_categorical(train_labels)\n",
    "test_labels = to_categorical(test_labels)"
   ]
  },
  {
   "cell_type": "code",
   "execution_count": 8,
   "metadata": {},
   "outputs": [
    {
     "name": "stdout",
     "output_type": "stream",
     "text": [
      "(1200, 8) (600, 8) (1200, 4) (600, 4)\n"
     ]
    }
   ],
   "source": [
    "print(train_data.shape, test_data.shape, train_labels.shape, test_labels.shape)"
   ]
  },
  {
   "cell_type": "code",
   "execution_count": 29,
   "metadata": {},
   "outputs": [
    {
     "name": "stdout",
     "output_type": "stream",
     "text": [
      "Model: \"sequential_2\"\n",
      "_________________________________________________________________\n",
      "Layer (type)                 Output Shape              Param #   \n",
      "=================================================================\n",
      "dense_4 (Dense)              (None, 3)                 27        \n",
      "_________________________________________________________________\n",
      "dense_5 (Dense)              (None, 4)                 16        \n",
      "=================================================================\n",
      "Total params: 43\n",
      "Trainable params: 43\n",
      "Non-trainable params: 0\n",
      "_________________________________________________________________\n"
     ]
    }
   ],
   "source": [
    "model = Sequential([\n",
    "    layers.Dense(3,activation = 'relu', input_dim = 8),\n",
    "    layers.Dense(4,activation = 'softmax')\n",
    "])\n",
    "model.summary()"
   ]
  },
  {
   "cell_type": "code",
   "execution_count": 30,
   "metadata": {},
   "outputs": [],
   "source": [
    "model.compile(optimizer = 'adam',loss = 'categorical_crossentropy', metrics = ['accuracy'])"
   ]
  },
  {
   "cell_type": "code",
   "execution_count": 31,
   "metadata": {},
   "outputs": [],
   "source": [
    "callbacks = [EarlyStopping(monitor = 'val_loss', mode = 'min', verbose = 1, patience = 5)]"
   ]
  },
  {
   "cell_type": "code",
   "execution_count": 32,
   "metadata": {},
   "outputs": [
    {
     "name": "stdout",
     "output_type": "stream",
     "text": [
      "Train on 960 samples, validate on 240 samples\n",
      "Epoch 1/100\n",
      "960/960 - 0s - loss: 1.7388 - accuracy: 0.1177 - val_loss: 1.7616 - val_accuracy: 0.0875\n",
      "Epoch 2/100\n",
      "960/960 - 0s - loss: 1.6408 - accuracy: 0.0979 - val_loss: 1.6526 - val_accuracy: 0.0833\n",
      "Epoch 3/100\n",
      "960/960 - 0s - loss: 1.5551 - accuracy: 0.0938 - val_loss: 1.5543 - val_accuracy: 0.1000\n",
      "Epoch 4/100\n",
      "960/960 - 0s - loss: 1.4744 - accuracy: 0.0740 - val_loss: 1.4612 - val_accuracy: 0.0833\n",
      "Epoch 5/100\n",
      "960/960 - 0s - loss: 1.3942 - accuracy: 0.1042 - val_loss: 1.3682 - val_accuracy: 0.1333\n",
      "Epoch 6/100\n",
      "960/960 - 0s - loss: 1.3145 - accuracy: 0.1677 - val_loss: 1.2814 - val_accuracy: 0.2458\n",
      "Epoch 7/100\n",
      "960/960 - 0s - loss: 1.2401 - accuracy: 0.2698 - val_loss: 1.2098 - val_accuracy: 0.3458\n",
      "Epoch 8/100\n",
      "960/960 - 0s - loss: 1.1769 - accuracy: 0.3615 - val_loss: 1.1489 - val_accuracy: 0.4500\n",
      "Epoch 9/100\n",
      "960/960 - 0s - loss: 1.1228 - accuracy: 0.4552 - val_loss: 1.0978 - val_accuracy: 0.5333\n",
      "Epoch 10/100\n",
      "960/960 - 0s - loss: 1.0767 - accuracy: 0.5375 - val_loss: 1.0535 - val_accuracy: 0.6208\n",
      "Epoch 11/100\n",
      "960/960 - 0s - loss: 1.0368 - accuracy: 0.6031 - val_loss: 1.0165 - val_accuracy: 0.6625\n",
      "Epoch 12/100\n",
      "960/960 - 0s - loss: 1.0022 - accuracy: 0.6167 - val_loss: 0.9843 - val_accuracy: 0.6875\n",
      "Epoch 13/100\n",
      "960/960 - 0s - loss: 0.9711 - accuracy: 0.6292 - val_loss: 0.9570 - val_accuracy: 0.6750\n",
      "Epoch 14/100\n",
      "960/960 - 0s - loss: 0.9438 - accuracy: 0.6375 - val_loss: 0.9309 - val_accuracy: 0.6917\n",
      "Epoch 15/100\n",
      "960/960 - 0s - loss: 0.9189 - accuracy: 0.6490 - val_loss: 0.9064 - val_accuracy: 0.7208\n",
      "Epoch 16/100\n",
      "960/960 - 0s - loss: 0.8957 - accuracy: 0.6698 - val_loss: 0.8838 - val_accuracy: 0.7333\n",
      "Epoch 17/100\n",
      "960/960 - 0s - loss: 0.8744 - accuracy: 0.6740 - val_loss: 0.8645 - val_accuracy: 0.7250\n",
      "Epoch 18/100\n",
      "960/960 - 0s - loss: 0.8536 - accuracy: 0.6792 - val_loss: 0.8442 - val_accuracy: 0.7208\n",
      "Epoch 19/100\n",
      "960/960 - 0s - loss: 0.8339 - accuracy: 0.6812 - val_loss: 0.8256 - val_accuracy: 0.7167\n",
      "Epoch 20/100\n",
      "960/960 - 0s - loss: 0.8152 - accuracy: 0.6781 - val_loss: 0.8062 - val_accuracy: 0.7125\n",
      "Epoch 21/100\n",
      "960/960 - 0s - loss: 0.7967 - accuracy: 0.6896 - val_loss: 0.7899 - val_accuracy: 0.7208\n",
      "Epoch 22/100\n",
      "960/960 - 0s - loss: 0.7794 - accuracy: 0.6917 - val_loss: 0.7733 - val_accuracy: 0.7167\n",
      "Epoch 23/100\n",
      "960/960 - 0s - loss: 0.7622 - accuracy: 0.6875 - val_loss: 0.7568 - val_accuracy: 0.7250\n",
      "Epoch 24/100\n",
      "960/960 - 0s - loss: 0.7456 - accuracy: 0.6917 - val_loss: 0.7406 - val_accuracy: 0.7250\n",
      "Epoch 25/100\n",
      "960/960 - 0s - loss: 0.7296 - accuracy: 0.6896 - val_loss: 0.7247 - val_accuracy: 0.7208\n",
      "Epoch 26/100\n",
      "960/960 - 0s - loss: 0.7139 - accuracy: 0.7104 - val_loss: 0.7108 - val_accuracy: 0.7167\n",
      "Epoch 27/100\n",
      "960/960 - 0s - loss: 0.6986 - accuracy: 0.7437 - val_loss: 0.6948 - val_accuracy: 0.7167\n",
      "Epoch 28/100\n",
      "960/960 - 0s - loss: 0.6838 - accuracy: 0.7698 - val_loss: 0.6801 - val_accuracy: 0.7167\n",
      "Epoch 29/100\n",
      "960/960 - 0s - loss: 0.6697 - accuracy: 0.7688 - val_loss: 0.6664 - val_accuracy: 0.7167\n",
      "Epoch 30/100\n",
      "960/960 - 0s - loss: 0.6558 - accuracy: 0.7708 - val_loss: 0.6538 - val_accuracy: 0.7167\n",
      "Epoch 31/100\n",
      "960/960 - 0s - loss: 0.6422 - accuracy: 0.7698 - val_loss: 0.6409 - val_accuracy: 0.7167\n",
      "Epoch 32/100\n",
      "960/960 - 0s - loss: 0.6294 - accuracy: 0.7698 - val_loss: 0.6275 - val_accuracy: 0.7167\n",
      "Epoch 33/100\n",
      "960/960 - 0s - loss: 0.6170 - accuracy: 0.7656 - val_loss: 0.6165 - val_accuracy: 0.7167\n",
      "Epoch 34/100\n",
      "960/960 - 0s - loss: 0.6051 - accuracy: 0.7677 - val_loss: 0.6044 - val_accuracy: 0.7167\n",
      "Epoch 35/100\n",
      "960/960 - 0s - loss: 0.5936 - accuracy: 0.7688 - val_loss: 0.5931 - val_accuracy: 0.7167\n",
      "Epoch 36/100\n",
      "960/960 - 0s - loss: 0.5827 - accuracy: 0.7677 - val_loss: 0.5822 - val_accuracy: 0.7125\n",
      "Epoch 37/100\n",
      "960/960 - 0s - loss: 0.5722 - accuracy: 0.7688 - val_loss: 0.5723 - val_accuracy: 0.7125\n",
      "Epoch 38/100\n",
      "960/960 - 0s - loss: 0.5622 - accuracy: 0.7698 - val_loss: 0.5628 - val_accuracy: 0.7125\n",
      "Epoch 39/100\n",
      "960/960 - 0s - loss: 0.5524 - accuracy: 0.7708 - val_loss: 0.5533 - val_accuracy: 0.7167\n",
      "Epoch 40/100\n",
      "960/960 - 0s - loss: 0.5431 - accuracy: 0.7781 - val_loss: 0.5440 - val_accuracy: 0.7417\n",
      "Epoch 41/100\n",
      "960/960 - 0s - loss: 0.5342 - accuracy: 0.7979 - val_loss: 0.5352 - val_accuracy: 0.7625\n",
      "Epoch 42/100\n",
      "960/960 - 0s - loss: 0.5256 - accuracy: 0.8229 - val_loss: 0.5270 - val_accuracy: 0.7875\n",
      "Epoch 43/100\n",
      "960/960 - 0s - loss: 0.5171 - accuracy: 0.8333 - val_loss: 0.5189 - val_accuracy: 0.7958\n",
      "Epoch 44/100\n",
      "960/960 - 0s - loss: 0.5090 - accuracy: 0.8552 - val_loss: 0.5110 - val_accuracy: 0.8167\n",
      "Epoch 45/100\n",
      "960/960 - 0s - loss: 0.5007 - accuracy: 0.8698 - val_loss: 0.5027 - val_accuracy: 0.8250\n",
      "Epoch 46/100\n",
      "960/960 - 0s - loss: 0.4924 - accuracy: 0.8885 - val_loss: 0.4946 - val_accuracy: 0.8458\n",
      "Epoch 47/100\n",
      "960/960 - 0s - loss: 0.4837 - accuracy: 0.9094 - val_loss: 0.4859 - val_accuracy: 0.8667\n",
      "Epoch 48/100\n",
      "960/960 - 0s - loss: 0.4742 - accuracy: 0.9323 - val_loss: 0.4762 - val_accuracy: 0.8958\n",
      "Epoch 49/100\n",
      "960/960 - 0s - loss: 0.4636 - accuracy: 0.9469 - val_loss: 0.4654 - val_accuracy: 0.9208\n",
      "Epoch 50/100\n",
      "960/960 - 0s - loss: 0.4514 - accuracy: 0.9635 - val_loss: 0.4527 - val_accuracy: 0.9458\n",
      "Epoch 51/100\n",
      "960/960 - 0s - loss: 0.4377 - accuracy: 0.9760 - val_loss: 0.4374 - val_accuracy: 0.9708\n",
      "Epoch 52/100\n",
      "960/960 - 0s - loss: 0.4227 - accuracy: 0.9844 - val_loss: 0.4207 - val_accuracy: 0.9750\n",
      "Epoch 53/100\n",
      "960/960 - 0s - loss: 0.4067 - accuracy: 0.9875 - val_loss: 0.4030 - val_accuracy: 0.9792\n",
      "Epoch 54/100\n",
      "960/960 - 0s - loss: 0.3902 - accuracy: 0.9896 - val_loss: 0.3836 - val_accuracy: 0.9917\n",
      "Epoch 55/100\n",
      "960/960 - 0s - loss: 0.3732 - accuracy: 0.9917 - val_loss: 0.3646 - val_accuracy: 0.9958\n",
      "Epoch 56/100\n",
      "960/960 - 0s - loss: 0.3561 - accuracy: 0.9958 - val_loss: 0.3452 - val_accuracy: 0.9958\n",
      "Epoch 57/100\n",
      "960/960 - 0s - loss: 0.3389 - accuracy: 0.9990 - val_loss: 0.3266 - val_accuracy: 0.9958\n",
      "Epoch 58/100\n",
      "960/960 - 0s - loss: 0.3218 - accuracy: 1.0000 - val_loss: 0.3084 - val_accuracy: 0.9958\n",
      "Epoch 59/100\n",
      "960/960 - 0s - loss: 0.3055 - accuracy: 1.0000 - val_loss: 0.2904 - val_accuracy: 0.9958\n",
      "Epoch 60/100\n",
      "960/960 - 0s - loss: 0.2889 - accuracy: 1.0000 - val_loss: 0.2739 - val_accuracy: 0.9958\n",
      "Epoch 61/100\n",
      "960/960 - 0s - loss: 0.2735 - accuracy: 1.0000 - val_loss: 0.2572 - val_accuracy: 0.9958\n",
      "Epoch 62/100\n",
      "960/960 - 0s - loss: 0.2582 - accuracy: 1.0000 - val_loss: 0.2417 - val_accuracy: 1.0000\n",
      "Epoch 63/100\n",
      "960/960 - 0s - loss: 0.2437 - accuracy: 1.0000 - val_loss: 0.2272 - val_accuracy: 1.0000\n",
      "Epoch 64/100\n",
      "960/960 - 0s - loss: 0.2300 - accuracy: 1.0000 - val_loss: 0.2133 - val_accuracy: 1.0000\n",
      "Epoch 65/100\n",
      "960/960 - 0s - loss: 0.2171 - accuracy: 1.0000 - val_loss: 0.2001 - val_accuracy: 1.0000\n",
      "Epoch 66/100\n",
      "960/960 - 0s - loss: 0.2047 - accuracy: 1.0000 - val_loss: 0.1882 - val_accuracy: 1.0000\n",
      "Epoch 67/100\n",
      "960/960 - 0s - loss: 0.1934 - accuracy: 1.0000 - val_loss: 0.1769 - val_accuracy: 1.0000\n",
      "Epoch 68/100\n",
      "960/960 - 0s - loss: 0.1826 - accuracy: 1.0000 - val_loss: 0.1667 - val_accuracy: 1.0000\n",
      "Epoch 69/100\n",
      "960/960 - 0s - loss: 0.1725 - accuracy: 1.0000 - val_loss: 0.1571 - val_accuracy: 1.0000\n",
      "Epoch 70/100\n",
      "960/960 - 0s - loss: 0.1630 - accuracy: 1.0000 - val_loss: 0.1484 - val_accuracy: 1.0000\n",
      "Epoch 71/100\n",
      "960/960 - 0s - loss: 0.1544 - accuracy: 1.0000 - val_loss: 0.1402 - val_accuracy: 1.0000\n",
      "Epoch 72/100\n",
      "960/960 - 0s - loss: 0.1464 - accuracy: 1.0000 - val_loss: 0.1329 - val_accuracy: 1.0000\n",
      "Epoch 73/100\n",
      "960/960 - 0s - loss: 0.1388 - accuracy: 1.0000 - val_loss: 0.1260 - val_accuracy: 1.0000\n",
      "Epoch 74/100\n",
      "960/960 - 0s - loss: 0.1319 - accuracy: 1.0000 - val_loss: 0.1198 - val_accuracy: 1.0000\n",
      "Epoch 75/100\n",
      "960/960 - 0s - loss: 0.1253 - accuracy: 1.0000 - val_loss: 0.1139 - val_accuracy: 1.0000\n",
      "Epoch 76/100\n",
      "960/960 - 0s - loss: 0.1193 - accuracy: 1.0000 - val_loss: 0.1085 - val_accuracy: 1.0000\n",
      "Epoch 77/100\n",
      "960/960 - 0s - loss: 0.1137 - accuracy: 1.0000 - val_loss: 0.1034 - val_accuracy: 1.0000\n",
      "Epoch 78/100\n",
      "960/960 - 0s - loss: 0.1084 - accuracy: 1.0000 - val_loss: 0.0987 - val_accuracy: 1.0000\n",
      "Epoch 79/100\n",
      "960/960 - 0s - loss: 0.1034 - accuracy: 1.0000 - val_loss: 0.0937 - val_accuracy: 1.0000\n",
      "Epoch 80/100\n",
      "960/960 - 0s - loss: 0.0986 - accuracy: 1.0000 - val_loss: 0.0892 - val_accuracy: 1.0000\n"
     ]
    },
    {
     "name": "stdout",
     "output_type": "stream",
     "text": [
      "Epoch 81/100\n",
      "960/960 - 0s - loss: 0.0940 - accuracy: 1.0000 - val_loss: 0.0849 - val_accuracy: 1.0000\n",
      "Epoch 82/100\n",
      "960/960 - 0s - loss: 0.0896 - accuracy: 1.0000 - val_loss: 0.0810 - val_accuracy: 1.0000\n",
      "Epoch 83/100\n",
      "960/960 - 0s - loss: 0.0855 - accuracy: 1.0000 - val_loss: 0.0770 - val_accuracy: 1.0000\n",
      "Epoch 84/100\n",
      "960/960 - 0s - loss: 0.0814 - accuracy: 1.0000 - val_loss: 0.0731 - val_accuracy: 1.0000\n",
      "Epoch 85/100\n",
      "960/960 - 0s - loss: 0.0776 - accuracy: 1.0000 - val_loss: 0.0694 - val_accuracy: 1.0000\n",
      "Epoch 86/100\n",
      "960/960 - 0s - loss: 0.0740 - accuracy: 1.0000 - val_loss: 0.0661 - val_accuracy: 1.0000\n",
      "Epoch 87/100\n",
      "960/960 - 0s - loss: 0.0705 - accuracy: 1.0000 - val_loss: 0.0630 - val_accuracy: 1.0000\n",
      "Epoch 88/100\n",
      "960/960 - 0s - loss: 0.0670 - accuracy: 1.0000 - val_loss: 0.0598 - val_accuracy: 1.0000\n",
      "Epoch 89/100\n",
      "960/960 - 0s - loss: 0.0636 - accuracy: 1.0000 - val_loss: 0.0567 - val_accuracy: 1.0000\n",
      "Epoch 90/100\n",
      "960/960 - 0s - loss: 0.0604 - accuracy: 1.0000 - val_loss: 0.0539 - val_accuracy: 1.0000\n",
      "Epoch 91/100\n",
      "960/960 - 0s - loss: 0.0574 - accuracy: 1.0000 - val_loss: 0.0514 - val_accuracy: 1.0000\n",
      "Epoch 92/100\n",
      "960/960 - 0s - loss: 0.0546 - accuracy: 1.0000 - val_loss: 0.0490 - val_accuracy: 1.0000\n",
      "Epoch 93/100\n",
      "960/960 - 0s - loss: 0.0519 - accuracy: 1.0000 - val_loss: 0.0466 - val_accuracy: 1.0000\n",
      "Epoch 94/100\n",
      "960/960 - 0s - loss: 0.0491 - accuracy: 1.0000 - val_loss: 0.0444 - val_accuracy: 1.0000\n",
      "Epoch 95/100\n",
      "960/960 - 0s - loss: 0.0464 - accuracy: 1.0000 - val_loss: 0.0425 - val_accuracy: 1.0000\n",
      "Epoch 96/100\n",
      "960/960 - 0s - loss: 0.0438 - accuracy: 1.0000 - val_loss: 0.0406 - val_accuracy: 1.0000\n",
      "Epoch 97/100\n",
      "960/960 - 0s - loss: 0.0415 - accuracy: 1.0000 - val_loss: 0.0387 - val_accuracy: 1.0000\n",
      "Epoch 98/100\n",
      "960/960 - 0s - loss: 0.0393 - accuracy: 1.0000 - val_loss: 0.0371 - val_accuracy: 1.0000\n",
      "Epoch 99/100\n",
      "960/960 - 0s - loss: 0.0372 - accuracy: 1.0000 - val_loss: 0.0353 - val_accuracy: 1.0000\n",
      "Epoch 100/100\n",
      "960/960 - 0s - loss: 0.0352 - accuracy: 1.0000 - val_loss: 0.0337 - val_accuracy: 1.0000\n"
     ]
    }
   ],
   "source": [
    "history = model.fit(train_data,train_labels,epochs = 100, validation_split = 0.2, verbose = 2,callbacks = callbacks)"
   ]
  },
  {
   "cell_type": "code",
   "execution_count": 33,
   "metadata": {},
   "outputs": [
    {
     "data": {
      "image/png": "[encoded data removed]",
      "text/plain": [
       "<Figure size 432x288 with 1 Axes>"
      ]
     },
     "metadata": {
      "needs_background": "light"
     },
     "output_type": "display_data"
    },
    {
     "data": {
      "image/png": "[encoded data removed]",
      "text/plain": [
       "<Figure size 432x288 with 1 Axes>"
      ]
     },
     "metadata": {
      "needs_background": "light"
     },
     "output_type": "display_data"
    }
   ],
   "source": [
    "import matplotlib.pyplot as plt\n",
    "train_loss = history.history['loss']\n",
    "val_loss = history.history['val_loss']\n",
    "train_acc = history.history['accuracy']\n",
    "val_acc = history.history['val_accuracy']\n",
    "epochs = np.arange(1,len(train_loss)+1)\n",
    "plt.figure()\n",
    "plt.plot(epochs, train_loss, label = \"Training Loss\")\n",
    "plt.plot(epochs, val_loss, label = \"Validation Loss\")\n",
    "plt.legend()\n",
    "plt.title(\"Comparision of Loss\")\n",
    "plt.show()\n",
    "plt.figure()\n",
    "plt.plot(epochs, train_acc, label = \"Training Accuracy\")\n",
    "plt.plot(epochs, val_acc, label = \"Validation Accuracy\")\n",
    "plt.title(\"Comparison of Accuracy\")\n",
    "plt.legend()\n",
    "plt.show()"
   ]
  },
  {
   "cell_type": "code",
   "execution_count": 34,
   "metadata": {},
   "outputs": [
    {
     "name": "stdout",
     "output_type": "stream",
     "text": [
      "600/600 [==============================] - 0s 37us/sample - loss: 0.0321 - accuracy: 1.0000\n"
     ]
    }
   ],
   "source": [
    "test_loss,test_acc = model.evaluate(test_data, test_labels)"
   ]
  },
  {
   "cell_type": "code",
   "execution_count": 35,
   "metadata": {},
   "outputs": [
    {
     "name": "stdout",
     "output_type": "stream",
     "text": [
      "1.0\n"
     ]
    }
   ],
   "source": [
    "print(test_acc)"
   ]
  },
  {
   "cell_type": "code",
   "execution_count": 36,
   "metadata": {},
   "outputs": [],
   "source": [
    "prediction = model.predict(test_data)\n",
    "prediction_labels = list([])\n",
    "for each_prediction in prediction:\n",
    "    prediction_labels.append(list(each_prediction).index(max(each_prediction)))\n",
    "    "
   ]
  },
  {
   "cell_type": "code",
   "execution_count": 37,
   "metadata": {},
   "outputs": [],
   "source": [
    "from sklearn.metrics import confusion_matrix\n",
    "true_labels = np.argmax(test_labels, axis = 1)\n",
    "matrix = confusion_matrix(true_labels, prediction_labels)"
   ]
  },
  {
   "cell_type": "code",
   "execution_count": 38,
   "metadata": {},
   "outputs": [
    {
     "data": {
      "text/plain": [
       "(array([0.5, 1.5, 2.5, 3.5]), <a list of 4 Text xticklabel objects>)"
      ]
     },
     "execution_count": 38,
     "metadata": {},
     "output_type": "execute_result"
    },
    {
     "data": {
      "image/png": "[encoded data removed]",
      "text/plain": [
       "<Figure size 432x288 with 2 Axes>"
      ]
     },
     "metadata": {
      "needs_background": "light"
     },
     "output_type": "display_data"
    }
   ],
   "source": [
    "import seaborn as sns\n",
    "matrix = pd.DataFrame(matrix)\n",
    "sns.heatmap(matrix, annot= True, fmt = \"d\",\n",
    "           xticklabels = category_labels,\n",
    "           yticklabels = category_labels)\n",
    "plt.xticks(rotation = 90)"
   ]
  },
  {
   "cell_type": "code",
   "execution_count": null,
   "metadata": {},
   "outputs": [],
   "source": []
  }
 ],
 "metadata": {
  "kernelspec": {
   "display_name": "tensorflow_env",
   "language": "python",
   "name": "tensorflwo_env"
  },
  "language_info": {
   "codemirror_mode": {
    "name": "ipython",
    "version": 3
   },
   "file_extension": ".py",
   "mimetype": "text/x-python",
   "name": "python",
   "nbconvert_exporter": "python",
   "pygments_lexer": "ipython3",
   "version": "3.7.2"
  },
  "varInspector": {
   "cols": {
    "lenName": 16,
    "lenType": 16,
    "lenVar": 40
   },
   "kernels_config": {
    "python": {
     "delete_cmd_postfix": "",
     "delete_cmd_prefix": "del ",
     "library": "var_list.py",
     "varRefreshCmd": "print(var_dic_list())"
    },
    "r": {
     "delete_cmd_postfix": ") ",
     "delete_cmd_prefix": "rm(",
     "library": "var_list.r",
     "varRefreshCmd": "cat(var_dic_list()) "
    }
   },
   "position": {
    "height": "144px",
    "left": "580px",
    "right": "20px",
    "top": "136px",
    "width": "350px"
   },
   "types_to_exclude": [
    "module",
    "function",
    "builtin_function_or_method",
    "instance",
    "_Feature"
   ],
   "window_display": false
  }
 },
 "nbformat": 4,
 "nbformat_minor": 2
}
