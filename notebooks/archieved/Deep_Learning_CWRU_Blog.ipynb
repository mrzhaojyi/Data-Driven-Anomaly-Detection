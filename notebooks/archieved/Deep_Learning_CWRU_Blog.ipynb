{
 "cells": [
  {
   "cell_type": "markdown",
   "metadata": {},
   "source": [
    "# Fault Diagnosis using Deep Learning\n",
    "In this post we will apply deep learning to CWRU data set. We will apply a standard convolutional neural network (CNN) architecture to raw vibration data. The data used in this experiment can be downloaded from the link mentioned below."
   ]
  },
  {
   "cell_type": "code",
   "execution_count": 1,
   "metadata": {},
   "outputs": [],
   "source": [
    "import tensorflow as tf\n",
    "import numpy as np\n",
    "from tensorflow.keras.models import Sequential\n",
    "from tensorflow.keras import layers\n",
    "from tensorflow.keras.utils import to_categorical\n",
    "import matplotlib.pyplot as plt\n",
    "import pandas as pd\n",
    "from sklearn.model_selection import train_test_split"
   ]
  },
  {
   "cell_type": "code",
   "execution_count": 2,
   "metadata": {},
   "outputs": [
    {
     "name": "stdout",
     "output_type": "stream",
     "text": [
      "2.0.0\n"
     ]
    }
   ],
   "source": [
    "print(tf.__version__)"
   ]
  },
  {
   "cell_type": "markdown",
   "metadata": {},
   "source": [
    "## Data\n",
    "We have used CWRU data for this demonstration. It is a standard database used in condition monitoring applications. We have used the drive end data that are sampled at 48 kHz sampling frequency when load of 1 hp is applied on the shaft. Normal data collected with 1 hp load have also been used. There are a total of 10 classes. The classes are\n",
    "\n",
    "* C1  : Ball defect (0.007 inch, load: 1 hp)\n",
    "* C2  : Ball defect (0.014 inch, load: 1 hp)\n",
    "* C3  : Ball defect (0.021 inch, load: 1 hp)\n",
    "* C4  : Inner race fault (0.007 inch, load: 1 hp)\n",
    "* C5  : Inner race fault (0.014 inch, load: 1 hp)\n",
    "* C6  : Inner race fault (0.021 inch, load: 1 hp)\n",
    "* C7  : Normal (load: 1 hp)\n",
    "* C8  : Outer race fault (0.007 inch, load: 1 hp, data collected from 6 O'clock position)\n",
    "* C9  : Outer race fault (0.014 inch, load: 1 hp, 6 O'clock)\n",
    "* C10 : Outer race fault (0.021 inch, load: 1 hp, 6 O'clock)\n",
    "\n",
    "From each category data are collected in segments of length 1024 and resized to a 2-D matrix of size (32 by 32). There is no overlap between segments. For each category 460 such segments are taken. Total size of the data thus becomes (4600, 32, 32). Out of this 1300 segments are randomly chosen as test data and rest are used for training. Readers can directly download the data from the link mentioned below.\n",
    "\n",
    "[Download the data from here](https://github.com/biswajitsahoo1111/cbm_codes_open/blob/master/notebooks/data/CWRU_48k_load_1_CNN_data.npz). Another convenient way is to [download the whole repository](https://codeload.github.com/biswajitsahoo1111/cbm_codes_open/legacy.zip/master) and run the downloaded notebooks.\n",
    "\n",
    "(**Note**: In the original data of CWRU, inner race fault of 0.014 inch with sampling frequency of 48 kHz and load of 1 hp is stored as a file named '175.mat'. Inside this file there are following sub fields:\n",
    "            \n",
    "            X217: [489125×2 double]\n",
    "    X217_DE_time: [489125×1 double]\n",
    "    X175_DE_time: [381890×1 double]\n",
    "    X175_FE_time: [381890×1 double]\n",
    "         X175RPM: 1772\n",
    "         \n",
    "The file 'X175_DE_time' has less data points. From it we can't extract 460 segments of length 1024 without overlap. So we have used 'X217_DE_time' instead as our 0.014 inch outer race fault data. From this file 460 segments can be extracted. In the 'numpy' file this data is used for 'IR_014' category. For all other categories respective drive end data are used.)"
   ]
  },
  {
   "cell_type": "code",
   "execution_count": 3,
   "metadata": {},
   "outputs": [
    {
     "name": "stdout",
     "output_type": "stream",
     "text": [
      "['data', 'labels']\n"
     ]
    }
   ],
   "source": [
    "# Run the notebook after cloning the repo\n",
    "file = np.load('./data/CWRU_48k_load_1_CNN_data.npz') # Give path to downloaded file in your system\n",
    "print(file.files)"
   ]
  },
  {
   "cell_type": "code",
   "execution_count": 4,
   "metadata": {},
   "outputs": [
    {
     "name": "stdout",
     "output_type": "stream",
     "text": [
      "(4600, 32, 32) (4600,)\n"
     ]
    }
   ],
   "source": [
    "data = file['data']\n",
    "labels = file['labels']\n",
    "print(data.shape, labels.shape)"
   ]
  },
  {
   "cell_type": "code",
   "execution_count": 5,
   "metadata": {},
   "outputs": [
    {
     "name": "stdout",
     "output_type": "stream",
     "text": [
      "[[-0.041097  -0.046104  -0.028372  ... -0.042975  -0.11453   -0.17711  ]\n",
      " [-0.23052   -0.26348   -0.26077   ... -0.023782  -0.11787   -0.18775  ]\n",
      " [-0.20882   -0.19297   -0.15208   ... -0.017524  -0.063628  -0.11411  ]\n",
      " ...\n",
      " [ 0.02253   -0.049859  -0.11098   ... -0.036508  -0.03317   -0.02858  ]\n",
      " [-0.0031292  0.030249   0.063419  ... -0.035882  -0.010014   0.030875 ]\n",
      " [ 0.06029    0.072598   0.076145  ...  0.13602    0.10139    0.066548 ]]\n",
      "['Ball_007' 'Ball_007' 'Ball_007' ... 'Normal' 'Normal' 'Normal']\n"
     ]
    }
   ],
   "source": [
    "print(data[0])\n",
    "print(labels)"
   ]
  },
  {
   "cell_type": "code",
   "execution_count": 6,
   "metadata": {},
   "outputs": [
    {
     "name": "stdout",
     "output_type": "stream",
     "text": [
      "['Ball_007' 'Ball_014' 'Ball_021' 'IR_007' 'IR_014' 'IR_021' 'Normal'\n",
      " 'OR_007' 'OR_014' 'OR_021']\n"
     ]
    }
   ],
   "source": [
    "category_labels = np.unique(labels)\n",
    "print(category_labels)"
   ]
  },
  {
   "cell_type": "code",
   "execution_count": 7,
   "metadata": {},
   "outputs": [],
   "source": [
    "labels = pd.Categorical(labels, categories = category_labels).codes"
   ]
  },
  {
   "cell_type": "markdown",
   "metadata": {},
   "source": [
    "## Train test split"
   ]
  },
  {
   "cell_type": "code",
   "execution_count": 8,
   "metadata": {},
   "outputs": [],
   "source": [
    "train_data, test_data, train_labels, test_labels = train_test_split(data, labels, test_size = 1300, random_state = 829, \n",
    "                                                                    stratify = labels)"
   ]
  },
  {
   "cell_type": "code",
   "execution_count": 9,
   "metadata": {},
   "outputs": [
    {
     "name": "stdout",
     "output_type": "stream",
     "text": [
      "(3300, 32, 32, 1) (3300, 10) (1300, 32, 32, 1) (1300, 10)\n"
     ]
    }
   ],
   "source": [
    "# reshape data\n",
    "train_data = train_data.reshape(3300,32,32,1)\n",
    "test_data = test_data.reshape(1300,32,32,1)\n",
    "\n",
    "train_labels = to_categorical(train_labels)\n",
    "test_labels = to_categorical(test_labels)\n",
    "\n",
    "print(train_data.shape, train_labels.shape, test_data.shape, test_labels.shape )"
   ]
  },
  {
   "cell_type": "markdown",
   "metadata": {},
   "source": [
    "## Model\n",
    "We have used LeNet-5 model for classification. Details of model architecture is shown below. Any other architecture can also be used. "
   ]
  },
  {
   "cell_type": "code",
   "execution_count": 10,
   "metadata": {},
   "outputs": [
    {
     "name": "stdout",
     "output_type": "stream",
     "text": [
      "Model: \"sequential\"\n",
      "_________________________________________________________________\n",
      "Layer (type)                 Output Shape              Param #   \n",
      "=================================================================\n",
      "conv2d (Conv2D)              (None, 28, 28, 6)         156       \n",
      "_________________________________________________________________\n",
      "max_pooling2d (MaxPooling2D) (None, 14, 14, 6)         0         \n",
      "_________________________________________________________________\n",
      "conv2d_1 (Conv2D)            (None, 10, 10, 16)        2416      \n",
      "_________________________________________________________________\n",
      "max_pooling2d_1 (MaxPooling2 (None, 5, 5, 16)          0         \n",
      "_________________________________________________________________\n",
      "flatten (Flatten)            (None, 400)               0         \n",
      "_________________________________________________________________\n",
      "dense (Dense)                (None, 120)               48120     \n",
      "_________________________________________________________________\n",
      "dense_1 (Dense)              (None, 84)                10164     \n",
      "_________________________________________________________________\n",
      "dense_2 (Dense)              (None, 10)                850       \n",
      "=================================================================\n",
      "Total params: 61,706\n",
      "Trainable params: 61,706\n",
      "Non-trainable params: 0\n",
      "_________________________________________________________________\n"
     ]
    }
   ],
   "source": [
    "# LeNet-5\n",
    "LeNet_5 = Sequential([\n",
    "    layers.Conv2D(6,5,activation= 'relu', input_shape = (32,32,1)),\n",
    "    layers.MaxPool2D(2),\n",
    "    layers.Conv2D(16,5,activation = 'relu'),\n",
    "    layers.MaxPool2D(2),\n",
    "    layers.Flatten(),\n",
    "    layers.Dense(120,activation = 'relu'),\n",
    "    layers.Dense(84, activation = 'relu'),\n",
    "    layers.Dense(10, activation = 'softmax')\n",
    "])\n",
    "LeNet_5.summary()"
   ]
  },
  {
   "cell_type": "markdown",
   "metadata": {},
   "source": [
    "Deep learning model weights are initialized randomly. Due to inherent non-deterministic nature of processing, we will get different answers if we run the same model twice. The answers will also vary from computer to computer depending on architecture. The answers will also vary depending on software version. In our experiment we have used `Tensorflow-2.0.0`. So we have run the model 10 times and final result is the average of all. In the process we have also saved the best model. "
   ]
  },
  {
   "cell_type": "code",
   "execution_count": 11,
   "metadata": {},
   "outputs": [
    {
     "name": "stdout",
     "output_type": "stream",
     "text": [
      "Loop iteration 1, Accuracy: 0.9631\n",
      "Loop iteration 2, Accuracy: 0.9577\n",
      "Loop iteration 3, Accuracy: 0.9623\n",
      "Loop iteration 4, Accuracy: 0.9700\n",
      "Loop iteration 5, Accuracy: 0.9515\n",
      "Loop iteration 6, Accuracy: 0.9523\n",
      "Loop iteration 7, Accuracy: 0.9700\n",
      "Loop iteration 8, Accuracy: 0.9708\n",
      "Loop iteration 9, Accuracy: 0.9654\n",
      "Loop iteration 10, Accuracy: 0.9523\n"
     ]
    }
   ],
   "source": [
    "res = np.empty(10)\n",
    "res[:] = np.nan\n",
    "for i in range(10):\n",
    "    model = Sequential([\n",
    "    layers.Conv2D(6,5,activation= 'relu', input_shape = (32,32,1)),\n",
    "    layers.MaxPool2D(2),\n",
    "    layers.Conv2D(16,5,activation = 'relu'),\n",
    "    layers.MaxPool2D(2),\n",
    "    layers.Flatten(),\n",
    "    layers.Dense(120,activation = 'relu'),\n",
    "    layers.Dense(84, activation = 'relu'),\n",
    "    layers.Dense(10, activation = 'softmax')\n",
    "    ])\n",
    "    model.compile(loss = 'categorical_crossentropy', optimizer = tf.keras.optimizers.Adam(learning_rate= 0.001), \n",
    "                  metrics= ['accuracy'])\n",
    "    history = model.fit(train_data, train_labels, epochs = 50, batch_size = 128, verbose = 0)    # Verbosity is set to zero\n",
    "    res[i] = model.evaluate(test_data, test_labels, batch_size = 128, verbose = 0)[1]            # Verbosity is set to zero\n",
    "    print('Loop iteration %d, Accuracy: %4.4f' % (i+1, res[i]))\n",
    "    if res[i]>=np.max(res[:(i+1)]):\n",
    "        best_model = model"
   ]
  },
  {
   "cell_type": "code",
   "execution_count": 12,
   "metadata": {},
   "outputs": [
    {
     "name": "stdout",
     "output_type": "stream",
     "text": [
      "Average accuracy:0.9615\n",
      "Standard deviation: 0.0073\n"
     ]
    }
   ],
   "source": [
    "print('Average accuracy:%4.4f'%(np.mean(res))) # After running the model 10 times\n",
    "print('Standard deviation: %4.4f' % (np.std(res)))"
   ]
  },
  {
   "cell_type": "markdown",
   "metadata": {},
   "source": [
    "## Saving the best model\n",
    "\n",
    "It is very much likely that readers obtain different accuracy for each epoch and ultimately obtain a different final accuracy. And for complex models with more parameters, it might not be possible for all readers to train such a model from scratch using their personal computer (Some state of the art deep learning models developed by big tech companies take weeks or even months to train over multiple GPUs. It is not possible for an individual (including this author) to train such a model from beginning.) But this should not stop them from using the model to make predictions. For reproducibility of results and to help practitioners to use models, it is a common practice in deep learning community to share the trained model with all its weights  so that anyone can use it by downloading it. Following the same approach, we also make available the saved models so that anyone can use it and obtain the exact results as obtained by us. See [this notebook](https://github.com/biswajitsahoo1111/cbm_codes_open/blob/master/notebooks/Using_saved_models_tensorflow.ipynb) describing steps to use pretrained models to obtain results. "
   ]
  },
  {
   "cell_type": "code",
   "execution_count": 13,
   "metadata": {},
   "outputs": [],
   "source": [
    "tf.keras.models.save_model(best_model, \"CWRU_LeNet_raw_time_domain_data.h5\")"
   ]
  },
  {
   "cell_type": "markdown",
   "metadata": {},
   "source": [
    "## Evaluating using best model"
   ]
  },
  {
   "cell_type": "code",
   "execution_count": 14,
   "metadata": {},
   "outputs": [],
   "source": [
    "prediction = best_model.predict(test_data)\n",
    "prediction_labels = list([])\n",
    "for each_prediction in prediction:\n",
    "    prediction_labels.append(list(each_prediction).index(max(each_prediction)))"
   ]
  },
  {
   "cell_type": "code",
   "execution_count": 15,
   "metadata": {},
   "outputs": [],
   "source": [
    "from sklearn.metrics import confusion_matrix\n",
    "true_labels = np.argmax(test_labels, axis = 1)\n",
    "matrix = confusion_matrix(true_labels, prediction_labels)"
   ]
  },
  {
   "cell_type": "code",
   "execution_count": 16,
   "metadata": {},
   "outputs": [
    {
     "data": {
      "image/png": "[encoded data removed]",
      "text/plain": [
       "<Figure size 432x288 with 1 Axes>"
      ]
     },
     "metadata": {
      "needs_background": "light"
     },
     "output_type": "display_data"
    }
   ],
   "source": [
    "import seaborn as sns\n",
    "matrix = pd.DataFrame(matrix)\n",
    "plt.figure()\n",
    "sns.heatmap(matrix, annot= True, fmt = \"d\",\n",
    "           xticklabels = category_labels,\n",
    "           yticklabels = category_labels, cmap = \"Blues\", cbar = False)\n",
    "plt.xticks(rotation = 90)\n",
    "plt.show()"
   ]
  },
  {
   "cell_type": "markdown",
   "metadata": {},
   "source": [
    "The answers are really good, considering the fact that we have only used raw data as it is. We have done no preprocessing of the data. This approach is significantly different form the feature based approaches where we have to handcraft features beforehand before applying any machine learning algorithm. Finding those features often requires considerable domain expertise. In contrast, deep learning approaches need only data resizing (that is nothing)."
   ]
  },
  {
   "cell_type": "markdown",
   "metadata": {},
   "source": [
    "[For more results on both feature based methods and deep learning methods, visit my project page.](https://biswajitsahoo1111.github.io/cbm_codes_open/)\n",
    "\n",
    "Last modified: 13 July, 2019"
   ]
  }
 ],
 "metadata": {
  "kernelspec": {
   "display_name": "tensorflow_gpu_master",
   "language": "python",
   "name": "tensorflow_gpu_master"
  },
  "language_info": {
   "codemirror_mode": {
    "name": "ipython",
    "version": 3
   },
   "file_extension": ".py",
   "mimetype": "text/x-python",
   "name": "python",
   "nbconvert_exporter": "python",
   "pygments_lexer": "ipython3",
   "version": "3.7.6"
  },
  "toc": {
   "base_numbering": 1,
   "nav_menu": {},
   "number_sections": false,
   "sideBar": true,
   "skip_h1_title": false,
   "title_cell": "Table of Contents",
   "title_sidebar": "Contents",
   "toc_cell": false,
   "toc_position": {},
   "toc_section_display": true,
   "toc_window_display": false
  }
 },
 "nbformat": 4,
 "nbformat_minor": 2
}
