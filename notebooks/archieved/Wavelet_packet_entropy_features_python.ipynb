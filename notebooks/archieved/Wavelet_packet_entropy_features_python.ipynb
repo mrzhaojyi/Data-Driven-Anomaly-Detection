{
 "cells": [
  {
   "cell_type": "markdown",
   "metadata": {},
   "source": [
    "# Computing wavelet packet entropy features in python\n",
    "\n",
    "In this notebook, we will compute wavelet packet entropy features in python. We had already computed wavelet packet entropy features in MATLAB. Those calculations can be found [here](https://github.com/biswajitsahoo1111/cbm_codes_open/blob/master/notebooks/calculate_wavelet_packet_entropy_features.ipynb). This notebook is for the benefit of python users who are not familiar with MATLAB. As exact MATLAB equivalent commands are not available in Python, our computed feature matrix will not match exactly with the one [available online](https://github.com/biswajitsahoo1111/cbm_codes_open/blob/master/notebooks/data/feature_wav_ent8_shan_48k_2048_load_1.csv). But we will get pretty close values. For further demonstration, we will also use the feature matrix computed in this notebook to train an SVM model for multiclass fault classification. Again, the accuracy we obtain in this notebook will not match exactly with the accuracy that we had obtained using MATLAB feature matrix. But the accuracy values are also close.\n",
    "\n",
    "Note that we will **not** use the feature matrix obtained in this notebook to apply other machine learning techniques. We have already applied various machine learning methods to wavelet packet features (feature matrix obtained using MATLAB). All those results can be found [here](https://biswajitsahoo1111.github.io/cbm_codes_open/).\n",
    "\n",
    "In python, we will use [PyWavelets package](https://github.com/PyWavelets/pywt) to compute wavelet features. Also note that we will not go into the theory of wavelet in this notebook. For the theory, we point readers to the following three excellent resources:\n",
    "\n",
    "* Section 8.8 to Section 8.11 of Foundations of Applied Mathematics, Volume 2 by Jeffrey Humpherys and Tyler J. Jarvis\n",
    "* Introduction to Wavelets and Wavelet Transforms: A Primer by C. Sidney Burrus, Ramesh A. Gopinath, and Haitao Guo\n",
    "* Wavelets AND Filter Banks by Gilbert Strang and Truong Nguyen \n",
    "\n",
    "Readers who want a quick introduction to wavelets should read only the sections on \"Haar\" wavelets as those are the simplest and easiest to understand. Rest of the theory in wavelets are generalizations of Haar case with some new ideas. Readers should also read the documentation of PyWavelets to see what the functions do and what the inputs to those functions are."
   ]
  },
  {
   "cell_type": "code",
   "execution_count": 1,
   "metadata": {},
   "outputs": [],
   "source": [
    "import pywt\n",
    "import numpy as np"
   ]
  },
  {
   "cell_type": "code",
   "execution_count": 2,
   "metadata": {},
   "outputs": [
    {
     "name": "stdout",
     "output_type": "stream",
     "text": [
      "PyWavelets Version:  1.1.1\n"
     ]
    }
   ],
   "source": [
    "print(\"PyWavelets Version: \", pywt.__version__)"
   ]
  },
  {
   "cell_type": "markdown",
   "metadata": {},
   "source": [
    "Download the time domain data from [here](https://github.com/biswajitsahoo1111/cbm_codes_open/blob/master/notebooks/data/CWRU_48k_load_1_CNN_data.npz) and run the following cells. See [this notebook](https://github.com/biswajitsahoo1111/cbm_codes_open/blob/master/notebooks/CWRU_time_domain_data_preprocessing.ipynb) to understand how the time domain data was prepared at the first place. This data will be used later in [deep learning demonstration](https://github.com/biswajitsahoo1111/cbm_codes_open/blob/master/notebooks/Deep_Learning_CWRU_Blog.ipynb). We use the same time domain data and calculate features from it."
   ]
  },
  {
   "cell_type": "code",
   "execution_count": 3,
   "metadata": {},
   "outputs": [
    {
     "name": "stdout",
     "output_type": "stream",
     "text": [
      "['data', 'labels']\n"
     ]
    }
   ],
   "source": [
    "file = np.load(\"/home/biswajit/data/CWRU_48k_load_1_CNN_data.npz\")\n",
    "print(file.files)"
   ]
  },
  {
   "cell_type": "code",
   "execution_count": 4,
   "metadata": {},
   "outputs": [
    {
     "name": "stdout",
     "output_type": "stream",
     "text": [
      "(4600, 32, 32) (4600,)\n"
     ]
    }
   ],
   "source": [
    "data = file[\"data\"]\n",
    "labels = file[\"labels\"]\n",
    "print(data.shape, labels.shape)"
   ]
  },
  {
   "cell_type": "markdown",
   "metadata": {},
   "source": [
    "We had divided the raw signal into segments of length 1024 each. For each fault type we had collected 460 segments. There are 10 fault types, so we get 4600 segments in total. As the data were prepared for a CNN task, we had further resized the data into a size of $(32 \\times 32)$. So final size of data becomes $(4600 \\times 32 \\times 32)$."
   ]
  },
  {
   "cell_type": "code",
   "execution_count": 5,
   "metadata": {},
   "outputs": [
    {
     "data": {
      "text/plain": [
       "(2300, 2048)"
      ]
     },
     "execution_count": 5,
     "metadata": {},
     "output_type": "execute_result"
    }
   ],
   "source": [
    "resized_data = np.reshape(data, (2300,2048))\n",
    "resized_data.shape"
   ]
  },
  {
   "cell_type": "markdown",
   "metadata": {},
   "source": [
    "We resize the data this way because for shallow learning applications we consider segments of length 2048 and calculate features using the data of this segment. There is no particular reason in choosing segments of length 2048 as opposed to 1024 or 4096 or any other number. One consideration might be the amount of raw data available. If we select a larger segment length, we will get less number of segments. And if we need more segments (this is a need in machine learning), we keep the segment length short. However, keep in mind that reducing the segment length to an arbitrarily small number might not be that useful as small segments might not capture useful events that are characteristic of bearing faults. It so happens that the author chose a segment length of 2048 for this dataset and the resulting feature matrix yielded excellent results. Thus, the author has not changed the segment length ever since.\n",
    "\n",
    "To get a feel of the library, we will apply it to first row of `resized_data`. In the feature matrix, we will repeat the calculations for every row of `resized_data`."
   ]
  },
  {
   "cell_type": "code",
   "execution_count": 6,
   "metadata": {},
   "outputs": [],
   "source": [
    "wp = pywt.WaveletPacket(resized_data[0,:], wavelet = \"sym8\", maxlevel = 3) # Computes 3 level wavelet packet decomposition"
   ]
  },
  {
   "cell_type": "code",
   "execution_count": 7,
   "metadata": {},
   "outputs": [
    {
     "data": {
      "text/plain": [
       "['aaa', 'aad', 'ada', 'add', 'daa', 'dad', 'dda', 'ddd']"
      ]
     },
     "execution_count": 7,
     "metadata": {},
     "output_type": "execute_result"
    }
   ],
   "source": [
    "packet_names = [node.path for node in wp.get_level(3, \"natural\")]  # Packet node names. \n",
    "packet_names  # The naming of nodes as \"aaa\", \"aad\" is conventional in wavelets. \"a\" means approximation. \"d\" means details."
   ]
  },
  {
   "cell_type": "code",
   "execution_count": 8,
   "metadata": {},
   "outputs": [
    {
     "data": {
      "text/plain": [
       "[(269,), (269,), (269,), (269,), (269,), (269,), (269,), (269,)]"
      ]
     },
     "execution_count": 8,
     "metadata": {},
     "output_type": "execute_result"
    }
   ],
   "source": [
    "[wp[node.path].data.shape for node in wp.get_level(3, \"natural\")] # Number of coefficients after 3 stage transformation."
   ]
  },
  {
   "cell_type": "markdown",
   "metadata": {},
   "source": [
    "Now we will compute the feature matrix for whole dataset. We will use the packet names as extracted above. To compute wavelet packet entropy features, we will also need a function to compute entropy. The function is defined as below."
   ]
  },
  {
   "cell_type": "code",
   "execution_count": 9,
   "metadata": {},
   "outputs": [],
   "source": [
    "def compute_shannon_entropy(signal):\n",
    "    \"\"\"Here, we will compute nonnormalized shannon entropy.\n",
    "    We will basically implement MATLAB function 'wentropy'.\n",
    "    Input: signal should be 1D numpy array.\"\"\"\n",
    "    return -np.nansum(signal**2 * np.log(signal**2)) # nansum to exclude pesky terms like \"0*np.log(0)\""
   ]
  },
  {
   "cell_type": "code",
   "execution_count": 10,
   "metadata": {},
   "outputs": [],
   "source": [
    "feature_matrix_wav_packet_entropy = np.repeat(np.nan, 2300*8).reshape(2300,8)\n",
    "for i in range(len(resized_data)):\n",
    "    wp = pywt.WaveletPacket(resized_data[i,:], wavelet = \"sym8\", maxlevel = 3) # Wavelet packet transformation\n",
    "    for j in range(8):\n",
    "        new_wp = pywt.WaveletPacket(data = None, wavelet = \"sym8\", maxlevel = 3)\n",
    "        new_wp[packet_names[j]] = wp[packet_names[j]].data\n",
    "        reconstructed_signal = new_wp.reconstruct(update = False) # Signal reconstruction from wavelet packet coefficients\n",
    "        feature_matrix_wav_packet_entropy[i,j] = compute_shannon_entropy(reconstructed_signal) # Entropy of reconstructed signal for every node"
   ]
  },
  {
   "cell_type": "markdown",
   "metadata": {},
   "source": [
    "Now that feature matrix is ready, we will use it in an SVM model for multiclass fault classification. See [this notebook](https://github.com/biswajitsahoo1111/cbm_codes_open/blob/master/notebooks/SVM_wavelet_entropy_multiclass_cwru_python.ipynb) for reference."
   ]
  },
  {
   "cell_type": "code",
   "execution_count": 11,
   "metadata": {},
   "outputs": [],
   "source": [
    "import pandas as pd\n",
    "from sklearn.model_selection import train_test_split\n",
    "from sklearn.preprocessing import StandardScaler\n",
    "from sklearn.model_selection import GridSearchCV\n",
    "from sklearn.svm import SVC\n",
    "from sklearn.metrics import confusion_matrix,accuracy_score\n",
    "import seaborn as sns\n",
    "import matplotlib.pyplot as plt"
   ]
  },
  {
   "cell_type": "code",
   "execution_count": 12,
   "metadata": {},
   "outputs": [],
   "source": [
    "categories = [\"Ball_007_1\", \"Ball_014_1\", \"Ball_021_1\", \"IR_007_1\", \"IR_014_1\", \"IR_021_1\",\n",
    "              \"OR_007_6_1\", \"OR_014_6_1\", \"OR_021_6_1\", \"Normal_1\"]"
   ]
  },
  {
   "cell_type": "code",
   "execution_count": 13,
   "metadata": {},
   "outputs": [],
   "source": [
    "# We are overwriting old labels as we need only 2300 labels.\n",
    "labels = pd.Categorical(np.repeat(categories, repeats = 230), categories = categories)"
   ]
  },
  {
   "cell_type": "markdown",
   "metadata": {},
   "source": [
    "Divide the into training and test set."
   ]
  },
  {
   "cell_type": "code",
   "execution_count": 14,
   "metadata": {},
   "outputs": [
    {
     "data": {
      "text/plain": [
       "Ball_007_1    75\n",
       "Ball_014_1    75\n",
       "Ball_021_1    75\n",
       "IR_007_1      75\n",
       "IR_014_1      75\n",
       "IR_021_1      75\n",
       "OR_007_6_1    75\n",
       "OR_014_6_1    75\n",
       "OR_021_6_1    75\n",
       "Normal_1      75\n",
       "dtype: int64"
      ]
     },
     "execution_count": 14,
     "metadata": {},
     "output_type": "execute_result"
    }
   ],
   "source": [
    "train_data, test_data, train_labels, test_labels = train_test_split(feature_matrix_wav_packet_entropy, labels,\n",
    "                                                                    test_size = 750, stratify = labels,\n",
    "                                                                    random_state = 123)\n",
    "test_labels.value_counts()"
   ]
  },
  {
   "cell_type": "markdown",
   "metadata": {},
   "source": [
    "Before applying SVM, it is always a better idea to scale the data."
   ]
  },
  {
   "cell_type": "code",
   "execution_count": 15,
   "metadata": {},
   "outputs": [],
   "source": [
    "scaler = StandardScaler()\n",
    "train_data_scaled = scaler.fit_transform(train_data)\n",
    "test_data_scaled = scaler.transform(test_data)"
   ]
  },
  {
   "cell_type": "markdown",
   "metadata": {},
   "source": [
    "We will check a grid of parameters to find the best one. For each parameter combination, 10 fold cross-validation is performed."
   ]
  },
  {
   "cell_type": "code",
   "execution_count": 16,
   "metadata": {},
   "outputs": [],
   "source": [
    "parameters = {\"C\":[1, 10, 50, 100, 500, 1000, 5000],\n",
    "             'gamma':[0.05, 0.1, 0.5, 1, 5],\n",
    "             'kernel':[\"rbf\"]}"
   ]
  },
  {
   "cell_type": "code",
   "execution_count": 17,
   "metadata": {},
   "outputs": [],
   "source": [
    "tuned_svm_clf = GridSearchCV(SVC(),parameters,n_jobs = -1, cv= 10)"
   ]
  },
  {
   "cell_type": "code",
   "execution_count": 18,
   "metadata": {},
   "outputs": [
    {
     "data": {
      "text/plain": [
       "GridSearchCV(cv=10, error_score=nan,\n",
       "             estimator=SVC(C=1.0, break_ties=False, cache_size=200,\n",
       "                           class_weight=None, coef0=0.0,\n",
       "                           decision_function_shape='ovr', degree=3,\n",
       "                           gamma='scale', kernel='rbf', max_iter=-1,\n",
       "                           probability=False, random_state=None, shrinking=True,\n",
       "                           tol=0.001, verbose=False),\n",
       "             iid='deprecated', n_jobs=-1,\n",
       "             param_grid={'C': [1, 10, 50, 100, 500, 1000, 5000],\n",
       "                         'gamma': [0.05, 0.1, 0.5, 1, 5], 'kernel': ['rbf']},\n",
       "             pre_dispatch='2*n_jobs', refit=True, return_train_score=False,\n",
       "             scoring=None, verbose=0)"
      ]
     },
     "execution_count": 18,
     "metadata": {},
     "output_type": "execute_result"
    }
   ],
   "source": [
    "tuned_svm_clf.fit(train_data_scaled, train_labels)"
   ]
  },
  {
   "cell_type": "code",
   "execution_count": 19,
   "metadata": {},
   "outputs": [
    {
     "data": {
      "text/plain": [
       "0.9825806451612904"
      ]
     },
     "execution_count": 19,
     "metadata": {},
     "output_type": "execute_result"
    }
   ],
   "source": [
    "tuned_svm_clf.best_score_"
   ]
  },
  {
   "cell_type": "code",
   "execution_count": 20,
   "metadata": {},
   "outputs": [
    {
     "data": {
      "text/plain": [
       "{'C': 1000, 'gamma': 0.5, 'kernel': 'rbf'}"
      ]
     },
     "execution_count": 20,
     "metadata": {},
     "output_type": "execute_result"
    }
   ],
   "source": [
    "tuned_svm_clf.best_params_"
   ]
  },
  {
   "cell_type": "markdown",
   "metadata": {},
   "source": [
    "Now we will use the best model to find test accuracy."
   ]
  },
  {
   "cell_type": "code",
   "execution_count": 21,
   "metadata": {},
   "outputs": [
    {
     "data": {
      "text/plain": [
       "SVC(C=1000, break_ties=False, cache_size=200, class_weight=None, coef0=0.0,\n",
       "    decision_function_shape='ovr', degree=3, gamma=0.5, kernel='rbf',\n",
       "    max_iter=-1, probability=False, random_state=None, shrinking=True,\n",
       "    tol=0.001, verbose=False)"
      ]
     },
     "execution_count": 21,
     "metadata": {},
     "output_type": "execute_result"
    }
   ],
   "source": [
    "best_clf = tuned_svm_clf.best_estimator_\n",
    "best_clf"
   ]
  },
  {
   "cell_type": "code",
   "execution_count": 22,
   "metadata": {},
   "outputs": [],
   "source": [
    "train_predictions = best_clf.predict(train_data_scaled)\n",
    "test_predictions = best_clf.predict(test_data_scaled)"
   ]
  },
  {
   "cell_type": "code",
   "execution_count": 23,
   "metadata": {},
   "outputs": [],
   "source": [
    "train_confu_matrix = confusion_matrix(train_labels, train_predictions)\n",
    "test_confu_matrix = confusion_matrix(test_labels, test_predictions)"
   ]
  },
  {
   "cell_type": "markdown",
   "metadata": {},
   "source": [
    "Train confusion matrix."
   ]
  },
  {
   "cell_type": "code",
   "execution_count": 24,
   "metadata": {},
   "outputs": [
    {
     "data": {
      "image/png": "[encoded data removed]",
      "text/plain": [
       "<Figure size 1296x576 with 4 Axes>"
      ]
     },
     "metadata": {
      "needs_background": "light"
     },
     "output_type": "display_data"
    }
   ],
   "source": [
    "fault_type = ['C1','C2','C3','C4','C5','C6','C7','C8','C9','C10']\n",
    "plt.figure(1,figsize=(18,8))\n",
    "plt.subplot(121)\n",
    "sns.heatmap(train_confu_matrix, annot= True,fmt = \"d\",\n",
    "xticklabels=fault_type, yticklabels=fault_type, cmap = \"Blues\")\n",
    "plt.title('Training Confusion Matrix')\n",
    "plt.xlabel('Predicted')\n",
    "plt.ylabel('True')\n",
    "plt.subplot(122)\n",
    "sns.heatmap(train_confu_matrix/155, annot= True,\n",
    "xticklabels=fault_type, yticklabels=fault_type, cmap = \"Blues\")\n",
    "plt.title('Training Confusion Matrix (in %age)')\n",
    "plt.xlabel('Predicted')\n",
    "plt.ylabel('True')\n",
    "plt.show()"
   ]
  },
  {
   "cell_type": "markdown",
   "metadata": {},
   "source": [
    "Test confusion matrix."
   ]
  },
  {
   "cell_type": "code",
   "execution_count": 25,
   "metadata": {},
   "outputs": [
    {
     "data": {
      "image/png": "[encoded data removed]",
      "text/plain": [
       "<Figure size 1296x576 with 4 Axes>"
      ]
     },
     "metadata": {
      "needs_background": "light"
     },
     "output_type": "display_data"
    }
   ],
   "source": [
    "plt.figure(2,figsize=(18,8))\n",
    "plt.subplot(121)\n",
    "sns.heatmap(test_confu_matrix, annot = True,\n",
    "xticklabels=fault_type, yticklabels=fault_type, cmap = \"Blues\")\n",
    "plt.title('Test Confusion Matrix')\n",
    "plt.xlabel('Predicted')\n",
    "plt.ylabel('True')\n",
    "plt.subplot(122)\n",
    "sns.heatmap(test_confu_matrix/75, annot = True,\n",
    "xticklabels=fault_type, yticklabels=fault_type, cmap = \"Blues\")\n",
    "plt.title('Test Confusion Matrix (in %age)')\n",
    "plt.xlabel('Predicted')\n",
    "plt.ylabel('True')\n",
    "plt.show()"
   ]
  },
  {
   "cell_type": "code",
   "execution_count": 26,
   "metadata": {},
   "outputs": [
    {
     "name": "stdout",
     "output_type": "stream",
     "text": [
      "Overall test accuracy:  0.9906666666666667\n"
     ]
    }
   ],
   "source": [
    "overall_test_accuracy = accuracy_score(test_labels, test_predictions)\n",
    "print(\"Overall test accuracy: \", overall_test_accuracy)"
   ]
  },
  {
   "cell_type": "markdown",
   "metadata": {},
   "source": [
    "Our overall accuracy is slightly less that what we had obtained previously. This is because our feature matrix in this case is slightly different than the previous one. However, the present accuracy is very close to the old accuracy.\n",
    "\n",
    "Interested readers can visit my [project page](https://biswajitsahoo1111.github.io/cbm_codes_open/) for further results on applying machine learning techniques for condition monitoring applications."
   ]
  }
 ],
 "metadata": {
  "kernelspec": {
   "display_name": "Python 3",
   "language": "python",
   "name": "python3"
  },
  "language_info": {
   "codemirror_mode": {
    "name": "ipython",
    "version": 3
   },
   "file_extension": ".py",
   "mimetype": "text/x-python",
   "name": "python",
   "nbconvert_exporter": "python",
   "pygments_lexer": "ipython3",
   "version": "3.7.3"
  }
 },
 "nbformat": 4,
 "nbformat_minor": 4
}
