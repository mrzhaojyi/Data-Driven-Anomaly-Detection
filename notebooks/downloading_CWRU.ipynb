{
 "cells": [
  {
   "cell_type": "markdown",
   "metadata": {},
   "source": [
    "# Data Downloading and preparing for deep learning\n",
    "This post will download all the raw data needed for the deep learning study. More infomration about the CWRU data introduction can be found in https://engineering.case.edu/bearingdatacenter/download-data-file\n",
    "## Data Description\n",
    "We will take drive end data acquired at a sampling frequency of 48 kHz. The load on the shaft is 1 hp. For this load, there are 10 fault classes:\n",
    "* C0 : Normal\n",
    "* C1 : Ball defect (0.007 inch)\n",
    "* C2 : Ball defect (0.014 inch)\n",
    "* C3 : Ball defect (0.021 inch)\n",
    "* C4 : Inner race fault (0.007 inch)\n",
    "* C5 : Inner race fault (0.014 inch)\n",
    "* C6 : Inner race fault (0.021 inch)\n",
    "* C7 : Outer race fault (0.007 inch, data collected from 6 O'clock position)\n",
    "* C8 : Outer race fault (0.014 inch, 6 O'clock)\n",
    "* C9 : Outer race fault (0.021 inch, 6 O'clock)"
   ]
  },
  {
   "cell_type": "code",
   "execution_count": 5,
   "metadata": {},
   "outputs": [],
   "source": [
    "import os\n",
    "import pandas as pd\n",
    "import scipy.io as sio\n",
    "import urllib.request as urq\n",
    "import numpy as np\n",
    "da_path = 'CWRU_Data'\n",
    "if not os.path.exists(da_path):\n",
    "  # Create a new directory because it does not exist \n",
    "  os.makedirs(da_path)"
   ]
  },
  {
   "cell_type": "markdown",
   "metadata": {},
   "source": [
    "## C0 : Normal"
   ]
  },
  {
   "cell_type": "code",
   "execution_count": 4,
   "metadata": {},
   "outputs": [
    {
     "name": "stdout",
     "output_type": "stream",
     "text": [
      "{'__header__': b'MATLAB 5.0 MAT-file, Platform: PCWIN, Created on: Fri Jan 28 10:52:35 2000', '__version__': '1.0', '__globals__': [], 'X098_DE_time': array([[ 0.046104  ],\n",
      "       [-0.03713354],\n",
      "       [-0.089496  ],\n",
      "       ...,\n",
      "       [-0.09909231],\n",
      "       [-0.10827138],\n",
      "       [-0.07092923]]), 'X098_FE_time': array([[ 0.02321636],\n",
      "       [ 0.08115455],\n",
      "       [ 0.09533091],\n",
      "       ...,\n",
      "       [-0.00760182],\n",
      "       [ 0.04026909],\n",
      "       [ 0.06102   ]])}\n"
     ]
    }
   ],
   "source": [
    "mat_fname = da_path+\"//normal.mat\"\n",
    "urq.urlretrieve(\"https://engineering.case.edu/sites/default/files/98.mat\", mat_fname)\n",
    "mat_contents = sio.loadmat(mat_fname)\n",
    "print(mat_contents)"
   ]
  },
  {
   "cell_type": "code",
   "execution_count": 6,
   "metadata": {},
   "outputs": [],
   "source": [
    "np_normal = mat_contents['X098_DE_time']"
   ]
  },
  {
   "cell_type": "markdown",
   "metadata": {},
   "source": [
    "## C1 : Ball defect (0.007 inch)"
   ]
  },
  {
   "cell_type": "code",
   "execution_count": 7,
   "metadata": {},
   "outputs": [
    {
     "name": "stdout",
     "output_type": "stream",
     "text": [
      "{'__header__': b'MATLAB 5.0 MAT-file, Platform: PCWIN, Created on: Fri Jan 28 11:46:29 2000', '__version__': '1.0', '__globals__': [], 'X123_DE_time': array([[-0.04109723],\n",
      "       [-0.046104  ],\n",
      "       [-0.02837169],\n",
      "       ...,\n",
      "       [ 0.07343262],\n",
      "       [ 0.04819015],\n",
      "       [ 0.03838523]]), 'X123_FE_time': array([[-0.08115455],\n",
      "       [-0.09759091],\n",
      "       [-0.08320909],\n",
      "       ...,\n",
      "       [ 0.02136727],\n",
      "       [ 0.00472545],\n",
      "       [-0.01314909]]), 'X123RPM': array([[1772]], dtype=uint16)}\n"
     ]
    }
   ],
   "source": [
    "mat_fname = da_path+\"//c1.mat\"\n",
    "urq.urlretrieve(\"https://engineering.case.edu/sites/default/files/123.mat\", mat_fname)\n",
    "mat_contents = sio.loadmat(mat_fname)\n",
    "print(mat_contents)"
   ]
  },
  {
   "cell_type": "code",
   "execution_count": 8,
   "metadata": {},
   "outputs": [],
   "source": [
    "np_c1 = mat_contents['X123_DE_time']"
   ]
  },
  {
   "cell_type": "markdown",
   "metadata": {},
   "source": [
    "## C2 : Ball defect (0.014 inch)"
   ]
  },
  {
   "cell_type": "code",
   "execution_count": 9,
   "metadata": {},
   "outputs": [
    {
     "name": "stdout",
     "output_type": "stream",
     "text": [
      "{'__header__': b'MATLAB 5.0 MAT-file, Platform: PCWIN, Created on: Fri Jan 28 13:47:10 2000', '__version__': '1.0', '__globals__': [], 'X190_DE_time': array([[-0.46354338],\n",
      "       [-0.47585169],\n",
      "       [-0.41806523],\n",
      "       ...,\n",
      "       [-0.06884308],\n",
      "       [-0.04902462],\n",
      "       [-0.01648062]]), 'X190_FE_time': array([[0.25620182],\n",
      "       [0.21963091],\n",
      "       [0.12635455],\n",
      "       ...,\n",
      "       [0.00123273],\n",
      "       [0.01109455],\n",
      "       [0.03266727]]), 'X190RPM': array([[1772]], dtype=uint16)}\n"
     ]
    }
   ],
   "source": [
    "mat_fname = da_path+\"//c2.mat\"\n",
    "urq.urlretrieve(\"https://engineering.case.edu/sites/default/files/190.mat\", mat_fname)\n",
    "mat_contents = sio.loadmat(mat_fname)\n",
    "print(mat_contents)"
   ]
  },
  {
   "cell_type": "code",
   "execution_count": 10,
   "metadata": {},
   "outputs": [],
   "source": [
    "np_c2 = mat_contents['X190_DE_time']"
   ]
  },
  {
   "cell_type": "markdown",
   "metadata": {},
   "source": [
    "## C3 : Ball defect (0.021 inch)"
   ]
  },
  {
   "cell_type": "code",
   "execution_count": 11,
   "metadata": {},
   "outputs": [
    {
     "name": "stdout",
     "output_type": "stream",
     "text": [
      "{'__header__': b'MATLAB 5.0 MAT-file, Platform: PCWIN, Created on: Fri Jan 28 14:10:08 2000', '__version__': '1.0', '__globals__': [], 'X227_DE_time': array([[-0.06195877],\n",
      "       [-0.03755077],\n",
      "       [-0.01794092],\n",
      "       ...,\n",
      "       [ 0.21174462],\n",
      "       [ 0.22926831],\n",
      "       [ 0.21925477]]), 'X227_FE_time': array([[ 0.12471091],\n",
      "       [ 0.11669818],\n",
      "       [ 0.08115455],\n",
      "       ...,\n",
      "       [ 0.02629818],\n",
      "       [-0.04704909],\n",
      "       [-0.06060909]]), 'X227RPM': array([[1774]], dtype=uint16)}\n"
     ]
    }
   ],
   "source": [
    "mat_fname = da_path+\"//c3.mat\"\n",
    "urq.urlretrieve(\"https://engineering.case.edu/sites/default/files/227.mat\", mat_fname)\n",
    "mat_contents = sio.loadmat(mat_fname)\n",
    "print(mat_contents)"
   ]
  },
  {
   "cell_type": "code",
   "execution_count": 12,
   "metadata": {},
   "outputs": [],
   "source": [
    "np_c3 = mat_contents['X227_DE_time']"
   ]
  },
  {
   "cell_type": "markdown",
   "metadata": {},
   "source": [
    "## C4 : Inner race fault (0.007 inch)"
   ]
  },
  {
   "cell_type": "code",
   "execution_count": 13,
   "metadata": {},
   "outputs": [
    {
     "name": "stdout",
     "output_type": "stream",
     "text": [
      "{'__header__': b'MATLAB 5.0 MAT-file, Platform: PCWIN, Created on: Fri Jan 28 11:27:55 2000', '__version__': '1.0', '__globals__': [], 'X110_DE_time': array([[ 0.03212677],\n",
      "       [ 0.07823077],\n",
      "       [ 0.16146831],\n",
      "       ...,\n",
      "       [-0.08845292],\n",
      "       [-0.02899754],\n",
      "       [ 0.00855323]]), 'X110_FE_time': array([[0.08629091],\n",
      "       [0.11053455],\n",
      "       [0.11012364],\n",
      "       ...,\n",
      "       [0.40145818],\n",
      "       [0.46782   ],\n",
      "       [0.52534727]]), 'X110RPM': array([[1772]], dtype=uint16)}\n"
     ]
    }
   ],
   "source": [
    "mat_fname = da_path+\"//c4.mat\"\n",
    "urq.urlretrieve(\"https://engineering.case.edu/sites/default/files/110.mat\", mat_fname)\n",
    "mat_contents = sio.loadmat(mat_fname)\n",
    "print(mat_contents)\n",
    "np_c4 = mat_contents['X110_DE_time']"
   ]
  },
  {
   "cell_type": "markdown",
   "metadata": {},
   "source": [
    "## C5 : Inner race fault (0.014 inch)"
   ]
  },
  {
   "cell_type": "code",
   "execution_count": 18,
   "metadata": {},
   "outputs": [
    {
     "name": "stdout",
     "output_type": "stream",
     "text": [
      "{'__header__': b'MATLAB 5.0 MAT-file, Platform: PCWIN, Created on: Fri Jan 28 13:39:57 2000', '__version__': '1.0', '__globals__': [], 'X217': array([[-0.01968912,  0.0463752 ],\n",
      "       [-0.04995504,  0.0398664 ],\n",
      "       [-0.07407828,  0.02367576],\n",
      "       ...,\n",
      "       [-0.00687492,  0.08066844],\n",
      "       [-0.03278808,  0.09022824],\n",
      "       [-0.05723676,  0.08835696]]), 'X217_DE_time': array([[0.23782154],\n",
      "       [0.20444308],\n",
      "       [0.12141415],\n",
      "       ...,\n",
      "       [0.41368431],\n",
      "       [0.46270892],\n",
      "       [0.45311262]]), 'X175_DE_time': array([[-0.010016  ],\n",
      "       [-0.00292133],\n",
      "       [ 0.00542533],\n",
      "       ...,\n",
      "       [ 0.36141067],\n",
      "       [ 0.36141067],\n",
      "       [ 0.34513467]]), 'X175_FE_time': array([[-0.07026545],\n",
      "       [-0.02958545],\n",
      "       [ 0.04006364],\n",
      "       ...,\n",
      "       [-0.05485636],\n",
      "       [-0.03020182],\n",
      "       [-0.01088909]]), 'X175RPM': array([[1772]], dtype=uint16)}\n"
     ]
    }
   ],
   "source": [
    "mat_fname = da_path+\"//c5.mat\"\n",
    "urq.urlretrieve(\"https://engineering.case.edu/sites/default/files/175.mat\", mat_fname)\n",
    "mat_contents = sio.loadmat(mat_fname)\n",
    "print(mat_contents)\n",
    "np_c5 = mat_contents['X175_DE_time']"
   ]
  },
  {
   "cell_type": "markdown",
   "metadata": {},
   "source": [
    "## C6 : Inner race fault (0.021 inch)"
   ]
  },
  {
   "cell_type": "code",
   "execution_count": 19,
   "metadata": {},
   "outputs": [
    {
     "name": "stdout",
     "output_type": "stream",
     "text": [
      "{'__header__': b'MATLAB 5.0 MAT-file, Platform: PCWIN, Created on: Fri Jan 28 13:59:56 2000', '__version__': '1.0', '__globals__': [], 'X214_DE_time': array([[1.12109908],\n",
      "       [0.78335077],\n",
      "       [0.39157108],\n",
      "       ...,\n",
      "       [0.44163877],\n",
      "       [0.22843385],\n",
      "       [0.01168246]]), 'X214_FE_time': array([[0.29975818],\n",
      "       [0.18942909],\n",
      "       [0.06533455],\n",
      "       ...,\n",
      "       [0.17402   ],\n",
      "       [0.14998182],\n",
      "       [0.21141273]]), 'X214RPM': array([[1774]], dtype=uint16)}\n"
     ]
    }
   ],
   "source": [
    "mat_fname = da_path+\"//c6.mat\"\n",
    "urq.urlretrieve(\"https://engineering.case.edu/sites/default/files/214.mat\", mat_fname)\n",
    "mat_contents = sio.loadmat(mat_fname)\n",
    "print(mat_contents)\n",
    "np_c6 = mat_contents['X214_DE_time']"
   ]
  },
  {
   "cell_type": "markdown",
   "metadata": {},
   "source": [
    "## C7 : Outer race fault (0.007 inch, data collected from 6 O'clock position)"
   ]
  },
  {
   "cell_type": "code",
   "execution_count": 21,
   "metadata": {},
   "outputs": [
    {
     "name": "stdout",
     "output_type": "stream",
     "text": [
      "{'__header__': b'MATLAB 5.0 MAT-file, Platform: PCWIN, Created on: Fri Jan 28 11:54:30 2000', '__version__': '1.0', '__globals__': [], 'X136_DE_time': array([[ 0.08471867],\n",
      "       [ 0.69486   ],\n",
      "       [ 1.15976933],\n",
      "       ...,\n",
      "       [ 1.07964133],\n",
      "       [ 0.24330533],\n",
      "       [-0.57258133]]), 'X136_FE_time': array([[-0.21634364],\n",
      "       [-0.29975818],\n",
      "       [-0.27058364],\n",
      "       ...,\n",
      "       [ 0.01808   ],\n",
      "       [-0.11217818],\n",
      "       [-0.19538727]]), 'X136RPM': array([[1774]], dtype=uint16)}\n"
     ]
    }
   ],
   "source": [
    "mat_fname = da_path+\"//c7.mat\"\n",
    "urq.urlretrieve(\"https://engineering.case.edu/sites/default/files/136.mat\", mat_fname)\n",
    "mat_contents = sio.loadmat(mat_fname)\n",
    "print(mat_contents)\n",
    "np_c7 = mat_contents['X136_DE_time']"
   ]
  },
  {
   "cell_type": "markdown",
   "metadata": {},
   "source": [
    "## C8 : Outer race fault (0.014 inch, 6 O'clock)"
   ]
  },
  {
   "cell_type": "code",
   "execution_count": 22,
   "metadata": {},
   "outputs": [
    {
     "name": "stdout",
     "output_type": "stream",
     "text": [
      "{'__header__': b'MATLAB 5.0 MAT-file, Platform: PCWIN, Created on: Fri Jan 28 13:52:24 2000', '__version__': '1.0', '__globals__': [], 'X202_DE_time': array([[0.13330523],\n",
      "       [0.15249785],\n",
      "       [0.16647508],\n",
      "       ...,\n",
      "       [0.09554585],\n",
      "       [0.08448923],\n",
      "       [0.07510154]]), 'X202_FE_time': array([[ 0.02054545],\n",
      "       [ 0.04458364],\n",
      "       [ 0.09081091],\n",
      "       ...,\n",
      "       [ 0.05465091],\n",
      "       [ 0.00883455],\n",
      "       [-0.02198364]]), 'X202RPM': array([[1772]], dtype=uint16)}\n"
     ]
    }
   ],
   "source": [
    "mat_fname = da_path+\"//c8.mat\"\n",
    "urq.urlretrieve(\"https://engineering.case.edu/sites/default/files/202.mat\", mat_fname)\n",
    "mat_contents = sio.loadmat(mat_fname)\n",
    "print(mat_contents)\n",
    "np_c8 = mat_contents['X202_DE_time']"
   ]
  },
  {
   "cell_type": "markdown",
   "metadata": {},
   "source": [
    "## C9 : Outer race fault (0.021 inch, 6 O'clock)"
   ]
  },
  {
   "cell_type": "code",
   "execution_count": 23,
   "metadata": {},
   "outputs": [
    {
     "name": "stdout",
     "output_type": "stream",
     "text": [
      "{'__header__': b'MATLAB 5.0 MAT-file, Platform: PCWIN, Created on: Sun Jan 30 11:38:57 2000', '__version__': '1.0', '__globals__': [], 'X239_DE_time': array([[ 0.040064  ],\n",
      "       [ 0.02170133],\n",
      "       [-0.02086667],\n",
      "       ...,\n",
      "       [ 0.36224533],\n",
      "       [ 0.32552   ],\n",
      "       [ 0.27627467]]), 'X239_FE_time': array([[0.12864616],\n",
      "       [0.09946444],\n",
      "       [0.07110475],\n",
      "       ...,\n",
      "       [0.01520737],\n",
      "       [0.13974343],\n",
      "       [0.21824636]]), 'X239RPM': array([[1771]], dtype=uint16)}\n"
     ]
    }
   ],
   "source": [
    "mat_fname = da_path+\"//c9.mat\"\n",
    "urq.urlretrieve(\"https://engineering.case.edu/sites/default/files/239.mat\", mat_fname)\n",
    "mat_contents = sio.loadmat(mat_fname)\n",
    "print(mat_contents)\n",
    "np_c9 = mat_contents['X239_DE_time']"
   ]
  },
  {
   "cell_type": "markdown",
   "metadata": {},
   "source": [
    "## Save all the dataset combined"
   ]
  },
  {
   "cell_type": "code",
   "execution_count": 24,
   "metadata": {},
   "outputs": [],
   "source": [
    "np.savez('CWRU_cleaned.npz', c0=np_normal, c1=np_c1, c2=np_c2,c3=np_c3, c4=np_c4,\n",
    "         c5=np_c5, c6=np_c6, c7=np_c7, c8=np_c8, c9 =np_c9 )"
   ]
  },
  {
   "cell_type": "code",
   "execution_count": null,
   "metadata": {},
   "outputs": [],
   "source": []
  }
 ],
 "metadata": {
  "kernelspec": {
   "display_name": "Python 3",
   "language": "python",
   "name": "python3"
  },
  "language_info": {
   "codemirror_mode": {
    "name": "ipython",
    "version": 3
   },
   "file_extension": ".py",
   "mimetype": "text/x-python",
   "name": "python",
   "nbconvert_exporter": "python",
   "pygments_lexer": "ipython3",
   "version": "3.8.8"
  }
 },
 "nbformat": 4,
 "nbformat_minor": 4
}
